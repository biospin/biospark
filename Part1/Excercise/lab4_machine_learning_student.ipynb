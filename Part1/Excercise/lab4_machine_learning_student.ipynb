








<!DOCTYPE html>
<html lang="en">

<head>
  <meta charset="utf-8">
  <title></title>
  <meta name="viewport" content="width=device-width, initial-scale=1.0">
  <meta name="description" content="">
  <meta name="author" content="">
  
  <meta name="robots" content="noindex,nofollow">
  

  <!--NEW RELIC Start Perf Measurement-->
  
  <!--NREND-->

  <!-- Le styles -->
  <link href="/static/build/styles.css" rel="stylesheet">

  <!-- Le HTML5 shim, for IE6-8 support of HTML5 elements -->
  <!--[if lt IE 9]>
    <script src="http://html5shim.googlecode.com/svn/trunk/html5.js"></script>
  <![endif]-->

  <!-- Le fav and touch icons -->
  <link rel="shortcut icon" href="/static/ico/ipynb_icon_16x16.png">
  <link rel="apple-touch-icon-precomposed" sizes="144x144" 
        href="/static/ico/apple-touch-icon-144-precomposed.png">
  <link rel="apple-touch-icon-precomposed" sizes="114x114" 
        href="/static/ico/apple-touch-icon-114-precomposed.png">
  <link rel="apple-touch-icon-precomposed" sizes="72x72" 
        href="/static/ico/apple-touch-icon-72-precomposed.png">
  <link rel="apple-touch-icon-precomposed" 
        href="/static/ico/apple-touch-icon-57-precomposed.png">
  
  

  

  
  <meta name="twitter:card" content="summary">
  <meta name="twitter:title" content="Notebook on nbviewer">
  <meta name="twitter:description" content="Check out this Jupyter notebook!">

  
  <meta name="twitter:domain" content="nbviewer.ipython.org">
  <meta name="twitter:image:src" content="http://ipython.org/ipython-doc/dev/_images/ipynb_icon_128x128.png">

  
    <link href="/static/build/notebook.css" rel="stylesheet">
  

  

  <script src="https://cdn.mathjax.org/mathjax/latest/MathJax.js?config=TeX-AMS_HTML" type="text/javascript">
  </script>
  <script type="text/javascript">
    init_mathjax = function() {
      if (window.MathJax) {
        // MathJax loaded
        MathJax.Hub.Config({
          tex2jax: {
            inlineMath: [ ['$','$'], ["\\(","\\)"] ],
            displayMath: [ ['$$','$$'], ["\\[","\\]"] ],
            processEscapes: true,
            processEnvironments: true
          },
          displayAlign: 'center',
          "HTML-CSS": {
            styles: {'.MathJax_Display': {"margin": 0}},
            linebreaks: { automatic: true }
          }
        });
        MathJax.Hub.Queue(["Typeset", MathJax.Hub]);
      }
    }
    init_mathjax();
  </script>

</head>

<body data-spy="scroll" data-target=".subnav" data-offset="50">

  <!-- These are loaded at the top of the body so they are available to 
       notebook cells when they are loaded below. -->
  <script src="/static/components/jquery/dist/jquery.min.js"></script>
  <script src="/static/components/requirejs/require.js"></script>
  <script src="/static/components/moment/min/moment.min.js"></script>

<!-- Navbar
================================================== -->
  <nav id="menubar" class="navbar navbar-default navbar-fixed-top">
    <div class="container">
      <div class="navbar-header">
        <button type="button" class="navbar-toggle collapsed" data-toggle="collapse" data-target=".navbar-collapse">
          <span class="sr-only">Toggle navigation</span>
          <i class="fa fa-bars"></i>
        </button>
        <a class="navbar-brand" href="/">nbviewer</a>
      </div>

      <div class="collapse navbar-collapse">
        <ul class="nav navbar-nav">
          <li>
    <a href="/faq" title="FAQ" >
      
        <span>FAQ</span>
      
    </a>
  </li>
          <li class="">
            <a href="http://ipython.org">IPython</a>
          </li>
          <li class="">
            <a href="http://jupyter.org">Jupyter</a>
          </li>
        </ul>
        
        <ul class="nav navbar-nav navbar-right">
          
  
    
  

  
  
  
    <li>
    <a href="https://github.com/spark-mooc/mooc-setup/blob/master/lab4_machine_learning_student.ipynb" title="View on GitHub" >
      <span class="fa fa-github fa-2x menu-icon"></span>
      <span class="menu-text">View on GitHub</span>
    </a>
  </li>
  

  <li>
    <a href="https://raw.githubusercontent.com/spark-mooc/mooc-setup/master/lab4_machine_learning_student.ipynb" title="Download Notebook" download>
      <span class="fa fa-download fa-2x menu-icon"></span>
      <span class="menu-text">Download Notebook</span>
    </a>
  </li>

        </ul>
      </div><!-- /.navbar-collapse -->
      
      
    </div>
  </nav>

  <div class="container">
    
  
  <ol class="breadcrumb">
    
      <li>
        <a href="/github/spark-mooc/mooc-setup/tree/master">mooc-setup</a>
      </li>
    
      <li>
        <a href="/github/spark-mooc/mooc-setup/tree/master/lab4_machine_learning_student.ipynb">lab4_machine_learning_student.ipynb</a>
      </li>
    
  </ol>
  
  <div id="notebook">
    <div id="notebook-container">
      
<div class="cell border-box-sizing text_cell rendered">
<div class="prompt input_prompt">
</div>
<div class="inner_cell">
<div class="text_cell_render border-box-sizing rendered_html">
<p>version 1.0.2</p>
<h1><img src="http://spark-mooc.github.io/web-assets/images/ta_Spark-logo-small.png" alt="Spark Logo"> + <img src="http://spark-mooc.github.io/web-assets/images/python-logo-master-v3-TM-flattened_small.png" alt="Python Logo"></h1>
<h1 id="Introduction-to-Machine-Learning-with-Apache-Spark"><strong>Introduction to Machine Learning with Apache Spark</strong><a class="anchor-link" href="#Introduction-to-Machine-Learning-with-Apache-Spark">&#182;</a></h1><h2 id="Predicting-Movie-Ratings"><strong>Predicting Movie Ratings</strong><a class="anchor-link" href="#Predicting-Movie-Ratings">&#182;</a></h2><h4 id="One-of-the-most-common-uses-of-big-data-is-to-predict-what-users-want.--This-allows-Google-to-show-you-relevant-ads,-Amazon-to-recommend-relevant-products,-and-Netflix-to-recommend-movies-that-you-might-like.--This-lab-will-demonstrate-how-we-can-use-Apache-Spark-to-recommend-movies-to-a-user.--We-will-start-with-some-basic-techniques,-and-then-use-the-Spark-MLlib-library's-Alternating-Least-Squares-method-to-make-more-sophisticated-predictions.">One of the most common uses of big data is to predict what users want.  This allows Google to show you relevant ads, Amazon to recommend relevant products, and Netflix to recommend movies that you might like.  This lab will demonstrate how we can use Apache Spark to recommend movies to a user.  We will start with some basic techniques, and then use the <a href="https://spark.apache.org/mllib/">Spark MLlib</a> library's Alternating Least Squares method to make more sophisticated predictions.<a class="anchor-link" href="#One-of-the-most-common-uses-of-big-data-is-to-predict-what-users-want.--This-allows-Google-to-show-you-relevant-ads,-Amazon-to-recommend-relevant-products,-and-Netflix-to-recommend-movies-that-you-might-like.--This-lab-will-demonstrate-how-we-can-use-Apache-Spark-to-recommend-movies-to-a-user.--We-will-start-with-some-basic-techniques,-and-then-use-the-Spark-MLlib-library's-Alternating-Least-Squares-method-to-make-more-sophisticated-predictions.">&#182;</a></h4><h4 id="For-this-lab,-we-will-use-a-subset-dataset-of-500,000-ratings-we-have-included-for-you-into-your-VM-(and-on-Databricks)-from-the-movielens-10M-stable-benchmark-rating-dataset.-However,-the-same-code-you-write-will-work-for-the-full-dataset,-or-their-latest-dataset-of-21-million-ratings.">For this lab, we will use a subset dataset of 500,000 ratings we have included for you into your VM (and on Databricks) from the <a href="http://grouplens.org/datasets/movielens/">movielens 10M stable benchmark rating dataset</a>. However, the same code you write will work for the full dataset, or their latest dataset of 21 million ratings.<a class="anchor-link" href="#For-this-lab,-we-will-use-a-subset-dataset-of-500,000-ratings-we-have-included-for-you-into-your-VM-(and-on-Databricks)-from-the-movielens-10M-stable-benchmark-rating-dataset.-However,-the-same-code-you-write-will-work-for-the-full-dataset,-or-their-latest-dataset-of-21-million-ratings.">&#182;</a></h4><h4 id="In-this-lab:">In this lab:<a class="anchor-link" href="#In-this-lab:">&#182;</a></h4><h4 id="Part-0:-Preliminaries"><em>Part 0</em>: Preliminaries<a class="anchor-link" href="#Part-0:-Preliminaries">&#182;</a></h4><h4 id="Part-1:-Basic-Recommendations"><em>Part 1</em>: Basic Recommendations<a class="anchor-link" href="#Part-1:-Basic-Recommendations">&#182;</a></h4><h4 id="Part-2:-Collaborative-Filtering"><em>Part 2</em>: Collaborative Filtering<a class="anchor-link" href="#Part-2:-Collaborative-Filtering">&#182;</a></h4><h4 id="Part-3:-Predictions-for-Yourself"><em>Part 3</em>: Predictions for Yourself<a class="anchor-link" href="#Part-3:-Predictions-for-Yourself">&#182;</a></h4><h4 id="As-mentioned-during-the-first-Learning-Spark-lab,-think-carefully-before-calling-collect()-on-any-datasets.--When-you-are-using-a-small-dataset,-calling-collect()-and-then-using-Python-to-get-a-sense-for-the-data-locally-(in-the-driver-program)-will-work-fine,-but-this-will-not-work-when-you-are-using-a-large-dataset-that-doesn't-fit-in-memory-on-one-machine.--Solutions-that-call-collect()-and-do-local-analysis-that-could-have-been-done-with-Spark-will-likely-fail-in-the-autograder-and-not-receive-full-credit.">As mentioned during the first Learning Spark lab, think carefully before calling <code>collect()</code> on any datasets.  When you are using a small dataset, calling <code>collect()</code> and then using Python to get a sense for the data locally (in the driver program) will work fine, but this will not work when you are using a large dataset that doesn't fit in memory on one machine.  Solutions that call <code>collect()</code> and do local analysis that could have been done with Spark will likely fail in the autograder and not receive full credit.<a class="anchor-link" href="#As-mentioned-during-the-first-Learning-Spark-lab,-think-carefully-before-calling-collect()-on-any-datasets.--When-you-are-using-a-small-dataset,-calling-collect()-and-then-using-Python-to-get-a-sense-for-the-data-locally-(in-the-driver-program)-will-work-fine,-but-this-will-not-work-when-you-are-using-a-large-dataset-that-doesn't-fit-in-memory-on-one-machine.--Solutions-that-call-collect()-and-do-local-analysis-that-could-have-been-done-with-Spark-will-likely-fail-in-the-autograder-and-not-receive-full-credit.">&#182;</a></h4>
</div>
</div>
</div>
<div class="cell border-box-sizing text_cell rendered">
<div class="prompt input_prompt">
</div>
<div class="inner_cell">
<div class="text_cell_render border-box-sizing rendered_html">
<h3 id="Code">Code<a class="anchor-link" href="#Code">&#182;</a></h3><h4 id="This-assignment-can-be-completed-using-basic-Python-and-pySpark-Transformations-and-Actions.--Libraries-other-than-math-are-not-necessary.-With-the-exception-of-the-ML-functions-that-we-introduce-in-this-assignment,-you-should-be-able-to-complete-all-parts-of-this-homework-using-only-the-Spark-functions-you-have-used-in-prior-lab-exercises-(although-you-are-welcome-to-use-more-features-of-Spark-if-you-like!).">This assignment can be completed using basic Python and pySpark Transformations and Actions.  Libraries other than math are not necessary. With the exception of the ML functions that we introduce in this assignment, you should be able to complete all parts of this homework using only the Spark functions you have used in prior lab exercises (although you are welcome to use more features of Spark if you like!).<a class="anchor-link" href="#This-assignment-can-be-completed-using-basic-Python-and-pySpark-Transformations-and-Actions.--Libraries-other-than-math-are-not-necessary.-With-the-exception-of-the-ML-functions-that-we-introduce-in-this-assignment,-you-should-be-able-to-complete-all-parts-of-this-homework-using-only-the-Spark-functions-you-have-used-in-prior-lab-exercises-(although-you-are-welcome-to-use-more-features-of-Spark-if-you-like!).">&#182;</a></h4>
</div>
</div>
</div>
<div class="cell border-box-sizing code_cell rendered">
<div class="input">
<div class="prompt input_prompt">In&nbsp;[&nbsp;]:</div>
<div class="inner_cell">
    <div class="input_area">
<div class=" highlight hl-ipython3"><pre><span class="kn">import</span> <span class="nn">sys</span>
<span class="kn">import</span> <span class="nn">os</span>
<span class="kn">from</span> <span class="nn">test_helper</span> <span class="k">import</span> <span class="n">Test</span>

<span class="n">baseDir</span> <span class="o">=</span> <span class="n">os</span><span class="o">.</span><span class="n">path</span><span class="o">.</span><span class="n">join</span><span class="p">(</span><span class="s">&#39;data&#39;</span><span class="p">)</span>
<span class="n">inputPath</span> <span class="o">=</span> <span class="n">os</span><span class="o">.</span><span class="n">path</span><span class="o">.</span><span class="n">join</span><span class="p">(</span><span class="s">&#39;cs100&#39;</span><span class="p">,</span> <span class="s">&#39;lab4&#39;</span><span class="p">,</span> <span class="s">&#39;small&#39;</span><span class="p">)</span>

<span class="n">ratingsFilename</span> <span class="o">=</span> <span class="n">os</span><span class="o">.</span><span class="n">path</span><span class="o">.</span><span class="n">join</span><span class="p">(</span><span class="n">baseDir</span><span class="p">,</span> <span class="n">inputPath</span><span class="p">,</span> <span class="s">&#39;ratings.dat.gz&#39;</span><span class="p">)</span>
<span class="n">moviesFilename</span> <span class="o">=</span> <span class="n">os</span><span class="o">.</span><span class="n">path</span><span class="o">.</span><span class="n">join</span><span class="p">(</span><span class="n">baseDir</span><span class="p">,</span> <span class="n">inputPath</span><span class="p">,</span> <span class="s">&#39;movies.dat&#39;</span><span class="p">)</span>
</pre></div>

</div>
</div>
</div>

</div>
<div class="cell border-box-sizing text_cell rendered">
<div class="prompt input_prompt">
</div>
<div class="inner_cell">
<div class="text_cell_render border-box-sizing rendered_html">
<h3 id="Part-0:-Preliminaries"><strong>Part 0: Preliminaries</strong><a class="anchor-link" href="#Part-0:-Preliminaries">&#182;</a></h3><h4 id="We-read-in-each-of-the-files-and-create-an-RDD-consisting-of-parsed-lines.">We read in each of the files and create an RDD consisting of parsed lines.<a class="anchor-link" href="#We-read-in-each-of-the-files-and-create-an-RDD-consisting-of-parsed-lines.">&#182;</a></h4><h4 id="Each-line-in-the-ratings-dataset-(ratings.dat.gz)-is-formatted-as:">Each line in the ratings dataset (<code>ratings.dat.gz</code>) is formatted as:<a class="anchor-link" href="#Each-line-in-the-ratings-dataset-(ratings.dat.gz)-is-formatted-as:">&#182;</a></h4><h4 id="UserID::MovieID::Rating::Timestamp"><code>UserID::MovieID::Rating::Timestamp</code><a class="anchor-link" href="#UserID::MovieID::Rating::Timestamp">&#182;</a></h4><h4 id="Each-line-in-the-movies-(movies.dat)-dataset-is-formatted-as:">Each line in the movies (<code>movies.dat</code>) dataset is formatted as:<a class="anchor-link" href="#Each-line-in-the-movies-(movies.dat)-dataset-is-formatted-as:">&#182;</a></h4><h4 id="MovieID::Title::Genres"><code>MovieID::Title::Genres</code><a class="anchor-link" href="#MovieID::Title::Genres">&#182;</a></h4><h4 id="The-Genres-field-has-the-format">The <code>Genres</code> field has the format<a class="anchor-link" href="#The-Genres-field-has-the-format">&#182;</a></h4><h4 id="Genres1|Genres2|Genres3|..."><code>Genres1|Genres2|Genres3|...</code><a class="anchor-link" href="#Genres1|Genres2|Genres3|...">&#182;</a></h4><h4 id="The-format-of-these-files-is-uniform-and-simple,-so-we-can-use-Python-split()-to-parse-their-lines.">The format of these files is uniform and simple, so we can use Python <a href="https://docs.python.org/2/library/stdtypes.html#str.split"><code>split()</code></a> to parse their lines.<a class="anchor-link" href="#The-format-of-these-files-is-uniform-and-simple,-so-we-can-use-Python-split()-to-parse-their-lines.">&#182;</a></h4><h4 id="Parsing-the-two-files-yields-two-RDDS">Parsing the two files yields two RDDS<a class="anchor-link" href="#Parsing-the-two-files-yields-two-RDDS">&#182;</a></h4><ul>
<li>#### For each line in the ratings dataset, we create a tuple of (UserID, MovieID, Rating). We drop the timestamp because we do not need it for this exercise.</li>
<li>#### For each line in the movies dataset, we create a tuple of (MovieID, Title). We drop the Genres because we do not need them for this exercise.</li>
</ul>

</div>
</div>
</div>
<div class="cell border-box-sizing code_cell rendered">
<div class="input">
<div class="prompt input_prompt">In&nbsp;[&nbsp;]:</div>
<div class="inner_cell">
    <div class="input_area">
<div class=" highlight hl-ipython3"><pre><span class="n">numPartitions</span> <span class="o">=</span> <span class="mi">2</span>
<span class="n">rawRatings</span> <span class="o">=</span> <span class="n">sc</span><span class="o">.</span><span class="n">textFile</span><span class="p">(</span><span class="n">ratingsFilename</span><span class="p">)</span><span class="o">.</span><span class="n">repartition</span><span class="p">(</span><span class="n">numPartitions</span><span class="p">)</span>
<span class="n">rawMovies</span> <span class="o">=</span> <span class="n">sc</span><span class="o">.</span><span class="n">textFile</span><span class="p">(</span><span class="n">moviesFilename</span><span class="p">)</span>

<span class="k">def</span> <span class="nf">get_ratings_tuple</span><span class="p">(</span><span class="n">entry</span><span class="p">):</span>
    <span class="sd">&quot;&quot;&quot; Parse a line in the ratings dataset</span>
<span class="sd">    Args:</span>
<span class="sd">        entry (str): a line in the ratings dataset in the form of UserID::MovieID::Rating::Timestamp</span>
<span class="sd">    Returns:</span>
<span class="sd">        tuple: (UserID, MovieID, Rating)</span>
<span class="sd">    &quot;&quot;&quot;</span>
    <span class="n">items</span> <span class="o">=</span> <span class="n">entry</span><span class="o">.</span><span class="n">split</span><span class="p">(</span><span class="s">&#39;::&#39;</span><span class="p">)</span>
    <span class="k">return</span> <span class="nb">int</span><span class="p">(</span><span class="n">items</span><span class="p">[</span><span class="mi">0</span><span class="p">]),</span> <span class="nb">int</span><span class="p">(</span><span class="n">items</span><span class="p">[</span><span class="mi">1</span><span class="p">]),</span> <span class="nb">float</span><span class="p">(</span><span class="n">items</span><span class="p">[</span><span class="mi">2</span><span class="p">])</span>


<span class="k">def</span> <span class="nf">get_movie_tuple</span><span class="p">(</span><span class="n">entry</span><span class="p">):</span>
    <span class="sd">&quot;&quot;&quot; Parse a line in the movies dataset</span>
<span class="sd">    Args:</span>
<span class="sd">        entry (str): a line in the movies dataset in the form of MovieID::Title::Genres</span>
<span class="sd">    Returns:</span>
<span class="sd">        tuple: (MovieID, Title)</span>
<span class="sd">    &quot;&quot;&quot;</span>
    <span class="n">items</span> <span class="o">=</span> <span class="n">entry</span><span class="o">.</span><span class="n">split</span><span class="p">(</span><span class="s">&#39;::&#39;</span><span class="p">)</span>
    <span class="k">return</span> <span class="nb">int</span><span class="p">(</span><span class="n">items</span><span class="p">[</span><span class="mi">0</span><span class="p">]),</span> <span class="n">items</span><span class="p">[</span><span class="mi">1</span><span class="p">]</span>


<span class="n">ratingsRDD</span> <span class="o">=</span> <span class="n">rawRatings</span><span class="o">.</span><span class="n">map</span><span class="p">(</span><span class="n">get_ratings_tuple</span><span class="p">)</span><span class="o">.</span><span class="n">cache</span><span class="p">()</span>
<span class="n">moviesRDD</span> <span class="o">=</span> <span class="n">rawMovies</span><span class="o">.</span><span class="n">map</span><span class="p">(</span><span class="n">get_movie_tuple</span><span class="p">)</span><span class="o">.</span><span class="n">cache</span><span class="p">()</span>

<span class="n">ratingsCount</span> <span class="o">=</span> <span class="n">ratingsRDD</span><span class="o">.</span><span class="n">count</span><span class="p">()</span>
<span class="n">moviesCount</span> <span class="o">=</span> <span class="n">moviesRDD</span><span class="o">.</span><span class="n">count</span><span class="p">()</span>

<span class="nb">print</span> <span class="s">&#39;There are %s ratings and %s movies in the datasets&#39;</span> <span class="o">%</span> <span class="p">(</span><span class="n">ratingsCount</span><span class="p">,</span> <span class="n">moviesCount</span><span class="p">)</span>
<span class="nb">print</span> <span class="s">&#39;Ratings: %s&#39;</span> <span class="o">%</span> <span class="n">ratingsRDD</span><span class="o">.</span><span class="n">take</span><span class="p">(</span><span class="mi">3</span><span class="p">)</span>
<span class="nb">print</span> <span class="s">&#39;Movies: %s&#39;</span> <span class="o">%</span> <span class="n">moviesRDD</span><span class="o">.</span><span class="n">take</span><span class="p">(</span><span class="mi">3</span><span class="p">)</span>

<span class="k">assert</span> <span class="n">ratingsCount</span> <span class="o">==</span> <span class="mi">487650</span>
<span class="k">assert</span> <span class="n">moviesCount</span> <span class="o">==</span> <span class="mi">3883</span>
<span class="k">assert</span> <span class="n">moviesRDD</span><span class="o">.</span><span class="n">filter</span><span class="p">(</span><span class="k">lambda</span> <span class="p">(</span><span class="nb">id</span><span class="p">,</span> <span class="n">title</span><span class="p">):</span> <span class="n">title</span> <span class="o">==</span> <span class="s">&#39;Toy Story (1995)&#39;</span><span class="p">)</span><span class="o">.</span><span class="n">count</span><span class="p">()</span> <span class="o">==</span> <span class="mi">1</span>
<span class="k">assert</span> <span class="p">(</span><span class="n">ratingsRDD</span><span class="o">.</span><span class="n">takeOrdered</span><span class="p">(</span><span class="mi">1</span><span class="p">,</span> <span class="n">key</span><span class="o">=</span><span class="k">lambda</span> <span class="p">(</span><span class="n">user</span><span class="p">,</span> <span class="n">movie</span><span class="p">,</span> <span class="n">rating</span><span class="p">):</span> <span class="n">movie</span><span class="p">)</span>
        <span class="o">==</span> <span class="p">[(</span><span class="mi">1</span><span class="p">,</span> <span class="mi">1</span><span class="p">,</span> <span class="mf">5.0</span><span class="p">)])</span>
</pre></div>

</div>
</div>
</div>

</div>
<div class="cell border-box-sizing text_cell rendered">
<div class="prompt input_prompt">
</div>
<div class="inner_cell">
<div class="text_cell_render border-box-sizing rendered_html">
<h4 id="In-this-lab-we-will-be-examining-subsets-of-the-tuples-we-create-(e.g.,-the-top-rated-movies-by-users).-Whenever-we-examine-only-a-subset-of-a-large-dataset,-there-is-the-potential-that-the-result-will-depend-on-the-order-we-perform-operations,-such-as-joins,-or-how-the-data-is-partitioned-across-the-workers.-What-we-want-to-guarantee-is-that-we-always-see-the-same-results-for-a-subset,-independent-of-how-we-manipulate-or-store-the-data.">In this lab we will be examining subsets of the tuples we create (e.g., the top rated movies by users). Whenever we examine only a subset of a large dataset, there is the potential that the result will depend on the order we perform operations, such as joins, or how the data is partitioned across the workers. What we want to guarantee is that we always see the same results for a subset, independent of how we manipulate or store the data.<a class="anchor-link" href="#In-this-lab-we-will-be-examining-subsets-of-the-tuples-we-create-(e.g.,-the-top-rated-movies-by-users).-Whenever-we-examine-only-a-subset-of-a-large-dataset,-there-is-the-potential-that-the-result-will-depend-on-the-order-we-perform-operations,-such-as-joins,-or-how-the-data-is-partitioned-across-the-workers.-What-we-want-to-guarantee-is-that-we-always-see-the-same-results-for-a-subset,-independent-of-how-we-manipulate-or-store-the-data.">&#182;</a></h4><h4 id="We-can-do-that-by-sorting-before-we-examine-a-subset.-You-might-think-that-the-most-obvious-choice-when-dealing-with-an-RDD-of-tuples-would-be-to-use-the-sortByKey()-method.-However-this-choice-is-problematic,-as-we-can-still-end-up-with-different-results-if-the-key-is-not-unique.">We can do that by sorting before we examine a subset. You might think that the most obvious choice when dealing with an RDD of tuples would be to use the <a href="https://spark.apache.org/docs/latest/api/python/pyspark.html#pyspark.RDD.sortByKey"><code>sortByKey()</code> method</a>. However this choice is problematic, as we can still end up with different results if the key is not unique.<a class="anchor-link" href="#We-can-do-that-by-sorting-before-we-examine-a-subset.-You-might-think-that-the-most-obvious-choice-when-dealing-with-an-RDD-of-tuples-would-be-to-use-the-sortByKey()-method.-However-this-choice-is-problematic,-as-we-can-still-end-up-with-different-results-if-the-key-is-not-unique.">&#182;</a></h4><h4 id="Note:-It-is-important-to-use-the-unicode-type-instead-of-the-string-type-as-the-titles-are-in-unicode-characters.">Note: It is important to use the <a href="https://docs.python.org/2/howto/unicode.html#the-unicode-type"><code>unicode</code> type</a> instead of the <code>string</code> type as the titles are in unicode characters.<a class="anchor-link" href="#Note:-It-is-important-to-use-the-unicode-type-instead-of-the-string-type-as-the-titles-are-in-unicode-characters.">&#182;</a></h4><h4 id="Consider-the-following-example,-and-note-that-while-the-sets-are-equal,-the-printed-lists-are-usually-in-different-order-by-value,-although-they-may-randomly-match-up-from-time-to-time.">Consider the following example, and note that while the sets are equal, the printed lists are usually in different order by value, <em>although they may randomly match up from time to time.</em><a class="anchor-link" href="#Consider-the-following-example,-and-note-that-while-the-sets-are-equal,-the-printed-lists-are-usually-in-different-order-by-value,-although-they-may-randomly-match-up-from-time-to-time.">&#182;</a></h4><h4 id="You-can-try-running-this-multiple-times.--If-the-last-assertion-fails,-don't-worry-about-it:-that-was-just-the-luck-of-the-draw.--And-note-that-in-some-environments-the-results-may-be-more-deterministic.">You can try running this multiple times.  If the last assertion fails, don't worry about it: that was just the luck of the draw.  And note that in some environments the results may be more deterministic.<a class="anchor-link" href="#You-can-try-running-this-multiple-times.--If-the-last-assertion-fails,-don't-worry-about-it:-that-was-just-the-luck-of-the-draw.--And-note-that-in-some-environments-the-results-may-be-more-deterministic.">&#182;</a></h4>
</div>
</div>
</div>
<div class="cell border-box-sizing code_cell rendered">
<div class="input">
<div class="prompt input_prompt">In&nbsp;[&nbsp;]:</div>
<div class="inner_cell">
    <div class="input_area">
<div class=" highlight hl-ipython3"><pre><span class="n">tmp1</span> <span class="o">=</span> <span class="p">[(</span><span class="mi">1</span><span class="p">,</span> <span class="s">u&#39;alpha&#39;</span><span class="p">),</span> <span class="p">(</span><span class="mi">2</span><span class="p">,</span> <span class="s">u&#39;alpha&#39;</span><span class="p">),</span> <span class="p">(</span><span class="mi">2</span><span class="p">,</span> <span class="s">u&#39;beta&#39;</span><span class="p">),</span> <span class="p">(</span><span class="mi">3</span><span class="p">,</span> <span class="s">u&#39;alpha&#39;</span><span class="p">),</span> <span class="p">(</span><span class="mi">1</span><span class="p">,</span> <span class="s">u&#39;epsilon&#39;</span><span class="p">),</span> <span class="p">(</span><span class="mi">1</span><span class="p">,</span> <span class="s">u&#39;delta&#39;</span><span class="p">)]</span>
<span class="n">tmp2</span> <span class="o">=</span> <span class="p">[(</span><span class="mi">1</span><span class="p">,</span> <span class="s">u&#39;delta&#39;</span><span class="p">),</span> <span class="p">(</span><span class="mi">2</span><span class="p">,</span> <span class="s">u&#39;alpha&#39;</span><span class="p">),</span> <span class="p">(</span><span class="mi">2</span><span class="p">,</span> <span class="s">u&#39;beta&#39;</span><span class="p">),</span> <span class="p">(</span><span class="mi">3</span><span class="p">,</span> <span class="s">u&#39;alpha&#39;</span><span class="p">),</span> <span class="p">(</span><span class="mi">1</span><span class="p">,</span> <span class="s">u&#39;epsilon&#39;</span><span class="p">),</span> <span class="p">(</span><span class="mi">1</span><span class="p">,</span> <span class="s">u&#39;alpha&#39;</span><span class="p">)]</span>

<span class="n">oneRDD</span> <span class="o">=</span> <span class="n">sc</span><span class="o">.</span><span class="n">parallelize</span><span class="p">(</span><span class="n">tmp1</span><span class="p">)</span>
<span class="n">twoRDD</span> <span class="o">=</span> <span class="n">sc</span><span class="o">.</span><span class="n">parallelize</span><span class="p">(</span><span class="n">tmp2</span><span class="p">)</span>
<span class="n">oneSorted</span> <span class="o">=</span> <span class="n">oneRDD</span><span class="o">.</span><span class="n">sortByKey</span><span class="p">(</span><span class="k">True</span><span class="p">)</span><span class="o">.</span><span class="n">collect</span><span class="p">()</span>
<span class="n">twoSorted</span> <span class="o">=</span> <span class="n">twoRDD</span><span class="o">.</span><span class="n">sortByKey</span><span class="p">(</span><span class="k">True</span><span class="p">)</span><span class="o">.</span><span class="n">collect</span><span class="p">()</span>
<span class="nb">print</span> <span class="n">oneSorted</span>
<span class="nb">print</span> <span class="n">twoSorted</span>
<span class="k">assert</span> <span class="nb">set</span><span class="p">(</span><span class="n">oneSorted</span><span class="p">)</span> <span class="o">==</span> <span class="nb">set</span><span class="p">(</span><span class="n">twoSorted</span><span class="p">)</span>     <span class="c"># Note that both lists have the same elements</span>
<span class="k">assert</span> <span class="n">twoSorted</span><span class="p">[</span><span class="mi">0</span><span class="p">][</span><span class="mi">0</span><span class="p">]</span> <span class="o">&lt;</span> <span class="n">twoSorted</span><span class="o">.</span><span class="n">pop</span><span class="p">()[</span><span class="mi">0</span><span class="p">]</span> <span class="c"># Check that it is sorted by the keys</span>
<span class="k">assert</span> <span class="n">oneSorted</span><span class="p">[</span><span class="mi">0</span><span class="p">:</span><span class="mi">2</span><span class="p">]</span> <span class="o">!=</span> <span class="n">twoSorted</span><span class="p">[</span><span class="mi">0</span><span class="p">:</span><span class="mi">2</span><span class="p">]</span>     <span class="c"># Note that the subset consisting of the first two elements does not match</span>
</pre></div>

</div>
</div>
</div>

</div>
<div class="cell border-box-sizing text_cell rendered">
<div class="prompt input_prompt">
</div>
<div class="inner_cell">
<div class="text_cell_render border-box-sizing rendered_html">
<h4 id="Even-though-the-two-lists-contain-identical-tuples,-the-difference-in-ordering-sometimes-yields-a-different-ordering-for-the-sorted-RDD-(try-running-the-cell-repeatedly-and-see-if-the-results-change-or-the-assertion-fails).-If-we-only-examined-the-first-two-elements-of-the-RDD-(e.g.,-using-take(2)),-then-we-would-observe-different-answers---that-is-a-really-bad-outcome-as-we-want-identical-input-data-to-always-yield-identical-output.-A-better-technique-is-to-sort-the-RDD-by-both-the-key-and-value,-which-we-can-do-by-combining-the-key-and-value-into-a-single-string-and-then-sorting-on-that-string.-Since-the-key-is-an-integer-and-the-value-is-a-unicode-string,-we-can-use-a-function-to-combine-them-into-a-single-unicode-string-(e.g.,-unicode('%.3f'-%-key)-+-'-'-+-value)-before-sorting-the-RDD-using-sortBy().">Even though the two lists contain identical tuples, the difference in ordering <em>sometimes</em> yields a different ordering for the sorted RDD (try running the cell repeatedly and see if the results change or the assertion fails). If we only examined the first two elements of the RDD (e.g., using <code>take(2)</code>), then we would observe different answers - <strong>that is a really bad outcome as we want identical input data to always yield identical output</strong>. A better technique is to sort the RDD by <em>both the key and value</em>, which we can do by combining the key and value into a single string and then sorting on that string. Since the key is an integer and the value is a unicode string, we can use a function to combine them into a single unicode string (e.g., <code>unicode('%.3f' % key) + ' ' + value</code>) before sorting the RDD using <a href="https://spark.apache.org/docs/latest/api/python/pyspark.html#pyspark.RDD.sortBy">sortBy()</a>.<a class="anchor-link" href="#Even-though-the-two-lists-contain-identical-tuples,-the-difference-in-ordering-sometimes-yields-a-different-ordering-for-the-sorted-RDD-(try-running-the-cell-repeatedly-and-see-if-the-results-change-or-the-assertion-fails).-If-we-only-examined-the-first-two-elements-of-the-RDD-(e.g.,-using-take(2)),-then-we-would-observe-different-answers---that-is-a-really-bad-outcome-as-we-want-identical-input-data-to-always-yield-identical-output.-A-better-technique-is-to-sort-the-RDD-by-both-the-key-and-value,-which-we-can-do-by-combining-the-key-and-value-into-a-single-string-and-then-sorting-on-that-string.-Since-the-key-is-an-integer-and-the-value-is-a-unicode-string,-we-can-use-a-function-to-combine-them-into-a-single-unicode-string-(e.g.,-unicode('%.3f'-%-key)-+-'-'-+-value)-before-sorting-the-RDD-using-sortBy().">&#182;</a></h4>
</div>
</div>
</div>
<div class="cell border-box-sizing code_cell rendered">
<div class="input">
<div class="prompt input_prompt">In&nbsp;[&nbsp;]:</div>
<div class="inner_cell">
    <div class="input_area">
<div class=" highlight hl-ipython3"><pre><span class="k">def</span> <span class="nf">sortFunction</span><span class="p">(</span><span class="nb">tuple</span><span class="p">):</span>
    <span class="sd">&quot;&quot;&quot; Construct the sort string (does not perform actual sorting)</span>
<span class="sd">    Args:</span>
<span class="sd">        tuple: (rating, MovieName)</span>
<span class="sd">    Returns:</span>
<span class="sd">        sortString: the value to sort with, &#39;rating MovieName&#39;</span>
<span class="sd">    &quot;&quot;&quot;</span>
    <span class="n">key</span> <span class="o">=</span> <span class="n">unicode</span><span class="p">(</span><span class="s">&#39;%.3f&#39;</span> <span class="o">%</span> <span class="nb">tuple</span><span class="p">[</span><span class="mi">0</span><span class="p">])</span>
    <span class="n">value</span> <span class="o">=</span> <span class="nb">tuple</span><span class="p">[</span><span class="mi">1</span><span class="p">]</span>
    <span class="k">return</span> <span class="p">(</span><span class="n">key</span> <span class="o">+</span> <span class="s">&#39; &#39;</span> <span class="o">+</span> <span class="n">value</span><span class="p">)</span>


<span class="nb">print</span> <span class="n">oneRDD</span><span class="o">.</span><span class="n">sortBy</span><span class="p">(</span><span class="n">sortFunction</span><span class="p">,</span> <span class="k">True</span><span class="p">)</span><span class="o">.</span><span class="n">collect</span><span class="p">()</span>
<span class="nb">print</span> <span class="n">twoRDD</span><span class="o">.</span><span class="n">sortBy</span><span class="p">(</span><span class="n">sortFunction</span><span class="p">,</span> <span class="k">True</span><span class="p">)</span><span class="o">.</span><span class="n">collect</span><span class="p">()</span>
</pre></div>

</div>
</div>
</div>

</div>
<div class="cell border-box-sizing text_cell rendered">
<div class="prompt input_prompt">
</div>
<div class="inner_cell">
<div class="text_cell_render border-box-sizing rendered_html">
<h4 id="If-we-just-want-to-look-at-the-first-few-elements-of-the-RDD-in-sorted-order,-we-can-use-the-takeOrdered-method-with-the-sortFunction-we-defined.">If we just want to look at the first few elements of the RDD in sorted order, we can use the <a href="https://spark.apache.org/docs/latest/api/python/pyspark.html#pyspark.RDD.takeOrdered">takeOrdered</a> method with the <code>sortFunction</code> we defined.<a class="anchor-link" href="#If-we-just-want-to-look-at-the-first-few-elements-of-the-RDD-in-sorted-order,-we-can-use-the-takeOrdered-method-with-the-sortFunction-we-defined.">&#182;</a></h4>
</div>
</div>
</div>
<div class="cell border-box-sizing code_cell rendered">
<div class="input">
<div class="prompt input_prompt">In&nbsp;[&nbsp;]:</div>
<div class="inner_cell">
    <div class="input_area">
<div class=" highlight hl-ipython3"><pre><span class="n">oneSorted1</span> <span class="o">=</span> <span class="n">oneRDD</span><span class="o">.</span><span class="n">takeOrdered</span><span class="p">(</span><span class="n">oneRDD</span><span class="o">.</span><span class="n">count</span><span class="p">(),</span><span class="n">key</span><span class="o">=</span><span class="n">sortFunction</span><span class="p">)</span>
<span class="n">twoSorted1</span> <span class="o">=</span> <span class="n">twoRDD</span><span class="o">.</span><span class="n">takeOrdered</span><span class="p">(</span><span class="n">twoRDD</span><span class="o">.</span><span class="n">count</span><span class="p">(),</span><span class="n">key</span><span class="o">=</span><span class="n">sortFunction</span><span class="p">)</span>
<span class="nb">print</span> <span class="s">&#39;one is %s&#39;</span> <span class="o">%</span> <span class="n">oneSorted1</span>
<span class="nb">print</span> <span class="s">&#39;two is %s&#39;</span> <span class="o">%</span> <span class="n">twoSorted1</span>
<span class="k">assert</span> <span class="n">oneSorted1</span> <span class="o">==</span> <span class="n">twoSorted1</span>
</pre></div>

</div>
</div>
</div>

</div>
<div class="cell border-box-sizing text_cell rendered">
<div class="prompt input_prompt">
</div>
<div class="inner_cell">
<div class="text_cell_render border-box-sizing rendered_html">
<h3 id="Part-1:-Basic-Recommendations"><strong>Part 1: Basic Recommendations</strong><a class="anchor-link" href="#Part-1:-Basic-Recommendations">&#182;</a></h3><h4 id="One-way-to-recommend-movies-is-to-always-recommend-the-movies-with-the-highest-average-rating.-In-this-part,-we-will-use-Spark-to-find-the-name,-number-of-ratings,-and-the-average-rating-of-the-20-movies-with-the-highest-average-rating-and-more-than-500-reviews.-We-want-to-filter-our-movies-with-high-ratings-but-fewer-than-or-equal-to-500-reviews-because-movies-with-few-reviews-may-not-have-broad-appeal-to-everyone.">One way to recommend movies is to always recommend the movies with the highest average rating. In this part, we will use Spark to find the name, number of ratings, and the average rating of the 20 movies with the highest average rating and more than 500 reviews. We want to filter our movies with high ratings but fewer than or equal to 500 reviews because movies with few reviews may not have broad appeal to everyone.<a class="anchor-link" href="#One-way-to-recommend-movies-is-to-always-recommend-the-movies-with-the-highest-average-rating.-In-this-part,-we-will-use-Spark-to-find-the-name,-number-of-ratings,-and-the-average-rating-of-the-20-movies-with-the-highest-average-rating-and-more-than-500-reviews.-We-want-to-filter-our-movies-with-high-ratings-but-fewer-than-or-equal-to-500-reviews-because-movies-with-few-reviews-may-not-have-broad-appeal-to-everyone.">&#182;</a></h4>
</div>
</div>
</div>
<div class="cell border-box-sizing text_cell rendered">
<div class="prompt input_prompt">
</div>
<div class="inner_cell">
<div class="text_cell_render border-box-sizing rendered_html">
<h4 id="(1a)-Number-of-Ratings-and-Average-Ratings-for-a-Movie"><strong>(1a) Number of Ratings and Average Ratings for a Movie</strong><a class="anchor-link" href="#(1a)-Number-of-Ratings-and-Average-Ratings-for-a-Movie">&#182;</a></h4><h4 id="Using-only-Python,-implement-a-helper-function-getCountsAndAverages()-that-takes-a-single-tuple-of-(MovieID,-(Rating1,-Rating2,-Rating3,-...))-and-returns-a-tuple-of-(MovieID,-(number-of-ratings,-averageRating)).-For-example,-given-the-tuple-(100,-(10.0,-20.0,-30.0)),-your-function-should-return-(100,-(3,-20.0))">Using only Python, implement a helper function <code>getCountsAndAverages()</code> that takes a single tuple of (MovieID, (Rating1, Rating2, Rating3, ...)) and returns a tuple of (MovieID, (number of ratings, averageRating)). For example, given the tuple <code>(100, (10.0, 20.0, 30.0))</code>, your function should return <code>(100, (3, 20.0))</code><a class="anchor-link" href="#Using-only-Python,-implement-a-helper-function-getCountsAndAverages()-that-takes-a-single-tuple-of-(MovieID,-(Rating1,-Rating2,-Rating3,-...))-and-returns-a-tuple-of-(MovieID,-(number-of-ratings,-averageRating)).-For-example,-given-the-tuple-(100,-(10.0,-20.0,-30.0)),-your-function-should-return-(100,-(3,-20.0))">&#182;</a></h4>
</div>
</div>
</div>
<div class="cell border-box-sizing code_cell rendered">
<div class="input">
<div class="prompt input_prompt">In&nbsp;[&nbsp;]:</div>
<div class="inner_cell">
    <div class="input_area">
<div class=" highlight hl-ipython3"><pre><span class="c"># TODO: Replace &lt;FILL IN&gt; with appropriate code</span>

<span class="c"># First, implement a helper function `getCountsAndAverages` using only Python</span>
<span class="k">def</span> <span class="nf">getCountsAndAverages</span><span class="p">(</span><span class="n">IDandRatingsTuple</span><span class="p">):</span>
    <span class="sd">&quot;&quot;&quot; Calculate average rating</span>
<span class="sd">    Args:</span>
<span class="sd">        IDandRatingsTuple: a single tuple of (MovieID, (Rating1, Rating2, Rating3, ...))</span>
<span class="sd">    Returns:</span>
<span class="sd">        tuple: a tuple of (MovieID, (number of ratings, averageRating))</span>
<span class="sd">    &quot;&quot;&quot;</span>
    <span class="o">&lt;</span><span class="n">FILL</span> <span class="n">IN</span><span class="o">&gt;</span>
    <span class="k">return</span> <span class="o">&lt;</span><span class="n">FILL</span> <span class="n">IN</span><span class="o">&gt;</span>
</pre></div>

</div>
</div>
</div>

</div>
<div class="cell border-box-sizing code_cell rendered">
<div class="input">
<div class="prompt input_prompt">In&nbsp;[&nbsp;]:</div>
<div class="inner_cell">
    <div class="input_area">
<div class=" highlight hl-ipython3"><pre><span class="c"># TEST Number of Ratings and Average Ratings for a Movie (1a)</span>

<span class="n">Test</span><span class="o">.</span><span class="n">assertEquals</span><span class="p">(</span><span class="n">getCountsAndAverages</span><span class="p">((</span><span class="mi">1</span><span class="p">,</span> <span class="p">(</span><span class="mi">1</span><span class="p">,</span> <span class="mi">2</span><span class="p">,</span> <span class="mi">3</span><span class="p">,</span> <span class="mi">4</span><span class="p">))),</span> <span class="p">(</span><span class="mi">1</span><span class="p">,</span> <span class="p">(</span><span class="mi">4</span><span class="p">,</span> <span class="mf">2.5</span><span class="p">)),</span>
                            <span class="s">&#39;incorrect getCountsAndAverages() with integer list&#39;</span><span class="p">)</span>
<span class="n">Test</span><span class="o">.</span><span class="n">assertEquals</span><span class="p">(</span><span class="n">getCountsAndAverages</span><span class="p">((</span><span class="mi">100</span><span class="p">,</span> <span class="p">(</span><span class="mf">10.0</span><span class="p">,</span> <span class="mf">20.0</span><span class="p">,</span> <span class="mf">30.0</span><span class="p">))),</span> <span class="p">(</span><span class="mi">100</span><span class="p">,</span> <span class="p">(</span><span class="mi">3</span><span class="p">,</span> <span class="mf">20.0</span><span class="p">)),</span>
                            <span class="s">&#39;incorrect getCountsAndAverages() with float list&#39;</span><span class="p">)</span>
<span class="n">Test</span><span class="o">.</span><span class="n">assertEquals</span><span class="p">(</span><span class="n">getCountsAndAverages</span><span class="p">((</span><span class="mi">110</span><span class="p">,</span> <span class="n">xrange</span><span class="p">(</span><span class="mi">20</span><span class="p">))),</span> <span class="p">(</span><span class="mi">110</span><span class="p">,</span> <span class="p">(</span><span class="mi">20</span><span class="p">,</span> <span class="mf">9.5</span><span class="p">)),</span>
                            <span class="s">&#39;incorrect getCountsAndAverages() with xrange&#39;</span><span class="p">)</span>
</pre></div>

</div>
</div>
</div>

</div>
<div class="cell border-box-sizing text_cell rendered">
<div class="prompt input_prompt">
</div>
<div class="inner_cell">
<div class="text_cell_render border-box-sizing rendered_html">
<h4 id="(1b)-Movies-with-Highest-Average-Ratings"><strong>(1b) Movies with Highest Average Ratings</strong><a class="anchor-link" href="#(1b)-Movies-with-Highest-Average-Ratings">&#182;</a></h4><h4 id="Now-that-we-have-a-way-to-calculate-the-average-ratings,-we-will-use-the-getCountsAndAverages()-helper-function-with-Spark-to-determine-movies-with-highest-average-ratings.">Now that we have a way to calculate the average ratings, we will use the <code>getCountsAndAverages()</code> helper function with Spark to determine movies with highest average ratings.<a class="anchor-link" href="#Now-that-we-have-a-way-to-calculate-the-average-ratings,-we-will-use-the-getCountsAndAverages()-helper-function-with-Spark-to-determine-movies-with-highest-average-ratings.">&#182;</a></h4><h4 id="The-steps-you-should-perform-are:">The steps you should perform are:<a class="anchor-link" href="#The-steps-you-should-perform-are:">&#182;</a></h4><ul>
<li>#### Recall that the <code>ratingsRDD</code> contains tuples of the form (UserID, MovieID, Rating). From <code>ratingsRDD</code> create an RDD with tuples of the form (MovieID, Python iterable of Ratings for that MovieID). This transformation will yield an RDD of the form: <code>[(1, &lt;pyspark.resultiterable.ResultIterable object at 0x7f16d50e7c90&gt;), (2, &lt;pyspark.resultiterable.ResultIterable object at 0x7f16d50e79d0&gt;), (3, &lt;pyspark.resultiterable.ResultIterable object at 0x7f16d50e7610&gt;)]</code>. Note that you will only need to perform two Spark transformations to do this step.</li>
<li>#### Using <code>movieIDsWithRatingsRDD</code> and your <code>getCountsAndAverages()</code> helper function, compute the number of ratings and average rating for each movie to yield tuples of the form (MovieID, (number of ratings, average rating)). This transformation will yield an RDD of the form: <code>[(1, (993, 4.145015105740181)), (2, (332, 3.174698795180723)), (3, (299, 3.0468227424749164))]</code>. You can do this step with one Spark transformation</li>
<li>#### We want to see movie names, instead of movie IDs. To <code>moviesRDD</code>, apply RDD transformations that use <code>movieIDsWithAvgRatingsRDD</code> to get the movie names for <code>movieIDsWithAvgRatingsRDD</code>, yielding tuples of the form (average rating, movie name, number of ratings). This set of transformations will yield an RDD of the form: <code>[(1.0, u'Autopsy (Macchie Solari) (1975)', 1), (1.0, u'Better Living (1998)', 1), (1.0, u'Big Squeeze, The (1996)', 3)]</code>. You will need to do two Spark transformations to complete this step: first use the <code>moviesRDD</code> with <code>movieIDsWithAvgRatingsRDD</code> to create a new RDD with Movie names matched to Movie IDs, then convert that RDD into the form of (average rating, movie name, number of ratings). These transformations will yield an RDD that looks like: <code>[(3.6818181818181817, u'Happiest Millionaire, The (1967)', 22), (3.0468227424749164, u'Grumpier Old Men (1995)', 299), (2.882978723404255, u'Hocus Pocus (1993)', 94)]</code></li>
</ul>

</div>
</div>
</div>
<div class="cell border-box-sizing code_cell rendered">
<div class="input">
<div class="prompt input_prompt">In&nbsp;[&nbsp;]:</div>
<div class="inner_cell">
    <div class="input_area">
<div class=" highlight hl-ipython3"><pre><span class="c"># TODO: Replace &lt;FILL IN&gt; with appropriate code</span>

<span class="c"># From ratingsRDD with tuples of (UserID, MovieID, Rating) create an RDD with tuples of</span>
<span class="c"># the (MovieID, iterable of Ratings for that MovieID)</span>
<span class="n">movieIDsWithRatingsRDD</span> <span class="o">=</span> <span class="p">(</span><span class="n">ratingsRDD</span>
                          <span class="o">.&lt;</span><span class="n">FILL</span> <span class="n">IN</span><span class="o">&gt;</span><span class="p">)</span>
<span class="nb">print</span> <span class="s">&#39;movieIDsWithRatingsRDD: %s</span><span class="se">\n</span><span class="s">&#39;</span> <span class="o">%</span> <span class="n">movieIDsWithRatingsRDD</span><span class="o">.</span><span class="n">take</span><span class="p">(</span><span class="mi">3</span><span class="p">)</span>

<span class="c"># Using `movieIDsWithRatingsRDD`, compute the number of ratings and average rating for each movie to</span>
<span class="c"># yield tuples of the form (MovieID, (number of ratings, average rating))</span>
<span class="n">movieIDsWithAvgRatingsRDD</span> <span class="o">=</span> <span class="n">movieIDsWithRatingsRDD</span><span class="o">.&lt;</span><span class="n">FILL</span> <span class="n">IN</span><span class="o">&gt;</span>
<span class="nb">print</span> <span class="s">&#39;movieIDsWithAvgRatingsRDD: %s</span><span class="se">\n</span><span class="s">&#39;</span> <span class="o">%</span> <span class="n">movieIDsWithAvgRatingsRDD</span><span class="o">.</span><span class="n">take</span><span class="p">(</span><span class="mi">3</span><span class="p">)</span>

<span class="c"># To `movieIDsWithAvgRatingsRDD`, apply RDD transformations that use `moviesRDD` to get the movie</span>
<span class="c"># names for `movieIDsWithAvgRatingsRDD`, yielding tuples of the form</span>
<span class="c"># (average rating, movie name, number of ratings)</span>
<span class="n">movieNameWithAvgRatingsRDD</span> <span class="o">=</span> <span class="p">(</span><span class="n">moviesRDD</span>
                              <span class="o">.&lt;</span><span class="n">FILL</span> <span class="n">IN</span><span class="o">&gt;</span><span class="p">)</span>
<span class="nb">print</span> <span class="s">&#39;movieNameWithAvgRatingsRDD: %s</span><span class="se">\n</span><span class="s">&#39;</span> <span class="o">%</span> <span class="n">movieNameWithAvgRatingsRDD</span><span class="o">.</span><span class="n">take</span><span class="p">(</span><span class="mi">3</span><span class="p">)</span>
</pre></div>

</div>
</div>
</div>

</div>
<div class="cell border-box-sizing code_cell rendered">
<div class="input">
<div class="prompt input_prompt">In&nbsp;[&nbsp;]:</div>
<div class="inner_cell">
    <div class="input_area">
<div class=" highlight hl-ipython3"><pre><span class="c"># TEST Movies with Highest Average Ratings (1b)</span>

<span class="n">Test</span><span class="o">.</span><span class="n">assertEquals</span><span class="p">(</span><span class="n">movieIDsWithRatingsRDD</span><span class="o">.</span><span class="n">count</span><span class="p">(),</span> <span class="mi">3615</span><span class="p">,</span>
                <span class="s">&#39;incorrect movieIDsWithRatingsRDD.count() (expected 3615)&#39;</span><span class="p">)</span>
<span class="n">movieIDsWithRatingsTakeOrdered</span> <span class="o">=</span> <span class="n">movieIDsWithRatingsRDD</span><span class="o">.</span><span class="n">takeOrdered</span><span class="p">(</span><span class="mi">3</span><span class="p">)</span>
<span class="n">Test</span><span class="o">.</span><span class="n">assertTrue</span><span class="p">(</span><span class="n">movieIDsWithRatingsTakeOrdered</span><span class="p">[</span><span class="mi">0</span><span class="p">][</span><span class="mi">0</span><span class="p">]</span> <span class="o">==</span> <span class="mi">1</span> <span class="ow">and</span>
                <span class="nb">len</span><span class="p">(</span><span class="nb">list</span><span class="p">(</span><span class="n">movieIDsWithRatingsTakeOrdered</span><span class="p">[</span><span class="mi">0</span><span class="p">][</span><span class="mi">1</span><span class="p">]))</span> <span class="o">==</span> <span class="mi">993</span><span class="p">,</span>
                <span class="s">&#39;incorrect count of ratings for movieIDsWithRatingsTakeOrdered[0] (expected 993)&#39;</span><span class="p">)</span>
<span class="n">Test</span><span class="o">.</span><span class="n">assertTrue</span><span class="p">(</span><span class="n">movieIDsWithRatingsTakeOrdered</span><span class="p">[</span><span class="mi">1</span><span class="p">][</span><span class="mi">0</span><span class="p">]</span> <span class="o">==</span> <span class="mi">2</span> <span class="ow">and</span>
                <span class="nb">len</span><span class="p">(</span><span class="nb">list</span><span class="p">(</span><span class="n">movieIDsWithRatingsTakeOrdered</span><span class="p">[</span><span class="mi">1</span><span class="p">][</span><span class="mi">1</span><span class="p">]))</span> <span class="o">==</span> <span class="mi">332</span><span class="p">,</span>
                <span class="s">&#39;incorrect count of ratings for movieIDsWithRatingsTakeOrdered[1] (expected 332)&#39;</span><span class="p">)</span>
<span class="n">Test</span><span class="o">.</span><span class="n">assertTrue</span><span class="p">(</span><span class="n">movieIDsWithRatingsTakeOrdered</span><span class="p">[</span><span class="mi">2</span><span class="p">][</span><span class="mi">0</span><span class="p">]</span> <span class="o">==</span> <span class="mi">3</span> <span class="ow">and</span>
                <span class="nb">len</span><span class="p">(</span><span class="nb">list</span><span class="p">(</span><span class="n">movieIDsWithRatingsTakeOrdered</span><span class="p">[</span><span class="mi">2</span><span class="p">][</span><span class="mi">1</span><span class="p">]))</span> <span class="o">==</span> <span class="mi">299</span><span class="p">,</span>
                <span class="s">&#39;incorrect count of ratings for movieIDsWithRatingsTakeOrdered[2] (expected 299)&#39;</span><span class="p">)</span>

<span class="n">Test</span><span class="o">.</span><span class="n">assertEquals</span><span class="p">(</span><span class="n">movieIDsWithAvgRatingsRDD</span><span class="o">.</span><span class="n">count</span><span class="p">(),</span> <span class="mi">3615</span><span class="p">,</span>
                <span class="s">&#39;incorrect movieIDsWithAvgRatingsRDD.count() (expected 3615)&#39;</span><span class="p">)</span>
<span class="n">Test</span><span class="o">.</span><span class="n">assertEquals</span><span class="p">(</span><span class="n">movieIDsWithAvgRatingsRDD</span><span class="o">.</span><span class="n">takeOrdered</span><span class="p">(</span><span class="mi">3</span><span class="p">),</span>
                <span class="p">[(</span><span class="mi">1</span><span class="p">,</span> <span class="p">(</span><span class="mi">993</span><span class="p">,</span> <span class="mf">4.145015105740181</span><span class="p">)),</span> <span class="p">(</span><span class="mi">2</span><span class="p">,</span> <span class="p">(</span><span class="mi">332</span><span class="p">,</span> <span class="mf">3.174698795180723</span><span class="p">)),</span>
                 <span class="p">(</span><span class="mi">3</span><span class="p">,</span> <span class="p">(</span><span class="mi">299</span><span class="p">,</span> <span class="mf">3.0468227424749164</span><span class="p">))],</span>
                <span class="s">&#39;incorrect movieIDsWithAvgRatingsRDD.takeOrdered(3)&#39;</span><span class="p">)</span>

<span class="n">Test</span><span class="o">.</span><span class="n">assertEquals</span><span class="p">(</span><span class="n">movieNameWithAvgRatingsRDD</span><span class="o">.</span><span class="n">count</span><span class="p">(),</span> <span class="mi">3615</span><span class="p">,</span>
                <span class="s">&#39;incorrect movieNameWithAvgRatingsRDD.count() (expected 3615)&#39;</span><span class="p">)</span>
<span class="n">Test</span><span class="o">.</span><span class="n">assertEquals</span><span class="p">(</span><span class="n">movieNameWithAvgRatingsRDD</span><span class="o">.</span><span class="n">takeOrdered</span><span class="p">(</span><span class="mi">3</span><span class="p">),</span>
                <span class="p">[(</span><span class="mf">1.0</span><span class="p">,</span> <span class="s">u&#39;Autopsy (Macchie Solari) (1975)&#39;</span><span class="p">,</span> <span class="mi">1</span><span class="p">),</span> <span class="p">(</span><span class="mf">1.0</span><span class="p">,</span> <span class="s">u&#39;Better Living (1998)&#39;</span><span class="p">,</span> <span class="mi">1</span><span class="p">),</span>
                 <span class="p">(</span><span class="mf">1.0</span><span class="p">,</span> <span class="s">u&#39;Big Squeeze, The (1996)&#39;</span><span class="p">,</span> <span class="mi">3</span><span class="p">)],</span>
                 <span class="s">&#39;incorrect movieNameWithAvgRatingsRDD.takeOrdered(3)&#39;</span><span class="p">)</span>
</pre></div>

</div>
</div>
</div>

</div>
<div class="cell border-box-sizing text_cell rendered">
<div class="prompt input_prompt">
</div>
<div class="inner_cell">
<div class="text_cell_render border-box-sizing rendered_html">
<h4 id="(1c)-Movies-with-Highest-Average-Ratings-and-more-than-500-reviews"><strong>(1c) Movies with Highest Average Ratings and more than 500 reviews</strong><a class="anchor-link" href="#(1c)-Movies-with-Highest-Average-Ratings-and-more-than-500-reviews">&#182;</a></h4><h4 id="Now-that-we-have-an-RDD-of-the-movies-with-highest-averge-ratings,-we-can-use-Spark-to-determine-the-20-movies-with-highest-average-ratings-and-more-than-500-reviews.">Now that we have an RDD of the movies with highest averge ratings, we can use Spark to determine the 20 movies with highest average ratings and more than 500 reviews.<a class="anchor-link" href="#Now-that-we-have-an-RDD-of-the-movies-with-highest-averge-ratings,-we-can-use-Spark-to-determine-the-20-movies-with-highest-average-ratings-and-more-than-500-reviews.">&#182;</a></h4><h4 id="Apply-a-single-RDD-transformation-to-movieNameWithAvgRatingsRDD-to-limit-the-results-to-movies-with-ratings-from-more-than-500-people.-We-then-use-the-sortFunction()-helper-function-to-sort-by-the-average-rating-to-get-the-movies-in-order-of-their-rating-(highest-rating-first).-You-will-end-up-with-an-RDD-of-the-form:-[(4.5349264705882355,-u'Shawshank-Redemption,-The-(1994)',-1088),-(4.515798462852263,-u&quot;Schindler's-List-(1993)&quot;,-1171),-(4.512893982808023,-u'Godfather,-The-(1972)',-1047)]">Apply a single RDD transformation to <code>movieNameWithAvgRatingsRDD</code> to limit the results to movies with ratings from more than 500 people. We then use the <code>sortFunction()</code> helper function to sort by the average rating to get the movies in order of their rating (highest rating first). You will end up with an RDD of the form: <code>[(4.5349264705882355, u'Shawshank Redemption, The (1994)', 1088), (4.515798462852263, u"Schindler's List (1993)", 1171), (4.512893982808023, u'Godfather, The (1972)', 1047)]</code><a class="anchor-link" href="#Apply-a-single-RDD-transformation-to-movieNameWithAvgRatingsRDD-to-limit-the-results-to-movies-with-ratings-from-more-than-500-people.-We-then-use-the-sortFunction()-helper-function-to-sort-by-the-average-rating-to-get-the-movies-in-order-of-their-rating-(highest-rating-first).-You-will-end-up-with-an-RDD-of-the-form:-[(4.5349264705882355,-u'Shawshank-Redemption,-The-(1994)',-1088),-(4.515798462852263,-u&quot;Schindler's-List-(1993)&quot;,-1171),-(4.512893982808023,-u'Godfather,-The-(1972)',-1047)]">&#182;</a></h4>
</div>
</div>
</div>
<div class="cell border-box-sizing code_cell rendered">
<div class="input">
<div class="prompt input_prompt">In&nbsp;[&nbsp;]:</div>
<div class="inner_cell">
    <div class="input_area">
<div class=" highlight hl-ipython3"><pre><span class="c"># TODO: Replace &lt;FILL IN&gt; with appropriate code</span>

<span class="c"># Apply an RDD transformation to `movieNameWithAvgRatingsRDD` to limit the results to movies with</span>
<span class="c"># ratings from more than 500 people. We then use the `sortFunction()` helper function to sort by the</span>
<span class="c"># average rating to get the movies in order of their rating (highest rating first)</span>
<span class="n">movieLimitedAndSortedByRatingRDD</span> <span class="o">=</span> <span class="p">(</span><span class="n">movieNameWithAvgRatingsRDD</span>
                                    <span class="o">.&lt;</span><span class="n">FILL</span> <span class="n">IN</span><span class="o">&gt;</span>
                                    <span class="o">.</span><span class="n">sortBy</span><span class="p">(</span><span class="n">sortFunction</span><span class="p">,</span> <span class="k">False</span><span class="p">))</span>
<span class="nb">print</span> <span class="s">&#39;Movies with highest ratings: %s&#39;</span> <span class="o">%</span> <span class="n">movieLimitedAndSortedByRatingRDD</span><span class="o">.</span><span class="n">take</span><span class="p">(</span><span class="mi">20</span><span class="p">)</span>
</pre></div>

</div>
</div>
</div>

</div>
<div class="cell border-box-sizing code_cell rendered">
<div class="input">
<div class="prompt input_prompt">In&nbsp;[&nbsp;]:</div>
<div class="inner_cell">
    <div class="input_area">
<div class=" highlight hl-ipython3"><pre><span class="c"># TEST Movies with Highest Average Ratings and more than 500 Reviews (1c)</span>

<span class="n">Test</span><span class="o">.</span><span class="n">assertEquals</span><span class="p">(</span><span class="n">movieLimitedAndSortedByRatingRDD</span><span class="o">.</span><span class="n">count</span><span class="p">(),</span> <span class="mi">194</span><span class="p">,</span>
                <span class="s">&#39;incorrect movieLimitedAndSortedByRatingRDD.count()&#39;</span><span class="p">)</span>
<span class="n">Test</span><span class="o">.</span><span class="n">assertEquals</span><span class="p">(</span><span class="n">movieLimitedAndSortedByRatingRDD</span><span class="o">.</span><span class="n">take</span><span class="p">(</span><span class="mi">20</span><span class="p">),</span>
              <span class="p">[(</span><span class="mf">4.5349264705882355</span><span class="p">,</span> <span class="s">u&#39;Shawshank Redemption, The (1994)&#39;</span><span class="p">,</span> <span class="mi">1088</span><span class="p">),</span>
               <span class="p">(</span><span class="mf">4.515798462852263</span><span class="p">,</span> <span class="s">u&quot;Schindler&#39;s List (1993)&quot;</span><span class="p">,</span> <span class="mi">1171</span><span class="p">),</span>
               <span class="p">(</span><span class="mf">4.512893982808023</span><span class="p">,</span> <span class="s">u&#39;Godfather, The (1972)&#39;</span><span class="p">,</span> <span class="mi">1047</span><span class="p">),</span>
               <span class="p">(</span><span class="mf">4.510460251046025</span><span class="p">,</span> <span class="s">u&#39;Raiders of the Lost Ark (1981)&#39;</span><span class="p">,</span> <span class="mi">1195</span><span class="p">),</span>
               <span class="p">(</span><span class="mf">4.505415162454874</span><span class="p">,</span> <span class="s">u&#39;Usual Suspects, The (1995)&#39;</span><span class="p">,</span> <span class="mi">831</span><span class="p">),</span>
               <span class="p">(</span><span class="mf">4.457256461232604</span><span class="p">,</span> <span class="s">u&#39;Rear Window (1954)&#39;</span><span class="p">,</span> <span class="mi">503</span><span class="p">),</span>
               <span class="p">(</span><span class="mf">4.45468509984639</span><span class="p">,</span> <span class="s">u&#39;Dr. Strangelove or: How I Learned to Stop Worrying and Love the Bomb (1963)&#39;</span><span class="p">,</span> <span class="mi">651</span><span class="p">),</span>
               <span class="p">(</span><span class="mf">4.43953006219765</span><span class="p">,</span> <span class="s">u&#39;Star Wars: Episode IV - A New Hope (1977)&#39;</span><span class="p">,</span> <span class="mi">1447</span><span class="p">),</span>
               <span class="p">(</span><span class="mf">4.4</span><span class="p">,</span> <span class="s">u&#39;Sixth Sense, The (1999)&#39;</span><span class="p">,</span> <span class="mi">1110</span><span class="p">),</span> <span class="p">(</span><span class="mf">4.394285714285714</span><span class="p">,</span> <span class="s">u&#39;North by Northwest (1959)&#39;</span><span class="p">,</span> <span class="mi">700</span><span class="p">),</span>
               <span class="p">(</span><span class="mf">4.379506641366224</span><span class="p">,</span> <span class="s">u&#39;Citizen Kane (1941)&#39;</span><span class="p">,</span> <span class="mi">527</span><span class="p">),</span> <span class="p">(</span><span class="mf">4.375</span><span class="p">,</span> <span class="s">u&#39;Casablanca (1942)&#39;</span><span class="p">,</span> <span class="mi">776</span><span class="p">),</span>
               <span class="p">(</span><span class="mf">4.363975155279503</span><span class="p">,</span> <span class="s">u&#39;Godfather: Part II, The (1974)&#39;</span><span class="p">,</span> <span class="mi">805</span><span class="p">),</span>
               <span class="p">(</span><span class="mf">4.358816276202219</span><span class="p">,</span> <span class="s">u&quot;One Flew Over the Cuckoo&#39;s Nest (1975)&quot;</span><span class="p">,</span> <span class="mi">811</span><span class="p">),</span>
               <span class="p">(</span><span class="mf">4.358173076923077</span><span class="p">,</span> <span class="s">u&#39;Silence of the Lambs, The (1991)&#39;</span><span class="p">,</span> <span class="mi">1248</span><span class="p">),</span>
               <span class="p">(</span><span class="mf">4.335826477187734</span><span class="p">,</span> <span class="s">u&#39;Saving Private Ryan (1998)&#39;</span><span class="p">,</span> <span class="mi">1337</span><span class="p">),</span>
               <span class="p">(</span><span class="mf">4.326241134751773</span><span class="p">,</span> <span class="s">u&#39;Chinatown (1974)&#39;</span><span class="p">,</span> <span class="mi">564</span><span class="p">),</span>
               <span class="p">(</span><span class="mf">4.325383304940375</span><span class="p">,</span> <span class="s">u&#39;Life Is Beautiful (La Vita </span><span class="se">\ufffd</span><span class="s"> bella) (1997)&#39;</span><span class="p">,</span> <span class="mi">587</span><span class="p">),</span>
               <span class="p">(</span><span class="mf">4.324110671936759</span><span class="p">,</span> <span class="s">u&#39;Monty Python and the Holy Grail (1974)&#39;</span><span class="p">,</span> <span class="mi">759</span><span class="p">),</span>
               <span class="p">(</span><span class="mf">4.3096</span><span class="p">,</span> <span class="s">u&#39;Matrix, The (1999)&#39;</span><span class="p">,</span> <span class="mi">1250</span><span class="p">)],</span> <span class="s">&#39;incorrect sortedByRatingRDD.take(20)&#39;</span><span class="p">)</span>
</pre></div>

</div>
</div>
</div>

</div>
<div class="cell border-box-sizing text_cell rendered">
<div class="prompt input_prompt">
</div>
<div class="inner_cell">
<div class="text_cell_render border-box-sizing rendered_html">
<h4 id="Using-a-threshold-on-the-number-of-reviews-is-one-way-to-improve-the-recommendations,-but-there-are-many-other-good-ways-to-improve-quality.-For-example,-you-could-weight-ratings-by-the-number-of-ratings.">Using a threshold on the number of reviews is one way to improve the recommendations, but there are many other good ways to improve quality. For example, you could weight ratings by the number of ratings.<a class="anchor-link" href="#Using-a-threshold-on-the-number-of-reviews-is-one-way-to-improve-the-recommendations,-but-there-are-many-other-good-ways-to-improve-quality.-For-example,-you-could-weight-ratings-by-the-number-of-ratings.">&#182;</a></h4>
</div>
</div>
</div>
<div class="cell border-box-sizing text_cell rendered">
<div class="prompt input_prompt">
</div>
<div class="inner_cell">
<div class="text_cell_render border-box-sizing rendered_html">
<h2 id="Part-2:-Collaborative-Filtering"><strong>Part 2: Collaborative Filtering</strong><a class="anchor-link" href="#Part-2:-Collaborative-Filtering">&#182;</a></h2><h4 id="In-this-course,-you-have-learned-about-many-of-the-basic-transformations-and-actions-that-Spark-allows-us-to-apply-to-distributed-datasets.--Spark-also-exposes-some-higher-level-functionality;-in-particular,-Machine-Learning-using-a-component-of-Spark-called-MLlib.--In-this-part,-you-will-learn-how-to-use-MLlib-to-make-personalized-movie-recommendations-using-the-movie-data-we-have-been-analyzing.">In this course, you have learned about many of the basic transformations and actions that Spark allows us to apply to distributed datasets.  Spark also exposes some higher level functionality; in particular, Machine Learning using a component of Spark called <a href="https://spark.apache.org/mllib/">MLlib</a>.  In this part, you will learn how to use MLlib to make personalized movie recommendations using the movie data we have been analyzing.<a class="anchor-link" href="#In-this-course,-you-have-learned-about-many-of-the-basic-transformations-and-actions-that-Spark-allows-us-to-apply-to-distributed-datasets.--Spark-also-exposes-some-higher-level-functionality;-in-particular,-Machine-Learning-using-a-component-of-Spark-called-MLlib.--In-this-part,-you-will-learn-how-to-use-MLlib-to-make-personalized-movie-recommendations-using-the-movie-data-we-have-been-analyzing.">&#182;</a></h4><h4 id="We-are-going-to-use-a-technique-called-collaborative-filtering.-Collaborative-filtering-is-a-method-of-making-automatic-predictions-(filtering)-about-the-interests-of-a-user-by-collecting-preferences-or-taste-information-from-many-users-(collaborating).-The-underlying-assumption-of-the-collaborative-filtering-approach-is-that-if-a-person-A-has-the-same-opinion-as-a-person-B-on-an-issue,-A-is-more-likely-to-have-B's-opinion-on-a-different-issue-x-than-to-have-the-opinion-on-x-of-a-person-chosen-randomly.-You-can-read-more-about-collaborative-filtering-here.">We are going to use a technique called <a href="https://en.wikipedia.org/?title=Collaborative_filtering">collaborative filtering</a>. Collaborative filtering is a method of making automatic predictions (filtering) about the interests of a user by collecting preferences or taste information from many users (collaborating). The underlying assumption of the collaborative filtering approach is that if a person A has the same opinion as a person B on an issue, A is more likely to have B's opinion on a different issue x than to have the opinion on x of a person chosen randomly. You can read more about collaborative filtering <a href="http://recommender-systems.org/collaborative-filtering/">here</a>.<a class="anchor-link" href="#We-are-going-to-use-a-technique-called-collaborative-filtering.-Collaborative-filtering-is-a-method-of-making-automatic-predictions-(filtering)-about-the-interests-of-a-user-by-collecting-preferences-or-taste-information-from-many-users-(collaborating).-The-underlying-assumption-of-the-collaborative-filtering-approach-is-that-if-a-person-A-has-the-same-opinion-as-a-person-B-on-an-issue,-A-is-more-likely-to-have-B's-opinion-on-a-different-issue-x-than-to-have-the-opinion-on-x-of-a-person-chosen-randomly.-You-can-read-more-about-collaborative-filtering-here.">&#182;</a></h4><h4 id="The-image-below-(from-Wikipedia)-shows-an-example-of-predicting-of-the-user's-rating-using-collaborative-filtering.-At-first,-people-rate-different-items-(like-videos,-images,-games).-After-that,-the-system-is-making-predictions-about-a-user's-rating-for-an-item,-which-the-user-has-not-rated-yet.-These-predictions-are-built-upon-the-existing-ratings-of-other-users,-who-have-similar-ratings-with-the-active-user.-For-instance,-in-the-image-below-the-system-has-made-a-prediction,-that-the-active-user-will-not-like-the-video.">The image below (from <a href="https://en.wikipedia.org/?title=Collaborative_filtering">Wikipedia</a>) shows an example of predicting of the user's rating using collaborative filtering. At first, people rate different items (like videos, images, games). After that, the system is making predictions about a user's rating for an item, which the user has not rated yet. These predictions are built upon the existing ratings of other users, who have similar ratings with the active user. For instance, in the image below the system has made a prediction, that the active user will not like the video.<a class="anchor-link" href="#The-image-below-(from-Wikipedia)-shows-an-example-of-predicting-of-the-user's-rating-using-collaborative-filtering.-At-first,-people-rate-different-items-(like-videos,-images,-games).-After-that,-the-system-is-making-predictions-about-a-user's-rating-for-an-item,-which-the-user-has-not-rated-yet.-These-predictions-are-built-upon-the-existing-ratings-of-other-users,-who-have-similar-ratings-with-the-active-user.-For-instance,-in-the-image-below-the-system-has-made-a-prediction,-that-the-active-user-will-not-like-the-video.">&#182;</a></h4><p><img src="https://courses.edx.org/c4x/BerkeleyX/CS100.1x/asset/Collaborative_filtering.gif" alt="collaborative filtering"></p>

</div>
</div>
</div>
<div class="cell border-box-sizing text_cell rendered">
<div class="prompt input_prompt">
</div>
<div class="inner_cell">
<div class="text_cell_render border-box-sizing rendered_html">
<h4 id="For-movie-recommendations,-we-start-with-a-matrix-whose-entries-are-movie-ratings-by-users-(shown-in-red-in-the-diagram-below).--Each-column-represents-a-user-(shown-in-green)-and-each-row-represents-a-particular-movie-(shown-in-blue).">For movie recommendations, we start with a matrix whose entries are movie ratings by users (shown in red in the diagram below).  Each column represents a user (shown in green) and each row represents a particular movie (shown in blue).<a class="anchor-link" href="#For-movie-recommendations,-we-start-with-a-matrix-whose-entries-are-movie-ratings-by-users-(shown-in-red-in-the-diagram-below).--Each-column-represents-a-user-(shown-in-green)-and-each-row-represents-a-particular-movie-(shown-in-blue).">&#182;</a></h4><h4 id="Since-not-all-users-have-rated-all-movies,-we-do-not-know-all-of-the-entries-in-this-matrix,-which-is-precisely-why-we-need-collaborative-filtering.--For-each-user,-we-have-ratings-for-only-a-subset-of-the-movies.--With-collaborative-filtering,-the-idea-is-to-approximate-the-ratings-matrix-by-factorizing-it-as-the-product-of-two-matrices:-one-that-describes-properties-of-each-user-(shown-in-green),-and-one-that-describes-properties-of-each-movie-(shown-in-blue).">Since not all users have rated all movies, we do not know all of the entries in this matrix, which is precisely why we need collaborative filtering.  For each user, we have ratings for only a subset of the movies.  With collaborative filtering, the idea is to approximate the ratings matrix by factorizing it as the product of two matrices: one that describes properties of each user (shown in green), and one that describes properties of each movie (shown in blue).<a class="anchor-link" href="#Since-not-all-users-have-rated-all-movies,-we-do-not-know-all-of-the-entries-in-this-matrix,-which-is-precisely-why-we-need-collaborative-filtering.--For-each-user,-we-have-ratings-for-only-a-subset-of-the-movies.--With-collaborative-filtering,-the-idea-is-to-approximate-the-ratings-matrix-by-factorizing-it-as-the-product-of-two-matrices:-one-that-describes-properties-of-each-user-(shown-in-green),-and-one-that-describes-properties-of-each-movie-(shown-in-blue).">&#182;</a></h4><p><img src="http://spark-mooc.github.io/web-assets/images/matrix_factorization.png" alt="factorization"></p>
<h4 id="We-want-to-select-these-two-matrices-such-that-the-error-for-the-users/movie-pairs-where-we-know-the-correct-ratings-is-minimized.--The-Alternating-Least-Squares-algorithm-does-this-by-first-randomly-filling-the-users-matrix-with-values-and-then-optimizing-the-value-of-the-movies-such-that-the-error-is-minimized.--Then,-it-holds-the-movies-matrix-constrant-and-optimizes-the-value-of-the-user's-matrix.--This-alternation-between-which-matrix-to-optimize-is-the-reason-for-the-&quot;alternating&quot;-in-the-name.">We want to select these two matrices such that the error for the users/movie pairs where we know the correct ratings is minimized.  The <a href="https://en.wikiversity.org/wiki/Least-Squares_Method">Alternating Least Squares</a> algorithm does this by first randomly filling the users matrix with values and then optimizing the value of the movies such that the error is minimized.  Then, it holds the movies matrix constrant and optimizes the value of the user's matrix.  This alternation between which matrix to optimize is the reason for the "alternating" in the name.<a class="anchor-link" href="#We-want-to-select-these-two-matrices-such-that-the-error-for-the-users/movie-pairs-where-we-know-the-correct-ratings-is-minimized.--The-Alternating-Least-Squares-algorithm-does-this-by-first-randomly-filling-the-users-matrix-with-values-and-then-optimizing-the-value-of-the-movies-such-that-the-error-is-minimized.--Then,-it-holds-the-movies-matrix-constrant-and-optimizes-the-value-of-the-user's-matrix.--This-alternation-between-which-matrix-to-optimize-is-the-reason-for-the-&quot;alternating&quot;-in-the-name.">&#182;</a></h4><h4 id="This-optimization-is-what's-being-shown-on-the-right-in-the-image-above.--Given-a-fixed-set-of-user-factors-(i.e.,-values-in-the-users-matrix),-we-use-the-known-ratings-to-find-the-best-values-for-the-movie-factors-using-the-optimization-written-at-the-bottom-of-the-figure.--Then-we-&quot;alternate&quot;-and-pick-the-best-user-factors-given-fixed-movie-factors.">This optimization is what's being shown on the right in the image above.  Given a fixed set of user factors (i.e., values in the users matrix), we use the known ratings to find the best values for the movie factors using the optimization written at the bottom of the figure.  Then we "alternate" and pick the best user factors given fixed movie factors.<a class="anchor-link" href="#This-optimization-is-what's-being-shown-on-the-right-in-the-image-above.--Given-a-fixed-set-of-user-factors-(i.e.,-values-in-the-users-matrix),-we-use-the-known-ratings-to-find-the-best-values-for-the-movie-factors-using-the-optimization-written-at-the-bottom-of-the-figure.--Then-we-&quot;alternate&quot;-and-pick-the-best-user-factors-given-fixed-movie-factors.">&#182;</a></h4><h4 id="For-a-simple-example-of-what-the-users-and-movies-matrices-might-look-like,-check-out-the-videos-from-Lecture-8-or-the-slides-from-Lecture-8">For a simple example of what the users and movies matrices might look like, check out the <a href="https://courses.edx.org/courses/BerkeleyX/CS100.1x/1T2015/courseware/00eb8b17939b4889a41a6d8d2f35db83/3bd3bba368be4102b40780550d3d8da6/">videos from Lecture 8</a> or the <a href="https://courses.edx.org/c4x/BerkeleyX/CS100.1x/asset/Week4Lec8.pdf">slides from Lecture 8</a><a class="anchor-link" href="#For-a-simple-example-of-what-the-users-and-movies-matrices-might-look-like,-check-out-the-videos-from-Lecture-8-or-the-slides-from-Lecture-8">&#182;</a></h4>
</div>
</div>
</div>
<div class="cell border-box-sizing text_cell rendered">
<div class="prompt input_prompt">
</div>
<div class="inner_cell">
<div class="text_cell_render border-box-sizing rendered_html">
<h4 id="(2a)-Creating-a-Training-Set"><strong>(2a) Creating a Training Set</strong><a class="anchor-link" href="#(2a)-Creating-a-Training-Set">&#182;</a></h4><h4 id="Before-we-jump-into-using-machine-learning,-we-need-to-break-up-the-ratingsRDD-dataset-into-three-pieces:">Before we jump into using machine learning, we need to break up the <code>ratingsRDD</code> dataset into three pieces:<a class="anchor-link" href="#Before-we-jump-into-using-machine-learning,-we-need-to-break-up-the-ratingsRDD-dataset-into-three-pieces:">&#182;</a></h4><ul>
<li>#### A training set (RDD), which we will use to train models</li>
<li>#### A validation set (RDD), which we will use to choose the best model</li>
<li>#### A test set (RDD), which we will use for our experiments
#### To randomly split the dataset into the multiple groups, we can use the pySpark <a href="https://spark.apache.org/docs/latest/api/python/pyspark.html#pyspark.RDD.randomSplit">randomSplit()</a> transformation. <code>randomSplit()</code> takes a set of splits and and seed and returns multiple RDDs.</li>
</ul>

</div>
</div>
</div>
<div class="cell border-box-sizing code_cell rendered">
<div class="input">
<div class="prompt input_prompt">In&nbsp;[&nbsp;]:</div>
<div class="inner_cell">
    <div class="input_area">
<div class=" highlight hl-ipython3"><pre><span class="n">trainingRDD</span><span class="p">,</span> <span class="n">validationRDD</span><span class="p">,</span> <span class="n">testRDD</span> <span class="o">=</span> <span class="n">ratingsRDD</span><span class="o">.</span><span class="n">randomSplit</span><span class="p">([</span><span class="mi">6</span><span class="p">,</span> <span class="mi">2</span><span class="p">,</span> <span class="mi">2</span><span class="p">],</span> <span class="n">seed</span><span class="o">=</span><span class="mi">0</span><span class="n">L</span><span class="p">)</span>

<span class="nb">print</span> <span class="s">&#39;Training: %s, validation: %s, test: %s</span><span class="se">\n</span><span class="s">&#39;</span> <span class="o">%</span> <span class="p">(</span><span class="n">trainingRDD</span><span class="o">.</span><span class="n">count</span><span class="p">(),</span>
                                                    <span class="n">validationRDD</span><span class="o">.</span><span class="n">count</span><span class="p">(),</span>
                                                    <span class="n">testRDD</span><span class="o">.</span><span class="n">count</span><span class="p">())</span>
<span class="nb">print</span> <span class="n">trainingRDD</span><span class="o">.</span><span class="n">take</span><span class="p">(</span><span class="mi">3</span><span class="p">)</span>
<span class="nb">print</span> <span class="n">validationRDD</span><span class="o">.</span><span class="n">take</span><span class="p">(</span><span class="mi">3</span><span class="p">)</span>
<span class="nb">print</span> <span class="n">testRDD</span><span class="o">.</span><span class="n">take</span><span class="p">(</span><span class="mi">3</span><span class="p">)</span>

<span class="k">assert</span> <span class="n">trainingRDD</span><span class="o">.</span><span class="n">count</span><span class="p">()</span> <span class="o">==</span> <span class="mi">292716</span>
<span class="k">assert</span> <span class="n">validationRDD</span><span class="o">.</span><span class="n">count</span><span class="p">()</span> <span class="o">==</span> <span class="mi">96902</span>
<span class="k">assert</span> <span class="n">testRDD</span><span class="o">.</span><span class="n">count</span><span class="p">()</span> <span class="o">==</span> <span class="mi">98032</span>

<span class="k">assert</span> <span class="n">trainingRDD</span><span class="o">.</span><span class="n">filter</span><span class="p">(</span><span class="k">lambda</span> <span class="n">t</span><span class="p">:</span> <span class="n">t</span> <span class="o">==</span> <span class="p">(</span><span class="mi">1</span><span class="p">,</span> <span class="mi">914</span><span class="p">,</span> <span class="mf">3.0</span><span class="p">))</span><span class="o">.</span><span class="n">count</span><span class="p">()</span> <span class="o">==</span> <span class="mi">1</span>
<span class="k">assert</span> <span class="n">trainingRDD</span><span class="o">.</span><span class="n">filter</span><span class="p">(</span><span class="k">lambda</span> <span class="n">t</span><span class="p">:</span> <span class="n">t</span> <span class="o">==</span> <span class="p">(</span><span class="mi">1</span><span class="p">,</span> <span class="mi">2355</span><span class="p">,</span> <span class="mf">5.0</span><span class="p">))</span><span class="o">.</span><span class="n">count</span><span class="p">()</span> <span class="o">==</span> <span class="mi">1</span>
<span class="k">assert</span> <span class="n">trainingRDD</span><span class="o">.</span><span class="n">filter</span><span class="p">(</span><span class="k">lambda</span> <span class="n">t</span><span class="p">:</span> <span class="n">t</span> <span class="o">==</span> <span class="p">(</span><span class="mi">1</span><span class="p">,</span> <span class="mi">595</span><span class="p">,</span> <span class="mf">5.0</span><span class="p">))</span><span class="o">.</span><span class="n">count</span><span class="p">()</span> <span class="o">==</span> <span class="mi">1</span>

<span class="k">assert</span> <span class="n">validationRDD</span><span class="o">.</span><span class="n">filter</span><span class="p">(</span><span class="k">lambda</span> <span class="n">t</span><span class="p">:</span> <span class="n">t</span> <span class="o">==</span> <span class="p">(</span><span class="mi">1</span><span class="p">,</span> <span class="mi">1287</span><span class="p">,</span> <span class="mf">5.0</span><span class="p">))</span><span class="o">.</span><span class="n">count</span><span class="p">()</span> <span class="o">==</span> <span class="mi">1</span>
<span class="k">assert</span> <span class="n">validationRDD</span><span class="o">.</span><span class="n">filter</span><span class="p">(</span><span class="k">lambda</span> <span class="n">t</span><span class="p">:</span> <span class="n">t</span> <span class="o">==</span> <span class="p">(</span><span class="mi">1</span><span class="p">,</span> <span class="mi">594</span><span class="p">,</span> <span class="mf">4.0</span><span class="p">))</span><span class="o">.</span><span class="n">count</span><span class="p">()</span> <span class="o">==</span> <span class="mi">1</span>
<span class="k">assert</span> <span class="n">validationRDD</span><span class="o">.</span><span class="n">filter</span><span class="p">(</span><span class="k">lambda</span> <span class="n">t</span><span class="p">:</span> <span class="n">t</span> <span class="o">==</span> <span class="p">(</span><span class="mi">1</span><span class="p">,</span> <span class="mi">1270</span><span class="p">,</span> <span class="mf">5.0</span><span class="p">))</span><span class="o">.</span><span class="n">count</span><span class="p">()</span> <span class="o">==</span> <span class="mi">1</span>

<span class="k">assert</span> <span class="n">testRDD</span><span class="o">.</span><span class="n">filter</span><span class="p">(</span><span class="k">lambda</span> <span class="n">t</span><span class="p">:</span> <span class="n">t</span> <span class="o">==</span> <span class="p">(</span><span class="mi">1</span><span class="p">,</span> <span class="mi">1193</span><span class="p">,</span> <span class="mf">5.0</span><span class="p">))</span><span class="o">.</span><span class="n">count</span><span class="p">()</span> <span class="o">==</span> <span class="mi">1</span>
<span class="k">assert</span> <span class="n">testRDD</span><span class="o">.</span><span class="n">filter</span><span class="p">(</span><span class="k">lambda</span> <span class="n">t</span><span class="p">:</span> <span class="n">t</span> <span class="o">==</span> <span class="p">(</span><span class="mi">1</span><span class="p">,</span> <span class="mi">2398</span><span class="p">,</span> <span class="mf">4.0</span><span class="p">))</span><span class="o">.</span><span class="n">count</span><span class="p">()</span> <span class="o">==</span> <span class="mi">1</span>
<span class="k">assert</span> <span class="n">testRDD</span><span class="o">.</span><span class="n">filter</span><span class="p">(</span><span class="k">lambda</span> <span class="n">t</span><span class="p">:</span> <span class="n">t</span> <span class="o">==</span> <span class="p">(</span><span class="mi">1</span><span class="p">,</span> <span class="mi">1035</span><span class="p">,</span> <span class="mf">5.0</span><span class="p">))</span><span class="o">.</span><span class="n">count</span><span class="p">()</span> <span class="o">==</span> <span class="mi">1</span>
</pre></div>

</div>
</div>
</div>

</div>
<div class="cell border-box-sizing text_cell rendered">
<div class="prompt input_prompt">
</div>
<div class="inner_cell">
<div class="text_cell_render border-box-sizing rendered_html">
<h4 id="After-splitting-the-dataset,-your-training-set-has-about-293,000-entries-and-the-validation-and-test-sets-each-have-about-97,000-entries-(the-exact-number-of-entries-in-each-dataset-varies-slightly-due-to-the-random-nature-of-the-randomSplit()-transformation.">After splitting the dataset, your training set has about 293,000 entries and the validation and test sets each have about 97,000 entries (the exact number of entries in each dataset varies slightly due to the random nature of the <code>randomSplit()</code> transformation.<a class="anchor-link" href="#After-splitting-the-dataset,-your-training-set-has-about-293,000-entries-and-the-validation-and-test-sets-each-have-about-97,000-entries-(the-exact-number-of-entries-in-each-dataset-varies-slightly-due-to-the-random-nature-of-the-randomSplit()-transformation.">&#182;</a></h4>
</div>
</div>
</div>
<div class="cell border-box-sizing text_cell rendered">
<div class="prompt input_prompt">
</div>
<div class="inner_cell">
<div class="text_cell_render border-box-sizing rendered_html">
<h4 id="(2b)-Root-Mean-Square-Error-(RMSE)"><strong>(2b) Root Mean Square Error (RMSE)</strong><a class="anchor-link" href="#(2b)-Root-Mean-Square-Error-(RMSE)">&#182;</a></h4><h4 id="In-the-next-part,-you-will-generate-a-few-different-models,-and-will-need-a-way-to-decide-which-model-is-best.-We-will-use-the-Root-Mean-Square-Error-(RMSE)-or-Root-Mean-Square-Deviation-(RMSD)-to-compute-the-error-of-each-model.--RMSE-is-a-frequently-used-measure-of-the-differences-between-values-(sample-and-population-values)-predicted-by-a-model-or-an-estimator-and-the-values-actually-observed.-The-RMSD-represents-the-sample-standard-deviation-of-the-differences-between-predicted-values-and-observed-values.-These-individual-differences-are-called-residuals-when-the-calculations-are-performed-over-the-data-sample-that-was-used-for-estimation,-and-are-called-prediction-errors-when-computed-out-of-sample.-The-RMSE-serves-to-aggregate-the-magnitudes-of-the-errors-in-predictions-for-various-times-into-a-single-measure-of-predictive-power.-RMSE-is-a-good-measure-of-accuracy,-but-only-to-compare-forecasting-errors-of-different-models-for-a-particular-variable-and-not-between-variables,-as-it-is-scale-dependent.">In the next part, you will generate a few different models, and will need a way to decide which model is best. We will use the <a href="https://en.wikipedia.org/wiki/Root-mean-square_deviation">Root Mean Square Error</a> (RMSE) or Root Mean Square Deviation (RMSD) to compute the error of each model.  RMSE is a frequently used measure of the differences between values (sample and population values) predicted by a model or an estimator and the values actually observed. The RMSD represents the sample standard deviation of the differences between predicted values and observed values. These individual differences are called residuals when the calculations are performed over the data sample that was used for estimation, and are called prediction errors when computed out-of-sample. The RMSE serves to aggregate the magnitudes of the errors in predictions for various times into a single measure of predictive power. RMSE is a good measure of accuracy, but only to compare forecasting errors of different models for a particular variable and not between variables, as it is scale-dependent.<a class="anchor-link" href="#In-the-next-part,-you-will-generate-a-few-different-models,-and-will-need-a-way-to-decide-which-model-is-best.-We-will-use-the-Root-Mean-Square-Error-(RMSE)-or-Root-Mean-Square-Deviation-(RMSD)-to-compute-the-error-of-each-model.--RMSE-is-a-frequently-used-measure-of-the-differences-between-values-(sample-and-population-values)-predicted-by-a-model-or-an-estimator-and-the-values-actually-observed.-The-RMSD-represents-the-sample-standard-deviation-of-the-differences-between-predicted-values-and-observed-values.-These-individual-differences-are-called-residuals-when-the-calculations-are-performed-over-the-data-sample-that-was-used-for-estimation,-and-are-called-prediction-errors-when-computed-out-of-sample.-The-RMSE-serves-to-aggregate-the-magnitudes-of-the-errors-in-predictions-for-various-times-into-a-single-measure-of-predictive-power.-RMSE-is-a-good-measure-of-accuracy,-but-only-to-compare-forecasting-errors-of-different-models-for-a-particular-variable-and-not-between-variables,-as-it-is-scale-dependent.">&#182;</a></h4><h4 id="The-RMSE-is-the-square-root-of-the-average-value-of-the-square-of-(actual-rating---predicted-rating)-for-all-users-and-movies-for-which-we-have-the-actual-rating.-Versions-of-Spark-MLlib-beginning-with-Spark-1.4-include-a-RegressionMetrics-modiule-that-can-be-used-to-compute-the-RMSE.-However,-since-we-are-using-Spark-1.3.1,-we-will-write-our-own-function.">The RMSE is the square root of the average value of the square of <code>(actual rating - predicted rating)</code> for all users and movies for which we have the actual rating. Versions of Spark MLlib beginning with Spark 1.4 include a <a href="https://spark.apache.org/docs/latest/api/python/pyspark.mllib.html#pyspark.mllib.evaluation.RegressionMetrics">RegressionMetrics</a> modiule that can be used to compute the RMSE. However, since we are using Spark 1.3.1, we will write our own function.<a class="anchor-link" href="#The-RMSE-is-the-square-root-of-the-average-value-of-the-square-of-(actual-rating---predicted-rating)-for-all-users-and-movies-for-which-we-have-the-actual-rating.-Versions-of-Spark-MLlib-beginning-with-Spark-1.4-include-a-RegressionMetrics-modiule-that-can-be-used-to-compute-the-RMSE.-However,-since-we-are-using-Spark-1.3.1,-we-will-write-our-own-function.">&#182;</a></h4><h4 id="Write-a-function-to-compute-the-sum-of-squared-error-given-predictedRDD-and-actualRDD-RDDs.-Both-RDDs-consist-of-tuples-of-the-form-(UserID,-MovieID,-Rating)">Write a function to compute the sum of squared error given <code>predictedRDD</code> and <code>actualRDD</code> RDDs. Both RDDs consist of tuples of the form (UserID, MovieID, Rating)<a class="anchor-link" href="#Write-a-function-to-compute-the-sum-of-squared-error-given-predictedRDD-and-actualRDD-RDDs.-Both-RDDs-consist-of-tuples-of-the-form-(UserID,-MovieID,-Rating)">&#182;</a></h4><h4 id="Given-two-ratings-RDDs,-x-and-y-of-size-n,-we-define-RSME-as-follows:-$-RMSE-=-\sqrt{\frac{\sum_{i-=-1}^{n}-(x_i---y_i)^2}{n}}$">Given two ratings RDDs, <em>x</em> and <em>y</em> of size <em>n</em>, we define RSME as follows: $ RMSE = \sqrt{\frac{\sum_{i = 1}^{n} (x_i - y_i)^2}{n}}$<a class="anchor-link" href="#Given-two-ratings-RDDs,-x-and-y-of-size-n,-we-define-RSME-as-follows:-$-RMSE-=-\sqrt{\frac{\sum_{i-=-1}^{n}-(x_i---y_i)^2}{n}}$">&#182;</a></h4><h4 id="To-calculate-RSME,-the-steps-you-should-perform-are:">To calculate RSME, the steps you should perform are:<a class="anchor-link" href="#To-calculate-RSME,-the-steps-you-should-perform-are:">&#182;</a></h4><ul>
<li>#### Transform <code>predictedRDD</code> into the tuples of the form ((UserID, MovieID), Rating). For example, tuples like <code>[((1, 1), 5), ((1, 2), 3), ((1, 3), 4), ((2, 1), 3), ((2, 2), 2), ((2, 3), 4)]</code>. You can perform this step with a single Spark transformation.</li>
<li>#### Transform <code>actualRDD</code> into the tuples of the form ((UserID, MovieID), Rating). For example, tuples like <code>[((1, 2), 3), ((1, 3), 5), ((2, 1), 5), ((2, 2), 1)]</code>. You can perform this step with a single Spark transformation.</li>
<li>#### Using only RDD transformations (you only need to perform two transformations), compute the squared error for each <em>matching</em> entry (i.e., the same (UserID, MovieID) in each RDD) in the reformatted RDDs - do <em>not</em> use <code>collect()</code> to perform this step. Note that not every (UserID, MovieID) pair will appear in both RDDs - if a pair does not appear in both RDDs, then it does not contribute to the RMSE. You will end up with an RDD with entries of the form $ (x_i - y_i)^2$ You might want to check out Python's <a href="https://docs.python.org/2/library/math.html">math</a> module to see how to compute these values</li>
<li>#### Using an RDD action (but <strong>not</strong> <code>collect()</code>), compute the total squared error: $ SE = \sum_{i = 1}^{n} (x_i - y_i)^2 $</li>
<li>#### Compute <em>n</em> by using an RDD action (but <strong>not</strong> <code>collect()</code>), to count the number of pairs for which you computed the total squared error</li>
<li>#### Using the total squared error and the number of pairs, compute the RSME. Make sure you compute this value as a <a href="https://docs.python.org/2/library/stdtypes.html#numeric-types-int-float-long-complex">float</a>.
#### Note: Your solution must only use transformations and actions on RDDs. Do <em>not</em> call <code>collect()</code> on either RDD.</li>
</ul>

</div>
</div>
</div>
<div class="cell border-box-sizing code_cell rendered">
<div class="input">
<div class="prompt input_prompt">In&nbsp;[&nbsp;]:</div>
<div class="inner_cell">
    <div class="input_area">
<div class=" highlight hl-ipython3"><pre><span class="c"># TODO: Replace &lt;FILL IN&gt; with appropriate code</span>
<span class="kn">import</span> <span class="nn">math</span>

<span class="k">def</span> <span class="nf">computeError</span><span class="p">(</span><span class="n">predictedRDD</span><span class="p">,</span> <span class="n">actualRDD</span><span class="p">):</span>
    <span class="sd">&quot;&quot;&quot; Compute the root mean squared error between predicted and actual</span>
<span class="sd">    Args:</span>
<span class="sd">        predictedRDD: predicted ratings for each movie and each user where each entry is in the form</span>
<span class="sd">                      (UserID, MovieID, Rating)</span>
<span class="sd">        actualRDD: actual ratings where each entry is in the form (UserID, MovieID, Rating)</span>
<span class="sd">    Returns:</span>
<span class="sd">        RSME (float): computed RSME value</span>
<span class="sd">    &quot;&quot;&quot;</span>
    <span class="c"># Transform predictedRDD into the tuples of the form ((UserID, MovieID), Rating)</span>
    <span class="n">predictedReformattedRDD</span> <span class="o">=</span> <span class="n">predictedRDD</span><span class="o">.&lt;</span><span class="n">FILL</span> <span class="n">IN</span><span class="o">&gt;</span>

    <span class="c"># Transform actualRDD into the tuples of the form ((UserID, MovieID), Rating)</span>
    <span class="n">actualReformattedRDD</span> <span class="o">=</span> <span class="n">actualRDD</span><span class="o">.&lt;</span><span class="n">FILL</span> <span class="n">IN</span><span class="o">&gt;</span>

    <span class="c"># Compute the squared error for each matching entry (i.e., the same (User ID, Movie ID) in each</span>
    <span class="c"># RDD) in the reformatted RDDs using RDD transformtions - do not use collect()</span>
    <span class="n">squaredErrorsRDD</span> <span class="o">=</span> <span class="p">(</span><span class="n">predictedReformattedRDD</span>
                        <span class="o">.&lt;</span><span class="n">FILL</span> <span class="n">IN</span><span class="o">&gt;</span><span class="p">)</span>

    <span class="c"># Compute the total squared error - do not use collect()</span>
    <span class="n">totalError</span> <span class="o">=</span> <span class="n">squaredErrorsRDD</span><span class="o">.&lt;</span><span class="n">FILL</span> <span class="n">IN</span><span class="o">&gt;</span>

    <span class="c"># Count the number of entries for which you computed the total squared error</span>
    <span class="n">numRatings</span> <span class="o">=</span> <span class="n">squaredErrorsRDD</span><span class="o">.&lt;</span><span class="n">FILL</span> <span class="n">IN</span><span class="o">&gt;</span>

    <span class="c"># Using the total squared error and the number of entries, compute the RSME</span>
    <span class="k">return</span> <span class="o">&lt;</span><span class="n">FILL</span> <span class="n">IN</span><span class="o">&gt;</span>


<span class="c"># sc.parallelize turns a Python list into a Spark RDD.</span>
<span class="n">testPredicted</span> <span class="o">=</span> <span class="n">sc</span><span class="o">.</span><span class="n">parallelize</span><span class="p">([</span>
    <span class="p">(</span><span class="mi">1</span><span class="p">,</span> <span class="mi">1</span><span class="p">,</span> <span class="mi">5</span><span class="p">),</span>
    <span class="p">(</span><span class="mi">1</span><span class="p">,</span> <span class="mi">2</span><span class="p">,</span> <span class="mi">3</span><span class="p">),</span>
    <span class="p">(</span><span class="mi">1</span><span class="p">,</span> <span class="mi">3</span><span class="p">,</span> <span class="mi">4</span><span class="p">),</span>
    <span class="p">(</span><span class="mi">2</span><span class="p">,</span> <span class="mi">1</span><span class="p">,</span> <span class="mi">3</span><span class="p">),</span>
    <span class="p">(</span><span class="mi">2</span><span class="p">,</span> <span class="mi">2</span><span class="p">,</span> <span class="mi">2</span><span class="p">),</span>
    <span class="p">(</span><span class="mi">2</span><span class="p">,</span> <span class="mi">3</span><span class="p">,</span> <span class="mi">4</span><span class="p">)])</span>
<span class="n">testActual</span> <span class="o">=</span> <span class="n">sc</span><span class="o">.</span><span class="n">parallelize</span><span class="p">([</span>
     <span class="p">(</span><span class="mi">1</span><span class="p">,</span> <span class="mi">2</span><span class="p">,</span> <span class="mi">3</span><span class="p">),</span>
     <span class="p">(</span><span class="mi">1</span><span class="p">,</span> <span class="mi">3</span><span class="p">,</span> <span class="mi">5</span><span class="p">),</span>
     <span class="p">(</span><span class="mi">2</span><span class="p">,</span> <span class="mi">1</span><span class="p">,</span> <span class="mi">5</span><span class="p">),</span>
     <span class="p">(</span><span class="mi">2</span><span class="p">,</span> <span class="mi">2</span><span class="p">,</span> <span class="mi">1</span><span class="p">)])</span>
<span class="n">testPredicted2</span> <span class="o">=</span> <span class="n">sc</span><span class="o">.</span><span class="n">parallelize</span><span class="p">([</span>
     <span class="p">(</span><span class="mi">2</span><span class="p">,</span> <span class="mi">2</span><span class="p">,</span> <span class="mi">5</span><span class="p">),</span>
     <span class="p">(</span><span class="mi">1</span><span class="p">,</span> <span class="mi">2</span><span class="p">,</span> <span class="mi">5</span><span class="p">)])</span>
<span class="n">testError</span> <span class="o">=</span> <span class="n">computeError</span><span class="p">(</span><span class="n">testPredicted</span><span class="p">,</span> <span class="n">testActual</span><span class="p">)</span>
<span class="nb">print</span> <span class="s">&#39;Error for test dataset (should be 1.22474487139): %s&#39;</span> <span class="o">%</span> <span class="n">testError</span>

<span class="n">testError2</span> <span class="o">=</span> <span class="n">computeError</span><span class="p">(</span><span class="n">testPredicted2</span><span class="p">,</span> <span class="n">testActual</span><span class="p">)</span>
<span class="nb">print</span> <span class="s">&#39;Error for test dataset2 (should be 3.16227766017): %s&#39;</span> <span class="o">%</span> <span class="n">testError2</span>

<span class="n">testError3</span> <span class="o">=</span> <span class="n">computeError</span><span class="p">(</span><span class="n">testActual</span><span class="p">,</span> <span class="n">testActual</span><span class="p">)</span>
<span class="nb">print</span> <span class="s">&#39;Error for testActual dataset (should be 0.0): %s&#39;</span> <span class="o">%</span> <span class="n">testError3</span>
</pre></div>

</div>
</div>
</div>

</div>
<div class="cell border-box-sizing code_cell rendered">
<div class="input">
<div class="prompt input_prompt">In&nbsp;[&nbsp;]:</div>
<div class="inner_cell">
    <div class="input_area">
<div class=" highlight hl-ipython3"><pre><span class="c"># TEST Root Mean Square Error (2b)</span>
<span class="n">Test</span><span class="o">.</span><span class="n">assertTrue</span><span class="p">(</span><span class="nb">abs</span><span class="p">(</span><span class="n">testError</span> <span class="o">-</span> <span class="mf">1.22474487139</span><span class="p">)</span> <span class="o">&lt;</span> <span class="mf">0.00000001</span><span class="p">,</span>
                <span class="s">&#39;incorrect testError (expected 1.22474487139)&#39;</span><span class="p">)</span>
<span class="n">Test</span><span class="o">.</span><span class="n">assertTrue</span><span class="p">(</span><span class="nb">abs</span><span class="p">(</span><span class="n">testError2</span> <span class="o">-</span> <span class="mf">3.16227766017</span><span class="p">)</span> <span class="o">&lt;</span> <span class="mf">0.00000001</span><span class="p">,</span>
                <span class="s">&#39;incorrect testError2 result (expected 3.16227766017)&#39;</span><span class="p">)</span>
<span class="n">Test</span><span class="o">.</span><span class="n">assertTrue</span><span class="p">(</span><span class="nb">abs</span><span class="p">(</span><span class="n">testError3</span> <span class="o">-</span> <span class="mf">0.0</span><span class="p">)</span> <span class="o">&lt;</span> <span class="mf">0.00000001</span><span class="p">,</span>
                <span class="s">&#39;incorrect testActual result (expected 0.0)&#39;</span><span class="p">)</span>
</pre></div>

</div>
</div>
</div>

</div>
<div class="cell border-box-sizing text_cell rendered">
<div class="prompt input_prompt">
</div>
<div class="inner_cell">
<div class="text_cell_render border-box-sizing rendered_html">
<h4 id="(2c)-Using-ALS.train()"><strong>(2c) Using ALS.train()</strong><a class="anchor-link" href="#(2c)-Using-ALS.train()">&#182;</a></h4><h4 id="In-this-part,-we-will-use-the-MLlib-implementation-of-Alternating-Least-Squares,-ALS.train().-ALS-takes-a-training-dataset-(RDD)-and-several-parameters-that-control-the-model-creation-process.-To-determine-the-best-values-for-the-parameters,-we-will-use-ALS-to-train-several-models,-and-then-we-will-select-the-best-model-and-use-the-parameters-from-that-model-in-the-rest-of-this-lab-exercise.">In this part, we will use the MLlib implementation of Alternating Least Squares, <a href="https://spark.apache.org/docs/latest/api/python/pyspark.mllib.html#pyspark.mllib.recommendation.ALS">ALS.train()</a>. ALS takes a training dataset (RDD) and several parameters that control the model creation process. To determine the best values for the parameters, we will use ALS to train several models, and then we will select the best model and use the parameters from that model in the rest of this lab exercise.<a class="anchor-link" href="#In-this-part,-we-will-use-the-MLlib-implementation-of-Alternating-Least-Squares,-ALS.train().-ALS-takes-a-training-dataset-(RDD)-and-several-parameters-that-control-the-model-creation-process.-To-determine-the-best-values-for-the-parameters,-we-will-use-ALS-to-train-several-models,-and-then-we-will-select-the-best-model-and-use-the-parameters-from-that-model-in-the-rest-of-this-lab-exercise.">&#182;</a></h4><h4 id="The-process-we-will-use-for-determining-the-best-model-is-as-follows:">The process we will use for determining the best model is as follows:<a class="anchor-link" href="#The-process-we-will-use-for-determining-the-best-model-is-as-follows:">&#182;</a></h4><ul>
<li>#### Pick a set of model parameters. The most important parameter to <code>ALS.train()</code> is the <em>rank</em>, which is the number of rows in the Users matrix (green in the diagram above) or the number of columns in the Movies matrix (blue in the diagram above). (In general, a lower rank will mean higher error on the training dataset, but a high rank may lead to <a href="https://en.wikipedia.org/wiki/Overfitting">overfitting</a>.)  We will train models with ranks of 4, 8, and 12 using the <code>trainingRDD</code> dataset.</li>
<li>#### Create a model using <code>ALS.train(trainingRDD, rank, seed=seed, iterations=iterations, lambda_=regularizationParameter)</code> with three parameters: an RDD consisting of tuples of the form (UserID, MovieID, rating) used to train the model, an integer rank (4, 8, or 12), a number of iterations to execute (we will use 5 for the <code>iterations</code> parameter), and a regularization coefficient (we will use 0.1 for the <code>regularizationParameter</code>).</li>
<li>#### For the prediction step, create an input RDD, <code>validationForPredictRDD</code>, consisting of (UserID, MovieID) pairs that you extract from <code>validationRDD</code>. You will end up with an RDD of the form: <code>[(1, 1287), (1, 594), (1, 1270)]</code></li>
<li>#### Using the model and <code>validationForPredictRDD</code>, we can predict rating values by calling <a href="https://spark.apache.org/docs/latest/api/python/pyspark.mllib.html#pyspark.mllib.recommendation.MatrixFactorizationModel.predictAll">model.predictAll()</a> with the <code>validationForPredictRDD</code> dataset, where <code>model</code> is the model we generated with ALS.train().  <code>predictAll</code> accepts an RDD with each entry in the format (userID, movieID) and outputs an RDD with each entry in the format (userID, movieID, rating).</li>
<li>#### Evaluate the quality of the model by using the <code>computeError()</code> function you wrote in part (2b) to compute the error between the predicted ratings and the actual ratings in <code>validationRDD</code>.
####  Which rank produces the best model, based on the RMSE with the <code>validationRDD</code> dataset?
#### Note: It is likely that this operation will take a noticeable amount of time (around a minute in our VM); you can observe its progress on the <a href="http://localhost:4040">Spark Web UI</a>. Probably most of the time will be spent running your <code>computeError()</code> function, since, unlike the Spark ALS implementation (and the Spark 1.4 <a href="https://spark.apache.org/docs/latest/api/python/pyspark.mllib.html#pyspark.mllib.evaluation.RegressionMetrics">RegressionMetrics</a> module), this does not use a fast linear algebra library and needs to run some Python code for all 100k entries.</li>
</ul>

</div>
</div>
</div>
<div class="cell border-box-sizing code_cell rendered">
<div class="input">
<div class="prompt input_prompt">In&nbsp;[&nbsp;]:</div>
<div class="inner_cell">
    <div class="input_area">
<div class=" highlight hl-ipython3"><pre><span class="c"># TODO: Replace &lt;FILL IN&gt; with appropriate code</span>
<span class="kn">from</span> <span class="nn">pyspark.mllib.recommendation</span> <span class="k">import</span> <span class="n">ALS</span>

<span class="n">validationForPredictRDD</span> <span class="o">=</span> <span class="n">validationRDD</span><span class="o">.&lt;</span><span class="n">FILL</span> <span class="n">IN</span><span class="o">&gt;</span>

<span class="n">seed</span> <span class="o">=</span> <span class="mi">5</span><span class="n">L</span>
<span class="n">iterations</span> <span class="o">=</span> <span class="mi">5</span>
<span class="n">regularizationParameter</span> <span class="o">=</span> <span class="mf">0.1</span>
<span class="n">ranks</span> <span class="o">=</span> <span class="p">[</span><span class="mi">4</span><span class="p">,</span> <span class="mi">8</span><span class="p">,</span> <span class="mi">12</span><span class="p">]</span>
<span class="n">errors</span> <span class="o">=</span> <span class="p">[</span><span class="mi">0</span><span class="p">,</span> <span class="mi">0</span><span class="p">,</span> <span class="mi">0</span><span class="p">]</span>
<span class="n">err</span> <span class="o">=</span> <span class="mi">0</span>
<span class="n">tolerance</span> <span class="o">=</span> <span class="mf">0.03</span>

<span class="n">minError</span> <span class="o">=</span> <span class="nb">float</span><span class="p">(</span><span class="s">&#39;inf&#39;</span><span class="p">)</span>
<span class="n">bestRank</span> <span class="o">=</span> <span class="o">-</span><span class="mi">1</span>
<span class="n">bestIteration</span> <span class="o">=</span> <span class="o">-</span><span class="mi">1</span>
<span class="k">for</span> <span class="n">rank</span> <span class="ow">in</span> <span class="n">ranks</span><span class="p">:</span>
    <span class="n">model</span> <span class="o">=</span> <span class="n">ALS</span><span class="o">.</span><span class="n">train</span><span class="p">(</span><span class="n">trainingRDD</span><span class="p">,</span> <span class="n">rank</span><span class="p">,</span> <span class="n">seed</span><span class="o">=</span><span class="n">seed</span><span class="p">,</span> <span class="n">iterations</span><span class="o">=</span><span class="n">iterations</span><span class="p">,</span>
                      <span class="n">lambda_</span><span class="o">=</span><span class="n">regularizationParameter</span><span class="p">)</span>
    <span class="n">predictedRatingsRDD</span> <span class="o">=</span> <span class="n">model</span><span class="o">.</span><span class="n">predictAll</span><span class="p">(</span><span class="n">validationForPredictRDD</span><span class="p">)</span>
    <span class="n">error</span> <span class="o">=</span> <span class="n">computeError</span><span class="p">(</span><span class="n">predictedRatingsRDD</span><span class="p">,</span> <span class="n">validationRDD</span><span class="p">)</span>
    <span class="n">errors</span><span class="p">[</span><span class="n">err</span><span class="p">]</span> <span class="o">=</span> <span class="n">error</span>
    <span class="n">err</span> <span class="o">+=</span> <span class="mi">1</span>
    <span class="nb">print</span> <span class="s">&#39;For rank %s the RMSE is %s&#39;</span> <span class="o">%</span> <span class="p">(</span><span class="n">rank</span><span class="p">,</span> <span class="n">error</span><span class="p">)</span>
    <span class="k">if</span> <span class="n">error</span> <span class="o">&lt;</span> <span class="n">minError</span><span class="p">:</span>
        <span class="n">minError</span> <span class="o">=</span> <span class="n">error</span>
        <span class="n">bestRank</span> <span class="o">=</span> <span class="n">rank</span>

<span class="nb">print</span> <span class="s">&#39;The best model was trained with rank %s&#39;</span> <span class="o">%</span> <span class="n">bestRank</span>
</pre></div>

</div>
</div>
</div>

</div>
<div class="cell border-box-sizing code_cell rendered">
<div class="input">
<div class="prompt input_prompt">In&nbsp;[&nbsp;]:</div>
<div class="inner_cell">
    <div class="input_area">
<div class=" highlight hl-ipython3"><pre><span class="c"># TEST Using ALS.train (2c)</span>
<span class="n">Test</span><span class="o">.</span><span class="n">assertEquals</span><span class="p">(</span><span class="n">trainingRDD</span><span class="o">.</span><span class="n">getNumPartitions</span><span class="p">(),</span> <span class="mi">2</span><span class="p">,</span>
                  <span class="s">&#39;incorrect number of partitions for trainingRDD (expected 2)&#39;</span><span class="p">)</span>
<span class="n">Test</span><span class="o">.</span><span class="n">assertEquals</span><span class="p">(</span><span class="n">validationForPredictRDD</span><span class="o">.</span><span class="n">count</span><span class="p">(),</span> <span class="mi">96902</span><span class="p">,</span>
                  <span class="s">&#39;incorrect size for validationForPredictRDD (expected 96902)&#39;</span><span class="p">)</span>
<span class="n">Test</span><span class="o">.</span><span class="n">assertEquals</span><span class="p">(</span><span class="n">validationForPredictRDD</span><span class="o">.</span><span class="n">filter</span><span class="p">(</span><span class="k">lambda</span> <span class="n">t</span><span class="p">:</span> <span class="n">t</span> <span class="o">==</span> <span class="p">(</span><span class="mi">1</span><span class="p">,</span> <span class="mi">1907</span><span class="p">))</span><span class="o">.</span><span class="n">count</span><span class="p">(),</span> <span class="mi">1</span><span class="p">,</span>
                  <span class="s">&#39;incorrect content for validationForPredictRDD&#39;</span><span class="p">)</span>
<span class="n">Test</span><span class="o">.</span><span class="n">assertTrue</span><span class="p">(</span><span class="nb">abs</span><span class="p">(</span><span class="n">errors</span><span class="p">[</span><span class="mi">0</span><span class="p">]</span> <span class="o">-</span> <span class="mf">0.883710109497</span><span class="p">)</span> <span class="o">&lt;</span> <span class="n">tolerance</span><span class="p">,</span> <span class="s">&#39;incorrect errors[0]&#39;</span><span class="p">)</span>
<span class="n">Test</span><span class="o">.</span><span class="n">assertTrue</span><span class="p">(</span><span class="nb">abs</span><span class="p">(</span><span class="n">errors</span><span class="p">[</span><span class="mi">1</span><span class="p">]</span> <span class="o">-</span> <span class="mf">0.878486305621</span><span class="p">)</span> <span class="o">&lt;</span> <span class="n">tolerance</span><span class="p">,</span> <span class="s">&#39;incorrect errors[1]&#39;</span><span class="p">)</span>
<span class="n">Test</span><span class="o">.</span><span class="n">assertTrue</span><span class="p">(</span><span class="nb">abs</span><span class="p">(</span><span class="n">errors</span><span class="p">[</span><span class="mi">2</span><span class="p">]</span> <span class="o">-</span> <span class="mf">0.876832795659</span><span class="p">)</span> <span class="o">&lt;</span> <span class="n">tolerance</span><span class="p">,</span> <span class="s">&#39;incorrect errors[2]&#39;</span><span class="p">)</span>
</pre></div>

</div>
</div>
</div>

</div>
<div class="cell border-box-sizing text_cell rendered">
<div class="prompt input_prompt">
</div>
<div class="inner_cell">
<div class="text_cell_render border-box-sizing rendered_html">
<h4 id="(2d)-Testing-Your-Model"><strong>(2d) Testing Your Model</strong><a class="anchor-link" href="#(2d)-Testing-Your-Model">&#182;</a></h4><h4 id="So-far,-we-used-the-trainingRDD-and-validationRDD-datasets-to-select-the-best-model.--Since-we-used-these-two-datasets-to-determine-what-model-is-best,-we-cannot-use-them-to-test-how-good-the-model-is---otherwise-we-would-be-very-vulnerable-to-overfitting.--To-decide-how-good-our-model-is,-we-need-to-use-the-testRDD-dataset.--We-will-use-the-bestRank-you-determined-in-part-(2c)-to-create-a-model-for-predicting-the-ratings-for-the-test-dataset-and-then-we-will-compute-the-RMSE.">So far, we used the <code>trainingRDD</code> and <code>validationRDD</code> datasets to select the best model.  Since we used these two datasets to determine what model is best, we cannot use them to test how good the model is - otherwise we would be very vulnerable to <a href="https://en.wikipedia.org/wiki/Overfitting">overfitting</a>.  To decide how good our model is, we need to use the <code>testRDD</code> dataset.  We will use the <code>bestRank</code> you determined in part (2c) to create a model for predicting the ratings for the test dataset and then we will compute the RMSE.<a class="anchor-link" href="#So-far,-we-used-the-trainingRDD-and-validationRDD-datasets-to-select-the-best-model.--Since-we-used-these-two-datasets-to-determine-what-model-is-best,-we-cannot-use-them-to-test-how-good-the-model-is---otherwise-we-would-be-very-vulnerable-to-overfitting.--To-decide-how-good-our-model-is,-we-need-to-use-the-testRDD-dataset.--We-will-use-the-bestRank-you-determined-in-part-(2c)-to-create-a-model-for-predicting-the-ratings-for-the-test-dataset-and-then-we-will-compute-the-RMSE.">&#182;</a></h4><h4 id="The-steps-you-should-perform-are:">The steps you should perform are:<a class="anchor-link" href="#The-steps-you-should-perform-are:">&#182;</a></h4><ul>
<li>#### Train a model, using the <code>trainingRDD</code>, <code>bestRank</code> from part (2c), and the parameters you used in in part (2c): <code>seed=seed</code>, <code>iterations=iterations</code>, and <code>lambda_=regularizationParameter</code> - make sure you include <strong>all</strong> of the parameters.</li>
<li>#### For the prediction step, create an input RDD, <code>testForPredictingRDD</code>, consisting of (UserID, MovieID) pairs that you extract from <code>testRDD</code>. You will end up with an RDD of the form: <code>[(1, 1287), (1, 594), (1, 1270)]</code></li>
<li>#### Use <a href="https://spark.apache.org/docs/latest/api/python/pyspark.mllib.html#pyspark.mllib.recommendation.MatrixFactorizationModel.predictAll">myModel.predictAll()</a> to predict rating values for the test dataset.</li>
<li>#### For validation, use the <code>testRDD</code>and your <code>computeError</code> function to compute the RMSE between <code>testRDD</code> and the <code>predictedTestRDD</code> from the model.</li>
<li>#### Evaluate the quality of the model by using the <code>computeError()</code> function you wrote in part (2b) to compute the error between the predicted ratings and the actual ratings in <code>testRDD</code>.</li>
</ul>

</div>
</div>
</div>
<div class="cell border-box-sizing code_cell rendered">
<div class="input">
<div class="prompt input_prompt">In&nbsp;[&nbsp;]:</div>
<div class="inner_cell">
    <div class="input_area">
<div class=" highlight hl-ipython3"><pre><span class="c"># TODO: Replace &lt;FILL IN&gt; with appropriate code</span>
<span class="n">myModel</span> <span class="o">=</span> <span class="o">&lt;</span><span class="n">FILL</span> <span class="n">IN</span><span class="o">&gt;</span>
<span class="n">testForPredictingRDD</span> <span class="o">=</span> <span class="n">testRDD</span><span class="o">.&lt;</span><span class="n">FILL</span> <span class="n">IN</span><span class="o">&gt;</span>
<span class="n">predictedTestRDD</span> <span class="o">=</span> <span class="n">myModel</span><span class="o">.&lt;</span><span class="n">FILL</span> <span class="n">IN</span><span class="o">&gt;</span>

<span class="n">testRMSE</span> <span class="o">=</span> <span class="n">computeError</span><span class="p">(</span><span class="n">testRDD</span><span class="p">,</span> <span class="n">predictedTestRDD</span><span class="p">)</span>

<span class="nb">print</span> <span class="s">&#39;The model had a RMSE on the test set of %s&#39;</span> <span class="o">%</span> <span class="n">testRMSE</span>
</pre></div>

</div>
</div>
</div>

</div>
<div class="cell border-box-sizing code_cell rendered">
<div class="input">
<div class="prompt input_prompt">In&nbsp;[&nbsp;]:</div>
<div class="inner_cell">
    <div class="input_area">
<div class=" highlight hl-ipython3"><pre><span class="c"># TEST Testing Your Model (2d)</span>
<span class="n">Test</span><span class="o">.</span><span class="n">assertTrue</span><span class="p">(</span><span class="nb">abs</span><span class="p">(</span><span class="n">testRMSE</span> <span class="o">-</span> <span class="mf">0.87809838344</span><span class="p">)</span> <span class="o">&lt;</span> <span class="n">tolerance</span><span class="p">,</span> <span class="s">&#39;incorrect testRMSE&#39;</span><span class="p">)</span>
</pre></div>

</div>
</div>
</div>

</div>
<div class="cell border-box-sizing text_cell rendered">
<div class="prompt input_prompt">
</div>
<div class="inner_cell">
<div class="text_cell_render border-box-sizing rendered_html">
<h4 id="(2e)-Comparing-Your-Model"><strong>(2e) Comparing Your Model</strong><a class="anchor-link" href="#(2e)-Comparing-Your-Model">&#182;</a></h4><h4 id="Looking-at-the-RMSE-for-the-results-predicted-by-the-model-versus-the-values-in-the-test-set-is-one-way-to-evalute-the-quality-of-our-model.-Another-way-to-evaluate-the-model-is-to-evaluate-the-error-from-a-test-set-where-every-rating-is-the-average-rating-for-the-training-set.">Looking at the RMSE for the results predicted by the model versus the values in the test set is one way to evalute the quality of our model. Another way to evaluate the model is to evaluate the error from a test set where every rating is the average rating for the training set.<a class="anchor-link" href="#Looking-at-the-RMSE-for-the-results-predicted-by-the-model-versus-the-values-in-the-test-set-is-one-way-to-evalute-the-quality-of-our-model.-Another-way-to-evaluate-the-model-is-to-evaluate-the-error-from-a-test-set-where-every-rating-is-the-average-rating-for-the-training-set.">&#182;</a></h4><h4 id="The-steps-you-should-perform-are:">The steps you should perform are:<a class="anchor-link" href="#The-steps-you-should-perform-are:">&#182;</a></h4><ul>
<li>#### Use the <code>trainingRDD</code> to compute the average rating across all movies in that training dataset.</li>
<li>#### Use the average rating that you just determined and the <code>testRDD</code> to create an RDD with entries of the form (userID, movieID, average rating).</li>
<li>#### Use your <code>computeError</code> function to compute the RMSE between the <code>testRDD</code> validation RDD that you just created and the <code>testForAvgRDD</code>.</li>
</ul>

</div>
</div>
</div>
<div class="cell border-box-sizing code_cell rendered">
<div class="input">
<div class="prompt input_prompt">In&nbsp;[&nbsp;]:</div>
<div class="inner_cell">
    <div class="input_area">
<div class=" highlight hl-ipython3"><pre><span class="c"># TODO: Replace &lt;FILL IN&gt; with appropriate code</span>

<span class="n">trainingAvgRating</span> <span class="o">=</span> <span class="n">trainingRDD</span><span class="o">.&lt;</span><span class="n">FILL</span> <span class="n">IN</span><span class="o">&gt;</span>
<span class="nb">print</span> <span class="s">&#39;The average rating for movies in the training set is %s&#39;</span> <span class="o">%</span> <span class="n">trainingAvgRating</span>

<span class="n">testForAvgRDD</span> <span class="o">=</span> <span class="n">testRDD</span><span class="o">.&lt;</span><span class="n">FILL</span> <span class="n">IN</span><span class="o">&gt;</span>
<span class="n">testAvgRMSE</span> <span class="o">=</span> <span class="n">computeError</span><span class="p">(</span><span class="n">testRDD</span><span class="p">,</span> <span class="n">testForAvgRDD</span><span class="p">)</span>
<span class="nb">print</span> <span class="s">&#39;The RMSE on the average set is %s&#39;</span> <span class="o">%</span> <span class="n">testAvgRMSE</span>
</pre></div>

</div>
</div>
</div>

</div>
<div class="cell border-box-sizing code_cell rendered">
<div class="input">
<div class="prompt input_prompt">In&nbsp;[&nbsp;]:</div>
<div class="inner_cell">
    <div class="input_area">
<div class=" highlight hl-ipython3"><pre><span class="c"># TEST Comparing Your Model (2e)</span>
<span class="n">Test</span><span class="o">.</span><span class="n">assertTrue</span><span class="p">(</span><span class="nb">abs</span><span class="p">(</span><span class="n">trainingAvgRating</span> <span class="o">-</span> <span class="mf">3.57409571052</span><span class="p">)</span> <span class="o">&lt;</span> <span class="mf">0.000001</span><span class="p">,</span>
                <span class="s">&#39;incorrect trainingAvgRating (expected 3.57409571052)&#39;</span><span class="p">)</span>
<span class="n">Test</span><span class="o">.</span><span class="n">assertTrue</span><span class="p">(</span><span class="nb">abs</span><span class="p">(</span><span class="n">testAvgRMSE</span> <span class="o">-</span> <span class="mf">1.12036693569</span><span class="p">)</span> <span class="o">&lt;</span> <span class="mf">0.000001</span><span class="p">,</span>
                <span class="s">&#39;incorrect testAvgRMSE (expected 1.12036693569)&#39;</span><span class="p">)</span>
</pre></div>

</div>
</div>
</div>

</div>
<div class="cell border-box-sizing text_cell rendered">
<div class="prompt input_prompt">
</div>
<div class="inner_cell">
<div class="text_cell_render border-box-sizing rendered_html">
<h4 id="You-now-have-code-to-predict-how-users-will-rate-movies!">You now have code to predict how users will rate movies!<a class="anchor-link" href="#You-now-have-code-to-predict-how-users-will-rate-movies!">&#182;</a></h4>
</div>
</div>
</div>
<div class="cell border-box-sizing text_cell rendered">
<div class="prompt input_prompt">
</div>
<div class="inner_cell">
<div class="text_cell_render border-box-sizing rendered_html">
<h2 id="Part-3:-Predictions-for-Yourself"><strong>Part 3: Predictions for Yourself</strong><a class="anchor-link" href="#Part-3:-Predictions-for-Yourself">&#182;</a></h2><h4 id="The-ultimate-goal-of-this-lab-exercise-is-to-predict-what-movies-to-recommend-to-yourself.--In-order-to-do-that,-you-will-first-need-to-add-ratings-for-yourself-to-the-ratingsRDD-dataset.">The ultimate goal of this lab exercise is to predict what movies to recommend to yourself.  In order to do that, you will first need to add ratings for yourself to the <code>ratingsRDD</code> dataset.<a class="anchor-link" href="#The-ultimate-goal-of-this-lab-exercise-is-to-predict-what-movies-to-recommend-to-yourself.--In-order-to-do-that,-you-will-first-need-to-add-ratings-for-yourself-to-the-ratingsRDD-dataset.">&#182;</a></h4>
</div>
</div>
</div>
<div class="cell border-box-sizing text_cell rendered">
<div class="prompt input_prompt">
</div>
<div class="inner_cell">
<div class="text_cell_render border-box-sizing rendered_html">
<h4 id="(3a)-Your-Movie-Ratings"><strong>(3a) Your Movie Ratings</strong><a class="anchor-link" href="#(3a)-Your-Movie-Ratings">&#182;</a></h4><h4 id="To-help-you-provide-ratings-for-yourself,-we-have-included-the-following-code-to-list-the-names-and-movie-IDs-of-the-50-highest-rated-movies-from-movieLimitedAndSortedByRatingRDD-which-we-created-in-part-1-the-lab.">To help you provide ratings for yourself, we have included the following code to list the names and movie IDs of the 50 highest-rated movies from <code>movieLimitedAndSortedByRatingRDD</code> which we created in part 1 the lab.<a class="anchor-link" href="#To-help-you-provide-ratings-for-yourself,-we-have-included-the-following-code-to-list-the-names-and-movie-IDs-of-the-50-highest-rated-movies-from-movieLimitedAndSortedByRatingRDD-which-we-created-in-part-1-the-lab.">&#182;</a></h4>
</div>
</div>
</div>
<div class="cell border-box-sizing code_cell rendered">
<div class="input">
<div class="prompt input_prompt">In&nbsp;[&nbsp;]:</div>
<div class="inner_cell">
    <div class="input_area">
<div class=" highlight hl-ipython3"><pre><span class="nb">print</span> <span class="s">&#39;Most rated movies:&#39;</span>
<span class="nb">print</span> <span class="s">&#39;(average rating, movie name, number of reviews)&#39;</span>
<span class="k">for</span> <span class="n">ratingsTuple</span> <span class="ow">in</span> <span class="n">movieLimitedAndSortedByRatingRDD</span><span class="o">.</span><span class="n">take</span><span class="p">(</span><span class="mi">50</span><span class="p">):</span>
    <span class="nb">print</span> <span class="n">ratingsTuple</span>
</pre></div>

</div>
</div>
</div>

</div>
<div class="cell border-box-sizing text_cell rendered">
<div class="prompt input_prompt">
</div>
<div class="inner_cell">
<div class="text_cell_render border-box-sizing rendered_html">
<h4 id="The-user-ID-0-is-unassigned,-so-we-will-use-it-for-your-ratings.-We-set-the-variable-myUserID-to-0-for-you.-Next,-create-a-new-RDD-myRatingsRDD-with-your-ratings-for-at-least-10-movie-ratings.-Each-entry-should-be-formatted-as-(myUserID,-movieID,-rating)-(i.e.,-each-entry-should-be-formatted-in-the-same-way-as-trainingRDD).--As-in-the-original-dataset,-ratings-should-be-between-1-and-5-(inclusive).-If-you-have-not-seen-at-least-10-of-these-movies,-you-can-increase-the-parameter-passed-to-take()-in-the-above-cell-until-there-are-10-movies-that-you-have-seen-(or-you-can-also-guess-what-your-rating-would-be-for-movies-you-have-not-seen).">The user ID 0 is unassigned, so we will use it for your ratings. We set the variable <code>myUserID</code> to 0 for you. Next, create a new RDD <code>myRatingsRDD</code> with your ratings for at least 10 movie ratings. Each entry should be formatted as <code>(myUserID, movieID, rating)</code> (i.e., each entry should be formatted in the same way as <code>trainingRDD</code>).  As in the original dataset, ratings should be between 1 and 5 (inclusive). If you have not seen at least 10 of these movies, you can increase the parameter passed to <code>take()</code> in the above cell until there are 10 movies that you have seen (or you can also guess what your rating would be for movies you have not seen).<a class="anchor-link" href="#The-user-ID-0-is-unassigned,-so-we-will-use-it-for-your-ratings.-We-set-the-variable-myUserID-to-0-for-you.-Next,-create-a-new-RDD-myRatingsRDD-with-your-ratings-for-at-least-10-movie-ratings.-Each-entry-should-be-formatted-as-(myUserID,-movieID,-rating)-(i.e.,-each-entry-should-be-formatted-in-the-same-way-as-trainingRDD).--As-in-the-original-dataset,-ratings-should-be-between-1-and-5-(inclusive).-If-you-have-not-seen-at-least-10-of-these-movies,-you-can-increase-the-parameter-passed-to-take()-in-the-above-cell-until-there-are-10-movies-that-you-have-seen-(or-you-can-also-guess-what-your-rating-would-be-for-movies-you-have-not-seen).">&#182;</a></h4>
</div>
</div>
</div>
<div class="cell border-box-sizing code_cell rendered">
<div class="input">
<div class="prompt input_prompt">In&nbsp;[&nbsp;]:</div>
<div class="inner_cell">
    <div class="input_area">
<div class=" highlight hl-ipython3"><pre><span class="c"># TODO: Replace &lt;FILL IN&gt; with appropriate code</span>
<span class="n">myUserID</span> <span class="o">=</span> <span class="mi">0</span>

<span class="c"># Note that the movie IDs are the *last* number on each line. A common error was to use the number of ratings as the movie ID.</span>
<span class="n">myRatedMovies</span> <span class="o">=</span> <span class="p">[</span>
     <span class="o">&lt;</span><span class="n">FILL</span> <span class="n">IN</span><span class="o">&gt;</span>
     <span class="c"># The format of each line is (myUserID, movie ID, your rating)</span>
     <span class="c"># For example, to give the movie &quot;Star Wars: Episode IV - A New Hope (1977)&quot; a five rating, you would add the following line:</span>
     <span class="c">#   (myUserID, 260, 5),</span>
    <span class="p">]</span>
<span class="n">myRatingsRDD</span> <span class="o">=</span> <span class="n">sc</span><span class="o">.</span><span class="n">parallelize</span><span class="p">(</span><span class="n">myRatedMovies</span><span class="p">)</span>
<span class="nb">print</span> <span class="s">&#39;My movie ratings: %s&#39;</span> <span class="o">%</span> <span class="n">myRatingsRDD</span><span class="o">.</span><span class="n">take</span><span class="p">(</span><span class="mi">10</span><span class="p">)</span>
</pre></div>

</div>
</div>
</div>

</div>
<div class="cell border-box-sizing text_cell rendered">
<div class="prompt input_prompt">
</div>
<div class="inner_cell">
<div class="text_cell_render border-box-sizing rendered_html">
<h4 id="(3b)-Add-Your-Movies-to-Training-Dataset"><strong>(3b) Add Your Movies to Training Dataset</strong><a class="anchor-link" href="#(3b)-Add-Your-Movies-to-Training-Dataset">&#182;</a></h4><h4 id="Now-that-you-have-ratings-for-yourself,-you-need-to-add-your-ratings-to-the-training-dataset-so-that-the-model-you-train-will-incorporate-your-preferences.--Spark's-union()-transformation-combines-two-RDDs;-use-union()-to-create-a-new-training-dataset-that-includes-your-ratings-and-the-data-in-the-original-training-dataset.">Now that you have ratings for yourself, you need to add your ratings to the <code>training</code> dataset so that the model you train will incorporate your preferences.  Spark's <a href="http://spark.apache.org/docs/latest/api/python/pyspark.rdd.RDD-class.html#union">union()</a> transformation combines two RDDs; use <code>union()</code> to create a new training dataset that includes your ratings and the data in the original training dataset.<a class="anchor-link" href="#Now-that-you-have-ratings-for-yourself,-you-need-to-add-your-ratings-to-the-training-dataset-so-that-the-model-you-train-will-incorporate-your-preferences.--Spark's-union()-transformation-combines-two-RDDs;-use-union()-to-create-a-new-training-dataset-that-includes-your-ratings-and-the-data-in-the-original-training-dataset.">&#182;</a></h4>
</div>
</div>
</div>
<div class="cell border-box-sizing code_cell rendered">
<div class="input">
<div class="prompt input_prompt">In&nbsp;[&nbsp;]:</div>
<div class="inner_cell">
    <div class="input_area">
<div class=" highlight hl-ipython3"><pre><span class="c"># TODO: Replace &lt;FILL IN&gt; with appropriate code</span>
<span class="n">trainingWithMyRatingsRDD</span> <span class="o">=</span> <span class="o">&lt;</span><span class="n">FILL</span> <span class="n">IN</span><span class="o">&gt;</span>

<span class="nb">print</span> <span class="p">(</span><span class="s">&#39;The training dataset now has %s more entries than the original training dataset&#39;</span> <span class="o">%</span>
       <span class="p">(</span><span class="n">trainingWithMyRatingsRDD</span><span class="o">.</span><span class="n">count</span><span class="p">()</span> <span class="o">-</span> <span class="n">trainingRDD</span><span class="o">.</span><span class="n">count</span><span class="p">()))</span>
<span class="k">assert</span> <span class="p">(</span><span class="n">trainingWithMyRatingsRDD</span><span class="o">.</span><span class="n">count</span><span class="p">()</span> <span class="o">-</span> <span class="n">trainingRDD</span><span class="o">.</span><span class="n">count</span><span class="p">())</span> <span class="o">==</span> <span class="n">myRatingsRDD</span><span class="o">.</span><span class="n">count</span><span class="p">()</span>
</pre></div>

</div>
</div>
</div>

</div>
<div class="cell border-box-sizing text_cell rendered">
<div class="prompt input_prompt">
</div>
<div class="inner_cell">
<div class="text_cell_render border-box-sizing rendered_html">
<h4 id="(3c)-Train-a-Model-with-Your-Ratings"><strong>(3c) Train a Model with Your Ratings</strong><a class="anchor-link" href="#(3c)-Train-a-Model-with-Your-Ratings">&#182;</a></h4><h4 id="Now,-train-a-model-with-your-ratings-added-and-the-parameters-you-used-in-in-part-(2c):-bestRank,-seed=seed,-iterations=iterations,-and-lambda_=regularizationParameter---make-sure-you-include-all-of-the-parameters.">Now, train a model with your ratings added and the parameters you used in in part (2c): <code>bestRank</code>, <code>seed=seed</code>, <code>iterations=iterations</code>, and <code>lambda_=regularizationParameter</code> - make sure you include <strong>all</strong> of the parameters.<a class="anchor-link" href="#Now,-train-a-model-with-your-ratings-added-and-the-parameters-you-used-in-in-part-(2c):-bestRank,-seed=seed,-iterations=iterations,-and-lambda_=regularizationParameter---make-sure-you-include-all-of-the-parameters.">&#182;</a></h4>
</div>
</div>
</div>
<div class="cell border-box-sizing code_cell rendered">
<div class="input">
<div class="prompt input_prompt">In&nbsp;[&nbsp;]:</div>
<div class="inner_cell">
    <div class="input_area">
<div class=" highlight hl-ipython3"><pre><span class="c"># TODO: Replace &lt;FILL IN&gt; with appropriate code</span>
<span class="n">myRatingsModel</span> <span class="o">=</span> <span class="n">ALS</span><span class="o">.</span><span class="n">train</span><span class="p">(</span><span class="n">trainingWithMyRatingsRDD</span><span class="p">,</span> <span class="n">bestRank</span><span class="p">,</span> <span class="o">&lt;</span><span class="n">FILL</span> <span class="n">IN</span><span class="o">&gt;</span><span class="p">)</span>
</pre></div>

</div>
</div>
</div>

</div>
<div class="cell border-box-sizing text_cell rendered">
<div class="prompt input_prompt">
</div>
<div class="inner_cell">
<div class="text_cell_render border-box-sizing rendered_html">
<h4 id="(3d)-Check-RMSE-for-the-New-Model-with-Your-Ratings"><strong>(3d) Check RMSE for the New Model with Your Ratings</strong><a class="anchor-link" href="#(3d)-Check-RMSE-for-the-New-Model-with-Your-Ratings">&#182;</a></h4><h4 id="Compute-the-RMSE-for-this-new-model-on-the-test-set.">Compute the RMSE for this new model on the test set.<a class="anchor-link" href="#Compute-the-RMSE-for-this-new-model-on-the-test-set.">&#182;</a></h4><ul>
<li>#### For the prediction step, we reuse <code>testForPredictingRDD</code>, consisting of (UserID, MovieID) pairs that you extracted from <code>testRDD</code>. The RDD has the form: <code>[(1, 1287), (1, 594), (1, 1270)]</code></li>
<li>#### Use <code>myRatingsModel.predictAll()</code> to predict rating values for the <code>testForPredictingRDD</code> test dataset, set this as <code>predictedTestMyRatingsRDD</code></li>
<li>#### For validation, use the <code>testRDD</code>and your <code>computeError</code> function to compute the RMSE between <code>testRDD</code> and the <code>predictedTestMyRatingsRDD</code> from the model.</li>
</ul>

</div>
</div>
</div>
<div class="cell border-box-sizing code_cell rendered">
<div class="input">
<div class="prompt input_prompt">In&nbsp;[&nbsp;]:</div>
<div class="inner_cell">
    <div class="input_area">
<div class=" highlight hl-ipython3"><pre><span class="c"># TODO: Replace &lt;FILL IN&gt; with appropriate code</span>
<span class="n">predictedTestMyRatingsRDD</span> <span class="o">=</span> <span class="n">myRatingsModel</span><span class="o">.&lt;</span><span class="n">FILL</span> <span class="n">IN</span><span class="o">&gt;</span>
<span class="n">testRMSEMyRatings</span> <span class="o">=</span> <span class="o">&lt;</span><span class="n">FILL</span> <span class="n">IN</span><span class="o">&gt;</span>
<span class="nb">print</span> <span class="s">&#39;The model had a RMSE on the test set of %s&#39;</span> <span class="o">%</span> <span class="n">testRMSEMyRatings</span>
</pre></div>

</div>
</div>
</div>

</div>
<div class="cell border-box-sizing text_cell rendered">
<div class="prompt input_prompt">
</div>
<div class="inner_cell">
<div class="text_cell_render border-box-sizing rendered_html">
<h4 id="(3e)-Predict-Your-Ratings"><strong>(3e) Predict Your Ratings</strong><a class="anchor-link" href="#(3e)-Predict-Your-Ratings">&#182;</a></h4><h4 id="So-far,-we-have-only-used-the-predictAll-method-to-compute-the-error-of-the-model.--Here,-use-the-predictAll-to-predict-what-ratings-you-would-give-to-the-movies-that-you-did-not-already-provide-ratings-for.">So far, we have only used the <code>predictAll</code> method to compute the error of the model.  Here, use the <code>predictAll</code> to predict what ratings you would give to the movies that you did not already provide ratings for.<a class="anchor-link" href="#So-far,-we-have-only-used-the-predictAll-method-to-compute-the-error-of-the-model.--Here,-use-the-predictAll-to-predict-what-ratings-you-would-give-to-the-movies-that-you-did-not-already-provide-ratings-for.">&#182;</a></h4><h4 id="The-steps-you-should-perform-are:">The steps you should perform are:<a class="anchor-link" href="#The-steps-you-should-perform-are:">&#182;</a></h4><ul>
<li>#### Use the Python list <code>myRatedMovies</code> to transform the <code>moviesRDD</code> into an RDD with entries that are pairs of the form (myUserID, Movie ID) and that does not contain any movies that you have rated. This transformation will yield an RDD of the form: <code>[(0, 1), (0, 2), (0, 3), (0, 4)]</code>. Note that you can do this step with one RDD transformation.</li>
<li>#### For the prediction step, use the input RDD, <code>myUnratedMoviesRDD</code>, with myRatingsModel.predictAll() to predict your ratings for the movies.</li>
</ul>

</div>
</div>
</div>
<div class="cell border-box-sizing code_cell rendered">
<div class="input">
<div class="prompt input_prompt">In&nbsp;[&nbsp;]:</div>
<div class="inner_cell">
    <div class="input_area">
<div class=" highlight hl-ipython3"><pre><span class="c"># TODO: Replace &lt;FILL IN&gt; with appropriate code</span>

<span class="c"># Use the Python list myRatedMovies to transform the moviesRDD into an RDD with entries that are pairs of the form (myUserID, Movie ID) and that does not contain any movies that you have rated.</span>
<span class="n">myUnratedMoviesRDD</span> <span class="o">=</span> <span class="p">(</span><span class="n">moviesRDD</span>
                      <span class="o">.&lt;</span><span class="n">FILL</span> <span class="n">IN</span><span class="o">&gt;</span><span class="p">)</span>

<span class="c"># Use the input RDD, myUnratedMoviesRDD, with myRatingsModel.predictAll() to predict your ratings for the movies</span>
<span class="n">predictedRatingsRDD</span> <span class="o">=</span> <span class="n">myRatingsModel</span><span class="o">.&lt;</span><span class="n">FILL</span> <span class="n">IN</span><span class="o">&gt;</span>
</pre></div>

</div>
</div>
</div>

</div>
<div class="cell border-box-sizing text_cell rendered">
<div class="prompt input_prompt">
</div>
<div class="inner_cell">
<div class="text_cell_render border-box-sizing rendered_html">
<h4 id="(3f)-Predict-Your-Ratings"><strong>(3f) Predict Your Ratings</strong><a class="anchor-link" href="#(3f)-Predict-Your-Ratings">&#182;</a></h4><h4 id="We-have-our-predicted-ratings.-Now-we-can-print-out-the-25-movies-with-the-highest-predicted-ratings.">We have our predicted ratings. Now we can print out the 25 movies with the highest predicted ratings.<a class="anchor-link" href="#We-have-our-predicted-ratings.-Now-we-can-print-out-the-25-movies-with-the-highest-predicted-ratings.">&#182;</a></h4><h4 id="The-steps-you-should-perform-are:">The steps you should perform are:<a class="anchor-link" href="#The-steps-you-should-perform-are:">&#182;</a></h4><ul>
<li>#### From Parts (1b) and (1c), we know that we should look at movies with a reasonable number of reviews (e.g., more than 75 reviews). You can experiment with a lower threshold, but fewer ratings for a movie may yield higher prediction errors. Transform <code>movieIDsWithAvgRatingsRDD</code> from Part (1b), which has the form (MovieID, (number of ratings, average rating)), into an RDD of the form (MovieID, number of ratings): <code>[(2, 332), (4, 71), (6, 442)]</code></li>
<li>#### We want to see movie names, instead of movie IDs. Transform <code>predictedRatingsRDD</code> into an RDD with entries that are pairs of the form (Movie ID, Predicted Rating): <code>[(3456, -0.5501005376936687), (1080, 1.5885892024487962), (320, -3.7952255522487865)]</code></li>
<li>#### Use RDD transformations with <code>predictedRDD</code> and <code>movieCountsRDD</code> to yield an RDD with tuples of the form (Movie ID, (Predicted Rating, number of ratings)): <code>[(2050, (0.6694097486155939, 44)), (10, (5.29762541533513, 418)), (2060, (0.5055259373841172, 97))]</code></li>
<li>#### Use RDD transformations with <code>predictedWithCountsRDD</code> and <code>moviesRDD</code> to yield an RDD with tuples of the form (Predicted Rating, Movie Name, number of ratings), <em>for movies with more than 75 ratings.</em> For example: <code>[(7.983121900375243, u'Under Siege (1992)'), (7.9769201864261285, u'Fifth Element, The (1997)')]</code></li>
</ul>

</div>
</div>
</div>
<div class="cell border-box-sizing code_cell rendered">
<div class="input">
<div class="prompt input_prompt">In&nbsp;[&nbsp;]:</div>
<div class="inner_cell">
    <div class="input_area">
<div class=" highlight hl-ipython3"><pre><span class="c"># TODO: Replace &lt;FILL IN&gt; with appropriate code</span>

<span class="c"># Transform movieIDsWithAvgRatingsRDD from part (1b), which has the form (MovieID, (number of ratings, average rating)), into and RDD of the form (MovieID, number of ratings)</span>
<span class="n">movieCountsRDD</span> <span class="o">=</span> <span class="n">movieIDsWithAvgRatingsRDD</span><span class="o">.&lt;</span><span class="n">FILL</span> <span class="n">IN</span><span class="o">&gt;</span>

<span class="c"># Transform predictedRatingsRDD into an RDD with entries that are pairs of the form (Movie ID, Predicted Rating)</span>
<span class="n">predictedRDD</span> <span class="o">=</span> <span class="n">predictedRatingsRDD</span><span class="o">.&lt;</span><span class="n">FILL</span> <span class="n">IN</span><span class="o">&gt;</span>

<span class="c"># Use RDD transformations with predictedRDD and movieCountsRDD to yield an RDD with tuples of the form (Movie ID, (Predicted Rating, number of ratings))</span>
<span class="n">predictedWithCountsRDD</span>  <span class="o">=</span> <span class="p">(</span><span class="n">predictedRDD</span>
                           <span class="o">.&lt;</span><span class="n">FILL</span> <span class="n">IN</span><span class="o">&gt;</span><span class="p">)</span>

<span class="c"># Use RDD transformations with PredictedWithCountsRDD and moviesRDD to yield an RDD with tuples of the form (Predicted Rating, Movie Name, number of ratings), for movies with more than 75 ratings</span>
<span class="n">ratingsWithNamesRDD</span> <span class="o">=</span> <span class="p">(</span><span class="n">predictedWithCountsRDD</span>
                       <span class="o">.&lt;</span><span class="n">FILL</span> <span class="n">IN</span><span class="o">&gt;</span><span class="p">)</span>

<span class="n">predictedHighestRatedMovies</span> <span class="o">=</span> <span class="n">ratingsWithNamesRDD</span><span class="o">.</span><span class="n">takeOrdered</span><span class="p">(</span><span class="mi">20</span><span class="p">,</span> <span class="n">key</span><span class="o">=</span><span class="k">lambda</span> <span class="n">x</span><span class="p">:</span> <span class="o">-</span><span class="n">x</span><span class="p">[</span><span class="mi">0</span><span class="p">])</span>
<span class="nb">print</span> <span class="p">(</span><span class="s">&#39;My highest rated movies as predicted (for movies with more than 75 reviews):</span><span class="se">\n</span><span class="s">%s&#39;</span> <span class="o">%</span>
        <span class="s">&#39;</span><span class="se">\n</span><span class="s">&#39;</span><span class="o">.</span><span class="n">join</span><span class="p">(</span><span class="nb">map</span><span class="p">(</span><span class="nb">str</span><span class="p">,</span> <span class="n">predictedHighestRatedMovies</span><span class="p">)))</span>
</pre></div>

</div>
</div>
</div>

</div>
    </div>
  </div>


    <div class="back-to-top hidden-print text-center">
      <a href="#">Back to top</a>
    </div>

    
      <footer class="footer hidden-print col-md-12">
        <div class="col-md-4">
          <p>
            This web site does not host notebooks, it only renders notebooks
            available on other websites.
          </p>
        </div>

        <div class="col-md-4">
          <p>
            Delivered by <a href="http://www.fastly.com/">Fastly</a>, 
            Rendered by <a href="https://developer.rackspace.com/?nbviewer=awesome">Rackspace</a>
          </p>
          <p>
            nbviewer GitHub <a href="https://github.com/jupyter/nbviewer">repository</a>.
          </p>
        </div>

        <div class="col-md-4">
          
  
            
              <p>
                nbviewer version:
                <a href="https://github.com/jupyter/nbviewer/commit/637fd82e21256d9b2fcb5a75dabb8434d2078df0">
                  637fd82
                </a>
              </p>
            
          
  
  <p class="text-muted">
    IPython version: 3.2.0
    
  </p>
  

          
  
  
  <p class="text-muted">
    Rendered
    <span class='date' data-date='Sun, 12 Jul 2015 02:40:21 UTC' title='Sun, 12 Jul 2015 02:40:21 UTC'>(Sun, 12 Jul 2015 02:40:21 UTC)</span>
  </p>
  

        </div>
      </footer>
    

  </div>

  <script src="/static/components/bootstrap/js/bootstrap.min.js"></script>
  <script src="/static/components/headroom.js/dist/headroom.min.js"></script>
  <script src="/static/components/headroom.js/dist/jQuery.headroom.min.js"></script>

  
  
  <script>
    $(function(){ $("#menubar").headroom({
      tolerance: 5,
      offset: 205,
      classes: {
        initial: "animated",
        pinned: "slideInDown",
        unpinned: "slideOutUp"
      }
    })});
  </script>


  <script>
    (function(i,s,o,g,r,a,m){i['GoogleAnalyticsObject']=r;i[r]=i[r]||function(){
      (i[r].q=i[r].q||[]).push(arguments)},i[r].l=1*new Date();a=s.createElement(o),
      m=s.getElementsByTagName(o)[0];a.async=1;a.src=g;m.parentNode.insertBefore(a,m)
    })(window,document,'script','//www.google-analytics.com/analytics.js','ga');
    ga('create', 'UA-38683231-2', 'auto');
    ga('send', 'pageview');
  </script>
  <script>
      var update_date  = function(){
          var str = window.moment($('.date').data('date')).fromNow();
          $('.date').text(str);
      }
      setInterval(update_date , 61*1000);
      $(update_date);
  </script>
  <!--NEW RELIC Stop Perf Measurement-->
  
  <!--NEW RELIC End-->
</body>
</html>