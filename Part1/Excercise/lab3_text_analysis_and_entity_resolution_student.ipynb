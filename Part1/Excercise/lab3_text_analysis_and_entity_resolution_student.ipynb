








<!DOCTYPE html>
<html lang="en">

<head>
  <meta charset="utf-8">
  <title></title>
  <meta name="viewport" content="width=device-width, initial-scale=1.0">
  <meta name="description" content="">
  <meta name="author" content="">
  
  <meta name="robots" content="noindex,nofollow">
  

  <!--NEW RELIC Start Perf Measurement-->
  
  <!--NREND-->

  <!-- Le styles -->
  <link href="/static/build/styles.css" rel="stylesheet">

  <!-- Le HTML5 shim, for IE6-8 support of HTML5 elements -->
  <!--[if lt IE 9]>
    <script src="http://html5shim.googlecode.com/svn/trunk/html5.js"></script>
  <![endif]-->

  <!-- Le fav and touch icons -->
  <link rel="shortcut icon" href="/static/ico/ipynb_icon_16x16.png">
  <link rel="apple-touch-icon-precomposed" sizes="144x144" 
        href="/static/ico/apple-touch-icon-144-precomposed.png">
  <link rel="apple-touch-icon-precomposed" sizes="114x114" 
        href="/static/ico/apple-touch-icon-114-precomposed.png">
  <link rel="apple-touch-icon-precomposed" sizes="72x72" 
        href="/static/ico/apple-touch-icon-72-precomposed.png">
  <link rel="apple-touch-icon-precomposed" 
        href="/static/ico/apple-touch-icon-57-precomposed.png">
  
  

  

  
  <meta name="twitter:card" content="summary">
  <meta name="twitter:title" content="Notebook on nbviewer">
  <meta name="twitter:description" content="Check out this Jupyter notebook!">

  
  <meta name="twitter:domain" content="nbviewer.ipython.org">
  <meta name="twitter:image:src" content="http://ipython.org/ipython-doc/dev/_images/ipynb_icon_128x128.png">

  
    <link href="/static/build/notebook.css" rel="stylesheet">
  

  

  <script src="https://cdn.mathjax.org/mathjax/latest/MathJax.js?config=TeX-AMS_HTML" type="text/javascript">
  </script>
  <script type="text/javascript">
    init_mathjax = function() {
      if (window.MathJax) {
        // MathJax loaded
        MathJax.Hub.Config({
          tex2jax: {
            inlineMath: [ ['$','$'], ["\\(","\\)"] ],
            displayMath: [ ['$$','$$'], ["\\[","\\]"] ],
            processEscapes: true,
            processEnvironments: true
          },
          displayAlign: 'center',
          "HTML-CSS": {
            styles: {'.MathJax_Display': {"margin": 0}},
            linebreaks: { automatic: true }
          }
        });
        MathJax.Hub.Queue(["Typeset", MathJax.Hub]);
      }
    }
    init_mathjax();
  </script>

</head>

<body data-spy="scroll" data-target=".subnav" data-offset="50">

  <!-- These are loaded at the top of the body so they are available to 
       notebook cells when they are loaded below. -->
  <script src="/static/components/jquery/dist/jquery.min.js"></script>
  <script src="/static/components/requirejs/require.js"></script>
  <script src="/static/components/moment/min/moment.min.js"></script>

<!-- Navbar
================================================== -->
  <nav id="menubar" class="navbar navbar-default navbar-fixed-top">
    <div class="container">
      <div class="navbar-header">
        <button type="button" class="navbar-toggle collapsed" data-toggle="collapse" data-target=".navbar-collapse">
          <span class="sr-only">Toggle navigation</span>
          <i class="fa fa-bars"></i>
        </button>
        <a class="navbar-brand" href="/">nbviewer</a>
      </div>

      <div class="collapse navbar-collapse">
        <ul class="nav navbar-nav">
          <li>
    <a href="/faq" title="FAQ" >
      
        <span>FAQ</span>
      
    </a>
  </li>
          <li class="">
            <a href="http://ipython.org">IPython</a>
          </li>
          <li class="">
            <a href="http://jupyter.org">Jupyter</a>
          </li>
        </ul>
        
        <ul class="nav navbar-nav navbar-right">
          
  
    
  

  
  
  
    <li>
    <a href="https://github.com/spark-mooc/mooc-setup/blob/master/lab3_text_analysis_and_entity_resolution_student.ipynb" title="View on GitHub" >
      <span class="fa fa-github fa-2x menu-icon"></span>
      <span class="menu-text">View on GitHub</span>
    </a>
  </li>
  

  <li>
    <a href="https://raw.githubusercontent.com/spark-mooc/mooc-setup/master/lab3_text_analysis_and_entity_resolution_student.ipynb" title="Download Notebook" download>
      <span class="fa fa-download fa-2x menu-icon"></span>
      <span class="menu-text">Download Notebook</span>
    </a>
  </li>

        </ul>
      </div><!-- /.navbar-collapse -->
      
      
    </div>
  </nav>

  <div class="container">
    
  
  <ol class="breadcrumb">
    
      <li>
        <a href="/github/spark-mooc/mooc-setup/tree/master">mooc-setup</a>
      </li>
    
      <li>
        <a href="/github/spark-mooc/mooc-setup/tree/master/lab3_text_analysis_and_entity_resolution_student.ipynb">lab3_text_analysis_and_entity_resolution_student.ipynb</a>
      </li>
    
  </ol>
  
  <div id="notebook">
    <div id="notebook-container">
      
<div class="cell border-box-sizing text_cell rendered">
<div class="prompt input_prompt">
</div>
<div class="inner_cell">
<div class="text_cell_render border-box-sizing rendered_html">
<p>version 1.0.3</p>
<h1><img src="http://spark-mooc.github.io/web-assets/images/ta_Spark-logo-small.png" alt="Spark Logo"> + <img src="http://spark-mooc.github.io/web-assets/images/python-logo-master-v3-TM-flattened_small.png" alt="Python Logo"></h1>
<h1 id="Text-Analysis-and-Entity-Resolution"><strong>Text Analysis and Entity Resolution</strong><a class="anchor-link" href="#Text-Analysis-and-Entity-Resolution">&#182;</a></h1><h4 id="Entity-resolution-is-a-common,-yet-difficult-problem-in-data-cleaning-and-integration.-This-lab-will-demonstrate-how-we-can-use-Apache-Spark-to-apply-powerful-and-scalable-text-analysis-techniques-and-perform-entity-resolution-across-two-datasets-of-commercial-products.">Entity resolution is a common, yet difficult problem in data cleaning and integration. This lab will demonstrate how we can use Apache Spark to apply powerful and scalable text analysis techniques and perform entity resolution across two datasets of commercial products.<a class="anchor-link" href="#Entity-resolution-is-a-common,-yet-difficult-problem-in-data-cleaning-and-integration.-This-lab-will-demonstrate-how-we-can-use-Apache-Spark-to-apply-powerful-and-scalable-text-analysis-techniques-and-perform-entity-resolution-across-two-datasets-of-commercial-products.">&#182;</a></h4>
</div>
</div>
</div>
<div class="cell border-box-sizing text_cell rendered">
<div class="prompt input_prompt">
</div>
<div class="inner_cell">
<div class="text_cell_render border-box-sizing rendered_html">
<h4 id="Entity-Resolution,-or-&quot;Record-linkage&quot;-is-the-term-used-by-statisticians,-epidemiologists,-and-historians,-among-others,-to-describe-the-process-of-joining-records-from-one-data-source-with-another-that-describe-the-same-entity.-Our-terms-with-the-same-meaning-include,-&quot;entity-disambiguation/linking&quot;,-duplicate-detection&quot;,-&quot;deduplication&quot;,-&quot;record-matching&quot;,-&quot;(reference)-reconciliation&quot;,-&quot;object-identification&quot;,-&quot;data/information-integration&quot;,-and-&quot;conflation&quot;.">Entity Resolution, or "<a href="https://en.wikipedia.org/wiki/Record_linkage">Record linkage</a>" is the term used by statisticians, epidemiologists, and historians, among others, to describe the process of joining records from one data source with another that describe the same entity. Our terms with the same meaning include, "entity disambiguation/linking", duplicate detection", "deduplication", "record matching", "(reference) reconciliation", "object identification", "data/information integration", and "conflation".<a class="anchor-link" href="#Entity-Resolution,-or-&quot;Record-linkage&quot;-is-the-term-used-by-statisticians,-epidemiologists,-and-historians,-among-others,-to-describe-the-process-of-joining-records-from-one-data-source-with-another-that-describe-the-same-entity.-Our-terms-with-the-same-meaning-include,-&quot;entity-disambiguation/linking&quot;,-duplicate-detection&quot;,-&quot;deduplication&quot;,-&quot;record-matching&quot;,-&quot;(reference)-reconciliation&quot;,-&quot;object-identification&quot;,-&quot;data/information-integration&quot;,-and-&quot;conflation&quot;.">&#182;</a></h4><h4 id="Entity-Resolution-(ER)-refers-to-the-task-of-finding-records-in-a-dataset-that-refer-to-the-same-entity-across-different-data-sources-(e.g.,-data-files,-books,-websites,-databases).-ER-is-necessary-when-joining-datasets-based-on-entities-that-may-or-may-not-share-a-common-identifier-(e.g.,-database-key,-URI,-National-identification-number),-as-may-be-the-case-due-to-differences-in-record-shape,-storage-location,-and/or-curator-style-or-preference.-A-dataset-that-has-undergone-ER-may-be-referred-to-as-being-cross-linked.">Entity Resolution (ER) refers to the task of finding records in a dataset that refer to the same entity across different data sources (e.g., data files, books, websites, databases). ER is necessary when joining datasets based on entities that may or may not share a common identifier (e.g., database key, URI, National identification number), as may be the case due to differences in record shape, storage location, and/or curator style or preference. A dataset that has undergone ER may be referred to as being cross-linked.<a class="anchor-link" href="#Entity-Resolution-(ER)-refers-to-the-task-of-finding-records-in-a-dataset-that-refer-to-the-same-entity-across-different-data-sources-(e.g.,-data-files,-books,-websites,-databases).-ER-is-necessary-when-joining-datasets-based-on-entities-that-may-or-may-not-share-a-common-identifier-(e.g.,-database-key,-URI,-National-identification-number),-as-may-be-the-case-due-to-differences-in-record-shape,-storage-location,-and/or-curator-style-or-preference.-A-dataset-that-has-undergone-ER-may-be-referred-to-as-being-cross-linked.">&#182;</a></h4>
</div>
</div>
</div>
<div class="cell border-box-sizing text_cell rendered">
<div class="prompt input_prompt">
</div>
<div class="inner_cell">
<div class="text_cell_render border-box-sizing rendered_html">
<h3 id="Code">Code<a class="anchor-link" href="#Code">&#182;</a></h3><h4 id="This-assignment-can-be-completed-using-basic-Python,-pySpark-Transformations-and-actions,-and-the-plotting-library-matplotlib.-Other-libraries-are-not-allowed.">This assignment can be completed using basic Python, pySpark Transformations and actions, and the plotting library matplotlib. Other libraries are not allowed.<a class="anchor-link" href="#This-assignment-can-be-completed-using-basic-Python,-pySpark-Transformations-and-actions,-and-the-plotting-library-matplotlib.-Other-libraries-are-not-allowed.">&#182;</a></h4><h3 id="Files">Files<a class="anchor-link" href="#Files">&#182;</a></h3><h4 id="Data-files-for-this-assignment-are-from-the-metric-learning-project-and-can-be-found-at:">Data files for this assignment are from the <a href="https://code.google.com/p/metric-learning/">metric-learning</a> project and can be found at:<a class="anchor-link" href="#Data-files-for-this-assignment-are-from-the-metric-learning-project-and-can-be-found-at:">&#182;</a></h4><p><code>cs100/lab3</code></p>
<h4 id="The-directory-contains-the-following-files:">The directory contains the following files:<a class="anchor-link" href="#The-directory-contains-the-following-files:">&#182;</a></h4><ul>
<li><strong>Google.csv</strong>, the Google Products dataset</li>
<li><strong>Amazon.csv</strong>, the Amazon dataset</li>
<li><strong>Google_small.csv</strong>, 200 records sampled from the Google data</li>
<li><strong>Amazon_small.csv</strong>, 200 records sampled from the Amazon data</li>
<li><strong>Amazon_Google_perfectMapping.csv</strong>, the "gold standard" mapping</li>
<li><strong>stopwords.txt</strong>, a list of common English words
#### Besides the complete data files, there are "sample" data files for each dataset - we will use these for <strong>Part 1</strong>. In addition, there is a "gold standard" file that contains all of the true mappings between entities in the two datasets. Every row in the gold standard file has a pair of record IDs (one Google, one Amazon) that belong to two record that describe the same thing in the real world. We will use the gold standard to evaluate our algorithms.</li>
</ul>

</div>
</div>
</div>
<div class="cell border-box-sizing text_cell rendered">
<div class="prompt input_prompt">
</div>
<div class="inner_cell">
<div class="text_cell_render border-box-sizing rendered_html">
<h3 id="Part-0:-Preliminaries"><strong>Part 0: Preliminaries</strong><a class="anchor-link" href="#Part-0:-Preliminaries">&#182;</a></h3><h4 id="We-read-in-each-of-the-files-and-create-an-RDD-consisting-of-lines.">We read in each of the files and create an RDD consisting of lines.<a class="anchor-link" href="#We-read-in-each-of-the-files-and-create-an-RDD-consisting-of-lines.">&#182;</a></h4><h4 id="For-each-of-the-data-files-(&quot;Google.csv&quot;,-&quot;Amazon.csv&quot;,-and-the-samples),-we-want-to-parse-the-IDs-out-of-each-record.-The-IDs-are-the-first-column-of-the-file-(they-are-URLs-for-Google,-and-alphanumeric-strings-for-Amazon).-Omitting-the-headers,-we-load-these-data-files-into-pair-RDDs-where-the-mapping-ID-is-the-key,-and-the-value-is-a-string-consisting-of-the-name/title,-description,-and-manufacturer-from-the-record.">For each of the data files ("Google.csv", "Amazon.csv", and the samples), we want to parse the IDs out of each record. The IDs are the first column of the file (they are URLs for Google, and alphanumeric strings for Amazon). Omitting the headers, we load these data files into pair RDDs where the <em>mapping ID</em> is the key, and the value is a string consisting of the name/title, description, and manufacturer from the record.<a class="anchor-link" href="#For-each-of-the-data-files-(&quot;Google.csv&quot;,-&quot;Amazon.csv&quot;,-and-the-samples),-we-want-to-parse-the-IDs-out-of-each-record.-The-IDs-are-the-first-column-of-the-file-(they-are-URLs-for-Google,-and-alphanumeric-strings-for-Amazon).-Omitting-the-headers,-we-load-these-data-files-into-pair-RDDs-where-the-mapping-ID-is-the-key,-and-the-value-is-a-string-consisting-of-the-name/title,-description,-and-manufacturer-from-the-record.">&#182;</a></h4><h4 id="The-file-format-of-an-Amazon-line-is:">The file format of an Amazon line is:<a class="anchor-link" href="#The-file-format-of-an-Amazon-line-is:">&#182;</a></h4><p><code>"id","title","description","manufacturer","price"</code></p>
<h4 id="The-file-format-of-a-Google-line-is:">The file format of a Google line is:<a class="anchor-link" href="#The-file-format-of-a-Google-line-is:">&#182;</a></h4><p><code>"id","name","description","manufacturer","price"</code></p>

</div>
</div>
</div>
<div class="cell border-box-sizing code_cell rendered">
<div class="input">
<div class="prompt input_prompt">In&nbsp;[&nbsp;]:</div>
<div class="inner_cell">
    <div class="input_area">
<div class=" highlight hl-ipython3"><pre><span class="kn">import</span> <span class="nn">re</span>
<span class="n">DATAFILE_PATTERN</span> <span class="o">=</span> <span class="s">&#39;^(.+),&quot;(.+)&quot;,(.*),(.*),(.*)&#39;</span>

<span class="k">def</span> <span class="nf">removeQuotes</span><span class="p">(</span><span class="n">s</span><span class="p">):</span>
    <span class="sd">&quot;&quot;&quot; Remove quotation marks from an input string</span>
<span class="sd">    Args:</span>
<span class="sd">        s (str): input string that might have the quote &quot;&quot; characters</span>
<span class="sd">    Returns:</span>
<span class="sd">        str: a string without the quote characters</span>
<span class="sd">    &quot;&quot;&quot;</span>
    <span class="k">return</span> <span class="s">&#39;&#39;</span><span class="o">.</span><span class="n">join</span><span class="p">(</span><span class="n">i</span> <span class="k">for</span> <span class="n">i</span> <span class="ow">in</span> <span class="n">s</span> <span class="k">if</span> <span class="n">i</span><span class="o">!=</span><span class="s">&#39;&quot;&#39;</span><span class="p">)</span>


<span class="k">def</span> <span class="nf">parseDatafileLine</span><span class="p">(</span><span class="n">datafileLine</span><span class="p">):</span>
    <span class="sd">&quot;&quot;&quot; Parse a line of the data file using the specified regular expression pattern</span>
<span class="sd">    Args:</span>
<span class="sd">        datafileLine (str): input string that is a line from the data file</span>
<span class="sd">    Returns:</span>
<span class="sd">        str: a string parsed using the given regular expression and without the quote characters</span>
<span class="sd">    &quot;&quot;&quot;</span>
    <span class="n">match</span> <span class="o">=</span> <span class="n">re</span><span class="o">.</span><span class="n">search</span><span class="p">(</span><span class="n">DATAFILE_PATTERN</span><span class="p">,</span> <span class="n">datafileLine</span><span class="p">)</span>
    <span class="k">if</span> <span class="n">match</span> <span class="ow">is</span> <span class="k">None</span><span class="p">:</span>
        <span class="nb">print</span> <span class="s">&#39;Invalid datafile line: %s&#39;</span> <span class="o">%</span> <span class="n">datafileLine</span>
        <span class="k">return</span> <span class="p">(</span><span class="n">datafileLine</span><span class="p">,</span> <span class="o">-</span><span class="mi">1</span><span class="p">)</span>
    <span class="k">elif</span> <span class="n">match</span><span class="o">.</span><span class="n">group</span><span class="p">(</span><span class="mi">1</span><span class="p">)</span> <span class="o">==</span> <span class="s">&#39;&quot;id&quot;&#39;</span><span class="p">:</span>
        <span class="nb">print</span> <span class="s">&#39;Header datafile line: %s&#39;</span> <span class="o">%</span> <span class="n">datafileLine</span>
        <span class="k">return</span> <span class="p">(</span><span class="n">datafileLine</span><span class="p">,</span> <span class="mi">0</span><span class="p">)</span>
    <span class="k">else</span><span class="p">:</span>
        <span class="n">product</span> <span class="o">=</span> <span class="s">&#39;%s %s %s&#39;</span> <span class="o">%</span> <span class="p">(</span><span class="n">match</span><span class="o">.</span><span class="n">group</span><span class="p">(</span><span class="mi">2</span><span class="p">),</span> <span class="n">match</span><span class="o">.</span><span class="n">group</span><span class="p">(</span><span class="mi">3</span><span class="p">),</span> <span class="n">match</span><span class="o">.</span><span class="n">group</span><span class="p">(</span><span class="mi">4</span><span class="p">))</span>
        <span class="k">return</span> <span class="p">((</span><span class="n">removeQuotes</span><span class="p">(</span><span class="n">match</span><span class="o">.</span><span class="n">group</span><span class="p">(</span><span class="mi">1</span><span class="p">)),</span> <span class="n">product</span><span class="p">),</span> <span class="mi">1</span><span class="p">)</span>
</pre></div>

</div>
</div>
</div>

</div>
<div class="cell border-box-sizing code_cell rendered">
<div class="input">
<div class="prompt input_prompt">In&nbsp;[&nbsp;]:</div>
<div class="inner_cell">
    <div class="input_area">
<div class=" highlight hl-ipython3"><pre><span class="kn">import</span> <span class="nn">sys</span>
<span class="kn">import</span> <span class="nn">os</span>
<span class="kn">from</span> <span class="nn">test_helper</span> <span class="k">import</span> <span class="n">Test</span>

<span class="n">baseDir</span> <span class="o">=</span> <span class="n">os</span><span class="o">.</span><span class="n">path</span><span class="o">.</span><span class="n">join</span><span class="p">(</span><span class="s">&#39;data&#39;</span><span class="p">)</span>
<span class="n">inputPath</span> <span class="o">=</span> <span class="n">os</span><span class="o">.</span><span class="n">path</span><span class="o">.</span><span class="n">join</span><span class="p">(</span><span class="s">&#39;cs100&#39;</span><span class="p">,</span> <span class="s">&#39;lab3&#39;</span><span class="p">)</span>

<span class="n">GOOGLE_PATH</span> <span class="o">=</span> <span class="s">&#39;Google.csv&#39;</span>
<span class="n">GOOGLE_SMALL_PATH</span> <span class="o">=</span> <span class="s">&#39;Google_small.csv&#39;</span>
<span class="n">AMAZON_PATH</span> <span class="o">=</span> <span class="s">&#39;Amazon.csv&#39;</span>
<span class="n">AMAZON_SMALL_PATH</span> <span class="o">=</span> <span class="s">&#39;Amazon_small.csv&#39;</span>
<span class="n">GOLD_STANDARD_PATH</span> <span class="o">=</span> <span class="s">&#39;Amazon_Google_perfectMapping.csv&#39;</span>
<span class="n">STOPWORDS_PATH</span> <span class="o">=</span> <span class="s">&#39;stopwords.txt&#39;</span>

<span class="k">def</span> <span class="nf">parseData</span><span class="p">(</span><span class="n">filename</span><span class="p">):</span>
    <span class="sd">&quot;&quot;&quot; Parse a data file</span>
<span class="sd">    Args:</span>
<span class="sd">        filename (str): input file name of the data file</span>
<span class="sd">    Returns:</span>
<span class="sd">        RDD: a RDD of parsed lines</span>
<span class="sd">    &quot;&quot;&quot;</span>
    <span class="k">return</span> <span class="p">(</span><span class="n">sc</span>
            <span class="o">.</span><span class="n">textFile</span><span class="p">(</span><span class="n">filename</span><span class="p">,</span> <span class="mi">4</span><span class="p">,</span> <span class="mi">0</span><span class="p">)</span>
            <span class="o">.</span><span class="n">map</span><span class="p">(</span><span class="n">parseDatafileLine</span><span class="p">)</span>
            <span class="o">.</span><span class="n">cache</span><span class="p">())</span>

<span class="k">def</span> <span class="nf">loadData</span><span class="p">(</span><span class="n">path</span><span class="p">):</span>
    <span class="sd">&quot;&quot;&quot; Load a data file</span>
<span class="sd">    Args:</span>
<span class="sd">        path (str): input file name of the data file</span>
<span class="sd">    Returns:</span>
<span class="sd">        RDD: a RDD of parsed valid lines</span>
<span class="sd">    &quot;&quot;&quot;</span>
    <span class="n">filename</span> <span class="o">=</span> <span class="n">os</span><span class="o">.</span><span class="n">path</span><span class="o">.</span><span class="n">join</span><span class="p">(</span><span class="n">baseDir</span><span class="p">,</span> <span class="n">inputPath</span><span class="p">,</span> <span class="n">path</span><span class="p">)</span>
    <span class="n">raw</span> <span class="o">=</span> <span class="n">parseData</span><span class="p">(</span><span class="n">filename</span><span class="p">)</span><span class="o">.</span><span class="n">cache</span><span class="p">()</span>
    <span class="n">failed</span> <span class="o">=</span> <span class="p">(</span><span class="n">raw</span>
              <span class="o">.</span><span class="n">filter</span><span class="p">(</span><span class="k">lambda</span> <span class="n">s</span><span class="p">:</span> <span class="n">s</span><span class="p">[</span><span class="mi">1</span><span class="p">]</span> <span class="o">==</span> <span class="o">-</span><span class="mi">1</span><span class="p">)</span>
              <span class="o">.</span><span class="n">map</span><span class="p">(</span><span class="k">lambda</span> <span class="n">s</span><span class="p">:</span> <span class="n">s</span><span class="p">[</span><span class="mi">0</span><span class="p">]))</span>
    <span class="k">for</span> <span class="n">line</span> <span class="ow">in</span> <span class="n">failed</span><span class="o">.</span><span class="n">take</span><span class="p">(</span><span class="mi">10</span><span class="p">):</span>
        <span class="nb">print</span> <span class="s">&#39;%s - Invalid datafile line: %s&#39;</span> <span class="o">%</span> <span class="p">(</span><span class="n">path</span><span class="p">,</span> <span class="n">line</span><span class="p">)</span>
    <span class="n">valid</span> <span class="o">=</span> <span class="p">(</span><span class="n">raw</span>
             <span class="o">.</span><span class="n">filter</span><span class="p">(</span><span class="k">lambda</span> <span class="n">s</span><span class="p">:</span> <span class="n">s</span><span class="p">[</span><span class="mi">1</span><span class="p">]</span> <span class="o">==</span> <span class="mi">1</span><span class="p">)</span>
             <span class="o">.</span><span class="n">map</span><span class="p">(</span><span class="k">lambda</span> <span class="n">s</span><span class="p">:</span> <span class="n">s</span><span class="p">[</span><span class="mi">0</span><span class="p">])</span>
             <span class="o">.</span><span class="n">cache</span><span class="p">())</span>
    <span class="nb">print</span> <span class="s">&#39;%s - Read %d lines, successfully parsed %d lines, failed to parse %d lines&#39;</span> <span class="o">%</span> <span class="p">(</span><span class="n">path</span><span class="p">,</span>
                                                                                        <span class="n">raw</span><span class="o">.</span><span class="n">count</span><span class="p">(),</span>
                                                                                        <span class="n">valid</span><span class="o">.</span><span class="n">count</span><span class="p">(),</span>
                                                                                        <span class="n">failed</span><span class="o">.</span><span class="n">count</span><span class="p">())</span>
    <span class="k">assert</span> <span class="n">failed</span><span class="o">.</span><span class="n">count</span><span class="p">()</span> <span class="o">==</span> <span class="mi">0</span>
    <span class="k">assert</span> <span class="n">raw</span><span class="o">.</span><span class="n">count</span><span class="p">()</span> <span class="o">==</span> <span class="p">(</span><span class="n">valid</span><span class="o">.</span><span class="n">count</span><span class="p">()</span> <span class="o">+</span> <span class="mi">1</span><span class="p">)</span>
    <span class="k">return</span> <span class="n">valid</span>

<span class="n">googleSmall</span> <span class="o">=</span> <span class="n">loadData</span><span class="p">(</span><span class="n">GOOGLE_SMALL_PATH</span><span class="p">)</span>
<span class="n">google</span> <span class="o">=</span> <span class="n">loadData</span><span class="p">(</span><span class="n">GOOGLE_PATH</span><span class="p">)</span>
<span class="n">amazonSmall</span> <span class="o">=</span> <span class="n">loadData</span><span class="p">(</span><span class="n">AMAZON_SMALL_PATH</span><span class="p">)</span>
<span class="n">amazon</span> <span class="o">=</span> <span class="n">loadData</span><span class="p">(</span><span class="n">AMAZON_PATH</span><span class="p">)</span>
</pre></div>

</div>
</div>
</div>

</div>
<div class="cell border-box-sizing text_cell rendered">
<div class="prompt input_prompt">
</div>
<div class="inner_cell">
<div class="text_cell_render border-box-sizing rendered_html">
<h4 id="Let's-examine-the-lines-that-were-just-loaded-in-the-two-subset-(small)-files---one-from-Google-and-one-from-Amazon">Let's examine the lines that were just loaded in the two subset (small) files - one from Google and one from Amazon<a class="anchor-link" href="#Let's-examine-the-lines-that-were-just-loaded-in-the-two-subset-(small)-files---one-from-Google-and-one-from-Amazon">&#182;</a></h4>
</div>
</div>
</div>
<div class="cell border-box-sizing code_cell rendered">
<div class="input">
<div class="prompt input_prompt">In&nbsp;[&nbsp;]:</div>
<div class="inner_cell">
    <div class="input_area">
<div class=" highlight hl-ipython3"><pre><span class="k">for</span> <span class="n">line</span> <span class="ow">in</span> <span class="n">googleSmall</span><span class="o">.</span><span class="n">take</span><span class="p">(</span><span class="mi">3</span><span class="p">):</span>
    <span class="nb">print</span> <span class="s">&#39;google: %s: %s</span><span class="se">\n</span><span class="s">&#39;</span> <span class="o">%</span> <span class="p">(</span><span class="n">line</span><span class="p">[</span><span class="mi">0</span><span class="p">],</span> <span class="n">line</span><span class="p">[</span><span class="mi">1</span><span class="p">])</span>

<span class="k">for</span> <span class="n">line</span> <span class="ow">in</span> <span class="n">amazonSmall</span><span class="o">.</span><span class="n">take</span><span class="p">(</span><span class="mi">3</span><span class="p">):</span>
    <span class="nb">print</span> <span class="s">&#39;amazon: %s: %s</span><span class="se">\n</span><span class="s">&#39;</span> <span class="o">%</span> <span class="p">(</span><span class="n">line</span><span class="p">[</span><span class="mi">0</span><span class="p">],</span> <span class="n">line</span><span class="p">[</span><span class="mi">1</span><span class="p">])</span>
</pre></div>

</div>
</div>
</div>

</div>
<div class="cell border-box-sizing text_cell rendered">
<div class="prompt input_prompt">
</div>
<div class="inner_cell">
<div class="text_cell_render border-box-sizing rendered_html">
<h3 id="Part-1:-ER-as-Text-Similarity---Bags-of-Words"><strong>Part 1: ER as Text Similarity - Bags of Words</strong><a class="anchor-link" href="#Part-1:-ER-as-Text-Similarity---Bags-of-Words">&#182;</a></h3><h4 id="A-simple-approach-to-entity-resolution-is-to-treat-all-records-as-strings-and-compute-their-similarity-with-a-string-distance-function.-In-this-part,-we-will-build-some-components-for-performing-bag-of-words-text-analysis,-and-then-use-them-to-compute-record-similarity.">A simple approach to entity resolution is to treat all records as strings and compute their similarity with a string distance function. In this part, we will build some components for performing bag-of-words text-analysis, and then use them to compute record similarity.<a class="anchor-link" href="#A-simple-approach-to-entity-resolution-is-to-treat-all-records-as-strings-and-compute-their-similarity-with-a-string-distance-function.-In-this-part,-we-will-build-some-components-for-performing-bag-of-words-text-analysis,-and-then-use-them-to-compute-record-similarity.">&#182;</a></h4><h4 id="Bag-of-words-is-a-conceptually-simple-yet-powerful-approach-to-text-analysis."><a href="https://en.wikipedia.org/wiki/Bag-of-words_model">Bag-of-words</a> is a conceptually simple yet powerful approach to text analysis.<a class="anchor-link" href="#Bag-of-words-is-a-conceptually-simple-yet-powerful-approach-to-text-analysis.">&#182;</a></h4><h4 id="The-idea-is-to-treat-strings,-a.k.a.-documents,-as-unordered-collections-of-words,-or-tokens,-i.e.,-as-bags-of-words.">The idea is to treat strings, a.k.a. <strong>documents</strong>, as <em>unordered collections</em> of words, or <strong>tokens</strong>, i.e., as bags of words.<a class="anchor-link" href="#The-idea-is-to-treat-strings,-a.k.a.-documents,-as-unordered-collections-of-words,-or-tokens,-i.e.,-as-bags-of-words.">&#182;</a></h4><blockquote><h4 id="Note-on-terminology:-a-&quot;token&quot;-is-the-result-of-parsing-the-document-down-to-the-elements-we-consider-&quot;atomic&quot;-for-the-task-at-hand.--Tokens-can-be-things-like-words,-numbers,-acronyms,-or-other-exotica-like-word-roots-or-fixed-length-character-strings."><strong>Note on terminology</strong>: a "token" is the result of parsing the document down to the elements we consider "atomic" for the task at hand.  Tokens can be things like words, numbers, acronyms, or other exotica like word-roots or fixed-length character strings.<a class="anchor-link" href="#Note-on-terminology:-a-&quot;token&quot;-is-the-result-of-parsing-the-document-down-to-the-elements-we-consider-&quot;atomic&quot;-for-the-task-at-hand.--Tokens-can-be-things-like-words,-numbers,-acronyms,-or-other-exotica-like-word-roots-or-fixed-length-character-strings.">&#182;</a></h4><h4 id="Bag-of-words-techniques-all-apply-to-any-sort-of-token,-so-when-we-say-&quot;bag-of-words&quot;-we-really-mean-&quot;bag-of-tokens,&quot;-strictly-speaking.">Bag of words techniques all apply to any sort of token, so when we say "bag-of-words" we really mean "bag-of-tokens," strictly speaking.<a class="anchor-link" href="#Bag-of-words-techniques-all-apply-to-any-sort-of-token,-so-when-we-say-&quot;bag-of-words&quot;-we-really-mean-&quot;bag-of-tokens,&quot;-strictly-speaking.">&#182;</a></h4><h4 id="Tokens-become-the-atomic-unit-of-text-comparison.-If-we-want-to-compare-two-documents,-we-count-how-many-tokens-they-share-in-common.-If-we-want-to-search-for-documents-with-keyword-queries-(this-is-what-Google-does),-then-we-turn-the-keywords-into-tokens-and-find-documents-that-contain-them.-The-power-of-this-approach-is-that-it-makes-string-comparisons-insensitive-to-small-differences-that-probably-do-not-affect-meaning-much,-for-example,-punctuation-and-word-order.">Tokens become the atomic unit of text comparison. If we want to compare two documents, we count how many tokens they share in common. If we want to search for documents with keyword queries (this is what Google does), then we turn the keywords into tokens and find documents that contain them. The power of this approach is that it makes string comparisons insensitive to small differences that probably do not affect meaning much, for example, punctuation and word order.<a class="anchor-link" href="#Tokens-become-the-atomic-unit-of-text-comparison.-If-we-want-to-compare-two-documents,-we-count-how-many-tokens-they-share-in-common.-If-we-want-to-search-for-documents-with-keyword-queries-(this-is-what-Google-does),-then-we-turn-the-keywords-into-tokens-and-find-documents-that-contain-them.-The-power-of-this-approach-is-that-it-makes-string-comparisons-insensitive-to-small-differences-that-probably-do-not-affect-meaning-much,-for-example,-punctuation-and-word-order.">&#182;</a></h4>
</blockquote>

</div>
</div>
</div>
<div class="cell border-box-sizing text_cell rendered">
<div class="prompt input_prompt">
</div>
<div class="inner_cell">
<div class="text_cell_render border-box-sizing rendered_html">
<h3 id="1(a)-Tokenize-a-String"><strong>1(a) Tokenize a String</strong><a class="anchor-link" href="#1(a)-Tokenize-a-String">&#182;</a></h3><h4 id="Implement-the-function-simpleTokenize(string)-that-takes-a-string-and-returns-a-list-of-non-empty-tokens-in-the-string.-simpleTokenize-should-split-strings-using-the-provided-regular-expression.-Since-we-want-to-make-token-matching-case-insensitive,-make-sure-all-tokens-are-turned-lower-case.-Give-an-interpretation,-in-natural-language,-of-what-the-regular-expression,-split_regex,-matches.">Implement the function <code>simpleTokenize(string)</code> that takes a string and returns a list of non-empty tokens in the string. <code>simpleTokenize</code> should split strings using the provided regular expression. Since we want to make token-matching case insensitive, make sure all tokens are turned lower-case. Give an interpretation, in natural language, of what the regular expression, <code>split_regex</code>, matches.<a class="anchor-link" href="#Implement-the-function-simpleTokenize(string)-that-takes-a-string-and-returns-a-list-of-non-empty-tokens-in-the-string.-simpleTokenize-should-split-strings-using-the-provided-regular-expression.-Since-we-want-to-make-token-matching-case-insensitive,-make-sure-all-tokens-are-turned-lower-case.-Give-an-interpretation,-in-natural-language,-of-what-the-regular-expression,-split_regex,-matches.">&#182;</a></h4><h4 id="If-you-need-help-with-Regular-Expressions,-try-the-site-regex101-where-you-can-interactively-explore-the-results-of-applying-different-regular-expressions-to-strings.-Note-that-\W-includes-the-&quot;_&quot;-character.--You-should-use-re.split()-to-perform-the-string-split.-Also,-make-sure-you-remove-any-empty-tokens.">If you need help with Regular Expressions, try the site <a href="https://regex101.com/">regex101</a> where you can interactively explore the results of applying different regular expressions to strings. <em>Note that \W includes the "_" character</em>.  You should use <a href="https://docs.python.org/2/library/re.html#re.split">re.split()</a> to perform the string split. Also, make sure you remove any empty tokens.<a class="anchor-link" href="#If-you-need-help-with-Regular-Expressions,-try-the-site-regex101-where-you-can-interactively-explore-the-results-of-applying-different-regular-expressions-to-strings.-Note-that-\W-includes-the-&quot;_&quot;-character.--You-should-use-re.split()-to-perform-the-string-split.-Also,-make-sure-you-remove-any-empty-tokens.">&#182;</a></h4>
</div>
</div>
</div>
<div class="cell border-box-sizing code_cell rendered">
<div class="input">
<div class="prompt input_prompt">In&nbsp;[&nbsp;]:</div>
<div class="inner_cell">
    <div class="input_area">
<div class=" highlight hl-ipython3"><pre><span class="c"># TODO: Replace &lt;FILL IN&gt; with appropriate code</span>
<span class="n">quickbrownfox</span> <span class="o">=</span> <span class="s">&#39;A quick brown fox jumps over the lazy dog.&#39;</span>
<span class="n">split_regex</span> <span class="o">=</span> <span class="s">r&#39;\W+&#39;</span>

<span class="k">def</span> <span class="nf">simpleTokenize</span><span class="p">(</span><span class="n">string</span><span class="p">):</span>
    <span class="sd">&quot;&quot;&quot; A simple implementation of input string tokenization</span>
<span class="sd">    Args:</span>
<span class="sd">        string (str): input string</span>
<span class="sd">    Returns:</span>
<span class="sd">        list: a list of tokens</span>
<span class="sd">    &quot;&quot;&quot;</span>
    <span class="k">return</span> <span class="o">&lt;</span><span class="n">FILL</span> <span class="n">IN</span><span class="o">&gt;</span>

<span class="nb">print</span> <span class="n">simpleTokenize</span><span class="p">(</span><span class="n">quickbrownfox</span><span class="p">)</span> <span class="c"># Should give [&#39;a&#39;, &#39;quick&#39;, &#39;brown&#39;, ... ]</span>
</pre></div>

</div>
</div>
</div>

</div>
<div class="cell border-box-sizing code_cell rendered">
<div class="input">
<div class="prompt input_prompt">In&nbsp;[&nbsp;]:</div>
<div class="inner_cell">
    <div class="input_area">
<div class=" highlight hl-ipython3"><pre><span class="c"># TEST Tokenize a String (1a)</span>
<span class="n">Test</span><span class="o">.</span><span class="n">assertEquals</span><span class="p">(</span><span class="n">simpleTokenize</span><span class="p">(</span><span class="n">quickbrownfox</span><span class="p">),</span>
                  <span class="p">[</span><span class="s">&#39;a&#39;</span><span class="p">,</span><span class="s">&#39;quick&#39;</span><span class="p">,</span><span class="s">&#39;brown&#39;</span><span class="p">,</span><span class="s">&#39;fox&#39;</span><span class="p">,</span><span class="s">&#39;jumps&#39;</span><span class="p">,</span><span class="s">&#39;over&#39;</span><span class="p">,</span><span class="s">&#39;the&#39;</span><span class="p">,</span><span class="s">&#39;lazy&#39;</span><span class="p">,</span><span class="s">&#39;dog&#39;</span><span class="p">],</span>
                  <span class="s">&#39;simpleTokenize should handle sample text&#39;</span><span class="p">)</span>
<span class="n">Test</span><span class="o">.</span><span class="n">assertEquals</span><span class="p">(</span><span class="n">simpleTokenize</span><span class="p">(</span><span class="s">&#39; &#39;</span><span class="p">),</span> <span class="p">[],</span> <span class="s">&#39;simpleTokenize should handle empty string&#39;</span><span class="p">)</span>
<span class="n">Test</span><span class="o">.</span><span class="n">assertEquals</span><span class="p">(</span><span class="n">simpleTokenize</span><span class="p">(</span><span class="s">&#39;!!!!123A/456_B/789C.123A&#39;</span><span class="p">),</span> <span class="p">[</span><span class="s">&#39;123a&#39;</span><span class="p">,</span><span class="s">&#39;456_b&#39;</span><span class="p">,</span><span class="s">&#39;789c&#39;</span><span class="p">,</span><span class="s">&#39;123a&#39;</span><span class="p">],</span>
                  <span class="s">&#39;simpleTokenize should handle puntuations and lowercase result&#39;</span><span class="p">)</span>
<span class="n">Test</span><span class="o">.</span><span class="n">assertEquals</span><span class="p">(</span><span class="n">simpleTokenize</span><span class="p">(</span><span class="s">&#39;fox fox&#39;</span><span class="p">),</span> <span class="p">[</span><span class="s">&#39;fox&#39;</span><span class="p">,</span> <span class="s">&#39;fox&#39;</span><span class="p">],</span>
                  <span class="s">&#39;simpleTokenize should not remove duplicates&#39;</span><span class="p">)</span>
</pre></div>

</div>
</div>
</div>

</div>
<div class="cell border-box-sizing text_cell rendered">
<div class="prompt input_prompt">
</div>
<div class="inner_cell">
<div class="text_cell_render border-box-sizing rendered_html">
<h3 id="(1b)-Removing-stopwords"><strong>(1b) Removing stopwords</strong><a class="anchor-link" href="#(1b)-Removing-stopwords">&#182;</a></h3><h4 id="Stopwords-are-common-(English)-words-that-do-not-contribute-much-to-the-content-or-meaning-of-a-document-(e.g.,-&quot;the&quot;,-&quot;a&quot;,-&quot;is&quot;,-&quot;to&quot;,-etc.).-Stopwords-add-noise-to-bag-of-words-comparisons,-so-they-are-usually-excluded."><em><a href="https://en.wikipedia.org/wiki/Stop_words">Stopwords</a></em> are common (English) words that do not contribute much to the content or meaning of a document (e.g., "the", "a", "is", "to", etc.). Stopwords add noise to bag-of-words comparisons, so they are usually excluded.<a class="anchor-link" href="#Stopwords-are-common-(English)-words-that-do-not-contribute-much-to-the-content-or-meaning-of-a-document-(e.g.,-&quot;the&quot;,-&quot;a&quot;,-&quot;is&quot;,-&quot;to&quot;,-etc.).-Stopwords-add-noise-to-bag-of-words-comparisons,-so-they-are-usually-excluded.">&#182;</a></h4><h4 id="Using-the-included-file-&quot;stopwords.txt&quot;,-implement-tokenize,-an-improved-tokenizer-that-does-not-emit-stopwords.">Using the included file "stopwords.txt", implement <code>tokenize</code>, an improved tokenizer that does not emit stopwords.<a class="anchor-link" href="#Using-the-included-file-&quot;stopwords.txt&quot;,-implement-tokenize,-an-improved-tokenizer-that-does-not-emit-stopwords.">&#182;</a></h4>
</div>
</div>
</div>
<div class="cell border-box-sizing code_cell rendered">
<div class="input">
<div class="prompt input_prompt">In&nbsp;[&nbsp;]:</div>
<div class="inner_cell">
    <div class="input_area">
<div class=" highlight hl-ipython3"><pre><span class="c"># TODO: Replace &lt;FILL IN&gt; with appropriate code</span>
<span class="n">stopfile</span> <span class="o">=</span> <span class="n">os</span><span class="o">.</span><span class="n">path</span><span class="o">.</span><span class="n">join</span><span class="p">(</span><span class="n">baseDir</span><span class="p">,</span> <span class="n">inputPath</span><span class="p">,</span> <span class="n">STOPWORDS_PATH</span><span class="p">)</span>
<span class="n">stopwords</span> <span class="o">=</span> <span class="nb">set</span><span class="p">(</span><span class="n">sc</span><span class="o">.</span><span class="n">textFile</span><span class="p">(</span><span class="n">stopfile</span><span class="p">)</span><span class="o">.</span><span class="n">collect</span><span class="p">())</span>
<span class="nb">print</span> <span class="s">&#39;These are the stopwords: %s&#39;</span> <span class="o">%</span> <span class="n">stopwords</span>

<span class="k">def</span> <span class="nf">tokenize</span><span class="p">(</span><span class="n">string</span><span class="p">):</span>
    <span class="sd">&quot;&quot;&quot; An implementation of input string tokenization that excludes stopwords</span>
<span class="sd">    Args:</span>
<span class="sd">        string (str): input string</span>
<span class="sd">    Returns:</span>
<span class="sd">        list: a list of tokens without stopwords</span>
<span class="sd">    &quot;&quot;&quot;</span>
    <span class="k">return</span> <span class="o">&lt;</span><span class="n">FILL</span> <span class="n">IN</span><span class="o">&gt;</span>

<span class="nb">print</span> <span class="n">tokenize</span><span class="p">(</span><span class="n">quickbrownfox</span><span class="p">)</span> <span class="c"># Should give [&#39;quick&#39;, &#39;brown&#39;, ... ]</span>
</pre></div>

</div>
</div>
</div>

</div>
<div class="cell border-box-sizing code_cell rendered">
<div class="input">
<div class="prompt input_prompt">In&nbsp;[&nbsp;]:</div>
<div class="inner_cell">
    <div class="input_area">
<div class=" highlight hl-ipython3"><pre><span class="c"># TEST Removing stopwords (1b)</span>
<span class="n">Test</span><span class="o">.</span><span class="n">assertEquals</span><span class="p">(</span><span class="n">tokenize</span><span class="p">(</span><span class="s">&quot;Why a the?&quot;</span><span class="p">),</span> <span class="p">[],</span> <span class="s">&#39;tokenize should remove all stopwords&#39;</span><span class="p">)</span>
<span class="n">Test</span><span class="o">.</span><span class="n">assertEquals</span><span class="p">(</span><span class="n">tokenize</span><span class="p">(</span><span class="s">&quot;Being at the_?&quot;</span><span class="p">),</span> <span class="p">[</span><span class="s">&#39;the_&#39;</span><span class="p">],</span> <span class="s">&#39;tokenize should handle non-stopwords&#39;</span><span class="p">)</span>
<span class="n">Test</span><span class="o">.</span><span class="n">assertEquals</span><span class="p">(</span><span class="n">tokenize</span><span class="p">(</span><span class="n">quickbrownfox</span><span class="p">),</span> <span class="p">[</span><span class="s">&#39;quick&#39;</span><span class="p">,</span><span class="s">&#39;brown&#39;</span><span class="p">,</span><span class="s">&#39;fox&#39;</span><span class="p">,</span><span class="s">&#39;jumps&#39;</span><span class="p">,</span><span class="s">&#39;lazy&#39;</span><span class="p">,</span><span class="s">&#39;dog&#39;</span><span class="p">],</span>
                    <span class="s">&#39;tokenize should handle sample text&#39;</span><span class="p">)</span>
</pre></div>

</div>
</div>
</div>

</div>
<div class="cell border-box-sizing text_cell rendered">
<div class="prompt input_prompt">
</div>
<div class="inner_cell">
<div class="text_cell_render border-box-sizing rendered_html">
<h3 id="(1c)-Tokenizing-the-small-datasets"><strong>(1c) Tokenizing the small datasets</strong><a class="anchor-link" href="#(1c)-Tokenizing-the-small-datasets">&#182;</a></h3><h4 id="Now-let's-tokenize-the-two-small-datasets.-For-each-ID-in-a-dataset,-tokenize-the-values,-and-then-count-the-total-number-of-tokens.">Now let's tokenize the two <em>small</em> datasets. For each ID in a dataset, <code>tokenize</code> the values, and then count the total number of tokens.<a class="anchor-link" href="#Now-let's-tokenize-the-two-small-datasets.-For-each-ID-in-a-dataset,-tokenize-the-values,-and-then-count-the-total-number-of-tokens.">&#182;</a></h4><h4 id="How-many-tokens,-total,-are-there-in-the-two-datasets?">How many tokens, total, are there in the two datasets?<a class="anchor-link" href="#How-many-tokens,-total,-are-there-in-the-two-datasets?">&#182;</a></h4>
</div>
</div>
</div>
<div class="cell border-box-sizing code_cell rendered">
<div class="input">
<div class="prompt input_prompt">In&nbsp;[&nbsp;]:</div>
<div class="inner_cell">
    <div class="input_area">
<div class=" highlight hl-ipython3"><pre><span class="c"># TODO: Replace &lt;FILL IN&gt; with appropriate code</span>
<span class="n">amazonRecToToken</span> <span class="o">=</span> <span class="n">amazonSmall</span><span class="o">.&lt;</span><span class="n">FILL</span> <span class="n">IN</span><span class="o">&gt;</span>
<span class="n">googleRecToToken</span> <span class="o">=</span> <span class="n">googleSmall</span><span class="o">.&lt;</span><span class="n">FILL</span> <span class="n">IN</span><span class="o">&gt;</span>

<span class="k">def</span> <span class="nf">countTokens</span><span class="p">(</span><span class="n">vendorRDD</span><span class="p">):</span>
    <span class="sd">&quot;&quot;&quot; Count and return the number of tokens</span>
<span class="sd">    Args:</span>
<span class="sd">        vendorRDD (RDD of (recordId, tokenizedValue)): Pair tuple of record ID to tokenized output</span>
<span class="sd">    Returns:</span>
<span class="sd">        count: count of all tokens</span>
<span class="sd">    &quot;&quot;&quot;</span>
    <span class="k">return</span> <span class="o">&lt;</span><span class="n">FILL</span> <span class="n">IN</span><span class="o">&gt;</span>

<span class="n">totalTokens</span> <span class="o">=</span> <span class="n">countTokens</span><span class="p">(</span><span class="n">amazonRecToToken</span><span class="p">)</span> <span class="o">+</span> <span class="n">countTokens</span><span class="p">(</span><span class="n">googleRecToToken</span><span class="p">)</span>
<span class="nb">print</span> <span class="s">&#39;There are %s tokens in the combined datasets&#39;</span> <span class="o">%</span> <span class="n">totalTokens</span>
</pre></div>

</div>
</div>
</div>

</div>
<div class="cell border-box-sizing code_cell rendered">
<div class="input">
<div class="prompt input_prompt">In&nbsp;[&nbsp;]:</div>
<div class="inner_cell">
    <div class="input_area">
<div class=" highlight hl-ipython3"><pre><span class="c"># TEST Tokenizing the small datasets (1c)</span>
<span class="n">Test</span><span class="o">.</span><span class="n">assertEquals</span><span class="p">(</span><span class="n">totalTokens</span><span class="p">,</span> <span class="mi">22520</span><span class="p">,</span> <span class="s">&#39;incorrect totalTokens&#39;</span><span class="p">)</span>
</pre></div>

</div>
</div>
</div>

</div>
<div class="cell border-box-sizing text_cell rendered">
<div class="prompt input_prompt">
</div>
<div class="inner_cell">
<div class="text_cell_render border-box-sizing rendered_html">
<h3 id="(1d)-Amazon-record-with-the-most-tokens"><strong>(1d) Amazon record with the most tokens</strong><a class="anchor-link" href="#(1d)-Amazon-record-with-the-most-tokens">&#182;</a></h3><h4 id="Which-Amazon-record-has-the-biggest-number-of-tokens?">Which Amazon record has the biggest number of tokens?<a class="anchor-link" href="#Which-Amazon-record-has-the-biggest-number-of-tokens?">&#182;</a></h4><h4 id="In-other-words,-you-want-to-sort-the-records-and-get-the-one-with-the-largest-count-of-tokens.">In other words, you want to sort the records and get the one with the largest count of tokens.<a class="anchor-link" href="#In-other-words,-you-want-to-sort-the-records-and-get-the-one-with-the-largest-count-of-tokens.">&#182;</a></h4>
</div>
</div>
</div>
<div class="cell border-box-sizing code_cell rendered">
<div class="input">
<div class="prompt input_prompt">In&nbsp;[&nbsp;]:</div>
<div class="inner_cell">
    <div class="input_area">
<div class=" highlight hl-ipython3"><pre><span class="c"># TODO: Replace &lt;FILL IN&gt; with appropriate code</span>
<span class="k">def</span> <span class="nf">findBiggestRecord</span><span class="p">(</span><span class="n">vendorRDD</span><span class="p">):</span>
    <span class="sd">&quot;&quot;&quot; Find and return the record with the largest number of tokens</span>
<span class="sd">    Args:</span>
<span class="sd">        vendorRDD (RDD of (recordId, tokens)): input Pair Tuple of record ID and tokens</span>
<span class="sd">    Returns:</span>
<span class="sd">        list: a list of 1 Pair Tuple of record ID and tokens</span>
<span class="sd">    &quot;&quot;&quot;</span>
    <span class="k">return</span> <span class="o">&lt;</span><span class="n">FILL</span> <span class="n">IN</span><span class="o">&gt;</span>

<span class="n">biggestRecordAmazon</span> <span class="o">=</span> <span class="n">findBiggestRecord</span><span class="p">(</span><span class="n">amazonRecToToken</span><span class="p">)</span>
<span class="nb">print</span> <span class="s">&#39;The Amazon record with ID &quot;%s&quot; has the most tokens (%s)&#39;</span> <span class="o">%</span> <span class="p">(</span><span class="n">biggestRecordAmazon</span><span class="p">[</span><span class="mi">0</span><span class="p">][</span><span class="mi">0</span><span class="p">],</span>
                                                                   <span class="nb">len</span><span class="p">(</span><span class="n">biggestRecordAmazon</span><span class="p">[</span><span class="mi">0</span><span class="p">][</span><span class="mi">1</span><span class="p">]))</span>
</pre></div>

</div>
</div>
</div>

</div>
<div class="cell border-box-sizing code_cell rendered">
<div class="input">
<div class="prompt input_prompt">In&nbsp;[&nbsp;]:</div>
<div class="inner_cell">
    <div class="input_area">
<div class=" highlight hl-ipython3"><pre><span class="c"># TEST Amazon record with the most tokens (1d)</span>
<span class="n">Test</span><span class="o">.</span><span class="n">assertEquals</span><span class="p">(</span><span class="n">biggestRecordAmazon</span><span class="p">[</span><span class="mi">0</span><span class="p">][</span><span class="mi">0</span><span class="p">],</span> <span class="s">&#39;b000o24l3q&#39;</span><span class="p">,</span> <span class="s">&#39;incorrect biggestRecordAmazon&#39;</span><span class="p">)</span>
<span class="n">Test</span><span class="o">.</span><span class="n">assertEquals</span><span class="p">(</span><span class="nb">len</span><span class="p">(</span><span class="n">biggestRecordAmazon</span><span class="p">[</span><span class="mi">0</span><span class="p">][</span><span class="mi">1</span><span class="p">]),</span> <span class="mi">1547</span><span class="p">,</span> <span class="s">&#39;incorrect len for biggestRecordAmazon&#39;</span><span class="p">)</span>
</pre></div>

</div>
</div>
</div>

</div>
<div class="cell border-box-sizing text_cell rendered">
<div class="prompt input_prompt">
</div>
<div class="inner_cell">
<div class="text_cell_render border-box-sizing rendered_html">
<h3 id="Part-2:-ER-as-Text-Similarity---Weighted-Bag-of-Words-using-TF-IDF"><strong>Part 2: ER as Text Similarity - Weighted Bag-of-Words using TF-IDF</strong><a class="anchor-link" href="#Part-2:-ER-as-Text-Similarity---Weighted-Bag-of-Words-using-TF-IDF">&#182;</a></h3><h4 id="Bag-of-words-comparisons-are-not-very-good-when-all-tokens-are-treated-the-same:-some-tokens-are-more-important-than-others.-Weights-give-us-a-way-to-specify-which-tokens-to-favor.-With-weights,-when-we-compare-documents,-instead-of-counting-common-tokens,-we-sum-up-the-weights-of-common-tokens.-A-good-heuristic-for-assigning-weights-is-called-&quot;Term-Frequency/Inverse-Document-Frequency,&quot;-or-TF-IDF-for-short.">Bag-of-words comparisons are not very good when all tokens are treated the same: some tokens are more important than others. Weights give us a way to specify which tokens to favor. With weights, when we compare documents, instead of counting common tokens, we sum up the weights of common tokens. A good heuristic for assigning weights is called "Term-Frequency/Inverse-Document-Frequency," or <a href="https://en.wikipedia.org/wiki/Tf%E2%80%93idf">TF-IDF</a> for short.<a class="anchor-link" href="#Bag-of-words-comparisons-are-not-very-good-when-all-tokens-are-treated-the-same:-some-tokens-are-more-important-than-others.-Weights-give-us-a-way-to-specify-which-tokens-to-favor.-With-weights,-when-we-compare-documents,-instead-of-counting-common-tokens,-we-sum-up-the-weights-of-common-tokens.-A-good-heuristic-for-assigning-weights-is-called-&quot;Term-Frequency/Inverse-Document-Frequency,&quot;-or-TF-IDF-for-short.">&#182;</a></h4><h4 id="TF"><strong>TF</strong><a class="anchor-link" href="#TF">&#182;</a></h4><h4 id="TF-rewards-tokens-that-appear-many-times-in-the-same-document.-It-is-computed-as-the-frequency-of-a-token-in-a-document,-that-is,-if-document-d-contains-100-tokens-and-token-t-appears-in-d-5-times,-then-the-TF-weight-of-t-in-d-is-5/100-=-1/20.-The-intuition-for-TF-is-that-if-a-word-occurs-often-in-a-document,-then-it-is-more-important-to-the-meaning-of-the-document.">TF rewards tokens that appear many times in the same document. It is computed as the frequency of a token in a document, that is, if document <em>d</em> contains 100 tokens and token <em>t</em> appears in <em>d</em> 5 times, then the TF weight of <em>t</em> in <em>d</em> is <em>5/100 = 1/20</em>. The intuition for TF is that if a word occurs often in a document, then it is more important to the meaning of the document.<a class="anchor-link" href="#TF-rewards-tokens-that-appear-many-times-in-the-same-document.-It-is-computed-as-the-frequency-of-a-token-in-a-document,-that-is,-if-document-d-contains-100-tokens-and-token-t-appears-in-d-5-times,-then-the-TF-weight-of-t-in-d-is-5/100-=-1/20.-The-intuition-for-TF-is-that-if-a-word-occurs-often-in-a-document,-then-it-is-more-important-to-the-meaning-of-the-document.">&#182;</a></h4><h4 id="IDF"><strong>IDF</strong><a class="anchor-link" href="#IDF">&#182;</a></h4><h4 id="IDF-rewards-tokens-that-are-rare-overall-in-a-dataset.-The-intuition-is-that-it-is-more-significant-if-two-documents-share-a-rare-word-than-a-common-one.-IDF-weight-for-a-token,-t,-in-a-set-of-documents,-U,-is-computed-as-follows:">IDF rewards tokens that are rare overall in a dataset. The intuition is that it is more significant if two documents share a rare word than a common one. IDF weight for a token, <em>t</em>, in a set of documents, <em>U</em>, is computed as follows:<a class="anchor-link" href="#IDF-rewards-tokens-that-are-rare-overall-in-a-dataset.-The-intuition-is-that-it-is-more-significant-if-two-documents-share-a-rare-word-than-a-common-one.-IDF-weight-for-a-token,-t,-in-a-set-of-documents,-U,-is-computed-as-follows:">&#182;</a></h4><ul>
<li>#### Let <em>N</em> be the total number of documents in <em>U</em></li>
<li>#### Find <em>n(t)</em>, the number of documents in <em>U</em> that contain <em>t</em></li>
<li>#### Then <em>IDF(t) = N/n(t)</em>.
#### Note that <em>n(t)/N</em> is the frequency of <em>t</em> in <em>U</em>, and <em>N/n(t)</em> is the inverse frequency.<blockquote><h4 id="Note-on-terminology:-Sometimes-token-weights-depend-on-the-document-the-token-belongs-to,-that-is,-the-same-token-may-have-a-different-weight-when-it's-found-in-different-documents.--We-call-these-weights-local-weights.--TF-is-an-example-of-a-local-weight,-because-it-depends-on-the-length-of-the-source.--On-the-other-hand,-some-token-weights-only-depend-on-the-token,-and-are-the-same-everywhere-that-token-is-found.--We-call-these-weights-global,-and-IDF-is-one-such-weight."><strong>Note on terminology</strong>: Sometimes token weights depend on the document the token belongs to, that is, the same token may have a different weight when it's found in different documents.  We call these weights <em>local</em> weights.  TF is an example of a local weight, because it depends on the length of the source.  On the other hand, some token weights only depend on the token, and are the same everywhere that token is found.  We call these weights <em>global</em>, and IDF is one such weight.<a class="anchor-link" href="#Note-on-terminology:-Sometimes-token-weights-depend-on-the-document-the-token-belongs-to,-that-is,-the-same-token-may-have-a-different-weight-when-it's-found-in-different-documents.--We-call-these-weights-local-weights.--TF-is-an-example-of-a-local-weight,-because-it-depends-on-the-length-of-the-source.--On-the-other-hand,-some-token-weights-only-depend-on-the-token,-and-are-the-same-everywhere-that-token-is-found.--We-call-these-weights-global,-and-IDF-is-one-such-weight.">&#182;</a></h4><h4 id="TF-IDF"><strong>TF-IDF</strong><a class="anchor-link" href="#TF-IDF">&#182;</a></h4><h4 id="Finally,-to-bring-it-all-together,-the-total-TF-IDF-weight-for-a-token-in-a-document-is-the-product-of-its-TF-and-IDF-weights.">Finally, to bring it all together, the total TF-IDF weight for a token in a document is the product of its TF and IDF weights.<a class="anchor-link" href="#Finally,-to-bring-it-all-together,-the-total-TF-IDF-weight-for-a-token-in-a-document-is-the-product-of-its-TF-and-IDF-weights.">&#182;</a></h4>
</blockquote>
</li>
</ul>

</div>
</div>
</div>
<div class="cell border-box-sizing text_cell rendered">
<div class="prompt input_prompt">
</div>
<div class="inner_cell">
<div class="text_cell_render border-box-sizing rendered_html">
<h3 id="(2a)-Implement-a-TF-function"><strong>(2a) Implement a TF function</strong><a class="anchor-link" href="#(2a)-Implement-a-TF-function">&#182;</a></h3><h4 id="Implement-tf(tokens)-that-takes-a-list-of-tokens-and-returns-a-Python-dictionary-mapping-tokens-to-TF-weights.">Implement <code>tf(tokens)</code> that takes a list of tokens and returns a Python <a href="https://docs.python.org/2/tutorial/datastructures.html#dictionaries">dictionary</a> mapping tokens to TF weights.<a class="anchor-link" href="#Implement-tf(tokens)-that-takes-a-list-of-tokens-and-returns-a-Python-dictionary-mapping-tokens-to-TF-weights.">&#182;</a></h4><h4 id="The-steps-your-function-should-perform-are:">The steps your function should perform are:<a class="anchor-link" href="#The-steps-your-function-should-perform-are:">&#182;</a></h4><ul>
<li>#### Create an empty Python dictionary</li>
<li>#### For each of the tokens in the input <code>tokens</code> list, count 1 for each occurance and add the token to the dictionary</li>
<li>#### For each of the tokens in the dictionary, divide the token's count by the total number of tokens in the input <code>tokens</code> list</li>
</ul>

</div>
</div>
</div>
<div class="cell border-box-sizing code_cell rendered">
<div class="input">
<div class="prompt input_prompt">In&nbsp;[&nbsp;]:</div>
<div class="inner_cell">
    <div class="input_area">
<div class=" highlight hl-ipython3"><pre><span class="c"># TODO: Replace &lt;FILL IN&gt; with appropriate code</span>
<span class="k">def</span> <span class="nf">tf</span><span class="p">(</span><span class="n">tokens</span><span class="p">):</span>
    <span class="sd">&quot;&quot;&quot; Compute TF</span>
<span class="sd">    Args:</span>
<span class="sd">        tokens (list of str): input list of tokens from tokenize</span>
<span class="sd">    Returns:</span>
<span class="sd">        dictionary: a dictionary of tokens to its TF values</span>
<span class="sd">    &quot;&quot;&quot;</span>
    <span class="o">&lt;</span><span class="n">FILL</span> <span class="n">IN</span><span class="o">&gt;</span>
    <span class="k">return</span> <span class="o">&lt;</span><span class="n">FILL</span> <span class="n">IN</span><span class="o">&gt;</span>

<span class="nb">print</span> <span class="n">tf</span><span class="p">(</span><span class="n">tokenize</span><span class="p">(</span><span class="n">quickbrownfox</span><span class="p">))</span> <span class="c"># Should give { &#39;quick&#39;: 0.1666 ... }</span>
</pre></div>

</div>
</div>
</div>

</div>
<div class="cell border-box-sizing code_cell rendered">
<div class="input">
<div class="prompt input_prompt">In&nbsp;[&nbsp;]:</div>
<div class="inner_cell">
    <div class="input_area">
<div class=" highlight hl-ipython3"><pre><span class="c"># TEST Implement a TF function (2a)</span>
<span class="n">tf_test</span> <span class="o">=</span> <span class="n">tf</span><span class="p">(</span><span class="n">tokenize</span><span class="p">(</span><span class="n">quickbrownfox</span><span class="p">))</span>
<span class="n">Test</span><span class="o">.</span><span class="n">assertEquals</span><span class="p">(</span><span class="n">tf_test</span><span class="p">,</span> <span class="p">{</span><span class="s">&#39;brown&#39;</span><span class="p">:</span> <span class="mf">0.16666666666666666</span><span class="p">,</span> <span class="s">&#39;lazy&#39;</span><span class="p">:</span> <span class="mf">0.16666666666666666</span><span class="p">,</span>
                             <span class="s">&#39;jumps&#39;</span><span class="p">:</span> <span class="mf">0.16666666666666666</span><span class="p">,</span> <span class="s">&#39;fox&#39;</span><span class="p">:</span> <span class="mf">0.16666666666666666</span><span class="p">,</span>
                             <span class="s">&#39;dog&#39;</span><span class="p">:</span> <span class="mf">0.16666666666666666</span><span class="p">,</span> <span class="s">&#39;quick&#39;</span><span class="p">:</span> <span class="mf">0.16666666666666666</span><span class="p">},</span>
                    <span class="s">&#39;incorrect result for tf on sample text&#39;</span><span class="p">)</span>
<span class="n">tf_test2</span> <span class="o">=</span> <span class="n">tf</span><span class="p">(</span><span class="n">tokenize</span><span class="p">(</span><span class="s">&#39;one_ one_ two!&#39;</span><span class="p">))</span>
<span class="n">Test</span><span class="o">.</span><span class="n">assertEquals</span><span class="p">(</span><span class="n">tf_test2</span><span class="p">,</span> <span class="p">{</span><span class="s">&#39;one_&#39;</span><span class="p">:</span> <span class="mf">0.6666666666666666</span><span class="p">,</span> <span class="s">&#39;two&#39;</span><span class="p">:</span> <span class="mf">0.3333333333333333</span><span class="p">},</span>
                    <span class="s">&#39;incorrect result for tf test&#39;</span><span class="p">)</span>
</pre></div>

</div>
</div>
</div>

</div>
<div class="cell border-box-sizing text_cell rendered">
<div class="prompt input_prompt">
</div>
<div class="inner_cell">
<div class="text_cell_render border-box-sizing rendered_html">
<h3 id="(2b)-Create-a-corpus"><strong>(2b) Create a corpus</strong><a class="anchor-link" href="#(2b)-Create-a-corpus">&#182;</a></h3><h4 id="Create-a-pair-RDD-called-corpusRDD,-consisting-of-a-combination-of-the-two-small-datasets,-amazonRecToToken-and-googleRecToToken.-Each-element-of-the-corpusRDD-should-be-a-pair-consisting-of-a-key-from-one-of-the-small-datasets-(ID-or-URL)-and-the-value-is-the-associated-value-for-that-key-from-the-small-datasets.">Create a pair RDD called <code>corpusRDD</code>, consisting of a combination of the two small datasets, <code>amazonRecToToken</code> and <code>googleRecToToken</code>. Each element of the <code>corpusRDD</code> should be a pair consisting of a key from one of the small datasets (ID or URL) and the value is the associated value for that key from the small datasets.<a class="anchor-link" href="#Create-a-pair-RDD-called-corpusRDD,-consisting-of-a-combination-of-the-two-small-datasets,-amazonRecToToken-and-googleRecToToken.-Each-element-of-the-corpusRDD-should-be-a-pair-consisting-of-a-key-from-one-of-the-small-datasets-(ID-or-URL)-and-the-value-is-the-associated-value-for-that-key-from-the-small-datasets.">&#182;</a></h4>
</div>
</div>
</div>
<div class="cell border-box-sizing code_cell rendered">
<div class="input">
<div class="prompt input_prompt">In&nbsp;[&nbsp;]:</div>
<div class="inner_cell">
    <div class="input_area">
<div class=" highlight hl-ipython3"><pre><span class="c"># TODO: Replace &lt;FILL IN&gt; with appropriate code</span>
<span class="n">corpusRDD</span> <span class="o">=</span> <span class="o">&lt;</span><span class="n">FILL</span> <span class="n">IN</span><span class="o">&gt;</span>
</pre></div>

</div>
</div>
</div>

</div>
<div class="cell border-box-sizing code_cell rendered">
<div class="input">
<div class="prompt input_prompt">In&nbsp;[&nbsp;]:</div>
<div class="inner_cell">
    <div class="input_area">
<div class=" highlight hl-ipython3"><pre><span class="c"># TEST Create a corpus (2b)</span>
<span class="n">Test</span><span class="o">.</span><span class="n">assertEquals</span><span class="p">(</span><span class="n">corpusRDD</span><span class="o">.</span><span class="n">count</span><span class="p">(),</span> <span class="mi">400</span><span class="p">,</span> <span class="s">&#39;incorrect corpusRDD.count()&#39;</span><span class="p">)</span>
</pre></div>

</div>
</div>
</div>

</div>
<div class="cell border-box-sizing text_cell rendered">
<div class="prompt input_prompt">
</div>
<div class="inner_cell">
<div class="text_cell_render border-box-sizing rendered_html">
<h3 id="(2c)-Implement-an-IDFs-function"><strong>(2c) Implement an IDFs function</strong><a class="anchor-link" href="#(2c)-Implement-an-IDFs-function">&#182;</a></h3><h4 id="Implement-idfs-that-assigns-an-IDF-weight-to-every-unique-token-in-an-RDD-called-corpus.-The-function-should-return-an-pair-RDD-where-the-key-is-the-unique-token-and-value-is-the-IDF-weight-for-the-token.">Implement <code>idfs</code> that assigns an IDF weight to every unique token in an RDD called <code>corpus</code>. The function should return an pair RDD where the <code>key</code> is the unique token and value is the IDF weight for the token.<a class="anchor-link" href="#Implement-idfs-that-assigns-an-IDF-weight-to-every-unique-token-in-an-RDD-called-corpus.-The-function-should-return-an-pair-RDD-where-the-key-is-the-unique-token-and-value-is-the-IDF-weight-for-the-token.">&#182;</a></h4><h4 id="Recall-that-the-IDF-weight-for-a-token,-t,-in-a-set-of-documents,-U,-is-computed-as-follows:">Recall that the IDF weight for a token, <em>t</em>, in a set of documents, <em>U</em>, is computed as follows:<a class="anchor-link" href="#Recall-that-the-IDF-weight-for-a-token,-t,-in-a-set-of-documents,-U,-is-computed-as-follows:">&#182;</a></h4><ul>
<li>#### Let <em>N</em> be the total number of documents in <em>U</em>.</li>
<li>#### Find <em>n(t)</em>, the number of documents in <em>U</em> that contain <em>t</em>.</li>
<li>#### Then <em>IDF(t) = N/n(t)</em>.
#### The steps your function should perform are:</li>
<li>#### Calculate <em>N</em>. Think about how you can calculate <em>N</em> from the input RDD.</li>
<li>#### Create an RDD (<em>not a pair RDD</em>) containing the unique tokens from each document in the input <code>corpus</code>. For each document, you should only include a token once, <em>even if it appears multiple times in that document.</em></li>
<li>#### For each of the unique tokens, count how many times it appears in the document and then compute the IDF for that token: <em>N/n(t)</em>
#### Use your <code>idfs</code> to compute the IDF weights for all tokens in <code>corpusRDD</code> (the combined small datasets).
#### How many unique tokens are there?</li>
</ul>

</div>
</div>
</div>
<div class="cell border-box-sizing code_cell rendered">
<div class="input">
<div class="prompt input_prompt">In&nbsp;[&nbsp;]:</div>
<div class="inner_cell">
    <div class="input_area">
<div class=" highlight hl-ipython3"><pre><span class="c"># TODO: Replace &lt;FILL IN&gt; with appropriate code</span>
<span class="k">def</span> <span class="nf">idfs</span><span class="p">(</span><span class="n">corpus</span><span class="p">):</span>
    <span class="sd">&quot;&quot;&quot; Compute IDF</span>
<span class="sd">    Args:</span>
<span class="sd">        corpus (RDD): input corpus</span>
<span class="sd">    Returns:</span>
<span class="sd">        RDD: a RDD of (token, IDF value)</span>
<span class="sd">    &quot;&quot;&quot;</span>
    <span class="n">N</span> <span class="o">=</span> <span class="o">&lt;</span><span class="n">FILL</span> <span class="n">IN</span><span class="o">&gt;</span>
    <span class="n">uniqueTokens</span> <span class="o">=</span> <span class="n">corpus</span><span class="o">.&lt;</span><span class="n">FILL</span> <span class="n">IN</span><span class="o">&gt;</span>
    <span class="n">tokenCountPairTuple</span> <span class="o">=</span> <span class="n">uniqueTokens</span><span class="o">.&lt;</span><span class="n">FILL</span> <span class="n">IN</span><span class="o">&gt;</span>
    <span class="n">tokenSumPairTuple</span> <span class="o">=</span> <span class="n">tokenCountPairTuple</span><span class="o">.&lt;</span><span class="n">FILL</span> <span class="n">IN</span><span class="o">&gt;</span>
    <span class="k">return</span> <span class="p">(</span><span class="n">tokenSumPairTuple</span><span class="o">.&lt;</span><span class="n">FILL</span> <span class="n">IN</span><span class="o">&gt;</span><span class="p">)</span>

<span class="n">idfsSmall</span> <span class="o">=</span> <span class="n">idfs</span><span class="p">(</span><span class="n">amazonRecToToken</span><span class="o">.</span><span class="n">union</span><span class="p">(</span><span class="n">googleRecToToken</span><span class="p">))</span>
<span class="n">uniqueTokenCount</span> <span class="o">=</span> <span class="n">idfsSmall</span><span class="o">.</span><span class="n">count</span><span class="p">()</span>

<span class="nb">print</span> <span class="s">&#39;There are %s unique tokens in the small datasets.&#39;</span> <span class="o">%</span> <span class="n">uniqueTokenCount</span>
</pre></div>

</div>
</div>
</div>

</div>
<div class="cell border-box-sizing code_cell rendered">
<div class="input">
<div class="prompt input_prompt">In&nbsp;[&nbsp;]:</div>
<div class="inner_cell">
    <div class="input_area">
<div class=" highlight hl-ipython3"><pre><span class="c"># TEST Implement an IDFs function (2c)</span>
<span class="n">Test</span><span class="o">.</span><span class="n">assertEquals</span><span class="p">(</span><span class="n">uniqueTokenCount</span><span class="p">,</span> <span class="mi">4772</span><span class="p">,</span> <span class="s">&#39;incorrect uniqueTokenCount&#39;</span><span class="p">)</span>
<span class="n">tokenSmallestIdf</span> <span class="o">=</span> <span class="n">idfsSmall</span><span class="o">.</span><span class="n">takeOrdered</span><span class="p">(</span><span class="mi">1</span><span class="p">,</span> <span class="k">lambda</span> <span class="n">s</span><span class="p">:</span> <span class="n">s</span><span class="p">[</span><span class="mi">1</span><span class="p">])[</span><span class="mi">0</span><span class="p">]</span>
<span class="n">Test</span><span class="o">.</span><span class="n">assertEquals</span><span class="p">(</span><span class="n">tokenSmallestIdf</span><span class="p">[</span><span class="mi">0</span><span class="p">],</span> <span class="s">&#39;software&#39;</span><span class="p">,</span> <span class="s">&#39;incorrect smallest IDF token&#39;</span><span class="p">)</span>
<span class="n">Test</span><span class="o">.</span><span class="n">assertTrue</span><span class="p">(</span><span class="nb">abs</span><span class="p">(</span><span class="n">tokenSmallestIdf</span><span class="p">[</span><span class="mi">1</span><span class="p">]</span> <span class="o">-</span> <span class="mf">4.25531914894</span><span class="p">)</span> <span class="o">&lt;</span> <span class="mf">0.0000000001</span><span class="p">,</span>
                <span class="s">&#39;incorrect smallest IDF value&#39;</span><span class="p">)</span>
</pre></div>

</div>
</div>
</div>

</div>
<div class="cell border-box-sizing text_cell rendered">
<div class="prompt input_prompt">
</div>
<div class="inner_cell">
<div class="text_cell_render border-box-sizing rendered_html">
<h3 id="(2d)-Tokens-with-the-smallest-IDF"><strong>(2d) Tokens with the smallest IDF</strong><a class="anchor-link" href="#(2d)-Tokens-with-the-smallest-IDF">&#182;</a></h3><h4 id="Print-out-the-11-tokens-with-the-smallest-IDF-in-the-combined-small-dataset.">Print out the 11 tokens with the smallest IDF in the combined small dataset.<a class="anchor-link" href="#Print-out-the-11-tokens-with-the-smallest-IDF-in-the-combined-small-dataset.">&#182;</a></h4>
</div>
</div>
</div>
<div class="cell border-box-sizing code_cell rendered">
<div class="input">
<div class="prompt input_prompt">In&nbsp;[&nbsp;]:</div>
<div class="inner_cell">
    <div class="input_area">
<div class=" highlight hl-ipython3"><pre><span class="n">smallIDFTokens</span> <span class="o">=</span> <span class="n">idfsSmall</span><span class="o">.</span><span class="n">takeOrdered</span><span class="p">(</span><span class="mi">11</span><span class="p">,</span> <span class="k">lambda</span> <span class="n">s</span><span class="p">:</span> <span class="n">s</span><span class="p">[</span><span class="mi">1</span><span class="p">])</span>
<span class="nb">print</span> <span class="n">smallIDFTokens</span>
</pre></div>

</div>
</div>
</div>

</div>
<div class="cell border-box-sizing text_cell rendered">
<div class="prompt input_prompt">
</div>
<div class="inner_cell">
<div class="text_cell_render border-box-sizing rendered_html">
<h3 id="(2e)-IDF-Histogram"><strong>(2e) IDF Histogram</strong><a class="anchor-link" href="#(2e)-IDF-Histogram">&#182;</a></h3><h4 id="Plot-a-histogram-of-IDF-values.--Be-sure-to-use-appropriate-scaling-and-bucketing-for-the-data.">Plot a histogram of IDF values.  Be sure to use appropriate scaling and bucketing for the data.<a class="anchor-link" href="#Plot-a-histogram-of-IDF-values.--Be-sure-to-use-appropriate-scaling-and-bucketing-for-the-data.">&#182;</a></h4><h4 id="First-plot-the-histogram-using-matplotlib">First plot the histogram using <code>matplotlib</code><a class="anchor-link" href="#First-plot-the-histogram-using-matplotlib">&#182;</a></h4>
</div>
</div>
</div>
<div class="cell border-box-sizing code_cell rendered">
<div class="input">
<div class="prompt input_prompt">In&nbsp;[&nbsp;]:</div>
<div class="inner_cell">
    <div class="input_area">
<div class=" highlight hl-ipython3"><pre><span class="kn">import</span> <span class="nn">matplotlib.pyplot</span> <span class="k">as</span> <span class="nn">plt</span>

<span class="n">small_idf_values</span> <span class="o">=</span> <span class="n">idfsSmall</span><span class="o">.</span><span class="n">map</span><span class="p">(</span><span class="k">lambda</span> <span class="n">s</span><span class="p">:</span> <span class="n">s</span><span class="p">[</span><span class="mi">1</span><span class="p">])</span><span class="o">.</span><span class="n">collect</span><span class="p">()</span>
<span class="n">fig</span> <span class="o">=</span> <span class="n">plt</span><span class="o">.</span><span class="n">figure</span><span class="p">(</span><span class="n">figsize</span><span class="o">=</span><span class="p">(</span><span class="mi">8</span><span class="p">,</span><span class="mi">3</span><span class="p">))</span>
<span class="n">plt</span><span class="o">.</span><span class="n">hist</span><span class="p">(</span><span class="n">small_idf_values</span><span class="p">,</span> <span class="mi">50</span><span class="p">,</span> <span class="n">log</span><span class="o">=</span><span class="k">True</span><span class="p">)</span>
<span class="k">pass</span>
</pre></div>

</div>
</div>
</div>

</div>
<div class="cell border-box-sizing text_cell rendered">
<div class="prompt input_prompt">
</div>
<div class="inner_cell">
<div class="text_cell_render border-box-sizing rendered_html">
<h3 id="(2f)-Implement-a-TF-IDF-function"><strong>(2f) Implement a TF-IDF function</strong><a class="anchor-link" href="#(2f)-Implement-a-TF-IDF-function">&#182;</a></h3><h4 id="Use-your-tf-function-to-implement-a-tfidf(tokens,-idfs)-function-that-takes-a-list-of-tokens-from-a-document-and-a-Python-dictionary-of-IDF-weights-and-returns-a-Python-dictionary-mapping-individual-tokens-to-total-TF-IDF-weights.">Use your <code>tf</code> function to implement a <code>tfidf(tokens, idfs)</code> function that takes a list of tokens from a document and a Python dictionary of IDF weights and returns a Python dictionary mapping individual tokens to total TF-IDF weights.<a class="anchor-link" href="#Use-your-tf-function-to-implement-a-tfidf(tokens,-idfs)-function-that-takes-a-list-of-tokens-from-a-document-and-a-Python-dictionary-of-IDF-weights-and-returns-a-Python-dictionary-mapping-individual-tokens-to-total-TF-IDF-weights.">&#182;</a></h4><h4 id="The-steps-your-function-should-perform-are:">The steps your function should perform are:<a class="anchor-link" href="#The-steps-your-function-should-perform-are:">&#182;</a></h4><ul>
<li>#### Calculate the token frequencies (TF) for <code>tokens</code></li>
<li>#### Create a Python dictionary where each token maps to the token's frequency times the token's IDF weight
#### Use your <code>tfidf</code> function to compute the weights of Amazon product record 'b000hkgj8k'. To do this, we need to extract the record for the token from the tokenized small Amazon dataset and we need to convert the IDFs for the small dataset into a Python dictionary. We can do the first part, by using a <code>filter()</code> transformation to extract the matching record and a <code>collect()</code> action to return the value to the driver. For the second part, we use the <a href="http://spark.apache.org/docs/latest/api/python/pyspark.html#pyspark.RDD.collectAsMap"><code>collectAsMap()</code> action</a> to return the IDFs to the driver as a Python dictionary.</li>
</ul>

</div>
</div>
</div>
<div class="cell border-box-sizing code_cell rendered">
<div class="input">
<div class="prompt input_prompt">In&nbsp;[&nbsp;]:</div>
<div class="inner_cell">
    <div class="input_area">
<div class=" highlight hl-ipython3"><pre><span class="c"># TODO: Replace &lt;FILL IN&gt; with appropriate code</span>
<span class="k">def</span> <span class="nf">tfidf</span><span class="p">(</span><span class="n">tokens</span><span class="p">,</span> <span class="n">idfs</span><span class="p">):</span>
    <span class="sd">&quot;&quot;&quot; Compute TF-IDF</span>
<span class="sd">    Args:</span>
<span class="sd">        tokens (list of str): input list of tokens from tokenize</span>
<span class="sd">        idfs (dictionary): record to IDF value</span>
<span class="sd">    Returns:</span>
<span class="sd">        dictionary: a dictionary of records to TF-IDF values</span>
<span class="sd">    &quot;&quot;&quot;</span>
    <span class="n">tfs</span> <span class="o">=</span> <span class="o">&lt;</span><span class="n">FILL</span> <span class="n">IN</span><span class="o">&gt;</span>
    <span class="n">tfIdfDict</span> <span class="o">=</span> <span class="o">&lt;</span><span class="n">FILL</span> <span class="n">IN</span><span class="o">&gt;</span>
    <span class="k">return</span> <span class="n">tfIdfDict</span>

<span class="n">recb000hkgj8k</span> <span class="o">=</span> <span class="n">amazonRecToToken</span><span class="o">.</span><span class="n">filter</span><span class="p">(</span><span class="k">lambda</span> <span class="n">x</span><span class="p">:</span> <span class="n">x</span><span class="p">[</span><span class="mi">0</span><span class="p">]</span> <span class="o">==</span> <span class="s">&#39;b000hkgj8k&#39;</span><span class="p">)</span><span class="o">.</span><span class="n">collect</span><span class="p">()[</span><span class="mi">0</span><span class="p">][</span><span class="mi">1</span><span class="p">]</span>
<span class="n">idfsSmallWeights</span> <span class="o">=</span> <span class="n">idfsSmall</span><span class="o">.</span><span class="n">collectAsMap</span><span class="p">()</span>
<span class="n">rec_b000hkgj8k_weights</span> <span class="o">=</span> <span class="n">tfidf</span><span class="p">(</span><span class="n">recb000hkgj8k</span><span class="p">,</span> <span class="n">idfsSmallWeights</span><span class="p">)</span>

<span class="nb">print</span> <span class="s">&#39;Amazon record &quot;b000hkgj8k&quot; has tokens and weights:</span><span class="se">\n</span><span class="s">%s&#39;</span> <span class="o">%</span> <span class="n">rec_b000hkgj8k_weights</span>
</pre></div>

</div>
</div>
</div>

</div>
<div class="cell border-box-sizing code_cell rendered">
<div class="input">
<div class="prompt input_prompt">In&nbsp;[&nbsp;]:</div>
<div class="inner_cell">
    <div class="input_area">
<div class=" highlight hl-ipython3"><pre><span class="c"># TEST Implement a TF-IDF function (2f)</span>
<span class="n">Test</span><span class="o">.</span><span class="n">assertEquals</span><span class="p">(</span><span class="n">rec_b000hkgj8k_weights</span><span class="p">,</span>
                   <span class="p">{</span><span class="s">&#39;autocad&#39;</span><span class="p">:</span> <span class="mf">33.33333333333333</span><span class="p">,</span> <span class="s">&#39;autodesk&#39;</span><span class="p">:</span> <span class="mf">8.333333333333332</span><span class="p">,</span>
                    <span class="s">&#39;courseware&#39;</span><span class="p">:</span> <span class="mf">66.66666666666666</span><span class="p">,</span> <span class="s">&#39;psg&#39;</span><span class="p">:</span> <span class="mf">33.33333333333333</span><span class="p">,</span>
                    <span class="s">&#39;2007&#39;</span><span class="p">:</span> <span class="mf">3.5087719298245617</span><span class="p">,</span> <span class="s">&#39;customizing&#39;</span><span class="p">:</span> <span class="mf">16.666666666666664</span><span class="p">,</span>
                    <span class="s">&#39;interface&#39;</span><span class="p">:</span> <span class="mf">3.0303030303030303</span><span class="p">},</span> <span class="s">&#39;incorrect rec_b000hkgj8k_weights&#39;</span><span class="p">)</span>
</pre></div>

</div>
</div>
</div>

</div>
<div class="cell border-box-sizing text_cell rendered">
<div class="prompt input_prompt">
</div>
<div class="inner_cell">
<div class="text_cell_render border-box-sizing rendered_html">
<h3 id="Part-3:-ER-as-Text-Similarity---Cosine-Similarity"><strong>Part 3: ER as Text Similarity - Cosine Similarity</strong><a class="anchor-link" href="#Part-3:-ER-as-Text-Similarity---Cosine-Similarity">&#182;</a></h3><h4 id="Now-we-are-ready-to-do-text-comparisons-in-a-formal-way.-The-metric-of-string-distance-we-will-use-is-called-cosine-similarity.-We-will-treat-each-document-as-a-vector-in-some-high-dimensional-space.-Then,-to-compare-two-documents-we-compute-the-cosine-of-the-angle-between-their-two-document-vectors.-This-is-much-easier-than-it-sounds.">Now we are ready to do text comparisons in a formal way. The metric of string distance we will use is called <strong><a href="https://en.wikipedia.org/wiki/Cosine_similarity">cosine similarity</a></strong>. We will treat each document as a vector in some high dimensional space. Then, to compare two documents we compute the cosine of the angle between their two document vectors. This is <em>much</em> easier than it sounds.<a class="anchor-link" href="#Now-we-are-ready-to-do-text-comparisons-in-a-formal-way.-The-metric-of-string-distance-we-will-use-is-called-cosine-similarity.-We-will-treat-each-document-as-a-vector-in-some-high-dimensional-space.-Then,-to-compare-two-documents-we-compute-the-cosine-of-the-angle-between-their-two-document-vectors.-This-is-much-easier-than-it-sounds.">&#182;</a></h4><h4 id="The-first-question-to-answer-is-how-do-we-represent-documents-as-vectors?-The-answer-is-familiar:-bag-of-words!-We-treat-each-unique-token-as-a-dimension,-and-treat-token-weights-as-magnitudes-in-their-respective-token-dimensions.-For-example,-suppose-we-use-simple-counts-as-weights,-and-we-want-to-interpret-the-string-&quot;Hello,-world!--Goodbye,-world!&quot;-as-a-vector.-Then-in-the-&quot;hello&quot;-and-&quot;goodbye&quot;-dimensions-the-vector-has-value-1,-in-the-&quot;world&quot;-dimension-it-has-value-2,-and-it-is-zero-in-all-other-dimensions.">The first question to answer is how do we represent documents as vectors? The answer is familiar: bag-of-words! We treat each unique token as a dimension, and treat token weights as magnitudes in their respective token dimensions. For example, suppose we use simple counts as weights, and we want to interpret the string "Hello, world!  Goodbye, world!" as a vector. Then in the "hello" and "goodbye" dimensions the vector has value 1, in the "world" dimension it has value 2, and it is zero in all other dimensions.<a class="anchor-link" href="#The-first-question-to-answer-is-how-do-we-represent-documents-as-vectors?-The-answer-is-familiar:-bag-of-words!-We-treat-each-unique-token-as-a-dimension,-and-treat-token-weights-as-magnitudes-in-their-respective-token-dimensions.-For-example,-suppose-we-use-simple-counts-as-weights,-and-we-want-to-interpret-the-string-&quot;Hello,-world!--Goodbye,-world!&quot;-as-a-vector.-Then-in-the-&quot;hello&quot;-and-&quot;goodbye&quot;-dimensions-the-vector-has-value-1,-in-the-&quot;world&quot;-dimension-it-has-value-2,-and-it-is-zero-in-all-other-dimensions.">&#182;</a></h4><h4 id="The-next-question-is:-given-two-vectors-how-do-we-find-the-cosine-of-the-angle-between-them?-Recall-the-formula-for-the-dot-product-of-two-vectors:">The next question is: given two vectors how do we find the cosine of the angle between them? Recall the formula for the dot product of two vectors:<a class="anchor-link" href="#The-next-question-is:-given-two-vectors-how-do-we-find-the-cosine-of-the-angle-between-them?-Recall-the-formula-for-the-dot-product-of-two-vectors:">&#182;</a></h4><h4 id="$$-a-\cdot-b-=-\|-a-\|-\|-b-\|-\cos-\theta-$$">$$ a \cdot b = \| a \| \| b \| \cos \theta $$<a class="anchor-link" href="#$$-a-\cdot-b-=-\|-a-\|-\|-b-\|-\cos-\theta-$$">&#182;</a></h4><h4 id="Here-$-a-\cdot-b-=-\sum-a_i-b_i-$-is-the-ordinary-dot-product-of-two-vectors,-and-$-\|a\|-=-\sqrt{-\sum-a_i^2-}-$-is-the-norm-of-$-a-$.">Here $ a \cdot b = \sum a_i b_i $ is the ordinary dot product of two vectors, and $ \|a\| = \sqrt{ \sum a_i^2 } $ is the norm of $ a $.<a class="anchor-link" href="#Here-$-a-\cdot-b-=-\sum-a_i-b_i-$-is-the-ordinary-dot-product-of-two-vectors,-and-$-\|a\|-=-\sqrt{-\sum-a_i^2-}-$-is-the-norm-of-$-a-$.">&#182;</a></h4><h4 id="We-can-rearrange-terms-and-solve-for-the-cosine-to-find-it-is-simply-the-normalized-dot-product-of-the-vectors.-With-our-vector-model,-the-dot-product-and-norm-computations-are-simple-functions-of-the-bag-of-words-document-representations,-so-we-now-have-a-formal-way-to-compute-similarity:">We can rearrange terms and solve for the cosine to find it is simply the normalized dot product of the vectors. With our vector model, the dot product and norm computations are simple functions of the bag-of-words document representations, so we now have a formal way to compute similarity:<a class="anchor-link" href="#We-can-rearrange-terms-and-solve-for-the-cosine-to-find-it-is-simply-the-normalized-dot-product-of-the-vectors.-With-our-vector-model,-the-dot-product-and-norm-computations-are-simple-functions-of-the-bag-of-words-document-representations,-so-we-now-have-a-formal-way-to-compute-similarity:">&#182;</a></h4><h4 id="$$-similarity-=-\cos-\theta-=-\frac{a-\cdot-b}{\|a\|-\|b\|}-=-\frac{\sum-a_i-b_i}{\sqrt{\sum-a_i^2}-\sqrt{\sum-b_i^2}}-$$">$$ similarity = \cos \theta = \frac{a \cdot b}{\|a\| \|b\|} = \frac{\sum a_i b_i}{\sqrt{\sum a_i^2} \sqrt{\sum b_i^2}} $$<a class="anchor-link" href="#$$-similarity-=-\cos-\theta-=-\frac{a-\cdot-b}{\|a\|-\|b\|}-=-\frac{\sum-a_i-b_i}{\sqrt{\sum-a_i^2}-\sqrt{\sum-b_i^2}}-$$">&#182;</a></h4><h4 id="Setting-aside-the-algebra,-the-geometric-interpretation-is-more-intuitive.-The-angle-between-two-document-vectors-is-small-if-they-share-many-tokens-in-common,-because-they-are-pointing-in-roughly-the-same-direction.-For-that-case,-the-cosine-of-the-angle-will-be-large.-Otherwise,-if-the-angle-is-large-(and-they-have-few-words-in-common),-the-cosine-is-small.-Therefore,-cosine-similarity-scales-proportionally-with-our-intuitive-sense-of-similarity.">Setting aside the algebra, the geometric interpretation is more intuitive. The angle between two document vectors is small if they share many tokens in common, because they are pointing in roughly the same direction. For that case, the cosine of the angle will be large. Otherwise, if the angle is large (and they have few words in common), the cosine is small. Therefore, cosine similarity scales proportionally with our intuitive sense of similarity.<a class="anchor-link" href="#Setting-aside-the-algebra,-the-geometric-interpretation-is-more-intuitive.-The-angle-between-two-document-vectors-is-small-if-they-share-many-tokens-in-common,-because-they-are-pointing-in-roughly-the-same-direction.-For-that-case,-the-cosine-of-the-angle-will-be-large.-Otherwise,-if-the-angle-is-large-(and-they-have-few-words-in-common),-the-cosine-is-small.-Therefore,-cosine-similarity-scales-proportionally-with-our-intuitive-sense-of-similarity.">&#182;</a></h4>
</div>
</div>
</div>
<div class="cell border-box-sizing text_cell rendered">
<div class="prompt input_prompt">
</div>
<div class="inner_cell">
<div class="text_cell_render border-box-sizing rendered_html">
<h3 id="(3a)-Implement-the-components-of-a-cosineSimilarity-function"><strong>(3a) Implement the components of a <code>cosineSimilarity</code> function</strong><a class="anchor-link" href="#(3a)-Implement-the-components-of-a-cosineSimilarity-function">&#182;</a></h3><h4 id="Implement-the-components-of-a-cosineSimilarity-function.">Implement the components of a <code>cosineSimilarity</code> function.<a class="anchor-link" href="#Implement-the-components-of-a-cosineSimilarity-function.">&#182;</a></h4><h4 id="Use-the-tokenize-and-tfidf-functions,-and-the-IDF-weights-from-Part-2-for-extracting-tokens-and-assigning-them-weights.">Use the <code>tokenize</code> and <code>tfidf</code> functions, and the IDF weights from Part 2 for extracting tokens and assigning them weights.<a class="anchor-link" href="#Use-the-tokenize-and-tfidf-functions,-and-the-IDF-weights-from-Part-2-for-extracting-tokens-and-assigning-them-weights.">&#182;</a></h4><h4 id="The-steps-you-should-perform-are:">The steps you should perform are:<a class="anchor-link" href="#The-steps-you-should-perform-are:">&#182;</a></h4><ul>
<li>#### Define a function <code>dotprod</code> that takes two Python dictionaries and produces the dot product of them, where the dot product is defined as the sum of the product of values for tokens that appear in <em>both</em> dictionaries</li>
<li>#### Define a function <code>norm</code> that returns the square root of the dot product of a dictionary and itself</li>
<li>#### Define a function <code>cossim</code> that returns the dot product of two dictionaries divided by the norm of the first dictionary and then by the norm of the second dictionary</li>
</ul>

</div>
</div>
</div>
<div class="cell border-box-sizing code_cell rendered">
<div class="input">
<div class="prompt input_prompt">In&nbsp;[&nbsp;]:</div>
<div class="inner_cell">
    <div class="input_area">
<div class=" highlight hl-ipython3"><pre><span class="c"># TODO: Replace &lt;FILL IN&gt; with appropriate code</span>
<span class="kn">import</span> <span class="nn">math</span>

<span class="k">def</span> <span class="nf">dotprod</span><span class="p">(</span><span class="n">a</span><span class="p">,</span> <span class="n">b</span><span class="p">):</span>
    <span class="sd">&quot;&quot;&quot; Compute dot product</span>
<span class="sd">    Args:</span>
<span class="sd">        a (dictionary): first dictionary of record to value</span>
<span class="sd">        b (dictionary): second dictionary of record to value</span>
<span class="sd">    Returns:</span>
<span class="sd">        dotProd: result of the dot product with the two input dictionaries</span>
<span class="sd">    &quot;&quot;&quot;</span>
    <span class="k">return</span> <span class="o">&lt;</span><span class="n">FILL</span> <span class="n">IN</span><span class="o">&gt;</span>

<span class="k">def</span> <span class="nf">norm</span><span class="p">(</span><span class="n">a</span><span class="p">):</span>
    <span class="sd">&quot;&quot;&quot; Compute square root of the dot product</span>
<span class="sd">    Args:</span>
<span class="sd">        a (dictionary): a dictionary of record to value</span>
<span class="sd">    Returns:</span>
<span class="sd">        norm: a dictionary of tokens to its TF values</span>
<span class="sd">    &quot;&quot;&quot;</span>
    <span class="k">return</span> <span class="o">&lt;</span><span class="n">FILL</span> <span class="n">IN</span><span class="o">&gt;</span>

<span class="k">def</span> <span class="nf">cossim</span><span class="p">(</span><span class="n">a</span><span class="p">,</span> <span class="n">b</span><span class="p">):</span>
    <span class="sd">&quot;&quot;&quot; Compute cosine similarity</span>
<span class="sd">    Args:</span>
<span class="sd">        a (dictionary): first dictionary of record to value</span>
<span class="sd">        b (dictionary): second dictionary of record to value</span>
<span class="sd">    Returns:</span>
<span class="sd">        cossim: dot product of two dictionaries divided by the norm of the first dictionary and</span>
<span class="sd">                then by the norm of the second dictionary</span>
<span class="sd">    &quot;&quot;&quot;</span>
    <span class="k">return</span> <span class="o">&lt;</span><span class="n">FILL</span> <span class="n">IN</span><span class="o">&gt;</span>

<span class="n">testVec1</span> <span class="o">=</span> <span class="p">{</span><span class="s">&#39;foo&#39;</span><span class="p">:</span> <span class="mi">2</span><span class="p">,</span> <span class="s">&#39;bar&#39;</span><span class="p">:</span> <span class="mi">3</span><span class="p">,</span> <span class="s">&#39;baz&#39;</span><span class="p">:</span> <span class="mi">5</span> <span class="p">}</span>
<span class="n">testVec2</span> <span class="o">=</span> <span class="p">{</span><span class="s">&#39;foo&#39;</span><span class="p">:</span> <span class="mi">1</span><span class="p">,</span> <span class="s">&#39;bar&#39;</span><span class="p">:</span> <span class="mi">0</span><span class="p">,</span> <span class="s">&#39;baz&#39;</span><span class="p">:</span> <span class="mi">20</span> <span class="p">}</span>
<span class="n">dp</span> <span class="o">=</span> <span class="n">dotprod</span><span class="p">(</span><span class="n">testVec1</span><span class="p">,</span> <span class="n">testVec2</span><span class="p">)</span>
<span class="n">nm</span> <span class="o">=</span> <span class="n">norm</span><span class="p">(</span><span class="n">testVec1</span><span class="p">)</span>
<span class="nb">print</span> <span class="n">dp</span><span class="p">,</span> <span class="n">nm</span>
</pre></div>

</div>
</div>
</div>

</div>
<div class="cell border-box-sizing code_cell rendered">
<div class="input">
<div class="prompt input_prompt">In&nbsp;[&nbsp;]:</div>
<div class="inner_cell">
    <div class="input_area">
<div class=" highlight hl-ipython3"><pre><span class="c"># TEST Implement the components of a cosineSimilarity function (3a)</span>
<span class="n">Test</span><span class="o">.</span><span class="n">assertEquals</span><span class="p">(</span><span class="n">dp</span><span class="p">,</span> <span class="mi">102</span><span class="p">,</span> <span class="s">&#39;incorrect dp&#39;</span><span class="p">)</span>
<span class="n">Test</span><span class="o">.</span><span class="n">assertTrue</span><span class="p">(</span><span class="nb">abs</span><span class="p">(</span><span class="n">nm</span> <span class="o">-</span> <span class="mf">6.16441400297</span><span class="p">)</span> <span class="o">&lt;</span> <span class="mf">0.0000001</span><span class="p">,</span> <span class="s">&#39;incorrrect nm&#39;</span><span class="p">)</span>
</pre></div>

</div>
</div>
</div>

</div>
<div class="cell border-box-sizing text_cell rendered">
<div class="prompt input_prompt">
</div>
<div class="inner_cell">
<div class="text_cell_render border-box-sizing rendered_html">
<h3 id="(3b)-Implement-a-cosineSimilarity-function"><strong>(3b) Implement a <code>cosineSimilarity</code> function</strong><a class="anchor-link" href="#(3b)-Implement-a-cosineSimilarity-function">&#182;</a></h3><h4 id="Implement-a-cosineSimilarity(string1,-string2,-idfsDictionary)-function-that-takes-two-strings-and-a-dictionary-of-IDF-weights,-and-computes-their-cosine-similarity-in-the-context-of-some-global-IDF-weights.">Implement a <code>cosineSimilarity(string1, string2, idfsDictionary)</code> function that takes two strings and a dictionary of IDF weights, and computes their cosine similarity in the context of some global IDF weights.<a class="anchor-link" href="#Implement-a-cosineSimilarity(string1,-string2,-idfsDictionary)-function-that-takes-two-strings-and-a-dictionary-of-IDF-weights,-and-computes-their-cosine-similarity-in-the-context-of-some-global-IDF-weights.">&#182;</a></h4><h4 id="The-steps-you-should-perform-are:">The steps you should perform are:<a class="anchor-link" href="#The-steps-you-should-perform-are:">&#182;</a></h4><ul>
<li>#### Apply your <code>tfidf</code> function to the tokenized first and second strings, using the dictionary of IDF weights</li>
<li>#### Compute and return your <code>cossim</code> function applied to the results of the two <code>tfidf</code> functions</li>
</ul>

</div>
</div>
</div>
<div class="cell border-box-sizing code_cell rendered">
<div class="input">
<div class="prompt input_prompt">In&nbsp;[&nbsp;]:</div>
<div class="inner_cell">
    <div class="input_area">
<div class=" highlight hl-ipython3"><pre><span class="c"># TODO: Replace &lt;FILL IN&gt; with appropriate code</span>
<span class="k">def</span> <span class="nf">cosineSimilarity</span><span class="p">(</span><span class="n">string1</span><span class="p">,</span> <span class="n">string2</span><span class="p">,</span> <span class="n">idfsDictionary</span><span class="p">):</span>
    <span class="sd">&quot;&quot;&quot; Compute cosine similarity between two strings</span>
<span class="sd">    Args:</span>
<span class="sd">        string1 (str): first string</span>
<span class="sd">        string2 (str): second string</span>
<span class="sd">        idfsDictionary (dictionary): a dictionary of IDF values</span>
<span class="sd">    Returns:</span>
<span class="sd">        cossim: cosine similarity value</span>
<span class="sd">    &quot;&quot;&quot;</span>
    <span class="n">w1</span> <span class="o">=</span> <span class="n">tfidf</span><span class="p">(</span><span class="o">&lt;</span><span class="n">FILL</span> <span class="n">IN</span><span class="o">&gt;</span><span class="p">)</span>
    <span class="n">w2</span> <span class="o">=</span> <span class="n">tfidf</span><span class="p">(</span><span class="o">&lt;</span><span class="n">FILL</span> <span class="n">IN</span><span class="o">&gt;</span><span class="p">)</span>
    <span class="k">return</span> <span class="n">cossim</span><span class="p">(</span><span class="n">w1</span><span class="p">,</span> <span class="n">w2</span><span class="p">)</span>

<span class="n">cossimAdobe</span> <span class="o">=</span> <span class="n">cosineSimilarity</span><span class="p">(</span><span class="s">&#39;Adobe Photoshop&#39;</span><span class="p">,</span>
                               <span class="s">&#39;Adobe Illustrator&#39;</span><span class="p">,</span>
                               <span class="n">idfsSmallWeights</span><span class="p">)</span>

<span class="nb">print</span> <span class="n">cossimAdobe</span>
</pre></div>

</div>
</div>
</div>

</div>
<div class="cell border-box-sizing code_cell rendered">
<div class="input">
<div class="prompt input_prompt">In&nbsp;[&nbsp;]:</div>
<div class="inner_cell">
    <div class="input_area">
<div class=" highlight hl-ipython3"><pre><span class="c"># TEST Implement a cosineSimilarity function (3b)</span>
<span class="n">Test</span><span class="o">.</span><span class="n">assertTrue</span><span class="p">(</span><span class="nb">abs</span><span class="p">(</span><span class="n">cossimAdobe</span> <span class="o">-</span> <span class="mf">0.0577243382163</span><span class="p">)</span> <span class="o">&lt;</span> <span class="mf">0.0000001</span><span class="p">,</span> <span class="s">&#39;incorrect cossimAdobe&#39;</span><span class="p">)</span>
</pre></div>

</div>
</div>
</div>

</div>
<div class="cell border-box-sizing text_cell rendered">
<div class="prompt input_prompt">
</div>
<div class="inner_cell">
<div class="text_cell_render border-box-sizing rendered_html">
<h3 id="(3c)-Perform-Entity-Resolution"><strong>(3c) Perform Entity Resolution</strong><a class="anchor-link" href="#(3c)-Perform-Entity-Resolution">&#182;</a></h3><h4 id="Now-we-can-finally-do-some-entity-resolution!">Now we can finally do some entity resolution!<a class="anchor-link" href="#Now-we-can-finally-do-some-entity-resolution!">&#182;</a></h4><h4 id="For-every-product-record-in-the-small-Google-dataset,-use-your-cosineSimilarity-function-to-compute-its-similarity-to-every-record-in-the-small-Amazon-dataset.--Then,-build-a-dictionary-mapping-(Google-URL,-Amazon-ID)-tuples-to-similarity-scores-between-0-and-1.">For <em>every</em> product record in the small Google dataset, use your <code>cosineSimilarity</code> function to compute its similarity to every record in the small Amazon dataset.  Then, build a dictionary mapping <code>(Google URL, Amazon ID)</code> tuples to similarity scores between 0 and 1.<a class="anchor-link" href="#For-every-product-record-in-the-small-Google-dataset,-use-your-cosineSimilarity-function-to-compute-its-similarity-to-every-record-in-the-small-Amazon-dataset.--Then,-build-a-dictionary-mapping-(Google-URL,-Amazon-ID)-tuples-to-similarity-scores-between-0-and-1.">&#182;</a></h4><h4 id="We'll-do-this-computation-two-different-ways,-first-we'll-do-it-without-a-broadcast-variable,-and-then-we'll-use-a-broadcast-variable">We'll do this computation two different ways, first we'll do it without a broadcast variable, and then we'll use a broadcast variable<a class="anchor-link" href="#We'll-do-this-computation-two-different-ways,-first-we'll-do-it-without-a-broadcast-variable,-and-then-we'll-use-a-broadcast-variable">&#182;</a></h4><h4 id="The-steps-you-should-perform-are:">The steps you should perform are:<a class="anchor-link" href="#The-steps-you-should-perform-are:">&#182;</a></h4><ul>
<li>#### Create an RDD that is a combination of the small Google and small Amazon datasets that has as elements all pairs of elements (a, b) where a is in self and b is in other. The result will be an RDD of the form: <code>[ ((Google URL1, Google String1), (Amazon ID1, Amazon String1)), ((Google URL1, Google String1), (Amazon ID2, Amazon String2)), ((Google URL2, Google String2), (Amazon ID1, Amazon String1)), ... ]</code></li>
<li>#### Define a worker function that given an element from the combination RDD computes the cosineSimlarity for the two records in the element</li>
<li>#### Apply the worker function to every element in the RDD
#### Now, compute the similarity between Amazon record <code>b000o24l3q</code> and Google record <code>http://www.google.com/base/feeds/snippets/17242822440574356561</code>.</li>
</ul>

</div>
</div>
</div>
<div class="cell border-box-sizing code_cell rendered">
<div class="input">
<div class="prompt input_prompt">In&nbsp;[&nbsp;]:</div>
<div class="inner_cell">
    <div class="input_area">
<div class=" highlight hl-ipython3"><pre><span class="c"># TODO: Replace &lt;FILL IN&gt; with appropriate code</span>
<span class="n">crossSmall</span> <span class="o">=</span> <span class="p">(</span><span class="n">googleSmall</span>
              <span class="o">.&lt;</span><span class="n">FILL</span> <span class="n">IN</span><span class="o">&gt;</span>
              <span class="o">.</span><span class="n">cache</span><span class="p">())</span>

<span class="k">def</span> <span class="nf">computeSimilarity</span><span class="p">(</span><span class="n">record</span><span class="p">):</span>
    <span class="sd">&quot;&quot;&quot; Compute similarity on a combination record</span>
<span class="sd">    Args:</span>
<span class="sd">        record: a pair, (google record, amazon record)</span>
<span class="sd">    Returns:</span>
<span class="sd">        pair: a pair, (google URL, amazon ID, cosine similarity value)</span>
<span class="sd">    &quot;&quot;&quot;</span>
    <span class="n">googleRec</span> <span class="o">=</span> <span class="n">record</span><span class="p">[</span><span class="mi">0</span><span class="p">]</span>
    <span class="n">amazonRec</span> <span class="o">=</span> <span class="n">record</span><span class="p">[</span><span class="mi">1</span><span class="p">]</span>
    <span class="n">googleURL</span> <span class="o">=</span> <span class="o">&lt;</span><span class="n">FILL</span> <span class="n">IN</span><span class="o">&gt;</span>
    <span class="n">amazonID</span> <span class="o">=</span> <span class="o">&lt;</span><span class="n">FILL</span> <span class="n">IN</span><span class="o">&gt;</span>
    <span class="n">googleValue</span> <span class="o">=</span> <span class="o">&lt;</span><span class="n">FILL</span> <span class="n">IN</span><span class="o">&gt;</span>
    <span class="n">amazonValue</span> <span class="o">=</span> <span class="o">&lt;</span><span class="n">FILL</span> <span class="n">IN</span><span class="o">&gt;</span>
    <span class="n">cs</span> <span class="o">=</span> <span class="n">cosineSimilarity</span><span class="p">(</span><span class="o">&lt;</span><span class="n">FILL</span> <span class="n">IN</span><span class="o">&gt;</span><span class="p">,</span> <span class="n">idfsSmallWeights</span><span class="p">)</span>
    <span class="k">return</span> <span class="p">(</span><span class="n">googleURL</span><span class="p">,</span> <span class="n">amazonID</span><span class="p">,</span> <span class="n">cs</span><span class="p">)</span>

<span class="n">similarities</span> <span class="o">=</span> <span class="p">(</span><span class="n">crossSmall</span>
                <span class="o">.&lt;</span><span class="n">FILL</span> <span class="n">IN</span><span class="o">&gt;</span>
                <span class="o">.</span><span class="n">cache</span><span class="p">())</span>

<span class="k">def</span> <span class="nf">similar</span><span class="p">(</span><span class="n">amazonID</span><span class="p">,</span> <span class="n">googleURL</span><span class="p">):</span>
    <span class="sd">&quot;&quot;&quot; Return similarity value</span>
<span class="sd">    Args:</span>
<span class="sd">        amazonID: amazon ID</span>
<span class="sd">        googleURL: google URL</span>
<span class="sd">    Returns:</span>
<span class="sd">        similar: cosine similarity value</span>
<span class="sd">    &quot;&quot;&quot;</span>
    <span class="k">return</span> <span class="p">(</span><span class="n">similarities</span>
            <span class="o">.</span><span class="n">filter</span><span class="p">(</span><span class="k">lambda</span> <span class="n">record</span><span class="p">:</span> <span class="p">(</span><span class="n">record</span><span class="p">[</span><span class="mi">0</span><span class="p">]</span> <span class="o">==</span> <span class="n">googleURL</span> <span class="ow">and</span> <span class="n">record</span><span class="p">[</span><span class="mi">1</span><span class="p">]</span> <span class="o">==</span> <span class="n">amazonID</span><span class="p">))</span>
            <span class="o">.</span><span class="n">collect</span><span class="p">()[</span><span class="mi">0</span><span class="p">][</span><span class="mi">2</span><span class="p">])</span>

<span class="n">similarityAmazonGoogle</span> <span class="o">=</span> <span class="n">similar</span><span class="p">(</span><span class="s">&#39;b000o24l3q&#39;</span><span class="p">,</span> <span class="s">&#39;http://www.google.com/base/feeds/snippets/17242822440574356561&#39;</span><span class="p">)</span>
<span class="nb">print</span> <span class="s">&#39;Requested similarity is %s.&#39;</span> <span class="o">%</span> <span class="n">similarityAmazonGoogle</span>
</pre></div>

</div>
</div>
</div>

</div>
<div class="cell border-box-sizing code_cell rendered">
<div class="input">
<div class="prompt input_prompt">In&nbsp;[&nbsp;]:</div>
<div class="inner_cell">
    <div class="input_area">
<div class=" highlight hl-ipython3"><pre><span class="c"># TEST Perform Entity Resolution (3c)</span>
<span class="n">Test</span><span class="o">.</span><span class="n">assertTrue</span><span class="p">(</span><span class="nb">abs</span><span class="p">(</span><span class="n">similarityAmazonGoogle</span> <span class="o">-</span> <span class="mf">0.000303171940451</span><span class="p">)</span> <span class="o">&lt;</span> <span class="mf">0.0000001</span><span class="p">,</span>
                <span class="s">&#39;incorrect similarityAmazonGoogle&#39;</span><span class="p">)</span>
</pre></div>

</div>
</div>
</div>

</div>
<div class="cell border-box-sizing text_cell rendered">
<div class="prompt input_prompt">
</div>
<div class="inner_cell">
<div class="text_cell_render border-box-sizing rendered_html">
<h3 id="(3d)-Perform-Entity-Resolution-with-Broadcast-Variables"><strong>(3d) Perform Entity Resolution with Broadcast Variables</strong><a class="anchor-link" href="#(3d)-Perform-Entity-Resolution-with-Broadcast-Variables">&#182;</a></h3><h4 id="The-solution-in-(3c)-works-well-for-small-datasets,-but-it-requires-Spark-to-(automatically)-send-the-idfsSmallWeights-variable-to-all-the-workers.-If-we-didn't-cache()-similarities,-then-it-might-have-to-be-recreated-if-we-run-similar()-multiple-times.-This-would-cause-Spark-to-send-idfsSmallWeights-every-time.">The solution in (3c) works well for small datasets, but it requires Spark to (automatically) send the <code>idfsSmallWeights</code> variable to all the workers. If we didn't <code>cache()</code> similarities, then it might have to be recreated if we run <code>similar()</code> multiple times. This would cause Spark to send <code>idfsSmallWeights</code> every time.<a class="anchor-link" href="#The-solution-in-(3c)-works-well-for-small-datasets,-but-it-requires-Spark-to-(automatically)-send-the-idfsSmallWeights-variable-to-all-the-workers.-If-we-didn't-cache()-similarities,-then-it-might-have-to-be-recreated-if-we-run-similar()-multiple-times.-This-would-cause-Spark-to-send-idfsSmallWeights-every-time.">&#182;</a></h4><h4 id="Instead,-we-can-use-a-broadcast-variable---we-define-the-broadcast-variable-in-the-driver-and-then-we-can-refer-to-it-in-each-worker.-Spark-saves-the-broadcast-variable-at-each-worker,-so-it-is-only-sent-once.">Instead, we can use a broadcast variable - we define the broadcast variable in the driver and then we can refer to it in each worker. Spark saves the broadcast variable at each worker, so it is only sent once.<a class="anchor-link" href="#Instead,-we-can-use-a-broadcast-variable---we-define-the-broadcast-variable-in-the-driver-and-then-we-can-refer-to-it-in-each-worker.-Spark-saves-the-broadcast-variable-at-each-worker,-so-it-is-only-sent-once.">&#182;</a></h4><h4 id="The-steps-you-should-perform-are:">The steps you should perform are:<a class="anchor-link" href="#The-steps-you-should-perform-are:">&#182;</a></h4><ul>
<li>#### Define a <code>computeSimilarityBroadcast</code> function that given an element from the combination RDD computes the cosine simlarity for the two records in the element. This will be the same as the worker function <code>computeSimilarity</code> in (3c) except that it uses a broadcast variable.</li>
<li>#### Apply the worker function to every element in the RDD
#### Again, compute the similarity between Amazon record <code>b000o24l3q</code> and Google record <code>http://www.google.com/base/feeds/snippets/17242822440574356561</code>.</li>
</ul>

</div>
</div>
</div>
<div class="cell border-box-sizing code_cell rendered">
<div class="input">
<div class="prompt input_prompt">In&nbsp;[&nbsp;]:</div>
<div class="inner_cell">
    <div class="input_area">
<div class=" highlight hl-ipython3"><pre><span class="c"># TODO: Replace &lt;FILL IN&gt; with appropriate code</span>
<span class="k">def</span> <span class="nf">computeSimilarityBroadcast</span><span class="p">(</span><span class="n">record</span><span class="p">):</span>
    <span class="sd">&quot;&quot;&quot; Compute similarity on a combination record, using Broadcast variable</span>
<span class="sd">    Args:</span>
<span class="sd">        record: a pair, (google record, amazon record)</span>
<span class="sd">    Returns:</span>
<span class="sd">        pair: a pair, (google URL, amazon ID, cosine similarity value)</span>
<span class="sd">    &quot;&quot;&quot;</span>
    <span class="n">googleRec</span> <span class="o">=</span> <span class="n">record</span><span class="p">[</span><span class="mi">0</span><span class="p">]</span>
    <span class="n">amazonRec</span> <span class="o">=</span> <span class="n">record</span><span class="p">[</span><span class="mi">1</span><span class="p">]</span>
    <span class="n">googleURL</span> <span class="o">=</span> <span class="o">&lt;</span><span class="n">FILL</span> <span class="n">IN</span><span class="o">&gt;</span>
    <span class="n">amazonID</span> <span class="o">=</span> <span class="o">&lt;</span><span class="n">FILL</span> <span class="n">IN</span><span class="o">&gt;</span>
    <span class="n">googleValue</span> <span class="o">=</span> <span class="o">&lt;</span><span class="n">FILL</span> <span class="n">IN</span><span class="o">&gt;</span>
    <span class="n">amazonValue</span> <span class="o">=</span> <span class="o">&lt;</span><span class="n">FILL</span> <span class="n">IN</span><span class="o">&gt;</span>
    <span class="n">cs</span> <span class="o">=</span> <span class="n">cosineSimilarity</span><span class="p">(</span><span class="o">&lt;</span><span class="n">FILL</span> <span class="n">IN</span><span class="o">&gt;</span><span class="p">,</span> <span class="n">idfsSmallBroadcast</span><span class="o">.</span><span class="n">value</span><span class="p">)</span>
    <span class="k">return</span> <span class="p">(</span><span class="n">googleURL</span><span class="p">,</span> <span class="n">amazonID</span><span class="p">,</span> <span class="n">cs</span><span class="p">)</span>

<span class="n">idfsSmallBroadcast</span> <span class="o">=</span> <span class="n">sc</span><span class="o">.</span><span class="n">broadcast</span><span class="p">(</span><span class="n">idfsSmallWeights</span><span class="p">)</span>
<span class="n">similaritiesBroadcast</span> <span class="o">=</span> <span class="p">(</span><span class="n">crossSmall</span>
                         <span class="o">.&lt;</span><span class="n">FILL</span> <span class="n">IN</span><span class="o">&gt;</span>
                         <span class="o">.</span><span class="n">cache</span><span class="p">())</span>

<span class="k">def</span> <span class="nf">similarBroadcast</span><span class="p">(</span><span class="n">amazonID</span><span class="p">,</span> <span class="n">googleURL</span><span class="p">):</span>
    <span class="sd">&quot;&quot;&quot; Return similarity value, computed using Broadcast variable</span>
<span class="sd">    Args:</span>
<span class="sd">        amazonID: amazon ID</span>
<span class="sd">        googleURL: google URL</span>
<span class="sd">    Returns:</span>
<span class="sd">        similar: cosine similarity value</span>
<span class="sd">    &quot;&quot;&quot;</span>
    <span class="k">return</span> <span class="p">(</span><span class="n">similaritiesBroadcast</span>
            <span class="o">.</span><span class="n">filter</span><span class="p">(</span><span class="k">lambda</span> <span class="n">record</span><span class="p">:</span> <span class="p">(</span><span class="n">record</span><span class="p">[</span><span class="mi">0</span><span class="p">]</span> <span class="o">==</span> <span class="n">googleURL</span> <span class="ow">and</span> <span class="n">record</span><span class="p">[</span><span class="mi">1</span><span class="p">]</span> <span class="o">==</span> <span class="n">amazonID</span><span class="p">))</span>
            <span class="o">.</span><span class="n">collect</span><span class="p">()[</span><span class="mi">0</span><span class="p">][</span><span class="mi">2</span><span class="p">])</span>

<span class="n">similarityAmazonGoogleBroadcast</span> <span class="o">=</span> <span class="n">similarBroadcast</span><span class="p">(</span><span class="s">&#39;b000o24l3q&#39;</span><span class="p">,</span> <span class="s">&#39;http://www.google.com/base/feeds/snippets/17242822440574356561&#39;</span><span class="p">)</span>
<span class="nb">print</span> <span class="s">&#39;Requested similarity is %s.&#39;</span> <span class="o">%</span> <span class="n">similarityAmazonGoogleBroadcast</span>
</pre></div>

</div>
</div>
</div>

</div>
<div class="cell border-box-sizing code_cell rendered">
<div class="input">
<div class="prompt input_prompt">In&nbsp;[&nbsp;]:</div>
<div class="inner_cell">
    <div class="input_area">
<div class=" highlight hl-ipython3"><pre><span class="c"># TEST Perform Entity Resolution with Broadcast Variables (3d)</span>
<span class="kn">from</span> <span class="nn">pyspark</span> <span class="k">import</span> <span class="n">Broadcast</span>
<span class="n">Test</span><span class="o">.</span><span class="n">assertTrue</span><span class="p">(</span><span class="nb">isinstance</span><span class="p">(</span><span class="n">idfsSmallBroadcast</span><span class="p">,</span> <span class="n">Broadcast</span><span class="p">),</span> <span class="s">&#39;incorrect idfsSmallBroadcast&#39;</span><span class="p">)</span>
<span class="n">Test</span><span class="o">.</span><span class="n">assertEquals</span><span class="p">(</span><span class="nb">len</span><span class="p">(</span><span class="n">idfsSmallBroadcast</span><span class="o">.</span><span class="n">value</span><span class="p">),</span> <span class="mi">4772</span><span class="p">,</span> <span class="s">&#39;incorrect idfsSmallBroadcast value&#39;</span><span class="p">)</span>
<span class="n">Test</span><span class="o">.</span><span class="n">assertTrue</span><span class="p">(</span><span class="nb">abs</span><span class="p">(</span><span class="n">similarityAmazonGoogleBroadcast</span> <span class="o">-</span> <span class="mf">0.000303171940451</span><span class="p">)</span> <span class="o">&lt;</span> <span class="mf">0.0000001</span><span class="p">,</span>
                <span class="s">&#39;incorrect similarityAmazonGoogle&#39;</span><span class="p">)</span>
</pre></div>

</div>
</div>
</div>

</div>
<div class="cell border-box-sizing text_cell rendered">
<div class="prompt input_prompt">
</div>
<div class="inner_cell">
<div class="text_cell_render border-box-sizing rendered_html">
<h3 id="(3e)-Perform-a-Gold-Standard-evaluation"><strong>(3e) Perform a Gold Standard evaluation</strong><a class="anchor-link" href="#(3e)-Perform-a-Gold-Standard-evaluation">&#182;</a></h3><h4 id="First,-we'll-load-the-&quot;gold-standard&quot;-data-and-use-it-to-answer-several-questions.-We-read-and-parse-the-Gold-Standard-data,-where-the-format-of-each-line-is-&quot;Amazon-Product-ID&quot;,&quot;Google-URL&quot;.-The-resulting-RDD-has-elements-of-the-form-(&quot;AmazonID-GoogleURL&quot;,-'gold')">First, we'll load the "gold standard" data and use it to answer several questions. We read and parse the Gold Standard data, where the format of each line is "Amazon Product ID","Google URL". The resulting RDD has elements of the form ("AmazonID GoogleURL", 'gold')<a class="anchor-link" href="#First,-we'll-load-the-&quot;gold-standard&quot;-data-and-use-it-to-answer-several-questions.-We-read-and-parse-the-Gold-Standard-data,-where-the-format-of-each-line-is-&quot;Amazon-Product-ID&quot;,&quot;Google-URL&quot;.-The-resulting-RDD-has-elements-of-the-form-(&quot;AmazonID-GoogleURL&quot;,-'gold')">&#182;</a></h4>
</div>
</div>
</div>
<div class="cell border-box-sizing code_cell rendered">
<div class="input">
<div class="prompt input_prompt">In&nbsp;[&nbsp;]:</div>
<div class="inner_cell">
    <div class="input_area">
<div class=" highlight hl-ipython3"><pre><span class="n">GOLDFILE_PATTERN</span> <span class="o">=</span> <span class="s">&#39;^(.+),(.+)&#39;</span>

<span class="c"># Parse each line of a data file useing the specified regular expression pattern</span>
<span class="k">def</span> <span class="nf">parse_goldfile_line</span><span class="p">(</span><span class="n">goldfile_line</span><span class="p">):</span>
    <span class="sd">&quot;&quot;&quot; Parse a line from the &#39;golden standard&#39; data file</span>
<span class="sd">    Args:</span>
<span class="sd">        goldfile_line: a line of data</span>
<span class="sd">    Returns:</span>
<span class="sd">        pair: ((key, &#39;gold&#39;, 1 if successful or else 0))</span>
<span class="sd">    &quot;&quot;&quot;</span>
    <span class="n">match</span> <span class="o">=</span> <span class="n">re</span><span class="o">.</span><span class="n">search</span><span class="p">(</span><span class="n">GOLDFILE_PATTERN</span><span class="p">,</span> <span class="n">goldfile_line</span><span class="p">)</span>
    <span class="k">if</span> <span class="n">match</span> <span class="ow">is</span> <span class="k">None</span><span class="p">:</span>
        <span class="nb">print</span> <span class="s">&#39;Invalid goldfile line: %s&#39;</span> <span class="o">%</span> <span class="n">goldfile_line</span>
        <span class="k">return</span> <span class="p">(</span><span class="n">goldfile_line</span><span class="p">,</span> <span class="o">-</span><span class="mi">1</span><span class="p">)</span>
    <span class="k">elif</span> <span class="n">match</span><span class="o">.</span><span class="n">group</span><span class="p">(</span><span class="mi">1</span><span class="p">)</span> <span class="o">==</span> <span class="s">&#39;&quot;idAmazon&quot;&#39;</span><span class="p">:</span>
        <span class="nb">print</span> <span class="s">&#39;Header datafile line: %s&#39;</span> <span class="o">%</span> <span class="n">goldfile_line</span>
        <span class="k">return</span> <span class="p">(</span><span class="n">goldfile_line</span><span class="p">,</span> <span class="mi">0</span><span class="p">)</span>
    <span class="k">else</span><span class="p">:</span>
        <span class="n">key</span> <span class="o">=</span> <span class="s">&#39;%s %s&#39;</span> <span class="o">%</span> <span class="p">(</span><span class="n">removeQuotes</span><span class="p">(</span><span class="n">match</span><span class="o">.</span><span class="n">group</span><span class="p">(</span><span class="mi">1</span><span class="p">)),</span> <span class="n">removeQuotes</span><span class="p">(</span><span class="n">match</span><span class="o">.</span><span class="n">group</span><span class="p">(</span><span class="mi">2</span><span class="p">)))</span>
        <span class="k">return</span> <span class="p">((</span><span class="n">key</span><span class="p">,</span> <span class="s">&#39;gold&#39;</span><span class="p">),</span> <span class="mi">1</span><span class="p">)</span>

<span class="n">goldfile</span> <span class="o">=</span> <span class="n">os</span><span class="o">.</span><span class="n">path</span><span class="o">.</span><span class="n">join</span><span class="p">(</span><span class="n">baseDir</span><span class="p">,</span> <span class="n">inputPath</span><span class="p">,</span> <span class="n">GOLD_STANDARD_PATH</span><span class="p">)</span>
<span class="n">gsRaw</span> <span class="o">=</span> <span class="p">(</span><span class="n">sc</span>
         <span class="o">.</span><span class="n">textFile</span><span class="p">(</span><span class="n">goldfile</span><span class="p">)</span>
         <span class="o">.</span><span class="n">map</span><span class="p">(</span><span class="n">parse_goldfile_line</span><span class="p">)</span>
         <span class="o">.</span><span class="n">cache</span><span class="p">())</span>

<span class="n">gsFailed</span> <span class="o">=</span> <span class="p">(</span><span class="n">gsRaw</span>
            <span class="o">.</span><span class="n">filter</span><span class="p">(</span><span class="k">lambda</span> <span class="n">s</span><span class="p">:</span> <span class="n">s</span><span class="p">[</span><span class="mi">1</span><span class="p">]</span> <span class="o">==</span> <span class="o">-</span><span class="mi">1</span><span class="p">)</span>
            <span class="o">.</span><span class="n">map</span><span class="p">(</span><span class="k">lambda</span> <span class="n">s</span><span class="p">:</span> <span class="n">s</span><span class="p">[</span><span class="mi">0</span><span class="p">]))</span>
<span class="k">for</span> <span class="n">line</span> <span class="ow">in</span> <span class="n">gsFailed</span><span class="o">.</span><span class="n">take</span><span class="p">(</span><span class="mi">10</span><span class="p">):</span>
    <span class="nb">print</span> <span class="s">&#39;Invalid goldfile line: %s&#39;</span> <span class="o">%</span> <span class="n">line</span>

<span class="n">goldStandard</span> <span class="o">=</span> <span class="p">(</span><span class="n">gsRaw</span>
                <span class="o">.</span><span class="n">filter</span><span class="p">(</span><span class="k">lambda</span> <span class="n">s</span><span class="p">:</span> <span class="n">s</span><span class="p">[</span><span class="mi">1</span><span class="p">]</span> <span class="o">==</span> <span class="mi">1</span><span class="p">)</span>
                <span class="o">.</span><span class="n">map</span><span class="p">(</span><span class="k">lambda</span> <span class="n">s</span><span class="p">:</span> <span class="n">s</span><span class="p">[</span><span class="mi">0</span><span class="p">])</span>
                <span class="o">.</span><span class="n">cache</span><span class="p">())</span>

<span class="nb">print</span> <span class="s">&#39;Read %d lines, successfully parsed %d lines, failed to parse %d lines&#39;</span> <span class="o">%</span> <span class="p">(</span><span class="n">gsRaw</span><span class="o">.</span><span class="n">count</span><span class="p">(),</span>
                                                                                 <span class="n">goldStandard</span><span class="o">.</span><span class="n">count</span><span class="p">(),</span>
                                                                                 <span class="n">gsFailed</span><span class="o">.</span><span class="n">count</span><span class="p">())</span>
<span class="k">assert</span> <span class="p">(</span><span class="n">gsFailed</span><span class="o">.</span><span class="n">count</span><span class="p">()</span> <span class="o">==</span> <span class="mi">0</span><span class="p">)</span>
<span class="k">assert</span> <span class="p">(</span><span class="n">gsRaw</span><span class="o">.</span><span class="n">count</span><span class="p">()</span> <span class="o">==</span> <span class="p">(</span><span class="n">goldStandard</span><span class="o">.</span><span class="n">count</span><span class="p">()</span> <span class="o">+</span> <span class="mi">1</span><span class="p">))</span>
</pre></div>

</div>
</div>
</div>

</div>
<div class="cell border-box-sizing text_cell rendered">
<div class="prompt input_prompt">
</div>
<div class="inner_cell">
<div class="text_cell_render border-box-sizing rendered_html">
<h3 id="Using-the-&quot;gold-standard&quot;-data-we-can-answer-the-following-questions:">Using the "gold standard" data we can answer the following questions:<a class="anchor-link" href="#Using-the-&quot;gold-standard&quot;-data-we-can-answer-the-following-questions:">&#182;</a></h3><ul>
<li>#### How many true duplicate pairs are there in the small datasets?</li>
<li>#### What is the average similarity score for true duplicates?</li>
<li>#### What about for non-duplicates?
#### The steps you should perform are:</li>
<li>#### Create a new <code>sims</code> RDD from the <code>similaritiesBroadcast</code> RDD, where each element consists of a pair of the form ("AmazonID GoogleURL", cosineSimilarityScore). An example entry from <code>sims</code> is: ('b000bi7uqs <a href="http://www.google.com/base/feeds/snippets/18403148885652932189">http://www.google.com/base/feeds/snippets/18403148885652932189</a>', 0.40202896125621296)</li>
<li>#### Combine the <code>sims</code> RDD with the <code>goldStandard</code> RDD by creating a new <code>trueDupsRDD</code> RDD that has the just the cosine similarity scores for those "AmazonID GoogleURL" pairs that appear in both the <code>sims</code> RDD and <code>goldStandard</code> RDD. Hint: you can do this using the join() transformation.</li>
<li>#### Count the number of true duplicate pairs in the <code>trueDupsRDD</code> dataset</li>
<li>#### Compute the average similarity score for true duplicates in the <code>trueDupsRDD</code> datasets. Remember to use <code>float</code> for calculation</li>
<li>#### Create a new <code>nonDupsRDD</code> RDD that has the just the cosine similarity scores for those "AmazonID GoogleURL" pairs from the <code>similaritiesBroadcast</code> RDD that <strong>do not</strong> appear in both the <em>sims</em> RDD and gold standard RDD.</li>
<li>#### Compute the average similarity score for non-duplicates in the last datasets. Remember to use <code>float</code> for calculation</li>
</ul>

</div>
</div>
</div>
<div class="cell border-box-sizing code_cell rendered">
<div class="input">
<div class="prompt input_prompt">In&nbsp;[&nbsp;]:</div>
<div class="inner_cell">
    <div class="input_area">
<div class=" highlight hl-ipython3"><pre><span class="c"># TODO: Replace &lt;FILL IN&gt; with appropriate code</span>
<span class="n">sims</span> <span class="o">=</span> <span class="n">similaritiesBroadcast</span><span class="o">.&lt;</span><span class="n">FILL</span> <span class="n">IN</span><span class="o">&gt;</span><span class="p">)</span>

<span class="n">trueDupsRDD</span> <span class="o">=</span> <span class="p">(</span><span class="n">sims</span>
               <span class="o">.&lt;</span><span class="n">FILL</span> <span class="n">IN</span><span class="o">&gt;</span><span class="p">)</span>
<span class="n">trueDupsCount</span> <span class="o">=</span> <span class="n">trueDupsRDD</span><span class="o">.&lt;</span><span class="n">FILL</span> <span class="n">IN</span><span class="o">&gt;</span>
<span class="n">avgSimDups</span> <span class="o">=</span> <span class="o">&lt;</span><span class="n">FILL</span> <span class="n">IN</span><span class="o">&gt;</span>

<span class="n">nonDupsRDD</span> <span class="o">=</span> <span class="p">(</span><span class="n">sims</span>
              <span class="o">.&lt;</span><span class="n">FILL</span> <span class="n">IN</span><span class="o">&gt;</span><span class="p">)</span>
<span class="n">avgSimNon</span> <span class="o">=</span> <span class="o">&lt;</span><span class="n">FILL</span> <span class="n">IN</span><span class="o">&gt;</span>

<span class="nb">print</span> <span class="s">&#39;There are %s true duplicates.&#39;</span> <span class="o">%</span> <span class="n">trueDupsCount</span>
<span class="nb">print</span> <span class="s">&#39;The average similarity of true duplicates is %s.&#39;</span> <span class="o">%</span> <span class="n">avgSimDups</span>
<span class="nb">print</span> <span class="s">&#39;And for non duplicates, it is %s.&#39;</span> <span class="o">%</span> <span class="n">avgSimNon</span>
</pre></div>

</div>
</div>
</div>

</div>
<div class="cell border-box-sizing code_cell rendered">
<div class="input">
<div class="prompt input_prompt">In&nbsp;[&nbsp;]:</div>
<div class="inner_cell">
    <div class="input_area">
<div class=" highlight hl-ipython3"><pre><span class="c"># TEST Perform a Gold Standard evaluation (3e)</span>
<span class="n">Test</span><span class="o">.</span><span class="n">assertEquals</span><span class="p">(</span><span class="n">trueDupsCount</span><span class="p">,</span> <span class="mi">146</span><span class="p">,</span> <span class="s">&#39;incorrect trueDupsCount&#39;</span><span class="p">)</span>
<span class="n">Test</span><span class="o">.</span><span class="n">assertTrue</span><span class="p">(</span><span class="nb">abs</span><span class="p">(</span><span class="n">avgSimDups</span> <span class="o">-</span> <span class="mf">0.264332573435</span><span class="p">)</span> <span class="o">&lt;</span> <span class="mf">0.0000001</span><span class="p">,</span> <span class="s">&#39;incorrect avgSimDups&#39;</span><span class="p">)</span>
<span class="n">Test</span><span class="o">.</span><span class="n">assertTrue</span><span class="p">(</span><span class="nb">abs</span><span class="p">(</span><span class="n">avgSimNon</span> <span class="o">-</span> <span class="mf">0.00123476304656</span><span class="p">)</span> <span class="o">&lt;</span> <span class="mf">0.0000001</span><span class="p">,</span> <span class="s">&#39;incorrect avgSimNon&#39;</span><span class="p">)</span>
</pre></div>

</div>
</div>
</div>

</div>
<div class="cell border-box-sizing text_cell rendered">
<div class="prompt input_prompt">
</div>
<div class="inner_cell">
<div class="text_cell_render border-box-sizing rendered_html">
<h3 id="Part-4:-Scalable-ER"><strong>Part 4: Scalable ER</strong><a class="anchor-link" href="#Part-4:-Scalable-ER">&#182;</a></h3><h4 id="In-the-previous-parts,-we-built-a-text-similarity-function-and-used-it-for-small-scale-entity-resolution.--Our-implementation-is-limited-by-its-quadratic-run-time-complexity,-and-is-not-practical-for-even-modestly-sized-datasets.--In-this-part,-we-will-implement-a-more-scalable-algorithm-and-use-it-to-do-entity-resolution-on-the-full-dataset.">In the previous parts, we built a text similarity function and used it for small scale entity resolution.  Our implementation is limited by its quadratic run time complexity, and is not practical for even modestly sized datasets.  In this part, we will implement a more scalable algorithm and use it to do entity resolution on the full dataset.<a class="anchor-link" href="#In-the-previous-parts,-we-built-a-text-similarity-function-and-used-it-for-small-scale-entity-resolution.--Our-implementation-is-limited-by-its-quadratic-run-time-complexity,-and-is-not-practical-for-even-modestly-sized-datasets.--In-this-part,-we-will-implement-a-more-scalable-algorithm-and-use-it-to-do-entity-resolution-on-the-full-dataset.">&#182;</a></h4><h3 id="Inverted-Indices">Inverted Indices<a class="anchor-link" href="#Inverted-Indices">&#182;</a></h3><h4 id="To-improve-our-ER-algorithm-from-the-earlier-parts,-we-should-begin-by-analyzing-its-running-time.-In-particular,-the-algorithm-above-is-quadratic-in-two-ways.-First,-we-did-a-lot-of-redundant-computation-of-tokens-and-weights,-since-each-record-was-reprocessed-every-time-it-was-compared.-Second,-we-made-quadratically-many-token-comparisons-between-records.">To improve our ER algorithm from the earlier parts, we should begin by analyzing its running time. In particular, the algorithm above is quadratic in two ways. First, we did a lot of redundant computation of tokens and weights, since each record was reprocessed every time it was compared. Second, we made quadratically many token comparisons between records.<a class="anchor-link" href="#To-improve-our-ER-algorithm-from-the-earlier-parts,-we-should-begin-by-analyzing-its-running-time.-In-particular,-the-algorithm-above-is-quadratic-in-two-ways.-First,-we-did-a-lot-of-redundant-computation-of-tokens-and-weights,-since-each-record-was-reprocessed-every-time-it-was-compared.-Second,-we-made-quadratically-many-token-comparisons-between-records.">&#182;</a></h4><h4 id="The-first-source-of-quadratic-overhead-can-be-eliminated-with-precomputation-and-look-up-tables,-but-the-second-source-is-a-little-more-tricky.-In-the-worst-case,-every-token-in-every-record-in-one-dataset-exists-in-every-record-in-the-other-dataset,-and-therefore-every-token-makes-a-non-zero-contribution-to-the-cosine-similarity.-In-this-case,-token-comparison-is-unavoidably-quadratic.">The first source of quadratic overhead can be eliminated with precomputation and look-up tables, but the second source is a little more tricky. In the worst case, every token in every record in one dataset exists in every record in the other dataset, and therefore every token makes a non-zero contribution to the cosine similarity. In this case, token comparison is unavoidably quadratic.<a class="anchor-link" href="#The-first-source-of-quadratic-overhead-can-be-eliminated-with-precomputation-and-look-up-tables,-but-the-second-source-is-a-little-more-tricky.-In-the-worst-case,-every-token-in-every-record-in-one-dataset-exists-in-every-record-in-the-other-dataset,-and-therefore-every-token-makes-a-non-zero-contribution-to-the-cosine-similarity.-In-this-case,-token-comparison-is-unavoidably-quadratic.">&#182;</a></h4><h4 id="But-in-reality-most-records-have-nothing-(or-very-little)-in-common.-Moreover,-it-is-typical-for-a-record-in-one-dataset-to-have-at-most-one-duplicate-record-in-the-other-dataset-(this-is-the-case-assuming-each-dataset-has-been-de-duplicated-against-itself).-In-this-case,-the-output-is-linear-in-the-size-of-the-input-and-we-can-hope-to-achieve-linear-running-time.">But in reality most records have nothing (or very little) in common. Moreover, it is typical for a record in one dataset to have at most one duplicate record in the other dataset (this is the case assuming each dataset has been de-duplicated against itself). In this case, the output is linear in the size of the input and we can hope to achieve linear running time.<a class="anchor-link" href="#But-in-reality-most-records-have-nothing-(or-very-little)-in-common.-Moreover,-it-is-typical-for-a-record-in-one-dataset-to-have-at-most-one-duplicate-record-in-the-other-dataset-(this-is-the-case-assuming-each-dataset-has-been-de-duplicated-against-itself).-In-this-case,-the-output-is-linear-in-the-size-of-the-input-and-we-can-hope-to-achieve-linear-running-time.">&#182;</a></h4><h4 id="An-inverted-index-is-a-data-structure-that-will-allow-us-to-avoid-making-quadratically-many-token-comparisons.--It-maps-each-token-in-the-dataset-to-the-list-of-documents-that-contain-the-token.--So,-instead-of-comparing,-record-by-record,-each-token-to-every-other-token-to-see-if-they-match,-we-will-use-inverted-indices-to-look-up-records-that-match-on-a-particular-token.">An <a href="https://en.wikipedia.org/wiki/Inverted_index"><strong>inverted index</strong></a> is a data structure that will allow us to avoid making quadratically many token comparisons.  It maps each token in the dataset to the list of documents that contain the token.  So, instead of comparing, record by record, each token to every other token to see if they match, we will use inverted indices to <em>look up</em> records that match on a particular token.<a class="anchor-link" href="#An-inverted-index-is-a-data-structure-that-will-allow-us-to-avoid-making-quadratically-many-token-comparisons.--It-maps-each-token-in-the-dataset-to-the-list-of-documents-that-contain-the-token.--So,-instead-of-comparing,-record-by-record,-each-token-to-every-other-token-to-see-if-they-match,-we-will-use-inverted-indices-to-look-up-records-that-match-on-a-particular-token.">&#182;</a></h4><blockquote><h4 id="Note-on-terminology:-In-text-search,-a-forward-index-maps-documents-in-a-dataset-to-the-tokens-they-contain.--An-inverted-index-supports-the-inverse-mapping."><strong>Note on terminology</strong>: In text search, a <em>forward</em> index maps documents in a dataset to the tokens they contain.  An <em>inverted</em> index supports the inverse mapping.<a class="anchor-link" href="#Note-on-terminology:-In-text-search,-a-forward-index-maps-documents-in-a-dataset-to-the-tokens-they-contain.--An-inverted-index-supports-the-inverse-mapping.">&#182;</a></h4><h4 id="Note:-For-this-section,-use-the-complete-Google-and-Amazon-datasets,-not-the-samples"><strong>Note</strong>: For this section, use the complete Google and Amazon datasets, not the samples<a class="anchor-link" href="#Note:-For-this-section,-use-the-complete-Google-and-Amazon-datasets,-not-the-samples">&#182;</a></h4>
</blockquote>

</div>
</div>
</div>
<div class="cell border-box-sizing text_cell rendered">
<div class="prompt input_prompt">
</div>
<div class="inner_cell">
<div class="text_cell_render border-box-sizing rendered_html">
<h3 id="(4a)-Tokenize-the-full-dataset"><strong>(4a) Tokenize the full dataset</strong><a class="anchor-link" href="#(4a)-Tokenize-the-full-dataset">&#182;</a></h3><h4 id="Tokenize-each-of-the-two-full-datasets-for-Google-and-Amazon.">Tokenize each of the two full datasets for Google and Amazon.<a class="anchor-link" href="#Tokenize-each-of-the-two-full-datasets-for-Google-and-Amazon.">&#182;</a></h4>
</div>
</div>
</div>
<div class="cell border-box-sizing code_cell rendered">
<div class="input">
<div class="prompt input_prompt">In&nbsp;[&nbsp;]:</div>
<div class="inner_cell">
    <div class="input_area">
<div class=" highlight hl-ipython3"><pre><span class="c"># TODO: Replace &lt;FILL IN&gt; with appropriate code</span>
<span class="n">amazonFullRecToToken</span> <span class="o">=</span> <span class="n">amazon</span><span class="o">.&lt;</span><span class="n">FILL</span> <span class="n">IN</span><span class="o">&gt;</span>
<span class="n">googleFullRecToToken</span> <span class="o">=</span> <span class="n">google</span><span class="o">.&lt;</span><span class="n">FILL</span> <span class="n">IN</span><span class="o">&gt;</span>
<span class="nb">print</span> <span class="s">&#39;Amazon full dataset is %s products, Google full dataset is %s products&#39;</span> <span class="o">%</span> <span class="p">(</span><span class="n">amazonFullRecToToken</span><span class="o">.</span><span class="n">count</span><span class="p">(),</span>
                                                                                    <span class="n">googleFullRecToToken</span><span class="o">.</span><span class="n">count</span><span class="p">())</span>
</pre></div>

</div>
</div>
</div>

</div>
<div class="cell border-box-sizing code_cell rendered">
<div class="input">
<div class="prompt input_prompt">In&nbsp;[&nbsp;]:</div>
<div class="inner_cell">
    <div class="input_area">
<div class=" highlight hl-ipython3"><pre><span class="c"># TEST Tokenize the full dataset (4a)</span>
<span class="n">Test</span><span class="o">.</span><span class="n">assertEquals</span><span class="p">(</span><span class="n">amazonFullRecToToken</span><span class="o">.</span><span class="n">count</span><span class="p">(),</span> <span class="mi">1363</span><span class="p">,</span> <span class="s">&#39;incorrect amazonFullRecToToken.count()&#39;</span><span class="p">)</span>
<span class="n">Test</span><span class="o">.</span><span class="n">assertEquals</span><span class="p">(</span><span class="n">googleFullRecToToken</span><span class="o">.</span><span class="n">count</span><span class="p">(),</span> <span class="mi">3226</span><span class="p">,</span> <span class="s">&#39;incorrect googleFullRecToToken.count()&#39;</span><span class="p">)</span>
</pre></div>

</div>
</div>
</div>

</div>
<div class="cell border-box-sizing text_cell rendered">
<div class="prompt input_prompt">
</div>
<div class="inner_cell">
<div class="text_cell_render border-box-sizing rendered_html">
<h3 id="(4b)-Compute-IDFs-and-TF-IDFs-for-the-full-datasets"><strong>(4b) Compute IDFs and TF-IDFs for the full datasets</strong><a class="anchor-link" href="#(4b)-Compute-IDFs-and-TF-IDFs-for-the-full-datasets">&#182;</a></h3><h4 id="We-will-reuse-your-code-from-above-to-compute-IDF-weights-for-the-complete-combined-datasets.">We will reuse your code from above to compute IDF weights for the complete combined datasets.<a class="anchor-link" href="#We-will-reuse-your-code-from-above-to-compute-IDF-weights-for-the-complete-combined-datasets.">&#182;</a></h4><h4 id="The-steps-you-should-perform-are:">The steps you should perform are:<a class="anchor-link" href="#The-steps-you-should-perform-are:">&#182;</a></h4><ul>
<li>#### Create a new <code>fullCorpusRDD</code> that contains the tokens from the full Amazon and Google datasets.</li>
<li>#### Apply your <code>idfs</code> function to the <code>fullCorpusRDD</code></li>
<li>#### Create a broadcast variable containing a dictionary of the IDF weights for the full dataset.</li>
<li>#### For each of the Amazon and Google full datasets, create weight RDDs that map IDs/URLs to TF-IDF weighted token vectors.</li>
</ul>

</div>
</div>
</div>
<div class="cell border-box-sizing code_cell rendered">
<div class="input">
<div class="prompt input_prompt">In&nbsp;[&nbsp;]:</div>
<div class="inner_cell">
    <div class="input_area">
<div class=" highlight hl-ipython3"><pre><span class="c"># TODO: Replace &lt;FILL IN&gt; with appropriate code</span>
<span class="n">fullCorpusRDD</span> <span class="o">=</span> <span class="o">&lt;</span><span class="n">FILL</span> <span class="n">IN</span><span class="o">&gt;</span>
<span class="n">idfsFull</span> <span class="o">=</span> <span class="n">idfs</span><span class="p">(</span><span class="n">fullCorpusRDD</span><span class="p">)</span>
<span class="n">idfsFullCount</span> <span class="o">=</span> <span class="n">idfsFull</span><span class="o">.</span><span class="n">count</span><span class="p">()</span>
<span class="nb">print</span> <span class="s">&#39;There are %s unique tokens in the full datasets.&#39;</span> <span class="o">%</span> <span class="n">idfsFullCount</span>

<span class="c"># Recompute IDFs for full dataset</span>
<span class="n">idfsFullWeights</span> <span class="o">=</span> <span class="o">&lt;</span><span class="n">FILL</span> <span class="n">IN</span><span class="o">&gt;</span>
<span class="n">idfsFullBroadcast</span> <span class="o">=</span> <span class="o">&lt;</span><span class="n">FILL</span> <span class="n">IN</span><span class="o">&gt;</span>

<span class="c"># Pre-compute TF-IDF weights.  Build mappings from record ID weight vector.</span>
<span class="n">amazonWeightsRDD</span> <span class="o">=</span> <span class="o">&lt;</span><span class="n">FILL</span> <span class="n">IN</span><span class="o">&gt;</span>
<span class="n">googleWeightsRDD</span> <span class="o">=</span> <span class="o">&lt;</span><span class="n">FILL</span> <span class="n">IN</span><span class="o">&gt;</span>
<span class="nb">print</span> <span class="s">&#39;There are %s Amazon weights and %s Google weights.&#39;</span> <span class="o">%</span> <span class="p">(</span><span class="n">amazonWeightsRDD</span><span class="o">.</span><span class="n">count</span><span class="p">(),</span>
                                                              <span class="n">googleWeightsRDD</span><span class="o">.</span><span class="n">count</span><span class="p">())</span>
</pre></div>

</div>
</div>
</div>

</div>
<div class="cell border-box-sizing code_cell rendered">
<div class="input">
<div class="prompt input_prompt">In&nbsp;[&nbsp;]:</div>
<div class="inner_cell">
    <div class="input_area">
<div class=" highlight hl-ipython3"><pre><span class="c"># TEST Compute IDFs and TF-IDFs for the full datasets (4b)</span>
<span class="n">Test</span><span class="o">.</span><span class="n">assertEquals</span><span class="p">(</span><span class="n">idfsFullCount</span><span class="p">,</span> <span class="mi">17078</span><span class="p">,</span> <span class="s">&#39;incorrect idfsFullCount&#39;</span><span class="p">)</span>
<span class="n">Test</span><span class="o">.</span><span class="n">assertEquals</span><span class="p">(</span><span class="n">amazonWeightsRDD</span><span class="o">.</span><span class="n">count</span><span class="p">(),</span> <span class="mi">1363</span><span class="p">,</span> <span class="s">&#39;incorrect amazonWeightsRDD.count()&#39;</span><span class="p">)</span>
<span class="n">Test</span><span class="o">.</span><span class="n">assertEquals</span><span class="p">(</span><span class="n">googleWeightsRDD</span><span class="o">.</span><span class="n">count</span><span class="p">(),</span> <span class="mi">3226</span><span class="p">,</span> <span class="s">&#39;incorrect googleWeightsRDD.count()&#39;</span><span class="p">)</span>
</pre></div>

</div>
</div>
</div>

</div>
<div class="cell border-box-sizing text_cell rendered">
<div class="prompt input_prompt">
</div>
<div class="inner_cell">
<div class="text_cell_render border-box-sizing rendered_html">
<h3 id="(4c)-Compute-Norms-for-the-weights-from-the-full-datasets"><strong>(4c) Compute Norms for the weights from the full datasets</strong><a class="anchor-link" href="#(4c)-Compute-Norms-for-the-weights-from-the-full-datasets">&#182;</a></h3><h4 id="We-will-reuse-your-code-from-above-to-compute-norms-of-the-IDF-weights-for-the-complete-combined-dataset.">We will reuse your code from above to compute norms of the IDF weights for the complete combined dataset.<a class="anchor-link" href="#We-will-reuse-your-code-from-above-to-compute-norms-of-the-IDF-weights-for-the-complete-combined-dataset.">&#182;</a></h4><h4 id="The-steps-you-should-perform-are:">The steps you should perform are:<a class="anchor-link" href="#The-steps-you-should-perform-are:">&#182;</a></h4><ul>
<li>#### Create two collections, one for each of the full Amazon and Google datasets, where IDs/URLs map to the norm of the associated TF-IDF weighted token vectors.</li>
<li>#### Convert each collection into a broadcast variable, containing a dictionary of the norm of IDF weights for the full dataset</li>
</ul>

</div>
</div>
</div>
<div class="cell border-box-sizing code_cell rendered">
<div class="input">
<div class="prompt input_prompt">In&nbsp;[&nbsp;]:</div>
<div class="inner_cell">
    <div class="input_area">
<div class=" highlight hl-ipython3"><pre><span class="c"># TODO: Replace &lt;FILL IN&gt; with appropriate code</span>
<span class="n">amazonNorms</span> <span class="o">=</span> <span class="n">amazonWeightsRDD</span><span class="o">.&lt;</span><span class="n">FILL</span> <span class="n">IN</span><span class="o">&gt;</span>
<span class="n">amazonNormsBroadcast</span> <span class="o">=</span> <span class="o">&lt;</span><span class="n">FILL</span> <span class="n">IN</span><span class="o">&gt;</span>
<span class="n">googleNorms</span> <span class="o">=</span> <span class="n">googleWeightsRDD</span><span class="o">.&lt;</span><span class="n">FILL</span> <span class="n">IN</span><span class="o">&gt;</span>
<span class="n">googleNormsBroadcast</span> <span class="o">=</span> <span class="o">&lt;</span><span class="n">FILL</span> <span class="n">IN</span><span class="o">&gt;</span>
</pre></div>

</div>
</div>
</div>

</div>
<div class="cell border-box-sizing code_cell rendered">
<div class="input">
<div class="prompt input_prompt">In&nbsp;[&nbsp;]:</div>
<div class="inner_cell">
    <div class="input_area">
<div class=" highlight hl-ipython3"><pre><span class="c"># TEST Compute Norms for the weights from the full datasets (4c)</span>
<span class="n">Test</span><span class="o">.</span><span class="n">assertTrue</span><span class="p">(</span><span class="nb">isinstance</span><span class="p">(</span><span class="n">amazonNormsBroadcast</span><span class="p">,</span> <span class="n">Broadcast</span><span class="p">),</span> <span class="s">&#39;incorrect amazonNormsBroadcast&#39;</span><span class="p">)</span>
<span class="n">Test</span><span class="o">.</span><span class="n">assertEquals</span><span class="p">(</span><span class="nb">len</span><span class="p">(</span><span class="n">amazonNormsBroadcast</span><span class="o">.</span><span class="n">value</span><span class="p">),</span> <span class="mi">1363</span><span class="p">,</span> <span class="s">&#39;incorrect amazonNormsBroadcast.value&#39;</span><span class="p">)</span>
<span class="n">Test</span><span class="o">.</span><span class="n">assertTrue</span><span class="p">(</span><span class="nb">isinstance</span><span class="p">(</span><span class="n">googleNormsBroadcast</span><span class="p">,</span> <span class="n">Broadcast</span><span class="p">),</span> <span class="s">&#39;incorrect googleNormsBroadcast&#39;</span><span class="p">)</span>
<span class="n">Test</span><span class="o">.</span><span class="n">assertEquals</span><span class="p">(</span><span class="nb">len</span><span class="p">(</span><span class="n">googleNormsBroadcast</span><span class="o">.</span><span class="n">value</span><span class="p">),</span> <span class="mi">3226</span><span class="p">,</span> <span class="s">&#39;incorrect googleNormsBroadcast.value&#39;</span><span class="p">)</span>
</pre></div>

</div>
</div>
</div>

</div>
<div class="cell border-box-sizing text_cell rendered">
<div class="prompt input_prompt">
</div>
<div class="inner_cell">
<div class="text_cell_render border-box-sizing rendered_html">
<h3 id="(4d)-Create-inverted-indicies-from-the-full-datasets"><strong>(4d) Create inverted indicies from the full datasets</strong><a class="anchor-link" href="#(4d)-Create-inverted-indicies-from-the-full-datasets">&#182;</a></h3><h4 id="Build-inverted-indices-of-both-data-sources.">Build inverted indices of both data sources.<a class="anchor-link" href="#Build-inverted-indices-of-both-data-sources.">&#182;</a></h4><h4 id="The-steps-you-should-perform-are:">The steps you should perform are:<a class="anchor-link" href="#The-steps-you-should-perform-are:">&#182;</a></h4><ul>
<li>#### Create an invert function that given a pair of (ID/URL, TF-IDF weighted token vector), returns a list of pairs of (token, ID/URL). Recall that the TF-IDF weighted token vector is a Python dictionary with keys that are tokens and values that are weights.</li>
<li>#### Use your invert function to convert the full Amazon and Google TF-IDF weighted token vector datasets into two RDDs where each element is a pair of a token and an ID/URL that contain that token. These are inverted indicies.</li>
</ul>

</div>
</div>
</div>
<div class="cell border-box-sizing code_cell rendered">
<div class="input">
<div class="prompt input_prompt">In&nbsp;[&nbsp;]:</div>
<div class="inner_cell">
    <div class="input_area">
<div class=" highlight hl-ipython3"><pre><span class="c"># TODO: Replace &lt;FILL IN&gt; with appropriate code</span>
<span class="k">def</span> <span class="nf">invert</span><span class="p">(</span><span class="n">record</span><span class="p">):</span>
    <span class="sd">&quot;&quot;&quot; Invert (ID, tokens) to a list of (token, ID)</span>
<span class="sd">    Args:</span>
<span class="sd">        record: a pair, (ID, token vector)</span>
<span class="sd">    Returns:</span>
<span class="sd">        pairs: a list of pairs of token to ID</span>
<span class="sd">    &quot;&quot;&quot;</span>
    <span class="o">&lt;</span><span class="n">FILL</span> <span class="n">IN</span><span class="o">&gt;</span>
    <span class="k">return</span> <span class="p">(</span><span class="n">pairs</span><span class="p">)</span>

<span class="n">amazonInvPairsRDD</span> <span class="o">=</span> <span class="p">(</span><span class="n">amazonWeightsRDD</span>
                    <span class="o">.&lt;</span><span class="n">FILL</span> <span class="n">IN</span><span class="o">&gt;</span>
                    <span class="o">.</span><span class="n">cache</span><span class="p">())</span>

<span class="n">googleInvPairsRDD</span> <span class="o">=</span> <span class="p">(</span><span class="n">googleWeightsRDD</span>
                    <span class="o">.&lt;</span><span class="n">FILL</span> <span class="n">IN</span><span class="o">&gt;</span>
                    <span class="o">.</span><span class="n">cache</span><span class="p">())</span>

<span class="nb">print</span> <span class="s">&#39;There are %s Amazon inverted pairs and %s Google inverted pairs.&#39;</span> <span class="o">%</span> <span class="p">(</span><span class="n">amazonInvPairsRDD</span><span class="o">.</span><span class="n">count</span><span class="p">(),</span>
                                                                            <span class="n">googleInvPairsRDD</span><span class="o">.</span><span class="n">count</span><span class="p">())</span>
</pre></div>

</div>
</div>
</div>

</div>
<div class="cell border-box-sizing code_cell rendered">
<div class="input">
<div class="prompt input_prompt">In&nbsp;[&nbsp;]:</div>
<div class="inner_cell">
    <div class="input_area">
<div class=" highlight hl-ipython3"><pre><span class="c"># TEST Create inverted indicies from the full datasets (4d)</span>
<span class="n">invertedPair</span> <span class="o">=</span> <span class="n">invert</span><span class="p">((</span><span class="mi">1</span><span class="p">,</span> <span class="p">{</span><span class="s">&#39;foo&#39;</span><span class="p">:</span> <span class="mi">2</span><span class="p">}))</span>
<span class="n">Test</span><span class="o">.</span><span class="n">assertEquals</span><span class="p">(</span><span class="n">invertedPair</span><span class="p">[</span><span class="mi">0</span><span class="p">][</span><span class="mi">1</span><span class="p">],</span> <span class="mi">1</span><span class="p">,</span> <span class="s">&#39;incorrect invert result&#39;</span><span class="p">)</span>
<span class="n">Test</span><span class="o">.</span><span class="n">assertEquals</span><span class="p">(</span><span class="n">amazonInvPairsRDD</span><span class="o">.</span><span class="n">count</span><span class="p">(),</span> <span class="mi">111387</span><span class="p">,</span> <span class="s">&#39;incorrect amazonInvPairsRDD.count()&#39;</span><span class="p">)</span>
<span class="n">Test</span><span class="o">.</span><span class="n">assertEquals</span><span class="p">(</span><span class="n">googleInvPairsRDD</span><span class="o">.</span><span class="n">count</span><span class="p">(),</span> <span class="mi">77678</span><span class="p">,</span> <span class="s">&#39;incorrect googleInvPairsRDD.count()&#39;</span><span class="p">)</span>
</pre></div>

</div>
</div>
</div>

</div>
<div class="cell border-box-sizing text_cell rendered">
<div class="prompt input_prompt">
</div>
<div class="inner_cell">
<div class="text_cell_render border-box-sizing rendered_html">
<h3 id="(4e)-Identify-common-tokens-from-the-full-dataset"><strong>(4e) Identify common tokens from the full dataset</strong><a class="anchor-link" href="#(4e)-Identify-common-tokens-from-the-full-dataset">&#182;</a></h3><h4 id="We-are-now-in-position-to-efficiently-perform-ER-on-the-full-datasets.-Implement-the-following-algorithm-to-build-an-RDD-that-maps-a-pair-of-(ID,-URL)-to-a-list-of-tokens-they-share-in-common:">We are now in position to efficiently perform ER on the full datasets. Implement the following algorithm to build an RDD that maps a pair of (ID, URL) to a list of tokens they share in common:<a class="anchor-link" href="#We-are-now-in-position-to-efficiently-perform-ER-on-the-full-datasets.-Implement-the-following-algorithm-to-build-an-RDD-that-maps-a-pair-of-(ID,-URL)-to-a-list-of-tokens-they-share-in-common:">&#182;</a></h4><ul>
<li>#### Using the two inverted indicies (RDDs where each element is a pair of a token and an ID or URL that contains that token), create a new RDD that contains only tokens that appear in both datasets. This will yield an RDD of pairs of (token, iterable(ID, URL)).</li>
<li>#### We need a mapping from (ID, URL) to token, so create a function that will swap the elements of the RDD you just created to create this new RDD consisting of ((ID, URL), token) pairs.</li>
<li>#### Finally, create an RDD consisting of pairs mapping (ID, URL) to all the tokens the pair shares in common</li>
</ul>

</div>
</div>
</div>
<div class="cell border-box-sizing code_cell rendered">
<div class="input">
<div class="prompt input_prompt">In&nbsp;[&nbsp;]:</div>
<div class="inner_cell">
    <div class="input_area">
<div class=" highlight hl-ipython3"><pre><span class="c"># TODO: Replace &lt;FILL IN&gt; with appropriate code</span>
<span class="k">def</span> <span class="nf">swap</span><span class="p">(</span><span class="n">record</span><span class="p">):</span>
    <span class="sd">&quot;&quot;&quot; Swap (token, (ID, URL)) to ((ID, URL), token)</span>
<span class="sd">    Args:</span>
<span class="sd">        record: a pair, (token, (ID, URL))</span>
<span class="sd">    Returns:</span>
<span class="sd">        pair: ((ID, URL), token)</span>
<span class="sd">    &quot;&quot;&quot;</span>
    <span class="n">token</span> <span class="o">=</span> <span class="o">&lt;</span><span class="n">FILL</span> <span class="n">IN</span><span class="o">&gt;</span>
    <span class="n">keys</span> <span class="o">=</span> <span class="o">&lt;</span><span class="n">FILL</span> <span class="n">IN</span><span class="o">&gt;</span>
    <span class="k">return</span> <span class="p">(</span><span class="n">keys</span><span class="p">,</span> <span class="n">token</span><span class="p">)</span>

<span class="n">commonTokens</span> <span class="o">=</span> <span class="p">(</span><span class="n">amazonInvPairsRDD</span>
                <span class="o">.&lt;</span><span class="n">FILL</span> <span class="n">IN</span><span class="o">&gt;</span>
                <span class="o">.</span><span class="n">cache</span><span class="p">())</span>

<span class="nb">print</span> <span class="s">&#39;Found %d common tokens&#39;</span> <span class="o">%</span> <span class="n">commonTokens</span><span class="o">.</span><span class="n">count</span><span class="p">()</span>
</pre></div>

</div>
</div>
</div>

</div>
<div class="cell border-box-sizing code_cell rendered">
<div class="input">
<div class="prompt input_prompt">In&nbsp;[&nbsp;]:</div>
<div class="inner_cell">
    <div class="input_area">
<div class=" highlight hl-ipython3"><pre><span class="c"># TEST Identify common tokens from the full dataset (4e)</span>
<span class="n">Test</span><span class="o">.</span><span class="n">assertEquals</span><span class="p">(</span><span class="n">commonTokens</span><span class="o">.</span><span class="n">count</span><span class="p">(),</span> <span class="mi">2441100</span><span class="p">,</span> <span class="s">&#39;incorrect commonTokens.count()&#39;</span><span class="p">)</span>
</pre></div>

</div>
</div>
</div>

</div>
<div class="cell border-box-sizing text_cell rendered">
<div class="prompt input_prompt">
</div>
<div class="inner_cell">
<div class="text_cell_render border-box-sizing rendered_html">
<h3 id="(4f)-Identify-common-tokens-from-the-full-dataset"><strong>(4f) Identify common tokens from the full dataset</strong><a class="anchor-link" href="#(4f)-Identify-common-tokens-from-the-full-dataset">&#182;</a></h3><h4 id="Use-the-data-structures-from-parts-(4a)-and-(4e)-to-build-a-dictionary-to-map-record-pairs-to-cosine-similarity-scores.">Use the data structures from parts <strong>(4a)</strong> and <strong>(4e)</strong> to build a dictionary to map record pairs to cosine similarity scores.<a class="anchor-link" href="#Use-the-data-structures-from-parts-(4a)-and-(4e)-to-build-a-dictionary-to-map-record-pairs-to-cosine-similarity-scores.">&#182;</a></h4><h4 id="The-steps-you-should-perform-are:">The steps you should perform are:<a class="anchor-link" href="#The-steps-you-should-perform-are:">&#182;</a></h4><ul>
<li>#### Create two broadcast dictionaries from the amazonWeights and googleWeights RDDs</li>
<li>#### Create a <code>fastCosinesSimilarity</code> function that takes in a record consisting of the pair ((Amazon ID, Google URL), tokens list) and computes the sum for each of the tokens in the token list of the products of the Amazon weight for the token times the Google weight for the token. The sum should then be divided by the norm for the Google URL and then divided by the norm for the Amazon ID. The function should return this value in a pair with the key being the (Amazon ID, Google URL). <em>Make sure you use broadcast variables you created for both the weights and norms</em></li>
<li>#### Apply your <code>fastCosinesSimilarity</code> function to the common tokens from the full dataset</li>
</ul>

</div>
</div>
</div>
<div class="cell border-box-sizing code_cell rendered">
<div class="input">
<div class="prompt input_prompt">In&nbsp;[&nbsp;]:</div>
<div class="inner_cell">
    <div class="input_area">
<div class=" highlight hl-ipython3"><pre><span class="c"># TODO: Replace &lt;FILL IN&gt; with appropriate code</span>
<span class="n">amazonWeightsBroadcast</span> <span class="o">=</span> <span class="o">&lt;</span><span class="n">FILL</span> <span class="n">IN</span><span class="o">&gt;</span>
<span class="n">googleWeightsBroadcast</span> <span class="o">=</span> <span class="o">&lt;</span><span class="n">FILL</span> <span class="n">IN</span><span class="o">&gt;</span>

<span class="k">def</span> <span class="nf">fastCosineSimilarity</span><span class="p">(</span><span class="n">record</span><span class="p">):</span>
    <span class="sd">&quot;&quot;&quot; Compute Cosine Similarity using Broadcast variables</span>
<span class="sd">    Args:</span>
<span class="sd">        record: ((ID, URL), token)</span>
<span class="sd">    Returns:</span>
<span class="sd">        pair: ((ID, URL), cosine similarity value)</span>
<span class="sd">    &quot;&quot;&quot;</span>
    <span class="n">amazonRec</span> <span class="o">=</span> <span class="o">&lt;</span><span class="n">FILL</span> <span class="n">IN</span><span class="o">&gt;</span>
    <span class="n">googleRec</span> <span class="o">=</span> <span class="o">&lt;</span><span class="n">FILL</span> <span class="n">IN</span><span class="o">&gt;</span>
    <span class="n">tokens</span> <span class="o">=</span> <span class="o">&lt;</span><span class="n">FILL</span> <span class="n">IN</span><span class="o">&gt;</span>
    <span class="n">s</span> <span class="o">=</span> <span class="o">&lt;</span><span class="n">FILL</span> <span class="n">IN</span><span class="o">&gt;</span>
    <span class="n">value</span> <span class="o">=</span> <span class="o">&lt;</span><span class="n">FILL</span> <span class="n">IN</span><span class="o">&gt;</span>
    <span class="n">key</span> <span class="o">=</span> <span class="p">(</span><span class="n">amazonRec</span><span class="p">,</span> <span class="n">googleRec</span><span class="p">)</span>
    <span class="k">return</span> <span class="p">(</span><span class="n">key</span><span class="p">,</span> <span class="n">value</span><span class="p">)</span>

<span class="n">similaritiesFullRDD</span> <span class="o">=</span> <span class="p">(</span><span class="n">commonTokens</span>
                       <span class="o">.&lt;</span><span class="n">FILL</span> <span class="n">IN</span><span class="o">&gt;</span>
                       <span class="o">.</span><span class="n">cache</span><span class="p">())</span>

<span class="nb">print</span> <span class="n">similaritiesFullRDD</span><span class="o">.</span><span class="n">count</span><span class="p">()</span>
</pre></div>

</div>
</div>
</div>

</div>
<div class="cell border-box-sizing code_cell rendered">
<div class="input">
<div class="prompt input_prompt">In&nbsp;[&nbsp;]:</div>
<div class="inner_cell">
    <div class="input_area">
<div class=" highlight hl-ipython3"><pre><span class="c"># TEST Identify common tokens from the full dataset (4f)</span>
<span class="n">similarityTest</span> <span class="o">=</span> <span class="n">similaritiesFullRDD</span><span class="o">.</span><span class="n">filter</span><span class="p">(</span><span class="k">lambda</span> <span class="p">((</span><span class="n">aID</span><span class="p">,</span> <span class="n">gURL</span><span class="p">),</span> <span class="n">cs</span><span class="p">):</span> <span class="n">aID</span> <span class="o">==</span> <span class="s">&#39;b00005lzly&#39;</span> <span class="ow">and</span> <span class="n">gURL</span> <span class="o">==</span> <span class="s">&#39;http://www.google.com/base/feeds/snippets/13823221823254120257&#39;</span><span class="p">)</span><span class="o">.</span><span class="n">collect</span><span class="p">()</span>
<span class="n">Test</span><span class="o">.</span><span class="n">assertEquals</span><span class="p">(</span><span class="nb">len</span><span class="p">(</span><span class="n">similarityTest</span><span class="p">),</span> <span class="mi">1</span><span class="p">,</span> <span class="s">&#39;incorrect len(similarityTest)&#39;</span><span class="p">)</span>
<span class="n">Test</span><span class="o">.</span><span class="n">assertTrue</span><span class="p">(</span><span class="nb">abs</span><span class="p">(</span><span class="n">similarityTest</span><span class="p">[</span><span class="mi">0</span><span class="p">][</span><span class="mi">1</span><span class="p">]</span> <span class="o">-</span> <span class="mf">4.286548414e-06</span><span class="p">)</span> <span class="o">&lt;</span> <span class="mf">0.000000000001</span><span class="p">,</span> <span class="s">&#39;incorrect similarityTest fastCosineSimilarity&#39;</span><span class="p">)</span>
<span class="n">Test</span><span class="o">.</span><span class="n">assertEquals</span><span class="p">(</span><span class="n">similaritiesFullRDD</span><span class="o">.</span><span class="n">count</span><span class="p">(),</span> <span class="mi">2441100</span><span class="p">,</span> <span class="s">&#39;incorrect similaritiesFullRDD.count()&#39;</span><span class="p">)</span>
</pre></div>

</div>
</div>
</div>

</div>
<div class="cell border-box-sizing text_cell rendered">
<div class="prompt input_prompt">
</div>
<div class="inner_cell">
<div class="text_cell_render border-box-sizing rendered_html">
<h3 id="Part-5:-Analysis"><strong>Part 5: Analysis</strong><a class="anchor-link" href="#Part-5:-Analysis">&#182;</a></h3><h4 id="Now-we-have-an-authoritative-list-of-record-pair-similarities,-but-we-need-a-way-to-use-those-similarities-to-decide-if-two-records-are-duplicates-or-not.-The-simplest-approach-is-to-pick-a-threshold.-Pairs-whose-similarity-is-above-the-threshold-are-declared-duplicates,-and-pairs-below-the-threshold-are-declared-distinct.">Now we have an authoritative list of record-pair similarities, but we need a way to use those similarities to decide if two records are duplicates or not. The simplest approach is to pick a <strong>threshold</strong>. Pairs whose similarity is above the threshold are declared duplicates, and pairs below the threshold are declared distinct.<a class="anchor-link" href="#Now-we-have-an-authoritative-list-of-record-pair-similarities,-but-we-need-a-way-to-use-those-similarities-to-decide-if-two-records-are-duplicates-or-not.-The-simplest-approach-is-to-pick-a-threshold.-Pairs-whose-similarity-is-above-the-threshold-are-declared-duplicates,-and-pairs-below-the-threshold-are-declared-distinct.">&#182;</a></h4><h4 id="To-decide-where-to-set-the-threshold-we-need-to-understand-what-kind-of-errors-result-at-different-levels.-If-we-set-the-threshold-too-low,-we-get-more-false-positives,-that-is,-record-pairs-we-say-are-duplicates-that-in-reality-are-not.-If-we-set-the-threshold-too-high,-we-get-more-false-negatives,-that-is,-record-pairs-that-really-are-duplicates-but-that-we-miss.">To decide where to set the threshold we need to understand what kind of errors result at different levels. If we set the threshold too low, we get more <strong>false positives</strong>, that is, record-pairs we say are duplicates that in reality are not. If we set the threshold too high, we get more <strong>false negatives</strong>, that is, record-pairs that really are duplicates but that we miss.<a class="anchor-link" href="#To-decide-where-to-set-the-threshold-we-need-to-understand-what-kind-of-errors-result-at-different-levels.-If-we-set-the-threshold-too-low,-we-get-more-false-positives,-that-is,-record-pairs-we-say-are-duplicates-that-in-reality-are-not.-If-we-set-the-threshold-too-high,-we-get-more-false-negatives,-that-is,-record-pairs-that-really-are-duplicates-but-that-we-miss.">&#182;</a></h4><h4 id="ER-algorithms-are-evaluated-by-the-common-metrics-of-information-retrieval-and-search-called-precision-and-recall.-Precision-asks-of-all-the-record-pairs-marked-duplicates,-what-fraction-are-true-duplicates?-Recall-asks-of-all-the-true-duplicates-in-the-data,-what-fraction-did-we-successfully-find?-As-with-false-positives-and-false-negatives,-there-is-a-trade-off-between-precision-and-recall.-A-third-metric,-called-F-measure,-takes-the-harmonic-mean-of-precision-and-recall-to-measure-overall-goodness-in-a-single-value:">ER algorithms are evaluated by the common metrics of information retrieval and search called <strong>precision</strong> and <strong>recall</strong>. Precision asks of all the record-pairs marked duplicates, what fraction are true duplicates? Recall asks of all the true duplicates in the data, what fraction did we successfully find? As with false positives and false negatives, there is a trade-off between precision and recall. A third metric, called <strong>F-measure</strong>, takes the harmonic mean of precision and recall to measure overall goodness in a single value:<a class="anchor-link" href="#ER-algorithms-are-evaluated-by-the-common-metrics-of-information-retrieval-and-search-called-precision-and-recall.-Precision-asks-of-all-the-record-pairs-marked-duplicates,-what-fraction-are-true-duplicates?-Recall-asks-of-all-the-true-duplicates-in-the-data,-what-fraction-did-we-successfully-find?-As-with-false-positives-and-false-negatives,-there-is-a-trade-off-between-precision-and-recall.-A-third-metric,-called-F-measure,-takes-the-harmonic-mean-of-precision-and-recall-to-measure-overall-goodness-in-a-single-value:">&#182;</a></h4><h4 id="$$-Fmeasure-=-2-\frac{precision-*-recall}{precision-+-recall}-$$">$$ Fmeasure = 2 \frac{precision * recall}{precision + recall} $$<a class="anchor-link" href="#$$-Fmeasure-=-2-\frac{precision-*-recall}{precision-+-recall}-$$">&#182;</a></h4><blockquote><h4 id="Note:-In-this-part,-we-use-the-&quot;gold-standard&quot;-mapping-from-the-included-file-to-look-up-true-duplicates,-and-the-results-of-Part-4."><strong>Note</strong>: In this part, we use the "gold standard" mapping from the included file to look up true duplicates, and the results of Part 4.<a class="anchor-link" href="#Note:-In-this-part,-we-use-the-&quot;gold-standard&quot;-mapping-from-the-included-file-to-look-up-true-duplicates,-and-the-results-of-Part-4.">&#182;</a></h4><h4 id="Note:-In-this-part,-you-will-not-be-writing-any-code.-We've-written-all-of-the-code-for-you.-Run-each-cell-and-then-answer-the-quiz-questions-on-Studio."><strong>Note</strong>: In this part, you will not be writing any code. We've written all of the code for you. Run each cell and then answer the quiz questions on Studio.<a class="anchor-link" href="#Note:-In-this-part,-you-will-not-be-writing-any-code.-We've-written-all-of-the-code-for-you.-Run-each-cell-and-then-answer-the-quiz-questions-on-Studio.">&#182;</a></h4>
</blockquote>

</div>
</div>
</div>
<div class="cell border-box-sizing text_cell rendered">
<div class="prompt input_prompt">
</div>
<div class="inner_cell">
<div class="text_cell_render border-box-sizing rendered_html">
<h3 id="(5a)-Counting-True-Positives,-False-Positives,-and-False-Negatives"><strong>(5a) Counting True Positives, False Positives, and False Negatives</strong><a class="anchor-link" href="#(5a)-Counting-True-Positives,-False-Positives,-and-False-Negatives">&#182;</a></h3><h4 id="We-need-functions-that-count-True-Positives-(true-duplicates-above-the-threshold),-and-False-Positives-and-False-Negatives:">We need functions that count True Positives (true duplicates above the threshold), and False Positives and False Negatives:<a class="anchor-link" href="#We-need-functions-that-count-True-Positives-(true-duplicates-above-the-threshold),-and-False-Positives-and-False-Negatives:">&#182;</a></h4><ul>
<li>#### We start with creating the <code>simsFullRDD</code> from our <code>similaritiesFullRDD</code> that consists of a pair of ((Amazon ID, Google URL), simlarity score)</li>
<li>#### From this RDD, we create an RDD consisting of only the similarity scores</li>
<li>#### To look up the similarity scores for true duplicates, we perform a left outer join using the <code>goldStandard</code> RDD and <code>simsFullRDD</code> and extract the</li>
</ul>

</div>
</div>
</div>
<div class="cell border-box-sizing code_cell rendered">
<div class="input">
<div class="prompt input_prompt">In&nbsp;[&nbsp;]:</div>
<div class="inner_cell">
    <div class="input_area">
<div class=" highlight hl-ipython3"><pre><span class="c"># Create an RDD of ((Amazon ID, Google URL), similarity score)</span>
<span class="n">simsFullRDD</span> <span class="o">=</span> <span class="n">similaritiesFullRDD</span><span class="o">.</span><span class="n">map</span><span class="p">(</span><span class="k">lambda</span> <span class="n">x</span><span class="p">:</span> <span class="p">(</span><span class="s">&quot;%s %s&quot;</span> <span class="o">%</span> <span class="p">(</span><span class="n">x</span><span class="p">[</span><span class="mi">0</span><span class="p">][</span><span class="mi">0</span><span class="p">],</span> <span class="n">x</span><span class="p">[</span><span class="mi">0</span><span class="p">][</span><span class="mi">1</span><span class="p">]),</span> <span class="n">x</span><span class="p">[</span><span class="mi">1</span><span class="p">]))</span>
<span class="k">assert</span> <span class="p">(</span><span class="n">simsFullRDD</span><span class="o">.</span><span class="n">count</span><span class="p">()</span> <span class="o">==</span> <span class="mi">2441100</span><span class="p">)</span>

<span class="c"># Create an RDD of just the similarity scores</span>
<span class="n">simsFullValuesRDD</span> <span class="o">=</span> <span class="p">(</span><span class="n">simsFullRDD</span>
                     <span class="o">.</span><span class="n">map</span><span class="p">(</span><span class="k">lambda</span> <span class="n">x</span><span class="p">:</span> <span class="n">x</span><span class="p">[</span><span class="mi">1</span><span class="p">])</span>
                     <span class="o">.</span><span class="n">cache</span><span class="p">())</span>
<span class="k">assert</span> <span class="p">(</span><span class="n">simsFullValuesRDD</span><span class="o">.</span><span class="n">count</span><span class="p">()</span> <span class="o">==</span> <span class="mi">2441100</span><span class="p">)</span>

<span class="c"># Look up all similarity scores for true duplicates</span>

<span class="c"># This helper function will return the similarity score for records that are in the gold standard and the simsFullRDD (True positives), and will return 0 for records that are in the gold standard but not in simsFullRDD (False Negatives).</span>
<span class="k">def</span> <span class="nf">gs_value</span><span class="p">(</span><span class="n">record</span><span class="p">):</span>
    <span class="k">if</span> <span class="p">(</span><span class="n">record</span><span class="p">[</span><span class="mi">1</span><span class="p">][</span><span class="mi">1</span><span class="p">]</span> <span class="ow">is</span> <span class="k">None</span><span class="p">):</span>
        <span class="k">return</span> <span class="mi">0</span>
    <span class="k">else</span><span class="p">:</span>
        <span class="k">return</span> <span class="n">record</span><span class="p">[</span><span class="mi">1</span><span class="p">][</span><span class="mi">1</span><span class="p">]</span>

<span class="c"># Join the gold standard and simsFullRDD, and then extract the similarities scores using the helper function</span>
<span class="n">trueDupSimsRDD</span> <span class="o">=</span> <span class="p">(</span><span class="n">goldStandard</span>
                  <span class="o">.</span><span class="n">leftOuterJoin</span><span class="p">(</span><span class="n">simsFullRDD</span><span class="p">)</span>
                  <span class="o">.</span><span class="n">map</span><span class="p">(</span><span class="n">gs_value</span><span class="p">)</span>
                  <span class="o">.</span><span class="n">cache</span><span class="p">())</span>
<span class="nb">print</span> <span class="s">&#39;There are %s true duplicates.&#39;</span> <span class="o">%</span> <span class="n">trueDupSimsRDD</span><span class="o">.</span><span class="n">count</span><span class="p">()</span>
<span class="k">assert</span><span class="p">(</span><span class="n">trueDupSimsRDD</span><span class="o">.</span><span class="n">count</span><span class="p">()</span> <span class="o">==</span> <span class="mi">1300</span><span class="p">)</span>
</pre></div>

</div>
</div>
</div>

</div>
<div class="cell border-box-sizing text_cell rendered">
<div class="prompt input_prompt">
</div>
<div class="inner_cell">
<div class="text_cell_render border-box-sizing rendered_html">
<h4 id="The-next-step-is-to-pick-a-threshold-between-0-and-1-for-the-count-of-True-Positives-(true-duplicates-above-the-threshold).-However,-we-would-like-to-explore-many-different-thresholds.-To-do-this,-we-divide-the-space-of-thresholds-into-100-bins,-and-take-the-following-actions:">The next step is to pick a threshold between 0 and 1 for the count of True Positives (true duplicates above the threshold). However, we would like to explore many different thresholds. To do this, we divide the space of thresholds into 100 bins, and take the following actions:<a class="anchor-link" href="#The-next-step-is-to-pick-a-threshold-between-0-and-1-for-the-count-of-True-Positives-(true-duplicates-above-the-threshold).-However,-we-would-like-to-explore-many-different-thresholds.-To-do-this,-we-divide-the-space-of-thresholds-into-100-bins,-and-take-the-following-actions:">&#182;</a></h4><ul>
<li>#### We use Spark Accumulators to implement our counting function. We define a custom accumulator type, <code>VectorAccumulatorParam</code>, along with functions to initialize the accumulator's vector to zero, and to add two vectors. Note that we have to use the += operator because you can only add to an accumulator.</li>
<li>#### We create a helper function to create a list with one entry (bit) set to a value and all others set to 0.</li>
<li>#### We create 101 bins for the 100 threshold values between 0 and 1.</li>
<li>#### Now, for each similarity score, we can compute the false positives. We do this by adding each similarity score to the appropriate bin of the vector. Then we remove true positives from the vector by using the gold standard data.</li>
<li>#### We define functions for computing false positive and negative and true positives, for a given threshold.</li>
</ul>

</div>
</div>
</div>
<div class="cell border-box-sizing code_cell rendered">
<div class="input">
<div class="prompt input_prompt">In&nbsp;[&nbsp;]:</div>
<div class="inner_cell">
    <div class="input_area">
<div class=" highlight hl-ipython3"><pre><span class="kn">from</span> <span class="nn">pyspark.accumulators</span> <span class="k">import</span> <span class="n">AccumulatorParam</span>
<span class="k">class</span> <span class="nc">VectorAccumulatorParam</span><span class="p">(</span><span class="n">AccumulatorParam</span><span class="p">):</span>
    <span class="c"># Initialize the VectorAccumulator to 0</span>
    <span class="k">def</span> <span class="nf">zero</span><span class="p">(</span><span class="bp">self</span><span class="p">,</span> <span class="n">value</span><span class="p">):</span>
        <span class="k">return</span> <span class="p">[</span><span class="mi">0</span><span class="p">]</span> <span class="o">*</span> <span class="nb">len</span><span class="p">(</span><span class="n">value</span><span class="p">)</span>

    <span class="c"># Add two VectorAccumulator variables</span>
    <span class="k">def</span> <span class="nf">addInPlace</span><span class="p">(</span><span class="bp">self</span><span class="p">,</span> <span class="n">val1</span><span class="p">,</span> <span class="n">val2</span><span class="p">):</span>
        <span class="k">for</span> <span class="n">i</span> <span class="ow">in</span> <span class="n">xrange</span><span class="p">(</span><span class="nb">len</span><span class="p">(</span><span class="n">val1</span><span class="p">)):</span>
            <span class="n">val1</span><span class="p">[</span><span class="n">i</span><span class="p">]</span> <span class="o">+=</span> <span class="n">val2</span><span class="p">[</span><span class="n">i</span><span class="p">]</span>
        <span class="k">return</span> <span class="n">val1</span>

<span class="c"># Return a list with entry x set to value and all other entries set to 0</span>
<span class="k">def</span> <span class="nf">set_bit</span><span class="p">(</span><span class="n">x</span><span class="p">,</span> <span class="n">value</span><span class="p">,</span> <span class="n">length</span><span class="p">):</span>
    <span class="n">bits</span> <span class="o">=</span> <span class="p">[]</span>
    <span class="k">for</span> <span class="n">y</span> <span class="ow">in</span> <span class="n">xrange</span><span class="p">(</span><span class="n">length</span><span class="p">):</span>
        <span class="k">if</span> <span class="p">(</span><span class="n">x</span> <span class="o">==</span> <span class="n">y</span><span class="p">):</span>
          <span class="n">bits</span><span class="o">.</span><span class="n">append</span><span class="p">(</span><span class="n">value</span><span class="p">)</span>
        <span class="k">else</span><span class="p">:</span>
          <span class="n">bits</span><span class="o">.</span><span class="n">append</span><span class="p">(</span><span class="mi">0</span><span class="p">)</span>
    <span class="k">return</span> <span class="n">bits</span>

<span class="c"># Pre-bin counts of false positives for different threshold ranges</span>
<span class="n">BINS</span> <span class="o">=</span> <span class="mi">101</span>
<span class="n">nthresholds</span> <span class="o">=</span> <span class="mi">100</span>
<span class="k">def</span> <span class="nf">bin</span><span class="p">(</span><span class="n">similarity</span><span class="p">):</span>
    <span class="k">return</span> <span class="nb">int</span><span class="p">(</span><span class="n">similarity</span> <span class="o">*</span> <span class="n">nthresholds</span><span class="p">)</span>

<span class="c"># fpCounts[i] = number of entries (possible false positives) where bin(similarity) == i</span>
<span class="n">zeros</span> <span class="o">=</span> <span class="p">[</span><span class="mi">0</span><span class="p">]</span> <span class="o">*</span> <span class="n">BINS</span>
<span class="n">fpCounts</span> <span class="o">=</span> <span class="n">sc</span><span class="o">.</span><span class="n">accumulator</span><span class="p">(</span><span class="n">zeros</span><span class="p">,</span> <span class="n">VectorAccumulatorParam</span><span class="p">())</span>

<span class="k">def</span> <span class="nf">add_element</span><span class="p">(</span><span class="n">score</span><span class="p">):</span>
    <span class="k">global</span> <span class="n">fpCounts</span>
    <span class="n">b</span> <span class="o">=</span> <span class="nb">bin</span><span class="p">(</span><span class="n">score</span><span class="p">)</span>
    <span class="n">fpCounts</span> <span class="o">+=</span> <span class="n">set_bit</span><span class="p">(</span><span class="n">b</span><span class="p">,</span> <span class="mi">1</span><span class="p">,</span> <span class="n">BINS</span><span class="p">)</span>

<span class="n">simsFullValuesRDD</span><span class="o">.</span><span class="n">foreach</span><span class="p">(</span><span class="n">add_element</span><span class="p">)</span>

<span class="c"># Remove true positives from FP counts</span>
<span class="k">def</span> <span class="nf">sub_element</span><span class="p">(</span><span class="n">score</span><span class="p">):</span>
    <span class="k">global</span> <span class="n">fpCounts</span>
    <span class="n">b</span> <span class="o">=</span> <span class="nb">bin</span><span class="p">(</span><span class="n">score</span><span class="p">)</span>
    <span class="n">fpCounts</span> <span class="o">+=</span> <span class="n">set_bit</span><span class="p">(</span><span class="n">b</span><span class="p">,</span> <span class="o">-</span><span class="mi">1</span><span class="p">,</span> <span class="n">BINS</span><span class="p">)</span>

<span class="n">trueDupSimsRDD</span><span class="o">.</span><span class="n">foreach</span><span class="p">(</span><span class="n">sub_element</span><span class="p">)</span>

<span class="k">def</span> <span class="nf">falsepos</span><span class="p">(</span><span class="n">threshold</span><span class="p">):</span>
    <span class="n">fpList</span> <span class="o">=</span> <span class="n">fpCounts</span><span class="o">.</span><span class="n">value</span>
    <span class="k">return</span> <span class="nb">sum</span><span class="p">([</span><span class="n">fpList</span><span class="p">[</span><span class="n">b</span><span class="p">]</span> <span class="k">for</span> <span class="n">b</span> <span class="ow">in</span> <span class="nb">range</span><span class="p">(</span><span class="mi">0</span><span class="p">,</span> <span class="n">BINS</span><span class="p">)</span> <span class="k">if</span> <span class="nb">float</span><span class="p">(</span><span class="n">b</span><span class="p">)</span> <span class="o">/</span> <span class="n">nthresholds</span> <span class="o">&gt;=</span> <span class="n">threshold</span><span class="p">])</span>

<span class="k">def</span> <span class="nf">falseneg</span><span class="p">(</span><span class="n">threshold</span><span class="p">):</span>
    <span class="k">return</span> <span class="n">trueDupSimsRDD</span><span class="o">.</span><span class="n">filter</span><span class="p">(</span><span class="k">lambda</span> <span class="n">x</span><span class="p">:</span> <span class="n">x</span> <span class="o">&lt;</span> <span class="n">threshold</span><span class="p">)</span><span class="o">.</span><span class="n">count</span><span class="p">()</span>

<span class="k">def</span> <span class="nf">truepos</span><span class="p">(</span><span class="n">threshold</span><span class="p">):</span>
    <span class="k">return</span> <span class="n">trueDupSimsRDD</span><span class="o">.</span><span class="n">count</span><span class="p">()</span> <span class="o">-</span> <span class="n">falsenegDict</span><span class="p">[</span><span class="n">threshold</span><span class="p">]</span>
</pre></div>

</div>
</div>
</div>

</div>
<div class="cell border-box-sizing text_cell rendered">
<div class="prompt input_prompt">
</div>
<div class="inner_cell">
<div class="text_cell_render border-box-sizing rendered_html">
<h3 id="(5b)-Precision,-Recall,-and-F-measures"><strong>(5b) Precision, Recall, and F-measures</strong><a class="anchor-link" href="#(5b)-Precision,-Recall,-and-F-measures">&#182;</a></h3><h4 id="We-define-functions-so-that-we-can-compute-the-Precision,-Recall,-and-F-measure-as-a-function-of-threshold-value:">We define functions so that we can compute the <a href="https://en.wikipedia.org/wiki/Precision_and_recall">Precision</a>, <a href="https://en.wikipedia.org/wiki/Precision_and_recall">Recall</a>, and <a href="https://en.wikipedia.org/wiki/Precision_and_recall#F-measure">F-measure</a> as a function of threshold value:<a class="anchor-link" href="#We-define-functions-so-that-we-can-compute-the-Precision,-Recall,-and-F-measure-as-a-function-of-threshold-value:">&#182;</a></h4><ul>
<li>#### Precision = true-positives / (true-positives + false-positives)</li>
<li>#### Recall = true-positives / (true-positives + false-negatives)</li>
<li>#### F-measure = 2 x Recall x Precision / (Recall + Precision)</li>
</ul>

</div>
</div>
</div>
<div class="cell border-box-sizing code_cell rendered">
<div class="input">
<div class="prompt input_prompt">In&nbsp;[&nbsp;]:</div>
<div class="inner_cell">
    <div class="input_area">
<div class=" highlight hl-ipython3"><pre><span class="c"># Precision = true-positives / (true-positives + false-positives)</span>
<span class="c"># Recall = true-positives / (true-positives + false-negatives)</span>
<span class="c"># F-measure = 2 x Recall x Precision / (Recall + Precision)</span>

<span class="k">def</span> <span class="nf">precision</span><span class="p">(</span><span class="n">threshold</span><span class="p">):</span>
    <span class="n">tp</span> <span class="o">=</span> <span class="n">trueposDict</span><span class="p">[</span><span class="n">threshold</span><span class="p">]</span>
    <span class="k">return</span> <span class="nb">float</span><span class="p">(</span><span class="n">tp</span><span class="p">)</span> <span class="o">/</span> <span class="p">(</span><span class="n">tp</span> <span class="o">+</span> <span class="n">falseposDict</span><span class="p">[</span><span class="n">threshold</span><span class="p">])</span>

<span class="k">def</span> <span class="nf">recall</span><span class="p">(</span><span class="n">threshold</span><span class="p">):</span>
    <span class="n">tp</span> <span class="o">=</span> <span class="n">trueposDict</span><span class="p">[</span><span class="n">threshold</span><span class="p">]</span>
    <span class="k">return</span> <span class="nb">float</span><span class="p">(</span><span class="n">tp</span><span class="p">)</span> <span class="o">/</span> <span class="p">(</span><span class="n">tp</span> <span class="o">+</span> <span class="n">falsenegDict</span><span class="p">[</span><span class="n">threshold</span><span class="p">])</span>

<span class="k">def</span> <span class="nf">fmeasure</span><span class="p">(</span><span class="n">threshold</span><span class="p">):</span>
    <span class="n">r</span> <span class="o">=</span> <span class="n">recall</span><span class="p">(</span><span class="n">threshold</span><span class="p">)</span>
    <span class="n">p</span> <span class="o">=</span> <span class="n">precision</span><span class="p">(</span><span class="n">threshold</span><span class="p">)</span>
    <span class="k">return</span> <span class="mi">2</span> <span class="o">*</span> <span class="n">r</span> <span class="o">*</span> <span class="n">p</span> <span class="o">/</span> <span class="p">(</span><span class="n">r</span> <span class="o">+</span> <span class="n">p</span><span class="p">)</span>
</pre></div>

</div>
</div>
</div>

</div>
<div class="cell border-box-sizing text_cell rendered">
<div class="prompt input_prompt">
</div>
<div class="inner_cell">
<div class="text_cell_render border-box-sizing rendered_html">
<h3 id="(5c)-Line-Plots"><strong>(5c) Line Plots</strong><a class="anchor-link" href="#(5c)-Line-Plots">&#182;</a></h3><h4 id="We-can-make-line-plots-of-precision,-recall,-and-F-measure-as-a-function-of-threshold-value,-for-thresholds-between-0.0-and-1.0.--You-can-change-nthresholds-(above-in-part-(5a))-to-change-the-threshold-values-to-plot.">We can make line plots of precision, recall, and F-measure as a function of threshold value, for thresholds between 0.0 and 1.0.  You can change <code>nthresholds</code> (above in part <strong>(5a)</strong>) to change the threshold values to plot.<a class="anchor-link" href="#We-can-make-line-plots-of-precision,-recall,-and-F-measure-as-a-function-of-threshold-value,-for-thresholds-between-0.0-and-1.0.--You-can-change-nthresholds-(above-in-part-(5a))-to-change-the-threshold-values-to-plot.">&#182;</a></h4>
</div>
</div>
</div>
<div class="cell border-box-sizing code_cell rendered">
<div class="input">
<div class="prompt input_prompt">In&nbsp;[&nbsp;]:</div>
<div class="inner_cell">
    <div class="input_area">
<div class=" highlight hl-ipython3"><pre><span class="n">thresholds</span> <span class="o">=</span> <span class="p">[</span><span class="nb">float</span><span class="p">(</span><span class="n">n</span><span class="p">)</span> <span class="o">/</span> <span class="n">nthresholds</span> <span class="k">for</span> <span class="n">n</span> <span class="ow">in</span> <span class="nb">range</span><span class="p">(</span><span class="mi">0</span><span class="p">,</span> <span class="n">nthresholds</span><span class="p">)]</span>
<span class="n">falseposDict</span> <span class="o">=</span> <span class="nb">dict</span><span class="p">([(</span><span class="n">t</span><span class="p">,</span> <span class="n">falsepos</span><span class="p">(</span><span class="n">t</span><span class="p">))</span> <span class="k">for</span> <span class="n">t</span> <span class="ow">in</span> <span class="n">thresholds</span><span class="p">])</span>
<span class="n">falsenegDict</span> <span class="o">=</span> <span class="nb">dict</span><span class="p">([(</span><span class="n">t</span><span class="p">,</span> <span class="n">falseneg</span><span class="p">(</span><span class="n">t</span><span class="p">))</span> <span class="k">for</span> <span class="n">t</span> <span class="ow">in</span> <span class="n">thresholds</span><span class="p">])</span>
<span class="n">trueposDict</span> <span class="o">=</span> <span class="nb">dict</span><span class="p">([(</span><span class="n">t</span><span class="p">,</span> <span class="n">truepos</span><span class="p">(</span><span class="n">t</span><span class="p">))</span> <span class="k">for</span> <span class="n">t</span> <span class="ow">in</span> <span class="n">thresholds</span><span class="p">])</span>

<span class="n">precisions</span> <span class="o">=</span> <span class="p">[</span><span class="n">precision</span><span class="p">(</span><span class="n">t</span><span class="p">)</span> <span class="k">for</span> <span class="n">t</span> <span class="ow">in</span> <span class="n">thresholds</span><span class="p">]</span>
<span class="n">recalls</span> <span class="o">=</span> <span class="p">[</span><span class="n">recall</span><span class="p">(</span><span class="n">t</span><span class="p">)</span> <span class="k">for</span> <span class="n">t</span> <span class="ow">in</span> <span class="n">thresholds</span><span class="p">]</span>
<span class="n">fmeasures</span> <span class="o">=</span> <span class="p">[</span><span class="n">fmeasure</span><span class="p">(</span><span class="n">t</span><span class="p">)</span> <span class="k">for</span> <span class="n">t</span> <span class="ow">in</span> <span class="n">thresholds</span><span class="p">]</span>

<span class="nb">print</span> <span class="n">precisions</span><span class="p">[</span><span class="mi">0</span><span class="p">],</span> <span class="n">fmeasures</span><span class="p">[</span><span class="mi">0</span><span class="p">]</span>
<span class="k">assert</span> <span class="p">(</span><span class="nb">abs</span><span class="p">(</span><span class="n">precisions</span><span class="p">[</span><span class="mi">0</span><span class="p">]</span> <span class="o">-</span> <span class="mf">0.000532546802671</span><span class="p">)</span> <span class="o">&lt;</span> <span class="mf">0.0000001</span><span class="p">)</span>
<span class="k">assert</span> <span class="p">(</span><span class="nb">abs</span><span class="p">(</span><span class="n">fmeasures</span><span class="p">[</span><span class="mi">0</span><span class="p">]</span> <span class="o">-</span> <span class="mf">0.00106452669505</span><span class="p">)</span> <span class="o">&lt;</span> <span class="mf">0.0000001</span><span class="p">)</span>


<span class="n">fig</span> <span class="o">=</span> <span class="n">plt</span><span class="o">.</span><span class="n">figure</span><span class="p">()</span>
<span class="n">plt</span><span class="o">.</span><span class="n">plot</span><span class="p">(</span><span class="n">thresholds</span><span class="p">,</span> <span class="n">precisions</span><span class="p">)</span>
<span class="n">plt</span><span class="o">.</span><span class="n">plot</span><span class="p">(</span><span class="n">thresholds</span><span class="p">,</span> <span class="n">recalls</span><span class="p">)</span>
<span class="n">plt</span><span class="o">.</span><span class="n">plot</span><span class="p">(</span><span class="n">thresholds</span><span class="p">,</span> <span class="n">fmeasures</span><span class="p">)</span>
<span class="n">plt</span><span class="o">.</span><span class="n">legend</span><span class="p">([</span><span class="s">&#39;Precision&#39;</span><span class="p">,</span> <span class="s">&#39;Recall&#39;</span><span class="p">,</span> <span class="s">&#39;F-measure&#39;</span><span class="p">])</span>
<span class="k">pass</span>
</pre></div>

</div>
</div>
</div>

</div>
<div class="cell border-box-sizing text_cell rendered">
<div class="prompt input_prompt">
</div>
<div class="inner_cell">
<div class="text_cell_render border-box-sizing rendered_html">
<h3 id="Discussion">Discussion<a class="anchor-link" href="#Discussion">&#182;</a></h3><h4 id="State-of-the-art-tools-can-get-an-F-measure-of-about-60%-on-this-dataset.-In-this-lab-exercise,-our-best-F-measure-is-closer-to-40%.-Look-at-some-examples-of-errors-(both-False-Positives-and-False-Negatives)-and-think-about-what-went-wrong.">State-of-the-art tools can get an F-measure of about 60% on this dataset. In this lab exercise, our best F-measure is closer to 40%. Look at some examples of errors (both False Positives and False Negatives) and think about what went wrong.<a class="anchor-link" href="#State-of-the-art-tools-can-get-an-F-measure-of-about-60%-on-this-dataset.-In-this-lab-exercise,-our-best-F-measure-is-closer-to-40%.-Look-at-some-examples-of-errors-(both-False-Positives-and-False-Negatives)-and-think-about-what-went-wrong.">&#182;</a></h4><h3 id="There-are-several-ways-we-might-improve-our-simple-classifier,-including:">There are several ways we might improve our simple classifier, including:<a class="anchor-link" href="#There-are-several-ways-we-might-improve-our-simple-classifier,-including:">&#182;</a></h3><h4 id="*-Using-additional-attributes">* Using additional attributes<a class="anchor-link" href="#*-Using-additional-attributes">&#182;</a></h4><h4 id="*-Performing-better-featurization-of-our-textual-data-(e.g.,-stemming,-n-grams,-etc.)">* Performing better featurization of our textual data (e.g., stemming, n-grams, etc.)<a class="anchor-link" href="#*-Performing-better-featurization-of-our-textual-data-(e.g.,-stemming,-n-grams,-etc.)">&#182;</a></h4><h4 id="*-Using-different-similarity-functions">* Using different similarity functions<a class="anchor-link" href="#*-Using-different-similarity-functions">&#182;</a></h4>
</div>
</div>
</div>
    </div>
  </div>


    <div class="back-to-top hidden-print text-center">
      <a href="#">Back to top</a>
    </div>

    
      <footer class="footer hidden-print col-md-12">
        <div class="col-md-4">
          <p>
            This web site does not host notebooks, it only renders notebooks
            available on other websites.
          </p>
        </div>

        <div class="col-md-4">
          <p>
            Delivered by <a href="http://www.fastly.com/">Fastly</a>, 
            Rendered by <a href="https://developer.rackspace.com/?nbviewer=awesome">Rackspace</a>
          </p>
          <p>
            nbviewer GitHub <a href="https://github.com/jupyter/nbviewer">repository</a>.
          </p>
        </div>

        <div class="col-md-4">
          
  
            
              <p>
                nbviewer version:
                <a href="https://github.com/jupyter/nbviewer/commit/637fd82e21256d9b2fcb5a75dabb8434d2078df0">
                  637fd82
                </a>
              </p>
            
          
  
  <p class="text-muted">
    IPython version: 3.2.0
    
  </p>
  

          
  
  
  <p class="text-muted">
    Rendered
    <span class='date' data-date='Sun, 12 Jul 2015 02:39:09 UTC' title='Sun, 12 Jul 2015 02:39:09 UTC'>(Sun, 12 Jul 2015 02:39:09 UTC)</span>
  </p>
  

        </div>
      </footer>
    

  </div>

  <script src="/static/components/bootstrap/js/bootstrap.min.js"></script>
  <script src="/static/components/headroom.js/dist/headroom.min.js"></script>
  <script src="/static/components/headroom.js/dist/jQuery.headroom.min.js"></script>

  
  
  <script>
    $(function(){ $("#menubar").headroom({
      tolerance: 5,
      offset: 205,
      classes: {
        initial: "animated",
        pinned: "slideInDown",
        unpinned: "slideOutUp"
      }
    })});
  </script>


  <script>
    (function(i,s,o,g,r,a,m){i['GoogleAnalyticsObject']=r;i[r]=i[r]||function(){
      (i[r].q=i[r].q||[]).push(arguments)},i[r].l=1*new Date();a=s.createElement(o),
      m=s.getElementsByTagName(o)[0];a.async=1;a.src=g;m.parentNode.insertBefore(a,m)
    })(window,document,'script','//www.google-analytics.com/analytics.js','ga');
    ga('create', 'UA-38683231-2', 'auto');
    ga('send', 'pageview');
  </script>
  <script>
      var update_date  = function(){
          var str = window.moment($('.date').data('date')).fromNow();
          $('.date').text(str);
      }
      setInterval(update_date , 61*1000);
      $(update_date);
  </script>
  <!--NEW RELIC Stop Perf Measurement-->
  
  <!--NEW RELIC End-->
</body>
</html>