








<!DOCTYPE html>
<html lang="en">

<head>
  <meta charset="utf-8">
  <title></title>
  <meta name="viewport" content="width=device-width, initial-scale=1.0">
  <meta name="description" content="">
  <meta name="author" content="">
  
  <meta name="robots" content="noindex,nofollow">
  

  <!--NEW RELIC Start Perf Measurement-->
  
  <!--NREND-->

  <!-- Le styles -->
  <link href="/static/build/styles.css" rel="stylesheet">

  <!-- Le HTML5 shim, for IE6-8 support of HTML5 elements -->
  <!--[if lt IE 9]>
    <script src="http://html5shim.googlecode.com/svn/trunk/html5.js"></script>
  <![endif]-->

  <!-- Le fav and touch icons -->
  <link rel="shortcut icon" href="/static/ico/ipynb_icon_16x16.png">
  <link rel="apple-touch-icon-precomposed" sizes="144x144" 
        href="/static/ico/apple-touch-icon-144-precomposed.png">
  <link rel="apple-touch-icon-precomposed" sizes="114x114" 
        href="/static/ico/apple-touch-icon-114-precomposed.png">
  <link rel="apple-touch-icon-precomposed" sizes="72x72" 
        href="/static/ico/apple-touch-icon-72-precomposed.png">
  <link rel="apple-touch-icon-precomposed" 
        href="/static/ico/apple-touch-icon-57-precomposed.png">
  
  

  

  
  <meta name="twitter:card" content="summary">
  <meta name="twitter:title" content="Notebook on nbviewer">
  <meta name="twitter:description" content="Check out this Jupyter notebook!">

  
  <meta name="twitter:domain" content="nbviewer.ipython.org">
  <meta name="twitter:image:src" content="http://ipython.org/ipython-doc/dev/_images/ipynb_icon_128x128.png">

  
    <link href="/static/build/notebook.css" rel="stylesheet">
  

  

  <script src="https://cdn.mathjax.org/mathjax/latest/MathJax.js?config=TeX-AMS_HTML" type="text/javascript">
  </script>
  <script type="text/javascript">
    init_mathjax = function() {
      if (window.MathJax) {
        // MathJax loaded
        MathJax.Hub.Config({
          tex2jax: {
            inlineMath: [ ['$','$'], ["\\(","\\)"] ],
            displayMath: [ ['$$','$$'], ["\\[","\\]"] ],
            processEscapes: true,
            processEnvironments: true
          },
          displayAlign: 'center',
          "HTML-CSS": {
            styles: {'.MathJax_Display': {"margin": 0}},
            linebreaks: { automatic: true }
          }
        });
        MathJax.Hub.Queue(["Typeset", MathJax.Hub]);
      }
    }
    init_mathjax();
  </script>

</head>

<body data-spy="scroll" data-target=".subnav" data-offset="50">

  <!-- These are loaded at the top of the body so they are available to 
       notebook cells when they are loaded below. -->
  <script src="/static/components/jquery/dist/jquery.min.js"></script>
  <script src="/static/components/requirejs/require.js"></script>
  <script src="/static/components/moment/min/moment.min.js"></script>

<!-- Navbar
================================================== -->
  <nav id="menubar" class="navbar navbar-default navbar-fixed-top">
    <div class="container">
      <div class="navbar-header">
        <button type="button" class="navbar-toggle collapsed" data-toggle="collapse" data-target=".navbar-collapse">
          <span class="sr-only">Toggle navigation</span>
          <i class="fa fa-bars"></i>
        </button>
        <a class="navbar-brand" href="/">nbviewer</a>
      </div>

      <div class="collapse navbar-collapse">
        <ul class="nav navbar-nav">
          <li>
    <a href="/faq" title="FAQ" >
      
        <span>FAQ</span>
      
    </a>
  </li>
          <li class="">
            <a href="http://ipython.org">IPython</a>
          </li>
          <li class="">
            <a href="http://jupyter.org">Jupyter</a>
          </li>
        </ul>
        
        <ul class="nav navbar-nav navbar-right">
          
  
    
  

  
  
  
    <li>
    <a href="https://github.com/spark-mooc/mooc-setup/blob/master/lab2_apache_log_student.ipynb" title="View on GitHub" >
      <span class="fa fa-github fa-2x menu-icon"></span>
      <span class="menu-text">View on GitHub</span>
    </a>
  </li>
  

  <li>
    <a href="https://raw.githubusercontent.com/spark-mooc/mooc-setup/master/lab2_apache_log_student.ipynb" title="Download Notebook" download>
      <span class="fa fa-download fa-2x menu-icon"></span>
      <span class="menu-text">Download Notebook</span>
    </a>
  </li>

        </ul>
      </div><!-- /.navbar-collapse -->
      
      
    </div>
  </nav>

  <div class="container">
    
  
  <ol class="breadcrumb">
    
      <li>
        <a href="/github/spark-mooc/mooc-setup/tree/master">mooc-setup</a>
      </li>
    
      <li>
        <a href="/github/spark-mooc/mooc-setup/tree/master/lab2_apache_log_student.ipynb">lab2_apache_log_student.ipynb</a>
      </li>
    
  </ol>
  
  <div id="notebook">
    <div id="notebook-container">
      
<div class="cell border-box-sizing text_cell rendered">
<div class="prompt input_prompt">
</div>
<div class="inner_cell">
<div class="text_cell_render border-box-sizing rendered_html">
<p>version 1.0.1</p>
<h1><img src="http://spark-mooc.github.io/web-assets/images/ta_Spark-logo-small.png" alt="Spark Logo"> + <img src="http://spark-mooc.github.io/web-assets/images/python-logo-master-v3-TM-flattened_small.png" alt="Python Logo"></h1>
<h1 id="Web-Server-Log-Analysis-with-Apache-Spark"><strong>Web Server Log Analysis with Apache Spark</strong><a class="anchor-link" href="#Web-Server-Log-Analysis-with-Apache-Spark">&#182;</a></h1><h4 id="This-lab-will-demonstrate-how-easy-it-is-to-perform-web-server-log-analysis-with-Apache-Spark.">This lab will demonstrate how easy it is to perform web server log analysis with Apache Spark.<a class="anchor-link" href="#This-lab-will-demonstrate-how-easy-it-is-to-perform-web-server-log-analysis-with-Apache-Spark.">&#182;</a></h4><h4 id="Server-log-analysis-is-an-ideal-use-case-for-Spark.--It's-a-very-large,-common-data-source-and-contains-a-rich-set-of-information.--Spark-allows-you-to-store-your-logs-in-files-on-disk-cheaply,-while-still-providing-a-quick-and-simple-way-to-perform-data-analysis-on-them.--This-homework-will-show-you-how-to-use-Apache-Spark-on-real-world-text-based-production-logs-and-fully-harness-the-power-of-that-data.--Log-data-comes-from-many-sources,-such-as-web,-file,-and-compute-servers,-application-logs,-user-generated-content,--and-can-be-used-for-monitoring-servers,-improving-business-and-customer-intelligence,-building-recommendation-systems,-fraud-detection,-and-much-more.">Server log analysis is an ideal use case for Spark.  It's a very large, common data source and contains a rich set of information.  Spark allows you to store your logs in files on disk cheaply, while still providing a quick and simple way to perform data analysis on them.  This homework will show you how to use Apache Spark on real-world text-based production logs and fully harness the power of that data.  Log data comes from many sources, such as web, file, and compute servers, application logs, user-generated content,  and can be used for monitoring servers, improving business and customer intelligence, building recommendation systems, fraud detection, and much more.<a class="anchor-link" href="#Server-log-analysis-is-an-ideal-use-case-for-Spark.--It's-a-very-large,-common-data-source-and-contains-a-rich-set-of-information.--Spark-allows-you-to-store-your-logs-in-files-on-disk-cheaply,-while-still-providing-a-quick-and-simple-way-to-perform-data-analysis-on-them.--This-homework-will-show-you-how-to-use-Apache-Spark-on-real-world-text-based-production-logs-and-fully-harness-the-power-of-that-data.--Log-data-comes-from-many-sources,-such-as-web,-file,-and-compute-servers,-application-logs,-user-generated-content,--and-can-be-used-for-monitoring-servers,-improving-business-and-customer-intelligence,-building-recommendation-systems,-fraud-detection,-and-much-more.">&#182;</a></h4>
</div>
</div>
</div>
<div class="cell border-box-sizing text_cell rendered">
<div class="prompt input_prompt">
</div>
<div class="inner_cell">
<div class="text_cell_render border-box-sizing rendered_html">
<h3 id="How-to-complete-this-assignment">How to complete this assignment<a class="anchor-link" href="#How-to-complete-this-assignment">&#182;</a></h3><h4 id="This-assignment-is-broken-up-into-sections-with-bite-sized-examples-for-demonstrating-Spark-functionality-for-log-processing.-For-each-problem,-you-should-start-by-thinking-about-the-algorithm-that-you-will-use-to-efficiently-process-the-log-in-a-parallel,-distributed-manner.-This-means-using-the-various-RDD-operations-along-with-lambda-functions-that-are-applied-at-each-worker.">This assignment is broken up into sections with bite-sized examples for demonstrating Spark functionality for log processing. For each problem, you should start by thinking about the algorithm that you will use to <em>efficiently</em> process the log in a parallel, distributed manner. This means using the various <a href="http://spark.apache.org/docs/latest/api/python/pyspark.html#pyspark.RDD">RDD</a> operations along with <a href="https://docs.python.org/2/tutorial/controlflow.html#lambda-expressions"><code>lambda</code> functions</a> that are applied at each worker.<a class="anchor-link" href="#This-assignment-is-broken-up-into-sections-with-bite-sized-examples-for-demonstrating-Spark-functionality-for-log-processing.-For-each-problem,-you-should-start-by-thinking-about-the-algorithm-that-you-will-use-to-efficiently-process-the-log-in-a-parallel,-distributed-manner.-This-means-using-the-various-RDD-operations-along-with-lambda-functions-that-are-applied-at-each-worker.">&#182;</a></h4><h4 id="This-assignment-consists-of-4-parts:">This assignment consists of 4 parts:<a class="anchor-link" href="#This-assignment-consists-of-4-parts:">&#182;</a></h4><h4 id="Part-1:-Apache-Web-Server-Log-file-format"><em>Part 1</em>: Apache Web Server Log file format<a class="anchor-link" href="#Part-1:-Apache-Web-Server-Log-file-format">&#182;</a></h4><h4 id="Part-2:-Sample-Analyses-on-the-Web-Server-Log-File"><em>Part 2</em>: Sample Analyses on the Web Server Log File<a class="anchor-link" href="#Part-2:-Sample-Analyses-on-the-Web-Server-Log-File">&#182;</a></h4><h4 id="Part-3:-Analyzing-Web-Server-Log-File"><em>Part 3</em>: Analyzing Web Server Log File<a class="anchor-link" href="#Part-3:-Analyzing-Web-Server-Log-File">&#182;</a></h4><h4 id="Part-4:-Exploring-404-Response-Codes"><em>Part 4</em>: Exploring 404 Response Codes<a class="anchor-link" href="#Part-4:-Exploring-404-Response-Codes">&#182;</a></h4>
</div>
</div>
</div>
<div class="cell border-box-sizing text_cell rendered">
<div class="prompt input_prompt">
</div>
<div class="inner_cell">
<div class="text_cell_render border-box-sizing rendered_html">
<h3 id="Part-1:-Apache-Web-Server-Log-file-format"><strong>Part 1: Apache Web Server Log file format</strong><a class="anchor-link" href="#Part-1:-Apache-Web-Server-Log-file-format">&#182;</a></h3><h4 id="The-log-files-that-we-use-for-this-assignment-are-in-the-Apache-Common-Log-Format-(CLF).-The-log-file-entries-produced-in-CLF-will-look-something-like-this:">The log files that we use for this assignment are in the <a href="http://httpd.apache.org/docs/1.3/logs.html#common">Apache Common Log Format (CLF)</a>. The log file entries produced in CLF will look something like this:<a class="anchor-link" href="#The-log-files-that-we-use-for-this-assignment-are-in-the-Apache-Common-Log-Format-(CLF).-The-log-file-entries-produced-in-CLF-will-look-something-like-this:">&#182;</a></h4><p><code>127.0.0.1 - - [01/Aug/1995:00:00:01 -0400] "GET /images/launch-logo.gif HTTP/1.0" 200 1839</code></p>
<h4 id="Each-part-of-this-log-entry-is-described-below.">Each part of this log entry is described below.<a class="anchor-link" href="#Each-part-of-this-log-entry-is-described-below.">&#182;</a></h4><ul>
<li><p><code>127.0.0.1</code>
####This is the IP address (or host name, if available) of the client (remote host) which made the request to the server.</p>
</li>
<li><p><code>-</code>
####The "hyphen" in the output indicates that the requested piece of information (user identity from remote machine) is not available.</p>
</li>
<li><p><code>-</code>
####The "hyphen" in the output indicates that the requested piece of information (user identity from local logon) is not available.</p>
</li>
<li><p><code>[01/Aug/1995:00:00:01 -0400]</code>
####The time that the server finished processing the request. The format is:
<code>[day/month/year:hour:minute:second timezone]</code></p>
<ul>
<li>####day = 2 digits</li>
<li>####month = 3 letters</li>
<li>####year = 4 digits</li>
<li>####hour = 2 digits</li>
<li>####minute = 2 digits</li>
<li>####second = 2 digits</li>
<li>####zone = (+ | -) 4 digits</li>
</ul>
</li>
<li><p><code>"GET /images/launch-logo.gif HTTP/1.0"</code>
####This is the first line of the request string from the client. It consists of a three components: the request method (e.g., <code>GET</code>, <code>POST</code>, etc.), the endpoint (a <a href="http://en.wikipedia.org/wiki/Uniform_resource_identifier">Uniform Resource Identifier</a>), and the client protocol version.</p>
</li>
<li><p><code>200</code>
####This is the status code that the server sends back to the client. This information is very valuable, because it reveals whether the request resulted in a successful response (codes beginning in 2), a redirection (codes beginning in 3), an error caused by the client (codes beginning in 4), or an error in the server (codes beginning in 5). The full list of possible status codes can be found in the HTTP specification (<a href="https://www.ietf.org/rfc/rfc2616.txt">RFC 2616</a> section 10).</p>
</li>
<li><p><code>1839</code>
####The last entry indicates the size of the object returned to the client, not including the response headers. If no content was returned to the client, this value will be "-" (or sometimes 0).</p>
</li>
</ul>
<h4 id="Note-that-log-files-contain-information-supplied-directly-by-the-client,-without-escaping.-Therefore,-it-is-possible-for-malicious-clients-to-insert-control-characters-in-the-log-files,-so-care-must-be-taken-in-dealing-with-raw-logs.">Note that log files contain information supplied directly by the client, without escaping. Therefore, it is possible for malicious clients to insert control-characters in the log files, <em>so care must be taken in dealing with raw logs.</em><a class="anchor-link" href="#Note-that-log-files-contain-information-supplied-directly-by-the-client,-without-escaping.-Therefore,-it-is-possible-for-malicious-clients-to-insert-control-characters-in-the-log-files,-so-care-must-be-taken-in-dealing-with-raw-logs.">&#182;</a></h4><h3 id="NASA-HTTP-Web-Server-Log">NASA-HTTP Web Server Log<a class="anchor-link" href="#NASA-HTTP-Web-Server-Log">&#182;</a></h3><h4 id="For-this-assignment,-we-will-use-a-data-set-from-NASA-Kennedy-Space-Center-WWW-server-in-Florida.-The-full-data-set-is-freely-available-(http://ita.ee.lbl.gov/html/contrib/NASA-HTTP.html)-and-contains-two-month's-of-all-HTTP-requests.-We-are-using-a-subset-that-only-contains-several-days-worth-of-requests.">For this assignment, we will use a data set from NASA Kennedy Space Center WWW server in Florida. The full data set is freely available (<a href="http://ita.ee.lbl.gov/html/contrib/NASA-HTTP.html">http://ita.ee.lbl.gov/html/contrib/NASA-HTTP.html</a>) and contains two month's of all HTTP requests. We are using a subset that only contains several days worth of requests.<a class="anchor-link" href="#For-this-assignment,-we-will-use-a-data-set-from-NASA-Kennedy-Space-Center-WWW-server-in-Florida.-The-full-data-set-is-freely-available-(http://ita.ee.lbl.gov/html/contrib/NASA-HTTP.html)-and-contains-two-month's-of-all-HTTP-requests.-We-are-using-a-subset-that-only-contains-several-days-worth-of-requests.">&#182;</a></h4>
</div>
</div>
</div>
<div class="cell border-box-sizing text_cell rendered">
<div class="prompt input_prompt">
</div>
<div class="inner_cell">
<div class="text_cell_render border-box-sizing rendered_html">
<h3 id="(1a)-Parsing-Each-Log-Line"><strong>(1a) Parsing Each Log Line</strong><a class="anchor-link" href="#(1a)-Parsing-Each-Log-Line">&#182;</a></h3><h4 id="Using-the-CLF-as-defined-above,-we-create-a-regular-expression-pattern-to-extract-the-nine-fields-of-the-log-line-using-the-Python-regular-expression-search-function.-The-function-returns-a-pair-consisting-of-a-Row-object-and-1.-If-the-log-line-fails-to-match-the-regular-expression,-the-function-returns-a-pair-consisting-of-the-log-line-string-and-0.-A-'-'-value-in-the-content-size-field-is-cleaned-up-by-substituting-it-with-0.-The-function-converts-the-log-line's-date-string-into-a-Python-datetime-object-using-the-given-parse_apache_time-function.">Using the CLF as defined above, we create a regular expression pattern to extract the nine fields of the log line using the Python regular expression <a href="https://docs.python.org/2/library/re.html#regular-expression-objects"><code>search</code> function</a>. The function returns a pair consisting of a Row object and 1. If the log line fails to match the regular expression, the function returns a pair consisting of the log line string and 0. A '-' value in the content size field is cleaned up by substituting it with 0. The function converts the log line's date string into a Python <code>datetime</code> object using the given <code>parse_apache_time</code> function.<a class="anchor-link" href="#Using-the-CLF-as-defined-above,-we-create-a-regular-expression-pattern-to-extract-the-nine-fields-of-the-log-line-using-the-Python-regular-expression-search-function.-The-function-returns-a-pair-consisting-of-a-Row-object-and-1.-If-the-log-line-fails-to-match-the-regular-expression,-the-function-returns-a-pair-consisting-of-the-log-line-string-and-0.-A-'-'-value-in-the-content-size-field-is-cleaned-up-by-substituting-it-with-0.-The-function-converts-the-log-line's-date-string-into-a-Python-datetime-object-using-the-given-parse_apache_time-function.">&#182;</a></h4>
</div>
</div>
</div>
<div class="cell border-box-sizing code_cell rendered">
<div class="input">
<div class="prompt input_prompt">In&nbsp;[&nbsp;]:</div>
<div class="inner_cell">
    <div class="input_area">
<div class=" highlight hl-ipython3"><pre><span class="kn">import</span> <span class="nn">re</span>
<span class="kn">import</span> <span class="nn">datetime</span>

<span class="kn">from</span> <span class="nn">pyspark.sql</span> <span class="k">import</span> <span class="n">Row</span>

<span class="n">month_map</span> <span class="o">=</span> <span class="p">{</span><span class="s">&#39;Jan&#39;</span><span class="p">:</span> <span class="mi">1</span><span class="p">,</span> <span class="s">&#39;Feb&#39;</span><span class="p">:</span> <span class="mi">2</span><span class="p">,</span> <span class="s">&#39;Mar&#39;</span><span class="p">:</span><span class="mi">3</span><span class="p">,</span> <span class="s">&#39;Apr&#39;</span><span class="p">:</span><span class="mi">4</span><span class="p">,</span> <span class="s">&#39;May&#39;</span><span class="p">:</span><span class="mi">5</span><span class="p">,</span> <span class="s">&#39;Jun&#39;</span><span class="p">:</span><span class="mi">6</span><span class="p">,</span> <span class="s">&#39;Jul&#39;</span><span class="p">:</span><span class="mi">7</span><span class="p">,</span>
    <span class="s">&#39;Aug&#39;</span><span class="p">:</span><span class="mi">8</span><span class="p">,</span>  <span class="s">&#39;Sep&#39;</span><span class="p">:</span> <span class="mi">9</span><span class="p">,</span> <span class="s">&#39;Oct&#39;</span><span class="p">:</span><span class="mi">10</span><span class="p">,</span> <span class="s">&#39;Nov&#39;</span><span class="p">:</span> <span class="mi">11</span><span class="p">,</span> <span class="s">&#39;Dec&#39;</span><span class="p">:</span> <span class="mi">12</span><span class="p">}</span>

<span class="k">def</span> <span class="nf">parse_apache_time</span><span class="p">(</span><span class="n">s</span><span class="p">):</span>
    <span class="sd">&quot;&quot;&quot; Convert Apache time format into a Python datetime object</span>
<span class="sd">    Args:</span>
<span class="sd">        s (str): date and time in Apache time format</span>
<span class="sd">    Returns:</span>
<span class="sd">        datetime: datetime object (ignore timezone for now)</span>
<span class="sd">    &quot;&quot;&quot;</span>
    <span class="k">return</span> <span class="n">datetime</span><span class="o">.</span><span class="n">datetime</span><span class="p">(</span><span class="nb">int</span><span class="p">(</span><span class="n">s</span><span class="p">[</span><span class="mi">7</span><span class="p">:</span><span class="mi">11</span><span class="p">]),</span>
                             <span class="n">month_map</span><span class="p">[</span><span class="n">s</span><span class="p">[</span><span class="mi">3</span><span class="p">:</span><span class="mi">6</span><span class="p">]],</span>
                             <span class="nb">int</span><span class="p">(</span><span class="n">s</span><span class="p">[</span><span class="mi">0</span><span class="p">:</span><span class="mi">2</span><span class="p">]),</span>
                             <span class="nb">int</span><span class="p">(</span><span class="n">s</span><span class="p">[</span><span class="mi">12</span><span class="p">:</span><span class="mi">14</span><span class="p">]),</span>
                             <span class="nb">int</span><span class="p">(</span><span class="n">s</span><span class="p">[</span><span class="mi">15</span><span class="p">:</span><span class="mi">17</span><span class="p">]),</span>
                             <span class="nb">int</span><span class="p">(</span><span class="n">s</span><span class="p">[</span><span class="mi">18</span><span class="p">:</span><span class="mi">20</span><span class="p">]))</span>


<span class="k">def</span> <span class="nf">parseApacheLogLine</span><span class="p">(</span><span class="n">logline</span><span class="p">):</span>
    <span class="sd">&quot;&quot;&quot; Parse a line in the Apache Common Log format</span>
<span class="sd">    Args:</span>
<span class="sd">        logline (str): a line of text in the Apache Common Log format</span>
<span class="sd">    Returns:</span>
<span class="sd">        tuple: either a dictionary containing the parts of the Apache Access Log and 1,</span>
<span class="sd">               or the original invalid log line and 0</span>
<span class="sd">    &quot;&quot;&quot;</span>
    <span class="n">match</span> <span class="o">=</span> <span class="n">re</span><span class="o">.</span><span class="n">search</span><span class="p">(</span><span class="n">APACHE_ACCESS_LOG_PATTERN</span><span class="p">,</span> <span class="n">logline</span><span class="p">)</span>
    <span class="k">if</span> <span class="n">match</span> <span class="ow">is</span> <span class="k">None</span><span class="p">:</span>
        <span class="k">return</span> <span class="p">(</span><span class="n">logline</span><span class="p">,</span> <span class="mi">0</span><span class="p">)</span>
    <span class="n">size_field</span> <span class="o">=</span> <span class="n">match</span><span class="o">.</span><span class="n">group</span><span class="p">(</span><span class="mi">9</span><span class="p">)</span>
    <span class="k">if</span> <span class="n">size_field</span> <span class="o">==</span> <span class="s">&#39;-&#39;</span><span class="p">:</span>
        <span class="n">size</span> <span class="o">=</span> <span class="n">long</span><span class="p">(</span><span class="mi">0</span><span class="p">)</span>
    <span class="k">else</span><span class="p">:</span>
        <span class="n">size</span> <span class="o">=</span> <span class="n">long</span><span class="p">(</span><span class="n">match</span><span class="o">.</span><span class="n">group</span><span class="p">(</span><span class="mi">9</span><span class="p">))</span>
    <span class="k">return</span> <span class="p">(</span><span class="n">Row</span><span class="p">(</span>
        <span class="n">host</span>          <span class="o">=</span> <span class="n">match</span><span class="o">.</span><span class="n">group</span><span class="p">(</span><span class="mi">1</span><span class="p">),</span>
        <span class="n">client_identd</span> <span class="o">=</span> <span class="n">match</span><span class="o">.</span><span class="n">group</span><span class="p">(</span><span class="mi">2</span><span class="p">),</span>
        <span class="n">user_id</span>       <span class="o">=</span> <span class="n">match</span><span class="o">.</span><span class="n">group</span><span class="p">(</span><span class="mi">3</span><span class="p">),</span>
        <span class="n">date_time</span>     <span class="o">=</span> <span class="n">parse_apache_time</span><span class="p">(</span><span class="n">match</span><span class="o">.</span><span class="n">group</span><span class="p">(</span><span class="mi">4</span><span class="p">)),</span>
        <span class="n">method</span>        <span class="o">=</span> <span class="n">match</span><span class="o">.</span><span class="n">group</span><span class="p">(</span><span class="mi">5</span><span class="p">),</span>
        <span class="n">endpoint</span>      <span class="o">=</span> <span class="n">match</span><span class="o">.</span><span class="n">group</span><span class="p">(</span><span class="mi">6</span><span class="p">),</span>
        <span class="n">protocol</span>      <span class="o">=</span> <span class="n">match</span><span class="o">.</span><span class="n">group</span><span class="p">(</span><span class="mi">7</span><span class="p">),</span>
        <span class="n">response_code</span> <span class="o">=</span> <span class="nb">int</span><span class="p">(</span><span class="n">match</span><span class="o">.</span><span class="n">group</span><span class="p">(</span><span class="mi">8</span><span class="p">)),</span>
        <span class="n">content_size</span>  <span class="o">=</span> <span class="n">size</span>
    <span class="p">),</span> <span class="mi">1</span><span class="p">)</span>
</pre></div>

</div>
</div>
</div>

</div>
<div class="cell border-box-sizing code_cell rendered">
<div class="input">
<div class="prompt input_prompt">In&nbsp;[&nbsp;]:</div>
<div class="inner_cell">
    <div class="input_area">
<div class=" highlight hl-ipython3"><pre><span class="c"># A regular expression pattern to extract fields from the log line</span>
<span class="n">APACHE_ACCESS_LOG_PATTERN</span> <span class="o">=</span> <span class="s">&#39;^(\S+) (\S+) (\S+) \[([\w:/]+\s[+\-]\d{4})\] &quot;(\S+) (\S+)\s*(\S*)&quot; (\d{3}) (\S+)&#39;</span>
</pre></div>

</div>
</div>
</div>

</div>
<div class="cell border-box-sizing text_cell rendered">
<div class="prompt input_prompt">
</div>
<div class="inner_cell">
<div class="text_cell_render border-box-sizing rendered_html">
<h3 id="(1b)-Configuration-and-Initial-RDD-Creation"><strong>(1b) Configuration and Initial RDD Creation</strong><a class="anchor-link" href="#(1b)-Configuration-and-Initial-RDD-Creation">&#182;</a></h3><h4 id="We-are-ready-to-specify-the-input-log-file-and-create-an-RDD-containing-the-parsed-log-file-data.-The-log-file-has-already-been-downloaded-for-you.">We are ready to specify the input log file and create an RDD containing the parsed log file data. The log file has already been downloaded for you.<a class="anchor-link" href="#We-are-ready-to-specify-the-input-log-file-and-create-an-RDD-containing-the-parsed-log-file-data.-The-log-file-has-already-been-downloaded-for-you.">&#182;</a></h4><h4 id="To-create-the-primary-RDD-that-we'll-use-in-the-rest-of-this-assignment,-we-first-load-the-text-file-using-sc.textfile(logFile)-to-convert-each-line-of-the-file-into-an-element-in-an-RDD.">To create the primary RDD that we'll use in the rest of this assignment, we first load the text file using <a href="http://spark.apache.org/docs/latest/api/python/pyspark.html#pyspark.SparkContext.textFile"><code>sc.textfile(logFile)</code></a> to convert each line of the file into an element in an RDD.<a class="anchor-link" href="#To-create-the-primary-RDD-that-we'll-use-in-the-rest-of-this-assignment,-we-first-load-the-text-file-using-sc.textfile(logFile)-to-convert-each-line-of-the-file-into-an-element-in-an-RDD.">&#182;</a></h4><h4 id="Next,-we-use-map(parseApacheLogLine)-to-apply-the-parse-function-to-each-element-(that-is,-a-line-from-the-log-file)-in-the-RDD-and-turn-each-line-into-a-pair-Row-object.">Next, we use <a href="http://spark.apache.org/docs/latest/api/python/pyspark.html#pyspark.RDD.map"><code>map(parseApacheLogLine)</code></a> to apply the parse function to each element (that is, a line from the log file) in the RDD and turn each line into a pair <a href="http://spark.apache.org/docs/latest/api/python/pyspark.sql.html#pyspark.sql.Row"><code>Row</code> object</a>.<a class="anchor-link" href="#Next,-we-use-map(parseApacheLogLine)-to-apply-the-parse-function-to-each-element-(that-is,-a-line-from-the-log-file)-in-the-RDD-and-turn-each-line-into-a-pair-Row-object.">&#182;</a></h4><h4 id="Finally,-we-cache-the-RDD-in-memory-since-we'll-use-it-throughout-this-notebook.">Finally, we cache the RDD in memory since we'll use it throughout this notebook.<a class="anchor-link" href="#Finally,-we-cache-the-RDD-in-memory-since-we'll-use-it-throughout-this-notebook.">&#182;</a></h4>
</div>
</div>
</div>
<div class="cell border-box-sizing code_cell rendered">
<div class="input">
<div class="prompt input_prompt">In&nbsp;[&nbsp;]:</div>
<div class="inner_cell">
    <div class="input_area">
<div class=" highlight hl-ipython3"><pre><span class="kn">import</span> <span class="nn">sys</span>
<span class="kn">import</span> <span class="nn">os</span>
<span class="kn">from</span> <span class="nn">test_helper</span> <span class="k">import</span> <span class="n">Test</span>

<span class="n">baseDir</span> <span class="o">=</span> <span class="n">os</span><span class="o">.</span><span class="n">path</span><span class="o">.</span><span class="n">join</span><span class="p">(</span><span class="s">&#39;data&#39;</span><span class="p">)</span>
<span class="n">inputPath</span> <span class="o">=</span> <span class="n">os</span><span class="o">.</span><span class="n">path</span><span class="o">.</span><span class="n">join</span><span class="p">(</span><span class="s">&#39;cs100&#39;</span><span class="p">,</span> <span class="s">&#39;lab2&#39;</span><span class="p">,</span> <span class="s">&#39;apache.access.log.PROJECT&#39;</span><span class="p">)</span>
<span class="n">logFile</span> <span class="o">=</span> <span class="n">os</span><span class="o">.</span><span class="n">path</span><span class="o">.</span><span class="n">join</span><span class="p">(</span><span class="n">baseDir</span><span class="p">,</span> <span class="n">inputPath</span><span class="p">)</span>

<span class="k">def</span> <span class="nf">parseLogs</span><span class="p">():</span>
    <span class="sd">&quot;&quot;&quot; Read and parse log file &quot;&quot;&quot;</span>
    <span class="n">parsed_logs</span> <span class="o">=</span> <span class="p">(</span><span class="n">sc</span>
                   <span class="o">.</span><span class="n">textFile</span><span class="p">(</span><span class="n">logFile</span><span class="p">)</span>
                   <span class="o">.</span><span class="n">map</span><span class="p">(</span><span class="n">parseApacheLogLine</span><span class="p">)</span>
                   <span class="o">.</span><span class="n">cache</span><span class="p">())</span>

    <span class="n">access_logs</span> <span class="o">=</span> <span class="p">(</span><span class="n">parsed_logs</span>
                   <span class="o">.</span><span class="n">filter</span><span class="p">(</span><span class="k">lambda</span> <span class="n">s</span><span class="p">:</span> <span class="n">s</span><span class="p">[</span><span class="mi">1</span><span class="p">]</span> <span class="o">==</span> <span class="mi">1</span><span class="p">)</span>
                   <span class="o">.</span><span class="n">map</span><span class="p">(</span><span class="k">lambda</span> <span class="n">s</span><span class="p">:</span> <span class="n">s</span><span class="p">[</span><span class="mi">0</span><span class="p">])</span>
                   <span class="o">.</span><span class="n">cache</span><span class="p">())</span>

    <span class="n">failed_logs</span> <span class="o">=</span> <span class="p">(</span><span class="n">parsed_logs</span>
                   <span class="o">.</span><span class="n">filter</span><span class="p">(</span><span class="k">lambda</span> <span class="n">s</span><span class="p">:</span> <span class="n">s</span><span class="p">[</span><span class="mi">1</span><span class="p">]</span> <span class="o">==</span> <span class="mi">0</span><span class="p">)</span>
                   <span class="o">.</span><span class="n">map</span><span class="p">(</span><span class="k">lambda</span> <span class="n">s</span><span class="p">:</span> <span class="n">s</span><span class="p">[</span><span class="mi">0</span><span class="p">]))</span>
    <span class="n">failed_logs_count</span> <span class="o">=</span> <span class="n">failed_logs</span><span class="o">.</span><span class="n">count</span><span class="p">()</span>
    <span class="k">if</span> <span class="n">failed_logs_count</span> <span class="o">&gt;</span> <span class="mi">0</span><span class="p">:</span>
        <span class="nb">print</span> <span class="s">&#39;Number of invalid logline: %d&#39;</span> <span class="o">%</span> <span class="n">failed_logs</span><span class="o">.</span><span class="n">count</span><span class="p">()</span>
        <span class="k">for</span> <span class="n">line</span> <span class="ow">in</span> <span class="n">failed_logs</span><span class="o">.</span><span class="n">take</span><span class="p">(</span><span class="mi">20</span><span class="p">):</span>
            <span class="nb">print</span> <span class="s">&#39;Invalid logline: %s&#39;</span> <span class="o">%</span> <span class="n">line</span>

    <span class="nb">print</span> <span class="s">&#39;Read %d lines, successfully parsed %d lines, failed to parse %d lines&#39;</span> <span class="o">%</span> <span class="p">(</span><span class="n">parsed_logs</span><span class="o">.</span><span class="n">count</span><span class="p">(),</span> <span class="n">access_logs</span><span class="o">.</span><span class="n">count</span><span class="p">(),</span> <span class="n">failed_logs</span><span class="o">.</span><span class="n">count</span><span class="p">())</span>
    <span class="k">return</span> <span class="n">parsed_logs</span><span class="p">,</span> <span class="n">access_logs</span><span class="p">,</span> <span class="n">failed_logs</span>


<span class="n">parsed_logs</span><span class="p">,</span> <span class="n">access_logs</span><span class="p">,</span> <span class="n">failed_logs</span> <span class="o">=</span> <span class="n">parseLogs</span><span class="p">()</span>
</pre></div>

</div>
</div>
</div>

</div>
<div class="cell border-box-sizing text_cell rendered">
<div class="prompt input_prompt">
</div>
<div class="inner_cell">
<div class="text_cell_render border-box-sizing rendered_html">
<h3 id="(1c)-Data-Cleaning"><strong>(1c) Data Cleaning</strong><a class="anchor-link" href="#(1c)-Data-Cleaning">&#182;</a></h3><h4 id="Notice-that-there-are-a-large-number-of-log-lines-that-failed-to-parse.-Examine-the-sample-of-invalid-lines-and-compare-them-to-the-correctly-parsed-line,-an-example-is-included-below.-Based-on-your-observations,-alter-the-APACHE_ACCESS_LOG_PATTERN-regular-expression-below-so-that-the-failed-lines-will-correctly-parse,-and-press-Shift-Enter-to-rerun-parseLogs().">Notice that there are a large number of log lines that failed to parse. Examine the sample of invalid lines and compare them to the correctly parsed line, an example is included below. Based on your observations, alter the <code>APACHE_ACCESS_LOG_PATTERN</code> regular expression below so that the failed lines will correctly parse, and press <code>Shift-Enter</code> to rerun <code>parseLogs()</code>.<a class="anchor-link" href="#Notice-that-there-are-a-large-number-of-log-lines-that-failed-to-parse.-Examine-the-sample-of-invalid-lines-and-compare-them-to-the-correctly-parsed-line,-an-example-is-included-below.-Based-on-your-observations,-alter-the-APACHE_ACCESS_LOG_PATTERN-regular-expression-below-so-that-the-failed-lines-will-correctly-parse,-and-press-Shift-Enter-to-rerun-parseLogs().">&#182;</a></h4><p><code>127.0.0.1 - - [01/Aug/1995:00:00:01 -0400] "GET /images/launch-logo.gif HTTP/1.0" 200 1839</code></p>
<h4 id="If-you-not-familar-with-Python-regular-expression-search-function,-now-would-be-a-good-time-to-check-up-on-the-documentation.-One-tip-that-might-be-useful-is-to-use-an-online-tester-like-http://pythex.org-or-http://www.pythonregex.com.-To-use-it,-copy-and-paste-the-regular-expression-string-below-(located-between-the-single-quotes-')-and-test-it-against-one-of-the-'Invalid-logline'-above.">If you not familar with Python regular expression <a href="https://docs.python.org/2/library/re.html#regular-expression-objects"><code>search</code> function</a>, now would be a good time to check up on the <a href="https://developers.google.com/edu/python/regular-expressions">documentation</a>. One tip that might be useful is to use an online tester like <a href="http://pythex.org">http://pythex.org</a> or <a href="http://www.pythonregex.com">http://www.pythonregex.com</a>. To use it, copy and paste the regular expression string below (located between the single quotes ') and test it against one of the 'Invalid logline' above.<a class="anchor-link" href="#If-you-not-familar-with-Python-regular-expression-search-function,-now-would-be-a-good-time-to-check-up-on-the-documentation.-One-tip-that-might-be-useful-is-to-use-an-online-tester-like-http://pythex.org-or-http://www.pythonregex.com.-To-use-it,-copy-and-paste-the-regular-expression-string-below-(located-between-the-single-quotes-')-and-test-it-against-one-of-the-'Invalid-logline'-above.">&#182;</a></h4>
</div>
</div>
</div>
<div class="cell border-box-sizing code_cell rendered">
<div class="input">
<div class="prompt input_prompt">In&nbsp;[&nbsp;]:</div>
<div class="inner_cell">
    <div class="input_area">
<div class=" highlight hl-ipython3"><pre><span class="c"># TODO: Replace &lt;FILL IN&gt; with appropriate code</span>

<span class="c"># This was originally &#39;^(\S+) (\S+) (\S+) \[([\w:/]+\s[+\-]\d{4})\] &quot;(\S+) (\S+)\s*(\S*)&quot; (\d{3}) (\S+)&#39;</span>
<span class="n">APACHE_ACCESS_LOG_PATTERN</span> <span class="o">=</span> <span class="o">&lt;</span><span class="n">FILL</span> <span class="n">IN</span><span class="o">&gt;</span>

<span class="n">parsed_logs</span><span class="p">,</span> <span class="n">access_logs</span><span class="p">,</span> <span class="n">failed_logs</span> <span class="o">=</span> <span class="n">parseLogs</span><span class="p">()</span>
</pre></div>

</div>
</div>
</div>

</div>
<div class="cell border-box-sizing code_cell rendered">
<div class="input">
<div class="prompt input_prompt">In&nbsp;[&nbsp;]:</div>
<div class="inner_cell">
    <div class="input_area">
<div class=" highlight hl-ipython3"><pre><span class="c"># TEST Data cleaning (1c)</span>
<span class="n">Test</span><span class="o">.</span><span class="n">assertEquals</span><span class="p">(</span><span class="n">failed_logs</span><span class="o">.</span><span class="n">count</span><span class="p">(),</span> <span class="mi">0</span><span class="p">,</span> <span class="s">&#39;incorrect failed_logs.count()&#39;</span><span class="p">)</span>
<span class="n">Test</span><span class="o">.</span><span class="n">assertEquals</span><span class="p">(</span><span class="n">parsed_logs</span><span class="o">.</span><span class="n">count</span><span class="p">(),</span> <span class="mi">1043177</span> <span class="p">,</span> <span class="s">&#39;incorrect parsed_logs.count()&#39;</span><span class="p">)</span>
<span class="n">Test</span><span class="o">.</span><span class="n">assertEquals</span><span class="p">(</span><span class="n">access_logs</span><span class="o">.</span><span class="n">count</span><span class="p">(),</span> <span class="n">parsed_logs</span><span class="o">.</span><span class="n">count</span><span class="p">(),</span> <span class="s">&#39;incorrect access_logs.count()&#39;</span><span class="p">)</span>
</pre></div>

</div>
</div>
</div>

</div>
<div class="cell border-box-sizing text_cell rendered">
<div class="prompt input_prompt">
</div>
<div class="inner_cell">
<div class="text_cell_render border-box-sizing rendered_html">
<h3 id="Part-2:-Sample-Analyses-on-the-Web-Server-Log-File"><strong>Part 2: Sample Analyses on the Web Server Log File</strong><a class="anchor-link" href="#Part-2:-Sample-Analyses-on-the-Web-Server-Log-File">&#182;</a></h3><h4 id="Now-that-we-have-an-RDD-containing-the-log-file-as-a-set-of-Row-objects,-we-can-perform-various-analyses.">Now that we have an RDD containing the log file as a set of Row objects, we can perform various analyses.<a class="anchor-link" href="#Now-that-we-have-an-RDD-containing-the-log-file-as-a-set-of-Row-objects,-we-can-perform-various-analyses.">&#182;</a></h4><h4 id="(2a)-Example:-Content-Size-Statistics"><strong>(2a) Example: Content Size Statistics</strong><a class="anchor-link" href="#(2a)-Example:-Content-Size-Statistics">&#182;</a></h4><h4 id="Let's-compute-some-statistics-about-the-sizes-of-content-being-returned-by-the-web-server.-In-particular,-we'd-like-to-know-what-are-the-average,-minimum,-and-maximum-content-sizes.">Let's compute some statistics about the sizes of content being returned by the web server. In particular, we'd like to know what are the average, minimum, and maximum content sizes.<a class="anchor-link" href="#Let's-compute-some-statistics-about-the-sizes-of-content-being-returned-by-the-web-server.-In-particular,-we'd-like-to-know-what-are-the-average,-minimum,-and-maximum-content-sizes.">&#182;</a></h4><h4 id="We-can-compute-the-statistics-by-applying-a-map-to-the-access_logs-RDD.-The-lambda-function-we-want-for-the-map-is-to-extract-the-content_size-field-from-the-RDD.-The-map-produces-a-new-RDD-containing-only-the-content_sizes-(one-element-for-each-Row-object-in-the-access_logs-RDD).-To-compute-the-minimum-and-maximum-statistics,-we-can-use-min()-and-max()-functions-on-the-new-RDD.-We-can-compute-the-average-statistic-by-using-the-reduce-function-with-a-lambda-function-that-sums-the-two-inputs,-which-represent-two-elements-from-the-new-RDD-that-are-being-reduced-together.-The-result-of-the-reduce()-is-the-total-content-size-from-the-log-and-it-is-to-be-divided-by-the-number-of-requests-as-determined-using-the-count()-function-on-the-new-RDD.">We can compute the statistics by applying a <code>map</code> to the <code>access_logs</code> RDD. The <code>lambda</code> function we want for the map is to extract the <code>content_size</code> field from the RDD. The map produces a new RDD containing only the <code>content_sizes</code> (one element for each Row object in the <code>access_logs</code> RDD). To compute the minimum and maximum statistics, we can use <a href="http://spark.apache.org/docs/latest/api/python/pyspark.html#pyspark.RDD.min"><code>min()</code></a> and <a href="http://spark.apache.org/docs/latest/api/python/pyspark.html#pyspark.RDD.max"><code>max()</code></a> functions on the new RDD. We can compute the average statistic by using the <a href="http://spark.apache.org/docs/latest/api/python/pyspark.html#pyspark.RDD.reduce"><code>reduce</code></a> function with a <code>lambda</code> function that sums the two inputs, which represent two elements from the new RDD that are being reduced together. The result of the <code>reduce()</code> is the total content size from the log and it is to be divided by the number of requests as determined using the <a href="http://spark.apache.org/docs/latest/api/python/pyspark.html#pyspark.RDD.count"><code>count()</code></a> function on the new RDD.<a class="anchor-link" href="#We-can-compute-the-statistics-by-applying-a-map-to-the-access_logs-RDD.-The-lambda-function-we-want-for-the-map-is-to-extract-the-content_size-field-from-the-RDD.-The-map-produces-a-new-RDD-containing-only-the-content_sizes-(one-element-for-each-Row-object-in-the-access_logs-RDD).-To-compute-the-minimum-and-maximum-statistics,-we-can-use-min()-and-max()-functions-on-the-new-RDD.-We-can-compute-the-average-statistic-by-using-the-reduce-function-with-a-lambda-function-that-sums-the-two-inputs,-which-represent-two-elements-from-the-new-RDD-that-are-being-reduced-together.-The-result-of-the-reduce()-is-the-total-content-size-from-the-log-and-it-is-to-be-divided-by-the-number-of-requests-as-determined-using-the-count()-function-on-the-new-RDD.">&#182;</a></h4>
</div>
</div>
</div>
<div class="cell border-box-sizing code_cell rendered">
<div class="input">
<div class="prompt input_prompt">In&nbsp;[&nbsp;]:</div>
<div class="inner_cell">
    <div class="input_area">
<div class=" highlight hl-ipython3"><pre><span class="c"># Calculate statistics based on the content size.</span>
<span class="n">content_sizes</span> <span class="o">=</span> <span class="n">access_logs</span><span class="o">.</span><span class="n">map</span><span class="p">(</span><span class="k">lambda</span> <span class="n">log</span><span class="p">:</span> <span class="n">log</span><span class="o">.</span><span class="n">content_size</span><span class="p">)</span><span class="o">.</span><span class="n">cache</span><span class="p">()</span>
<span class="nb">print</span> <span class="s">&#39;Content Size Avg: %i, Min: %i, Max: %s&#39;</span> <span class="o">%</span> <span class="p">(</span>
    <span class="n">content_sizes</span><span class="o">.</span><span class="n">reduce</span><span class="p">(</span><span class="k">lambda</span> <span class="n">a</span><span class="p">,</span> <span class="n">b</span> <span class="p">:</span> <span class="n">a</span> <span class="o">+</span> <span class="n">b</span><span class="p">)</span> <span class="o">/</span> <span class="n">content_sizes</span><span class="o">.</span><span class="n">count</span><span class="p">(),</span>
    <span class="n">content_sizes</span><span class="o">.</span><span class="n">min</span><span class="p">(),</span>
    <span class="n">content_sizes</span><span class="o">.</span><span class="n">max</span><span class="p">())</span>
</pre></div>

</div>
</div>
</div>

</div>
<div class="cell border-box-sizing text_cell rendered">
<div class="prompt input_prompt">
</div>
<div class="inner_cell">
<div class="text_cell_render border-box-sizing rendered_html">
<h4 id="(2b)-Example:-Response-Code-Analysis"><strong>(2b) Example: Response Code Analysis</strong><a class="anchor-link" href="#(2b)-Example:-Response-Code-Analysis">&#182;</a></h4><h4 id="Next,-lets-look-at-the-response-codes-that-appear-in-the-log.-As-with-the-content-size-analysis,-first-we-create-a-new-RDD-by-using-a-lambda-function-to-extract-the-response_code-field-from-the-access_logs-RDD.-The-difference-here-is-that-we-will-use-a-pair-tuple-instead-of-just-the-field-itself.-Using-a-pair-tuple-consisting-of-the-response-code-and-1-will-let-us-count-how-many-records-have-a-particular-response-code.-Using-the-new-RDD,-we-perform-a-reduceByKey-function.-reduceByKey-performs-a-reduce-on-a-per-key-basis-by-applying-the-lambda-function-to-each-element,-pairwise-with-the-same-key.-We-use-the-simple-lambda-function-of-adding-the-two-values.-Then,-we-cache-the-resulting-RDD-and-create-a-list-by-using-the-take-function.">Next, lets look at the response codes that appear in the log. As with the content size analysis, first we create a new RDD by using a <code>lambda</code> function to extract the <code>response_code</code> field from the <code>access_logs</code> RDD. The difference here is that we will use a <a href="https://docs.python.org/2/tutorial/datastructures.html?highlight=tuple#tuples-and-sequences">pair tuple</a> instead of just the field itself. Using a pair tuple consisting of the response code and 1 will let us count how many records have a particular response code. Using the new RDD, we perform a <a href="http://spark.apache.org/docs/latest/api/python/pyspark.html#pyspark.RDD.reduceByKey"><code>reduceByKey</code></a> function. <code>reduceByKey</code> performs a reduce on a per-key basis by applying the <code>lambda</code> function to each element, pairwise with the same key. We use the simple <code>lambda</code> function of adding the two values. Then, we cache the resulting RDD and create a list by using the <a href="http://spark.apache.org/docs/latest/api/python/pyspark.html#pyspark.RDD.take"><code>take</code></a> function.<a class="anchor-link" href="#Next,-lets-look-at-the-response-codes-that-appear-in-the-log.-As-with-the-content-size-analysis,-first-we-create-a-new-RDD-by-using-a-lambda-function-to-extract-the-response_code-field-from-the-access_logs-RDD.-The-difference-here-is-that-we-will-use-a-pair-tuple-instead-of-just-the-field-itself.-Using-a-pair-tuple-consisting-of-the-response-code-and-1-will-let-us-count-how-many-records-have-a-particular-response-code.-Using-the-new-RDD,-we-perform-a-reduceByKey-function.-reduceByKey-performs-a-reduce-on-a-per-key-basis-by-applying-the-lambda-function-to-each-element,-pairwise-with-the-same-key.-We-use-the-simple-lambda-function-of-adding-the-two-values.-Then,-we-cache-the-resulting-RDD-and-create-a-list-by-using-the-take-function.">&#182;</a></h4>
</div>
</div>
</div>
<div class="cell border-box-sizing code_cell rendered">
<div class="input">
<div class="prompt input_prompt">In&nbsp;[&nbsp;]:</div>
<div class="inner_cell">
    <div class="input_area">
<div class=" highlight hl-ipython3"><pre><span class="c"># Response Code to Count</span>
<span class="n">responseCodeToCount</span> <span class="o">=</span> <span class="p">(</span><span class="n">access_logs</span>
                       <span class="o">.</span><span class="n">map</span><span class="p">(</span><span class="k">lambda</span> <span class="n">log</span><span class="p">:</span> <span class="p">(</span><span class="n">log</span><span class="o">.</span><span class="n">response_code</span><span class="p">,</span> <span class="mi">1</span><span class="p">))</span>
                       <span class="o">.</span><span class="n">reduceByKey</span><span class="p">(</span><span class="k">lambda</span> <span class="n">a</span><span class="p">,</span> <span class="n">b</span> <span class="p">:</span> <span class="n">a</span> <span class="o">+</span> <span class="n">b</span><span class="p">)</span>
                       <span class="o">.</span><span class="n">cache</span><span class="p">())</span>
<span class="n">responseCodeToCountList</span> <span class="o">=</span> <span class="n">responseCodeToCount</span><span class="o">.</span><span class="n">take</span><span class="p">(</span><span class="mi">100</span><span class="p">)</span>
<span class="nb">print</span> <span class="s">&#39;Found %d response codes&#39;</span> <span class="o">%</span> <span class="nb">len</span><span class="p">(</span><span class="n">responseCodeToCountList</span><span class="p">)</span>
<span class="nb">print</span> <span class="s">&#39;Response Code Counts: %s&#39;</span> <span class="o">%</span> <span class="n">responseCodeToCountList</span>
<span class="k">assert</span> <span class="nb">len</span><span class="p">(</span><span class="n">responseCodeToCountList</span><span class="p">)</span> <span class="o">==</span> <span class="mi">7</span>
<span class="k">assert</span> <span class="nb">sorted</span><span class="p">(</span><span class="n">responseCodeToCountList</span><span class="p">)</span> <span class="o">==</span> <span class="p">[(</span><span class="mi">200</span><span class="p">,</span> <span class="mi">940847</span><span class="p">),</span> <span class="p">(</span><span class="mi">302</span><span class="p">,</span> <span class="mi">16244</span><span class="p">),</span> <span class="p">(</span><span class="mi">304</span><span class="p">,</span> <span class="mi">79824</span><span class="p">),</span> <span class="p">(</span><span class="mi">403</span><span class="p">,</span> <span class="mi">58</span><span class="p">),</span> <span class="p">(</span><span class="mi">404</span><span class="p">,</span> <span class="mi">6185</span><span class="p">),</span> <span class="p">(</span><span class="mi">500</span><span class="p">,</span> <span class="mi">2</span><span class="p">),</span> <span class="p">(</span><span class="mi">501</span><span class="p">,</span> <span class="mi">17</span><span class="p">)]</span>
</pre></div>

</div>
</div>
</div>

</div>
<div class="cell border-box-sizing text_cell rendered">
<div class="prompt input_prompt">
</div>
<div class="inner_cell">
<div class="text_cell_render border-box-sizing rendered_html">
<h4 id="(2c)-Example:-Response-Code-Graphing-with-matplotlib"><strong>(2c) Example: Response Code Graphing with <code>matplotlib</code></strong><a class="anchor-link" href="#(2c)-Example:-Response-Code-Graphing-with-matplotlib">&#182;</a></h4><h4 id="Now,-lets-visualize-the-results-from-the-last-example.-We-can-visualize-the-results-from-the-last-example-using-matplotlib.-First-we-need-to-extract-the-labels-and-fractions-for-the-graph.-We-do-this-with-two-separate-map-functions-with-a-lambda-functions.-The-first-map-function-extracts-a-list-of-of-the-response-code-values,-and-the-second-map-function-extracts-a-list-of-the-per-response-code-counts--divided-by-the-total-size-of-the-access-logs.-Next,-we-create-a-figure-with-figure()-constructor-and-use-the-pie()-method-to-create-the-pie-plot.">Now, lets visualize the results from the last example. We can visualize the results from the last example using <a href="http://matplotlib.org/"><code>matplotlib</code></a>. First we need to extract the labels and fractions for the graph. We do this with two separate <code>map</code> functions with a <code>lambda</code> functions. The first <code>map</code> function extracts a list of of the response code values, and the second <code>map</code> function extracts a list of the per response code counts  divided by the total size of the access logs. Next, we create a figure with <code>figure()</code> constructor and use the <code>pie()</code> method to create the pie plot.<a class="anchor-link" href="#Now,-lets-visualize-the-results-from-the-last-example.-We-can-visualize-the-results-from-the-last-example-using-matplotlib.-First-we-need-to-extract-the-labels-and-fractions-for-the-graph.-We-do-this-with-two-separate-map-functions-with-a-lambda-functions.-The-first-map-function-extracts-a-list-of-of-the-response-code-values,-and-the-second-map-function-extracts-a-list-of-the-per-response-code-counts--divided-by-the-total-size-of-the-access-logs.-Next,-we-create-a-figure-with-figure()-constructor-and-use-the-pie()-method-to-create-the-pie-plot.">&#182;</a></h4>
</div>
</div>
</div>
<div class="cell border-box-sizing code_cell rendered">
<div class="input">
<div class="prompt input_prompt">In&nbsp;[&nbsp;]:</div>
<div class="inner_cell">
    <div class="input_area">
<div class=" highlight hl-ipython3"><pre><span class="n">labels</span> <span class="o">=</span> <span class="n">responseCodeToCount</span><span class="o">.</span><span class="n">map</span><span class="p">(</span><span class="k">lambda</span> <span class="p">(</span><span class="n">x</span><span class="p">,</span> <span class="n">y</span><span class="p">):</span> <span class="n">x</span><span class="p">)</span><span class="o">.</span><span class="n">collect</span><span class="p">()</span>
<span class="nb">print</span> <span class="n">labels</span>
<span class="n">count</span> <span class="o">=</span> <span class="n">access_logs</span><span class="o">.</span><span class="n">count</span><span class="p">()</span>
<span class="n">fracs</span> <span class="o">=</span> <span class="n">responseCodeToCount</span><span class="o">.</span><span class="n">map</span><span class="p">(</span><span class="k">lambda</span> <span class="p">(</span><span class="n">x</span><span class="p">,</span> <span class="n">y</span><span class="p">):</span> <span class="p">(</span><span class="nb">float</span><span class="p">(</span><span class="n">y</span><span class="p">)</span> <span class="o">/</span> <span class="n">count</span><span class="p">))</span><span class="o">.</span><span class="n">collect</span><span class="p">()</span>
<span class="nb">print</span> <span class="n">fracs</span>
</pre></div>

</div>
</div>
</div>

</div>
<div class="cell border-box-sizing code_cell rendered">
<div class="input">
<div class="prompt input_prompt">In&nbsp;[&nbsp;]:</div>
<div class="inner_cell">
    <div class="input_area">
<div class=" highlight hl-ipython3"><pre><span class="kn">import</span> <span class="nn">matplotlib.pyplot</span> <span class="k">as</span> <span class="nn">plt</span>


<span class="k">def</span> <span class="nf">pie_pct_format</span><span class="p">(</span><span class="n">value</span><span class="p">):</span>
    <span class="sd">&quot;&quot;&quot; Determine the appropriate format string for the pie chart percentage label</span>
<span class="sd">    Args:</span>
<span class="sd">        value: value of the pie slice</span>
<span class="sd">    Returns:</span>
<span class="sd">        str: formated string label; if the slice is too small to fit, returns an empty string for label</span>
<span class="sd">    &quot;&quot;&quot;</span>
    <span class="k">return</span> <span class="s">&#39;&#39;</span> <span class="k">if</span> <span class="n">value</span> <span class="o">&lt;</span> <span class="mi">7</span> <span class="k">else</span> <span class="s">&#39;%.0f%%&#39;</span> <span class="o">%</span> <span class="n">value</span>

<span class="n">fig</span> <span class="o">=</span> <span class="n">plt</span><span class="o">.</span><span class="n">figure</span><span class="p">(</span><span class="n">figsize</span><span class="o">=</span><span class="p">(</span><span class="mf">4.5</span><span class="p">,</span> <span class="mf">4.5</span><span class="p">),</span> <span class="n">facecolor</span><span class="o">=</span><span class="s">&#39;white&#39;</span><span class="p">,</span> <span class="n">edgecolor</span><span class="o">=</span><span class="s">&#39;white&#39;</span><span class="p">)</span>
<span class="n">colors</span> <span class="o">=</span> <span class="p">[</span><span class="s">&#39;yellowgreen&#39;</span><span class="p">,</span> <span class="s">&#39;lightskyblue&#39;</span><span class="p">,</span> <span class="s">&#39;gold&#39;</span><span class="p">,</span> <span class="s">&#39;purple&#39;</span><span class="p">,</span> <span class="s">&#39;lightcoral&#39;</span><span class="p">,</span> <span class="s">&#39;yellow&#39;</span><span class="p">,</span> <span class="s">&#39;black&#39;</span><span class="p">]</span>
<span class="n">explode</span> <span class="o">=</span> <span class="p">(</span><span class="mf">0.05</span><span class="p">,</span> <span class="mf">0.05</span><span class="p">,</span> <span class="mf">0.1</span><span class="p">,</span> <span class="mi">0</span><span class="p">,</span> <span class="mi">0</span><span class="p">,</span> <span class="mi">0</span><span class="p">,</span> <span class="mi">0</span><span class="p">)</span>
<span class="n">patches</span><span class="p">,</span> <span class="n">texts</span><span class="p">,</span> <span class="n">autotexts</span> <span class="o">=</span> <span class="n">plt</span><span class="o">.</span><span class="n">pie</span><span class="p">(</span><span class="n">fracs</span><span class="p">,</span> <span class="n">labels</span><span class="o">=</span><span class="n">labels</span><span class="p">,</span> <span class="n">colors</span><span class="o">=</span><span class="n">colors</span><span class="p">,</span>
                                    <span class="n">explode</span><span class="o">=</span><span class="n">explode</span><span class="p">,</span> <span class="n">autopct</span><span class="o">=</span><span class="n">pie_pct_format</span><span class="p">,</span>
                                    <span class="n">shadow</span><span class="o">=</span><span class="k">False</span><span class="p">,</span>  <span class="n">startangle</span><span class="o">=</span><span class="mi">125</span><span class="p">)</span>
<span class="k">for</span> <span class="n">text</span><span class="p">,</span> <span class="n">autotext</span> <span class="ow">in</span> <span class="nb">zip</span><span class="p">(</span><span class="n">texts</span><span class="p">,</span> <span class="n">autotexts</span><span class="p">):</span>
    <span class="k">if</span> <span class="n">autotext</span><span class="o">.</span><span class="n">get_text</span><span class="p">()</span> <span class="o">==</span> <span class="s">&#39;&#39;</span><span class="p">:</span>
        <span class="n">text</span><span class="o">.</span><span class="n">set_text</span><span class="p">(</span><span class="s">&#39;&#39;</span><span class="p">)</span>  <span class="c"># If the slice is small to fit, don&#39;t show a text label</span>
<span class="n">plt</span><span class="o">.</span><span class="n">legend</span><span class="p">(</span><span class="n">labels</span><span class="p">,</span> <span class="n">loc</span><span class="o">=</span><span class="p">(</span><span class="mf">0.80</span><span class="p">,</span> <span class="o">-</span><span class="mf">0.1</span><span class="p">),</span> <span class="n">shadow</span><span class="o">=</span><span class="k">True</span><span class="p">)</span>
<span class="k">pass</span>
</pre></div>

</div>
</div>
</div>

</div>
<div class="cell border-box-sizing text_cell rendered">
<div class="prompt input_prompt">
</div>
<div class="inner_cell">
<div class="text_cell_render border-box-sizing rendered_html">
<h4 id="(2d)-Example:-Frequent-Hosts"><strong>(2d) Example: Frequent Hosts</strong><a class="anchor-link" href="#(2d)-Example:-Frequent-Hosts">&#182;</a></h4><h4 id="Let's-look-at-hosts-that-have-accessed-the-server-multiple-times-(e.g.,-more-than-ten-times).-As-with-the-response-code-analysis-in-(2b),-first-we-create-a-new-RDD-by-using-a-lambda-function-to-extract-the-host-field-from-the-access_logs-RDD-using-a-pair-tuple-consisting-of-the-host-and-1-which-will-let-us-count-how-many-records-were-created-by-a-particular-host's-request.-Using-the-new-RDD,-we-perform-a-reduceByKey-function-with-a-lambda-function-that-adds-the-two-values.-We-then-filter-the-result-based-on-the-count-of-accesses-by-each-host-(the-second-element-of-each-pair)-being-greater-than-ten.-Next,-we-extract-the-host-name-by-performing-a-map-with-a-lambda-function-that-returns-the-first-element-of-each-pair.-Finally,-we-extract-20-elements-from-the-resulting-RDD---note-that-the-choice-of-which-elements-are-returned-is-not-guaranteed-to-be-deterministic.">Let's look at hosts that have accessed the server multiple times (e.g., more than ten times). As with the response code analysis in (2b), first we create a new RDD by using a <code>lambda</code> function to extract the <code>host</code> field from the <code>access_logs</code> RDD using a pair tuple consisting of the host and 1 which will let us count how many records were created by a particular host's request. Using the new RDD, we perform a <code>reduceByKey</code> function with a <code>lambda</code> function that adds the two values. We then filter the result based on the count of accesses by each host (the second element of each pair) being greater than ten. Next, we extract the host name by performing a <code>map</code> with a <code>lambda</code> function that returns the first element of each pair. Finally, we extract 20 elements from the resulting RDD - <em>note that the choice of which elements are returned is not guaranteed to be deterministic.</em><a class="anchor-link" href="#Let's-look-at-hosts-that-have-accessed-the-server-multiple-times-(e.g.,-more-than-ten-times).-As-with-the-response-code-analysis-in-(2b),-first-we-create-a-new-RDD-by-using-a-lambda-function-to-extract-the-host-field-from-the-access_logs-RDD-using-a-pair-tuple-consisting-of-the-host-and-1-which-will-let-us-count-how-many-records-were-created-by-a-particular-host's-request.-Using-the-new-RDD,-we-perform-a-reduceByKey-function-with-a-lambda-function-that-adds-the-two-values.-We-then-filter-the-result-based-on-the-count-of-accesses-by-each-host-(the-second-element-of-each-pair)-being-greater-than-ten.-Next,-we-extract-the-host-name-by-performing-a-map-with-a-lambda-function-that-returns-the-first-element-of-each-pair.-Finally,-we-extract-20-elements-from-the-resulting-RDD---note-that-the-choice-of-which-elements-are-returned-is-not-guaranteed-to-be-deterministic.">&#182;</a></h4>
</div>
</div>
</div>
<div class="cell border-box-sizing code_cell rendered">
<div class="input">
<div class="prompt input_prompt">In&nbsp;[&nbsp;]:</div>
<div class="inner_cell">
    <div class="input_area">
<div class=" highlight hl-ipython3"><pre><span class="c"># Any hosts that has accessed the server more than 10 times.</span>
<span class="n">hostCountPairTuple</span> <span class="o">=</span> <span class="n">access_logs</span><span class="o">.</span><span class="n">map</span><span class="p">(</span><span class="k">lambda</span> <span class="n">log</span><span class="p">:</span> <span class="p">(</span><span class="n">log</span><span class="o">.</span><span class="n">host</span><span class="p">,</span> <span class="mi">1</span><span class="p">))</span>

<span class="n">hostSum</span> <span class="o">=</span> <span class="n">hostCountPairTuple</span><span class="o">.</span><span class="n">reduceByKey</span><span class="p">(</span><span class="k">lambda</span> <span class="n">a</span><span class="p">,</span> <span class="n">b</span> <span class="p">:</span> <span class="n">a</span> <span class="o">+</span> <span class="n">b</span><span class="p">)</span>

<span class="n">hostMoreThan10</span> <span class="o">=</span> <span class="n">hostSum</span><span class="o">.</span><span class="n">filter</span><span class="p">(</span><span class="k">lambda</span> <span class="n">s</span><span class="p">:</span> <span class="n">s</span><span class="p">[</span><span class="mi">1</span><span class="p">]</span> <span class="o">&gt;</span> <span class="mi">10</span><span class="p">)</span>

<span class="n">hostsPick20</span> <span class="o">=</span> <span class="p">(</span><span class="n">hostMoreThan10</span>
               <span class="o">.</span><span class="n">map</span><span class="p">(</span><span class="k">lambda</span> <span class="n">s</span><span class="p">:</span> <span class="n">s</span><span class="p">[</span><span class="mi">0</span><span class="p">])</span>
               <span class="o">.</span><span class="n">take</span><span class="p">(</span><span class="mi">20</span><span class="p">))</span>

<span class="nb">print</span> <span class="s">&#39;Any 20 hosts that have accessed more then 10 times: %s&#39;</span> <span class="o">%</span> <span class="n">hostsPick20</span>
<span class="c"># An example: [u&#39;204.120.34.185&#39;, u&#39;204.243.249.9&#39;, u&#39;slip1-32.acs.ohio-state.edu&#39;, u&#39;lapdog-14.baylor.edu&#39;, u&#39;199.77.67.3&#39;, u&#39;gs1.cs.ttu.edu&#39;, u&#39;haskell.limbex.com&#39;, u&#39;alfred.uib.no&#39;, u&#39;146.129.66.31&#39;, u&#39;manaus.bologna.maraut.it&#39;, u&#39;dialup98-110.swipnet.se&#39;, u&#39;slip-ppp02.feldspar.com&#39;, u&#39;ad03-053.compuserve.com&#39;, u&#39;srawlin.opsys.nwa.com&#39;, u&#39;199.202.200.52&#39;, u&#39;ix-den7-23.ix.netcom.com&#39;, u&#39;151.99.247.114&#39;, u&#39;w20-575-104.mit.edu&#39;, u&#39;205.25.227.20&#39;, u&#39;ns.rmc.com&#39;]</span>
</pre></div>

</div>
</div>
</div>

</div>
<div class="cell border-box-sizing text_cell rendered">
<div class="prompt input_prompt">
</div>
<div class="inner_cell">
<div class="text_cell_render border-box-sizing rendered_html">
<h4 id="(2e)-Example:-Visualizing-Endpoints"><strong>(2e) Example: Visualizing Endpoints</strong><a class="anchor-link" href="#(2e)-Example:-Visualizing-Endpoints">&#182;</a></h4><h4 id="Now,-lets-visualize-the-number-of-hits-to-endpoints-(URIs)-in-the-log.-To-perform-this-task,-we-first-create-a-new-RDD-by-using-a-lambda-function-to-extract-the-endpoint-field-from-the-access_logs-RDD-using-a-pair-tuple-consisting-of-the-endpoint-and-1-which-will-let-us-count-how-many-records-were-created-by-a-particular-host's-request.-Using-the-new-RDD,-we-perform-a-reduceByKey-function-with-a-lambda-function-that-adds-the-two-values.-We-then-cache-the-results.">Now, lets visualize the number of hits to endpoints (URIs) in the log. To perform this task, we first create a new RDD by using a <code>lambda</code> function to extract the <code>endpoint</code> field from the <code>access_logs</code> RDD using a pair tuple consisting of the endpoint and 1 which will let us count how many records were created by a particular host's request. Using the new RDD, we perform a <code>reduceByKey</code> function with a <code>lambda</code> function that adds the two values. We then cache the results.<a class="anchor-link" href="#Now,-lets-visualize-the-number-of-hits-to-endpoints-(URIs)-in-the-log.-To-perform-this-task,-we-first-create-a-new-RDD-by-using-a-lambda-function-to-extract-the-endpoint-field-from-the-access_logs-RDD-using-a-pair-tuple-consisting-of-the-endpoint-and-1-which-will-let-us-count-how-many-records-were-created-by-a-particular-host's-request.-Using-the-new-RDD,-we-perform-a-reduceByKey-function-with-a-lambda-function-that-adds-the-two-values.-We-then-cache-the-results.">&#182;</a></h4><h4 id="Next-we-visualize-the-results-using-matplotlib.-We-previously-imported-the-matplotlib.pyplot-library,-so-we-do-not-need-to-import-it-again.-We-perform-two-separate-map-functions-with-lambda-functions.-The-first-map-function-extracts-a-list-of-endpoint-values,-and-the-second-map-function-extracts-a-list-of-the-visits-per-endpoint-values.-Next,-we-create-a-figure-with-figure()-constructor,-set-various-features-of-the-plot-(axis-limits,-grid-lines,-and-labels),-and-use-the-plot()-method-to-create-the-line-plot.">Next we visualize the results using <code>matplotlib</code>. We previously imported the <code>matplotlib.pyplot</code> library, so we do not need to import it again. We perform two separate <code>map</code> functions with <code>lambda</code> functions. The first <code>map</code> function extracts a list of endpoint values, and the second <code>map</code> function extracts a list of the visits per endpoint values. Next, we create a figure with <code>figure()</code> constructor, set various features of the plot (axis limits, grid lines, and labels), and use the <code>plot()</code> method to create the line plot.<a class="anchor-link" href="#Next-we-visualize-the-results-using-matplotlib.-We-previously-imported-the-matplotlib.pyplot-library,-so-we-do-not-need-to-import-it-again.-We-perform-two-separate-map-functions-with-lambda-functions.-The-first-map-function-extracts-a-list-of-endpoint-values,-and-the-second-map-function-extracts-a-list-of-the-visits-per-endpoint-values.-Next,-we-create-a-figure-with-figure()-constructor,-set-various-features-of-the-plot-(axis-limits,-grid-lines,-and-labels),-and-use-the-plot()-method-to-create-the-line-plot.">&#182;</a></h4>
</div>
</div>
</div>
<div class="cell border-box-sizing code_cell rendered">
<div class="input">
<div class="prompt input_prompt">In&nbsp;[&nbsp;]:</div>
<div class="inner_cell">
    <div class="input_area">
<div class=" highlight hl-ipython3"><pre><span class="n">endpoints</span> <span class="o">=</span> <span class="p">(</span><span class="n">access_logs</span>
             <span class="o">.</span><span class="n">map</span><span class="p">(</span><span class="k">lambda</span> <span class="n">log</span><span class="p">:</span> <span class="p">(</span><span class="n">log</span><span class="o">.</span><span class="n">endpoint</span><span class="p">,</span> <span class="mi">1</span><span class="p">))</span>
             <span class="o">.</span><span class="n">reduceByKey</span><span class="p">(</span><span class="k">lambda</span> <span class="n">a</span><span class="p">,</span> <span class="n">b</span> <span class="p">:</span> <span class="n">a</span> <span class="o">+</span> <span class="n">b</span><span class="p">)</span>
             <span class="o">.</span><span class="n">cache</span><span class="p">())</span>
<span class="n">ends</span> <span class="o">=</span> <span class="n">endpoints</span><span class="o">.</span><span class="n">map</span><span class="p">(</span><span class="k">lambda</span> <span class="p">(</span><span class="n">x</span><span class="p">,</span> <span class="n">y</span><span class="p">):</span> <span class="n">x</span><span class="p">)</span><span class="o">.</span><span class="n">collect</span><span class="p">()</span>
<span class="n">counts</span> <span class="o">=</span> <span class="n">endpoints</span><span class="o">.</span><span class="n">map</span><span class="p">(</span><span class="k">lambda</span> <span class="p">(</span><span class="n">x</span><span class="p">,</span> <span class="n">y</span><span class="p">):</span> <span class="n">y</span><span class="p">)</span><span class="o">.</span><span class="n">collect</span><span class="p">()</span>

<span class="n">fig</span> <span class="o">=</span> <span class="n">plt</span><span class="o">.</span><span class="n">figure</span><span class="p">(</span><span class="n">figsize</span><span class="o">=</span><span class="p">(</span><span class="mi">8</span><span class="p">,</span><span class="mf">4.2</span><span class="p">),</span> <span class="n">facecolor</span><span class="o">=</span><span class="s">&#39;white&#39;</span><span class="p">,</span> <span class="n">edgecolor</span><span class="o">=</span><span class="s">&#39;white&#39;</span><span class="p">)</span>
<span class="n">plt</span><span class="o">.</span><span class="n">axis</span><span class="p">([</span><span class="mi">0</span><span class="p">,</span> <span class="nb">len</span><span class="p">(</span><span class="n">ends</span><span class="p">),</span> <span class="mi">0</span><span class="p">,</span> <span class="nb">max</span><span class="p">(</span><span class="n">counts</span><span class="p">)])</span>
<span class="n">plt</span><span class="o">.</span><span class="n">grid</span><span class="p">(</span><span class="n">b</span><span class="o">=</span><span class="k">True</span><span class="p">,</span> <span class="n">which</span><span class="o">=</span><span class="s">&#39;major&#39;</span><span class="p">,</span> <span class="n">axis</span><span class="o">=</span><span class="s">&#39;y&#39;</span><span class="p">)</span>
<span class="n">plt</span><span class="o">.</span><span class="n">xlabel</span><span class="p">(</span><span class="s">&#39;Endpoints&#39;</span><span class="p">)</span>
<span class="n">plt</span><span class="o">.</span><span class="n">ylabel</span><span class="p">(</span><span class="s">&#39;Number of Hits&#39;</span><span class="p">)</span>
<span class="n">plt</span><span class="o">.</span><span class="n">plot</span><span class="p">(</span><span class="n">counts</span><span class="p">)</span>
<span class="k">pass</span>
</pre></div>

</div>
</div>
</div>

</div>
<div class="cell border-box-sizing text_cell rendered">
<div class="prompt input_prompt">
</div>
<div class="inner_cell">
<div class="text_cell_render border-box-sizing rendered_html">
<h4 id="(2f)-Example:-Top-Endpoints"><strong>(2f) Example: Top Endpoints</strong><a class="anchor-link" href="#(2f)-Example:-Top-Endpoints">&#182;</a></h4><h4 id="For-the-final-example,-we'll-look-at-the-top-endpoints-(URIs)-in-the-log.-To-determine-them,-we-first-create-a-new-RDD-by-using-a-lambda-function-to-extract-the-endpoint-field-from-the-access_logs-RDD-using-a-pair-tuple-consisting-of-the-endpoint-and-1-which-will-let-us-count-how-many-records-were-created-by-a-particular-host's-request.-Using-the-new-RDD,-we-perform-a-reduceByKey-function-with-a-lambda-function-that-adds-the-two-values.-We-then-extract-the-top-ten-endpoints-by-performing-a-takeOrdered-with-a-value-of-10-and-a-lambda-function-that-multiplies-the-count-(the-second-element-of-each-pair)-by--1-to-create-a-sorted-list-with-the-top-endpoints-at-the-bottom.">For the final example, we'll look at the top endpoints (URIs) in the log. To determine them, we first create a new RDD by using a <code>lambda</code> function to extract the <code>endpoint</code> field from the <code>access_logs</code> RDD using a pair tuple consisting of the endpoint and 1 which will let us count how many records were created by a particular host's request. Using the new RDD, we perform a <code>reduceByKey</code> function with a <code>lambda</code> function that adds the two values. We then extract the top ten endpoints by performing a <a href="http://spark.apache.org/docs/latest/api/python/pyspark.html#pyspark.RDD.takeOrdered"><code>takeOrdered</code></a> with a value of 10 and a <code>lambda</code> function that multiplies the count (the second element of each pair) by -1 to create a sorted list with the top endpoints at the bottom.<a class="anchor-link" href="#For-the-final-example,-we'll-look-at-the-top-endpoints-(URIs)-in-the-log.-To-determine-them,-we-first-create-a-new-RDD-by-using-a-lambda-function-to-extract-the-endpoint-field-from-the-access_logs-RDD-using-a-pair-tuple-consisting-of-the-endpoint-and-1-which-will-let-us-count-how-many-records-were-created-by-a-particular-host's-request.-Using-the-new-RDD,-we-perform-a-reduceByKey-function-with-a-lambda-function-that-adds-the-two-values.-We-then-extract-the-top-ten-endpoints-by-performing-a-takeOrdered-with-a-value-of-10-and-a-lambda-function-that-multiplies-the-count-(the-second-element-of-each-pair)-by--1-to-create-a-sorted-list-with-the-top-endpoints-at-the-bottom.">&#182;</a></h4>
</div>
</div>
</div>
<div class="cell border-box-sizing code_cell rendered">
<div class="input">
<div class="prompt input_prompt">In&nbsp;[&nbsp;]:</div>
<div class="inner_cell">
    <div class="input_area">
<div class=" highlight hl-ipython3"><pre><span class="c"># Top Endpoints</span>
<span class="n">endpointCounts</span> <span class="o">=</span> <span class="p">(</span><span class="n">access_logs</span>
                  <span class="o">.</span><span class="n">map</span><span class="p">(</span><span class="k">lambda</span> <span class="n">log</span><span class="p">:</span> <span class="p">(</span><span class="n">log</span><span class="o">.</span><span class="n">endpoint</span><span class="p">,</span> <span class="mi">1</span><span class="p">))</span>
                  <span class="o">.</span><span class="n">reduceByKey</span><span class="p">(</span><span class="k">lambda</span> <span class="n">a</span><span class="p">,</span> <span class="n">b</span> <span class="p">:</span> <span class="n">a</span> <span class="o">+</span> <span class="n">b</span><span class="p">))</span>

<span class="n">topEndpoints</span> <span class="o">=</span> <span class="n">endpointCounts</span><span class="o">.</span><span class="n">takeOrdered</span><span class="p">(</span><span class="mi">10</span><span class="p">,</span> <span class="k">lambda</span> <span class="n">s</span><span class="p">:</span> <span class="o">-</span><span class="mi">1</span> <span class="o">*</span> <span class="n">s</span><span class="p">[</span><span class="mi">1</span><span class="p">])</span>

<span class="nb">print</span> <span class="s">&#39;Top Ten Endpoints: %s&#39;</span> <span class="o">%</span> <span class="n">topEndpoints</span>
<span class="k">assert</span> <span class="n">topEndpoints</span> <span class="o">==</span> <span class="p">[(</span><span class="s">u&#39;/images/NASA-logosmall.gif&#39;</span><span class="p">,</span> <span class="mi">59737</span><span class="p">),</span> <span class="p">(</span><span class="s">u&#39;/images/KSC-logosmall.gif&#39;</span><span class="p">,</span> <span class="mi">50452</span><span class="p">),</span> <span class="p">(</span><span class="s">u&#39;/images/MOSAIC-logosmall.gif&#39;</span><span class="p">,</span> <span class="mi">43890</span><span class="p">),</span> <span class="p">(</span><span class="s">u&#39;/images/USA-logosmall.gif&#39;</span><span class="p">,</span> <span class="mi">43664</span><span class="p">),</span> <span class="p">(</span><span class="s">u&#39;/images/WORLD-logosmall.gif&#39;</span><span class="p">,</span> <span class="mi">43277</span><span class="p">),</span> <span class="p">(</span><span class="s">u&#39;/images/ksclogo-medium.gif&#39;</span><span class="p">,</span> <span class="mi">41336</span><span class="p">),</span> <span class="p">(</span><span class="s">u&#39;/ksc.html&#39;</span><span class="p">,</span> <span class="mi">28582</span><span class="p">),</span> <span class="p">(</span><span class="s">u&#39;/history/apollo/images/apollo-logo1.gif&#39;</span><span class="p">,</span> <span class="mi">26778</span><span class="p">),</span> <span class="p">(</span><span class="s">u&#39;/images/launch-logo.gif&#39;</span><span class="p">,</span> <span class="mi">24755</span><span class="p">),</span> <span class="p">(</span><span class="s">u&#39;/&#39;</span><span class="p">,</span> <span class="mi">20292</span><span class="p">)],</span> <span class="s">&#39;incorrect Top Ten Endpoints&#39;</span>
</pre></div>

</div>
</div>
</div>

</div>
<div class="cell border-box-sizing text_cell rendered">
<div class="prompt input_prompt">
</div>
<div class="inner_cell">
<div class="text_cell_render border-box-sizing rendered_html">
<h3 id="Part-3:-Analyzing-Web-Server-Log-File"><strong>Part 3: Analyzing Web Server Log File</strong><a class="anchor-link" href="#Part-3:-Analyzing-Web-Server-Log-File">&#182;</a></h3><h4 id="Now-it-is-your-turn-to-perform-analyses-on-web-server-log-files.">Now it is your turn to perform analyses on web server log files.<a class="anchor-link" href="#Now-it-is-your-turn-to-perform-analyses-on-web-server-log-files.">&#182;</a></h4>
</div>
</div>
</div>
<div class="cell border-box-sizing text_cell rendered">
<div class="prompt input_prompt">
</div>
<div class="inner_cell">
<div class="text_cell_render border-box-sizing rendered_html">
<h4 id="(3a)-Exercise:-Top-Ten-Error-Endpoints"><strong>(3a) Exercise: Top Ten Error Endpoints</strong><a class="anchor-link" href="#(3a)-Exercise:-Top-Ten-Error-Endpoints">&#182;</a></h4><h4 id="What-are-the-top-ten-endpoints-which-did-not-have-return-code-200?-Create-a-sorted-list-containing-top-ten-endpoints-and-the-number-of-times-that-they-were-accessed-with-non-200-return-code.">What are the top ten endpoints which did not have return code 200? Create a sorted list containing top ten endpoints and the number of times that they were accessed with non-200 return code.<a class="anchor-link" href="#What-are-the-top-ten-endpoints-which-did-not-have-return-code-200?-Create-a-sorted-list-containing-top-ten-endpoints-and-the-number-of-times-that-they-were-accessed-with-non-200-return-code.">&#182;</a></h4><h4 id="Think-about-the-steps-that-you-need-to-perform-to-determine-which-endpoints-did-not-have-a-200-return-code,-how-you-will-uniquely-count-those-endpoints,-and-sort-the-list.">Think about the steps that you need to perform to determine which endpoints did not have a 200 return code, how you will uniquely count those endpoints, and sort the list.<a class="anchor-link" href="#Think-about-the-steps-that-you-need-to-perform-to-determine-which-endpoints-did-not-have-a-200-return-code,-how-you-will-uniquely-count-those-endpoints,-and-sort-the-list.">&#182;</a></h4><h4 id="You-might-want-to-refer-back-to-the-previous-Lab-(Lab-1-Word-Count)-for-insights.">You might want to refer back to the previous Lab (Lab 1 Word Count) for insights.<a class="anchor-link" href="#You-might-want-to-refer-back-to-the-previous-Lab-(Lab-1-Word-Count)-for-insights.">&#182;</a></h4>
</div>
</div>
</div>
<div class="cell border-box-sizing code_cell rendered">
<div class="input">
<div class="prompt input_prompt">In&nbsp;[&nbsp;]:</div>
<div class="inner_cell">
    <div class="input_area">
<div class=" highlight hl-ipython3"><pre><span class="c"># TODO: Replace &lt;FILL IN&gt; with appropriate code</span>
<span class="c"># HINT: Each of these &lt;FILL IN&gt; below could be completed with a single transformation or action.</span>
<span class="c"># You are welcome to structure your solution in a different way, so long as</span>
<span class="c"># you ensure the variables used in the next Test section are defined (ie. endpointSum, topTenErrURLs).</span>

<span class="n">not200</span> <span class="o">=</span> <span class="n">access_logs</span><span class="o">.&lt;</span><span class="n">FILL</span> <span class="n">IN</span><span class="o">&gt;</span>

<span class="n">endpointCountPairTuple</span> <span class="o">=</span> <span class="n">not200</span><span class="o">.&lt;</span><span class="n">FILL</span> <span class="n">IN</span><span class="o">&gt;</span>

<span class="n">endpointSum</span> <span class="o">=</span> <span class="n">endpointCountPairTuple</span><span class="o">.&lt;</span><span class="n">FILL</span> <span class="n">IN</span><span class="o">&gt;</span>

<span class="n">topTenErrURLs</span> <span class="o">=</span> <span class="n">endpointSum</span><span class="o">.&lt;</span><span class="n">FILL</span> <span class="n">IN</span><span class="o">&gt;</span>
<span class="nb">print</span> <span class="s">&#39;Top Ten failed URLs: %s&#39;</span> <span class="o">%</span> <span class="n">topTenErrURLs</span>
</pre></div>

</div>
</div>
</div>

</div>
<div class="cell border-box-sizing code_cell rendered">
<div class="input">
<div class="prompt input_prompt">In&nbsp;[&nbsp;]:</div>
<div class="inner_cell">
    <div class="input_area">
<div class=" highlight hl-ipython3"><pre><span class="c"># TEST Top ten error endpoints (3a)</span>
<span class="n">Test</span><span class="o">.</span><span class="n">assertEquals</span><span class="p">(</span><span class="n">endpointSum</span><span class="o">.</span><span class="n">count</span><span class="p">(),</span> <span class="mi">7689</span><span class="p">,</span> <span class="s">&#39;incorrect count for endpointSum&#39;</span><span class="p">)</span>
<span class="n">Test</span><span class="o">.</span><span class="n">assertEquals</span><span class="p">(</span><span class="n">topTenErrURLs</span><span class="p">,</span> <span class="p">[(</span><span class="s">u&#39;/images/NASA-logosmall.gif&#39;</span><span class="p">,</span> <span class="mi">8761</span><span class="p">),</span> <span class="p">(</span><span class="s">u&#39;/images/KSC-logosmall.gif&#39;</span><span class="p">,</span> <span class="mi">7236</span><span class="p">),</span> <span class="p">(</span><span class="s">u&#39;/images/MOSAIC-logosmall.gif&#39;</span><span class="p">,</span> <span class="mi">5197</span><span class="p">),</span> <span class="p">(</span><span class="s">u&#39;/images/USA-logosmall.gif&#39;</span><span class="p">,</span> <span class="mi">5157</span><span class="p">),</span> <span class="p">(</span><span class="s">u&#39;/images/WORLD-logosmall.gif&#39;</span><span class="p">,</span> <span class="mi">5020</span><span class="p">),</span> <span class="p">(</span><span class="s">u&#39;/images/ksclogo-medium.gif&#39;</span><span class="p">,</span> <span class="mi">4728</span><span class="p">),</span> <span class="p">(</span><span class="s">u&#39;/history/apollo/images/apollo-logo1.gif&#39;</span><span class="p">,</span> <span class="mi">2907</span><span class="p">),</span> <span class="p">(</span><span class="s">u&#39;/images/launch-logo.gif&#39;</span><span class="p">,</span> <span class="mi">2811</span><span class="p">),</span> <span class="p">(</span><span class="s">u&#39;/&#39;</span><span class="p">,</span> <span class="mi">2199</span><span class="p">),</span> <span class="p">(</span><span class="s">u&#39;/images/ksclogosmall.gif&#39;</span><span class="p">,</span> <span class="mi">1622</span><span class="p">)],</span> <span class="s">&#39;incorrect Top Ten failed URLs (topTenErrURLs)&#39;</span><span class="p">)</span>
</pre></div>

</div>
</div>
</div>

</div>
<div class="cell border-box-sizing text_cell rendered">
<div class="prompt input_prompt">
</div>
<div class="inner_cell">
<div class="text_cell_render border-box-sizing rendered_html">
<h4 id="(3b)-Exercise:-Number-of-Unique-Hosts"><strong>(3b) Exercise: Number of Unique Hosts</strong><a class="anchor-link" href="#(3b)-Exercise:-Number-of-Unique-Hosts">&#182;</a></h4><h4 id="How-many-unique-hosts-are-there-in-the-entire-log?">How many unique hosts are there in the entire log?<a class="anchor-link" href="#How-many-unique-hosts-are-there-in-the-entire-log?">&#182;</a></h4><h4 id="Think-about-the-steps-that-you-need-to-perform-to-count-the-number-of-different-hosts-in-the-log.">Think about the steps that you need to perform to count the number of different hosts in the log.<a class="anchor-link" href="#Think-about-the-steps-that-you-need-to-perform-to-count-the-number-of-different-hosts-in-the-log.">&#182;</a></h4>
</div>
</div>
</div>
<div class="cell border-box-sizing code_cell rendered">
<div class="input">
<div class="prompt input_prompt">In&nbsp;[&nbsp;]:</div>
<div class="inner_cell">
    <div class="input_area">
<div class=" highlight hl-ipython3"><pre><span class="c"># TODO: Replace &lt;FILL IN&gt; with appropriate code</span>
<span class="c"># HINT: Do you recall the tips from (3a)? Each of these &lt;FILL IN&gt; could be an transformation or action.</span>

<span class="n">hosts</span> <span class="o">=</span> <span class="n">access_logs</span><span class="o">.&lt;</span><span class="n">FILL</span> <span class="n">IN</span><span class="o">&gt;</span>

<span class="n">uniqueHosts</span> <span class="o">=</span> <span class="n">hosts</span><span class="o">.&lt;</span><span class="n">FILL</span> <span class="n">IN</span><span class="o">&gt;</span>

<span class="n">uniqueHostCount</span> <span class="o">=</span> <span class="n">uniqueHosts</span><span class="o">.&lt;</span><span class="n">FILL</span> <span class="n">IN</span><span class="o">&gt;</span>
<span class="nb">print</span> <span class="s">&#39;Unique hosts: %d&#39;</span> <span class="o">%</span> <span class="n">uniqueHostCount</span>
</pre></div>

</div>
</div>
</div>

</div>
<div class="cell border-box-sizing code_cell rendered">
<div class="input">
<div class="prompt input_prompt">In&nbsp;[&nbsp;]:</div>
<div class="inner_cell">
    <div class="input_area">
<div class=" highlight hl-ipython3"><pre><span class="c"># TEST Number of unique hosts (3b)</span>
<span class="n">Test</span><span class="o">.</span><span class="n">assertEquals</span><span class="p">(</span><span class="n">uniqueHostCount</span><span class="p">,</span> <span class="mi">54507</span><span class="p">,</span> <span class="s">&#39;incorrect uniqueHostCount&#39;</span><span class="p">)</span>
</pre></div>

</div>
</div>
</div>

</div>
<div class="cell border-box-sizing text_cell rendered">
<div class="prompt input_prompt">
</div>
<div class="inner_cell">
<div class="text_cell_render border-box-sizing rendered_html">
<h4 id="(3c)-Exercise:-Number-of-Unique-Daily-Hosts"><strong>(3c) Exercise: Number of Unique Daily Hosts</strong><a class="anchor-link" href="#(3c)-Exercise:-Number-of-Unique-Daily-Hosts">&#182;</a></h4><h4 id="For-an-advanced-exercise,-let's-determine-the-number-of-unique-hosts-in-the-entire-log-on-a-day-by-day-basis.-This-computation-will-give-us-counts-of-the-number-of-unique-daily-hosts.-We'd-like-a-list-sorted-by-increasing-day-of-the-month-which-includes-the-day-of-the-month-and-the-associated-number-of-unique-hosts-for-that-day.-Make-sure-you-cache-the-resulting-RDD-dailyHosts-so-that-we-can-reuse-it-in-the-next-exercise.">For an advanced exercise, let's determine the number of unique hosts in the entire log on a day-by-day basis. This computation will give us counts of the number of unique daily hosts. We'd like a list sorted by increasing day of the month which includes the day of the month and the associated number of unique hosts for that day. Make sure you cache the resulting RDD <code>dailyHosts</code> so that we can reuse it in the next exercise.<a class="anchor-link" href="#For-an-advanced-exercise,-let's-determine-the-number-of-unique-hosts-in-the-entire-log-on-a-day-by-day-basis.-This-computation-will-give-us-counts-of-the-number-of-unique-daily-hosts.-We'd-like-a-list-sorted-by-increasing-day-of-the-month-which-includes-the-day-of-the-month-and-the-associated-number-of-unique-hosts-for-that-day.-Make-sure-you-cache-the-resulting-RDD-dailyHosts-so-that-we-can-reuse-it-in-the-next-exercise.">&#182;</a></h4><h4 id="Think-about-the-steps-that-you-need-to-perform-to-count-the-number-of-different-hosts-that-make-requests-each-day.">Think about the steps that you need to perform to count the number of different hosts that make requests <em>each</em> day.<a class="anchor-link" href="#Think-about-the-steps-that-you-need-to-perform-to-count-the-number-of-different-hosts-that-make-requests-each-day.">&#182;</a></h4><h4 id="Since-the-log-only-covers-a-single-month,-you-can-ignore-the-month."><em>Since the log only covers a single month, you can ignore the month.</em><a class="anchor-link" href="#Since-the-log-only-covers-a-single-month,-you-can-ignore-the-month.">&#182;</a></h4>
</div>
</div>
</div>
<div class="cell border-box-sizing code_cell rendered">
<div class="input">
<div class="prompt input_prompt">In&nbsp;[&nbsp;]:</div>
<div class="inner_cell">
    <div class="input_area">
<div class=" highlight hl-ipython3"><pre><span class="c"># TODO: Replace &lt;FILL IN&gt; with appropriate code</span>

<span class="n">dayToHostPairTuple</span> <span class="o">=</span> <span class="n">access_logs</span><span class="o">.&lt;</span><span class="n">FILL</span> <span class="n">IN</span><span class="o">&gt;</span>

<span class="n">dayGroupedHosts</span> <span class="o">=</span> <span class="n">dayToHostPairTuple</span><span class="o">.&lt;</span><span class="n">FILL</span> <span class="n">IN</span><span class="o">&gt;</span>

<span class="n">dayHostCount</span> <span class="o">=</span> <span class="n">dayGroupedHosts</span><span class="o">.&lt;</span><span class="n">FILL</span> <span class="n">IN</span><span class="o">&gt;</span>

<span class="n">dailyHosts</span> <span class="o">=</span> <span class="p">(</span><span class="n">dayHostCount</span>
              <span class="o">&lt;</span><span class="n">FILL</span> <span class="n">IN</span><span class="o">&gt;</span><span class="p">)</span>
<span class="n">dailyHostsList</span> <span class="o">=</span> <span class="n">dailyHosts</span><span class="o">.</span><span class="n">take</span><span class="p">(</span><span class="mi">30</span><span class="p">)</span>
<span class="nb">print</span> <span class="s">&#39;Unique hosts per day: %s&#39;</span> <span class="o">%</span> <span class="n">dailyHostsList</span>
</pre></div>

</div>
</div>
</div>

</div>
<div class="cell border-box-sizing code_cell rendered">
<div class="input">
<div class="prompt input_prompt">In&nbsp;[&nbsp;]:</div>
<div class="inner_cell">
    <div class="input_area">
<div class=" highlight hl-ipython3"><pre><span class="c"># TEST Number of unique daily hosts (3c)</span>
<span class="n">Test</span><span class="o">.</span><span class="n">assertEquals</span><span class="p">(</span><span class="n">dailyHosts</span><span class="o">.</span><span class="n">count</span><span class="p">(),</span> <span class="mi">21</span><span class="p">,</span> <span class="s">&#39;incorrect dailyHosts.count()&#39;</span><span class="p">)</span>
<span class="n">Test</span><span class="o">.</span><span class="n">assertEquals</span><span class="p">(</span><span class="n">dailyHostsList</span><span class="p">,</span> <span class="p">[(</span><span class="mi">1</span><span class="p">,</span> <span class="mi">2582</span><span class="p">),</span> <span class="p">(</span><span class="mi">3</span><span class="p">,</span> <span class="mi">3222</span><span class="p">),</span> <span class="p">(</span><span class="mi">4</span><span class="p">,</span> <span class="mi">4190</span><span class="p">),</span> <span class="p">(</span><span class="mi">5</span><span class="p">,</span> <span class="mi">2502</span><span class="p">),</span> <span class="p">(</span><span class="mi">6</span><span class="p">,</span> <span class="mi">2537</span><span class="p">),</span> <span class="p">(</span><span class="mi">7</span><span class="p">,</span> <span class="mi">4106</span><span class="p">),</span> <span class="p">(</span><span class="mi">8</span><span class="p">,</span> <span class="mi">4406</span><span class="p">),</span> <span class="p">(</span><span class="mi">9</span><span class="p">,</span> <span class="mi">4317</span><span class="p">),</span> <span class="p">(</span><span class="mi">10</span><span class="p">,</span> <span class="mi">4523</span><span class="p">),</span> <span class="p">(</span><span class="mi">11</span><span class="p">,</span> <span class="mi">4346</span><span class="p">),</span> <span class="p">(</span><span class="mi">12</span><span class="p">,</span> <span class="mi">2864</span><span class="p">),</span> <span class="p">(</span><span class="mi">13</span><span class="p">,</span> <span class="mi">2650</span><span class="p">),</span> <span class="p">(</span><span class="mi">14</span><span class="p">,</span> <span class="mi">4454</span><span class="p">),</span> <span class="p">(</span><span class="mi">15</span><span class="p">,</span> <span class="mi">4214</span><span class="p">),</span> <span class="p">(</span><span class="mi">16</span><span class="p">,</span> <span class="mi">4340</span><span class="p">),</span> <span class="p">(</span><span class="mi">17</span><span class="p">,</span> <span class="mi">4385</span><span class="p">),</span> <span class="p">(</span><span class="mi">18</span><span class="p">,</span> <span class="mi">4168</span><span class="p">),</span> <span class="p">(</span><span class="mi">19</span><span class="p">,</span> <span class="mi">2550</span><span class="p">),</span> <span class="p">(</span><span class="mi">20</span><span class="p">,</span> <span class="mi">2560</span><span class="p">),</span> <span class="p">(</span><span class="mi">21</span><span class="p">,</span> <span class="mi">4134</span><span class="p">),</span> <span class="p">(</span><span class="mi">22</span><span class="p">,</span> <span class="mi">4456</span><span class="p">)],</span> <span class="s">&#39;incorrect dailyHostsList&#39;</span><span class="p">)</span>
<span class="n">Test</span><span class="o">.</span><span class="n">assertTrue</span><span class="p">(</span><span class="n">dailyHosts</span><span class="o">.</span><span class="n">is_cached</span><span class="p">,</span> <span class="s">&#39;incorrect dailyHosts.is_cached&#39;</span><span class="p">)</span>
</pre></div>

</div>
</div>
</div>

</div>
<div class="cell border-box-sizing text_cell rendered">
<div class="prompt input_prompt">
</div>
<div class="inner_cell">
<div class="text_cell_render border-box-sizing rendered_html">
<h4 id="(3d)-Exercise:-Visualizing-the-Number-of-Unique-Daily-Hosts"><strong>(3d) Exercise: Visualizing the Number of Unique Daily Hosts</strong><a class="anchor-link" href="#(3d)-Exercise:-Visualizing-the-Number-of-Unique-Daily-Hosts">&#182;</a></h4><h4 id="Using-the-results-from-the-previous-exercise,-use-matplotlib-to-plot-a-&quot;Line&quot;-graph-of-the-unique-hosts-requests-by-day.">Using the results from the previous exercise, use <code>matplotlib</code> to plot a "Line" graph of the unique hosts requests by day.<a class="anchor-link" href="#Using-the-results-from-the-previous-exercise,-use-matplotlib-to-plot-a-&quot;Line&quot;-graph-of-the-unique-hosts-requests-by-day.">&#182;</a></h4><h4 id="daysWithHosts-should-be-a-list-of-days-and-hosts-should-be-a-list-of-number-of-unique-hosts-for-each-corresponding-day."><code>daysWithHosts</code> should be a list of days and <code>hosts</code> should be a list of number of unique hosts for each corresponding day.<a class="anchor-link" href="#daysWithHosts-should-be-a-list-of-days-and-hosts-should-be-a-list-of-number-of-unique-hosts-for-each-corresponding-day.">&#182;</a></h4><h4 id="-How-could-you-convert-a-RDD-into-a-list?-See-the-collect()-method"><em> How could you convert a RDD into a list? See the <a href="http://spark.apache.org/docs/latest/api/python/pyspark.html?highlight=collect#pyspark.RDD.collect"><code>collect()</code> method</a></em><a class="anchor-link" href="#-How-could-you-convert-a-RDD-into-a-list?-See-the-collect()-method">&#182;</a></h4>
</div>
</div>
</div>
<div class="cell border-box-sizing code_cell rendered">
<div class="input">
<div class="prompt input_prompt">In&nbsp;[&nbsp;]:</div>
<div class="inner_cell">
    <div class="input_area">
<div class=" highlight hl-ipython3"><pre><span class="c"># TODO: Replace &lt;FILL IN&gt; with appropriate code</span>

<span class="n">daysWithHosts</span> <span class="o">=</span> <span class="n">dailyHosts</span><span class="o">.&lt;</span><span class="n">FILL</span> <span class="n">IN</span><span class="o">&gt;</span>
<span class="n">hosts</span> <span class="o">=</span> <span class="n">dailyHosts</span><span class="o">.&lt;</span><span class="n">FILL</span> <span class="n">IN</span><span class="o">&gt;</span>
</pre></div>

</div>
</div>
</div>

</div>
<div class="cell border-box-sizing code_cell rendered">
<div class="input">
<div class="prompt input_prompt">In&nbsp;[&nbsp;]:</div>
<div class="inner_cell">
    <div class="input_area">
<div class=" highlight hl-ipython3"><pre><span class="c"># TEST Visualizing unique daily hosts (3d)</span>
<span class="n">test_days</span> <span class="o">=</span> <span class="nb">range</span><span class="p">(</span><span class="mi">1</span><span class="p">,</span> <span class="mi">23</span><span class="p">)</span>
<span class="n">test_days</span><span class="o">.</span><span class="n">remove</span><span class="p">(</span><span class="mi">2</span><span class="p">)</span>
<span class="n">Test</span><span class="o">.</span><span class="n">assertEquals</span><span class="p">(</span><span class="n">daysWithHosts</span><span class="p">,</span> <span class="n">test_days</span><span class="p">,</span> <span class="s">&#39;incorrect days&#39;</span><span class="p">)</span>
<span class="n">Test</span><span class="o">.</span><span class="n">assertEquals</span><span class="p">(</span><span class="n">hosts</span><span class="p">,</span> <span class="p">[</span><span class="mi">2582</span><span class="p">,</span> <span class="mi">3222</span><span class="p">,</span> <span class="mi">4190</span><span class="p">,</span> <span class="mi">2502</span><span class="p">,</span> <span class="mi">2537</span><span class="p">,</span> <span class="mi">4106</span><span class="p">,</span> <span class="mi">4406</span><span class="p">,</span> <span class="mi">4317</span><span class="p">,</span> <span class="mi">4523</span><span class="p">,</span> <span class="mi">4346</span><span class="p">,</span> <span class="mi">2864</span><span class="p">,</span> <span class="mi">2650</span><span class="p">,</span> <span class="mi">4454</span><span class="p">,</span> <span class="mi">4214</span><span class="p">,</span> <span class="mi">4340</span><span class="p">,</span> <span class="mi">4385</span><span class="p">,</span> <span class="mi">4168</span><span class="p">,</span> <span class="mi">2550</span><span class="p">,</span> <span class="mi">2560</span><span class="p">,</span> <span class="mi">4134</span><span class="p">,</span> <span class="mi">4456</span><span class="p">],</span> <span class="s">&#39;incorrect hosts&#39;</span><span class="p">)</span>
</pre></div>

</div>
</div>
</div>

</div>
<div class="cell border-box-sizing code_cell rendered">
<div class="input">
<div class="prompt input_prompt">In&nbsp;[&nbsp;]:</div>
<div class="inner_cell">
    <div class="input_area">
<div class=" highlight hl-ipython3"><pre><span class="n">fig</span> <span class="o">=</span> <span class="n">plt</span><span class="o">.</span><span class="n">figure</span><span class="p">(</span><span class="n">figsize</span><span class="o">=</span><span class="p">(</span><span class="mi">8</span><span class="p">,</span><span class="mf">4.5</span><span class="p">),</span> <span class="n">facecolor</span><span class="o">=</span><span class="s">&#39;white&#39;</span><span class="p">,</span> <span class="n">edgecolor</span><span class="o">=</span><span class="s">&#39;white&#39;</span><span class="p">)</span>
<span class="n">plt</span><span class="o">.</span><span class="n">axis</span><span class="p">([</span><span class="nb">min</span><span class="p">(</span><span class="n">daysWithHosts</span><span class="p">),</span> <span class="nb">max</span><span class="p">(</span><span class="n">daysWithHosts</span><span class="p">),</span> <span class="mi">0</span><span class="p">,</span> <span class="nb">max</span><span class="p">(</span><span class="n">hosts</span><span class="p">)</span><span class="o">+</span><span class="mi">500</span><span class="p">])</span>
<span class="n">plt</span><span class="o">.</span><span class="n">grid</span><span class="p">(</span><span class="n">b</span><span class="o">=</span><span class="k">True</span><span class="p">,</span> <span class="n">which</span><span class="o">=</span><span class="s">&#39;major&#39;</span><span class="p">,</span> <span class="n">axis</span><span class="o">=</span><span class="s">&#39;y&#39;</span><span class="p">)</span>
<span class="n">plt</span><span class="o">.</span><span class="n">xlabel</span><span class="p">(</span><span class="s">&#39;Day&#39;</span><span class="p">)</span>
<span class="n">plt</span><span class="o">.</span><span class="n">ylabel</span><span class="p">(</span><span class="s">&#39;Hosts&#39;</span><span class="p">)</span>
<span class="n">plt</span><span class="o">.</span><span class="n">plot</span><span class="p">(</span><span class="n">daysWithHosts</span><span class="p">,</span> <span class="n">hosts</span><span class="p">)</span>
<span class="k">pass</span>
</pre></div>

</div>
</div>
</div>

</div>
<div class="cell border-box-sizing text_cell rendered">
<div class="prompt input_prompt">
</div>
<div class="inner_cell">
<div class="text_cell_render border-box-sizing rendered_html">
<h4 id="(3e)-Exercise:-Average-Number-of-Daily-Requests-per-Hosts"><strong>(3e) Exercise: Average Number of Daily Requests per Hosts</strong><a class="anchor-link" href="#(3e)-Exercise:-Average-Number-of-Daily-Requests-per-Hosts">&#182;</a></h4><h4 id="Next,-let's-determine-the-average-number-of-requests-on-a-day-by-day-basis.-We'd-like-a-list-by-increasing-day-of-the-month-and-the-associated-average-number-of-requests-per-host-for-that-day.-Make-sure-you-cache-the-resulting-RDD-avgDailyReqPerHost-so-that-we-can-reuse-it-in-the-next-exercise.">Next, let's determine the average number of requests on a day-by-day basis. We'd like a list by increasing day of the month and the associated average number of requests per host for that day. Make sure you cache the resulting RDD <code>avgDailyReqPerHost</code> so that we can reuse it in the next exercise.<a class="anchor-link" href="#Next,-let's-determine-the-average-number-of-requests-on-a-day-by-day-basis.-We'd-like-a-list-by-increasing-day-of-the-month-and-the-associated-average-number-of-requests-per-host-for-that-day.-Make-sure-you-cache-the-resulting-RDD-avgDailyReqPerHost-so-that-we-can-reuse-it-in-the-next-exercise.">&#182;</a></h4><h4 id="To-compute-the-average-number-of-requests-per-host,-get-the-total-number-of-request-across-all-hosts-and-divide-that-by-the-number-of-unique-hosts.">To compute the average number of requests per host, get the total number of request across all hosts and divide that by the number of unique hosts.<a class="anchor-link" href="#To-compute-the-average-number-of-requests-per-host,-get-the-total-number-of-request-across-all-hosts-and-divide-that-by-the-number-of-unique-hosts.">&#182;</a></h4><h4 id="Since-the-log-only-covers-a-single-month,-you-can-skip-checking-for-the-month."><em>Since the log only covers a single month, you can skip checking for the month.</em><a class="anchor-link" href="#Since-the-log-only-covers-a-single-month,-you-can-skip-checking-for-the-month.">&#182;</a></h4><h4 id="Also-to-keep-it-simple,-when-calculating-the-approximate-average-use-the-integer-value---you-do-not-need-to-upcast-to-float"><em>Also to keep it simple, when calculating the approximate average use the integer value - you do not need to upcast to float</em><a class="anchor-link" href="#Also-to-keep-it-simple,-when-calculating-the-approximate-average-use-the-integer-value---you-do-not-need-to-upcast-to-float">&#182;</a></h4>
</div>
</div>
</div>
<div class="cell border-box-sizing code_cell rendered">
<div class="input">
<div class="prompt input_prompt">In&nbsp;[&nbsp;]:</div>
<div class="inner_cell">
    <div class="input_area">
<div class=" highlight hl-ipython3"><pre><span class="c"># TODO: Replace &lt;FILL IN&gt; with appropriate code</span>

<span class="n">dayAndHostTuple</span> <span class="o">=</span> <span class="n">access_logs</span><span class="o">.&lt;</span><span class="n">FILL</span> <span class="n">IN</span><span class="o">&gt;</span>

<span class="n">groupedByDay</span> <span class="o">=</span> <span class="n">dayAndHostTuple</span><span class="o">.&lt;</span><span class="n">FILL</span> <span class="n">IN</span><span class="o">&gt;</span>

<span class="n">sortedByDay</span> <span class="o">=</span> <span class="n">groupedByDay</span><span class="o">.&lt;</span><span class="n">FILL</span> <span class="n">IN</span><span class="o">&gt;</span>

<span class="n">avgDailyReqPerHost</span> <span class="o">=</span> <span class="p">(</span><span class="n">sortedByDay</span>
                      <span class="o">&lt;</span><span class="n">FILL</span> <span class="n">IN</span><span class="o">&gt;</span><span class="p">)</span>
<span class="n">avgDailyReqPerHostList</span> <span class="o">=</span> <span class="n">avgDailyReqPerHost</span><span class="o">.</span><span class="n">take</span><span class="p">(</span><span class="mi">30</span><span class="p">)</span>
<span class="nb">print</span> <span class="s">&#39;Average number of daily requests per Hosts is %s&#39;</span> <span class="o">%</span> <span class="n">avgDailyReqPerHostList</span>
</pre></div>

</div>
</div>
</div>

</div>
<div class="cell border-box-sizing code_cell rendered">
<div class="input">
<div class="prompt input_prompt">In&nbsp;[&nbsp;]:</div>
<div class="inner_cell">
    <div class="input_area">
<div class=" highlight hl-ipython3"><pre><span class="c"># TEST Average number of daily requests per hosts (3e)</span>
<span class="n">Test</span><span class="o">.</span><span class="n">assertEquals</span><span class="p">(</span><span class="n">avgDailyReqPerHostList</span><span class="p">,</span> <span class="p">[(</span><span class="mi">1</span><span class="p">,</span> <span class="mi">13</span><span class="p">),</span> <span class="p">(</span><span class="mi">3</span><span class="p">,</span> <span class="mi">12</span><span class="p">),</span> <span class="p">(</span><span class="mi">4</span><span class="p">,</span> <span class="mi">14</span><span class="p">),</span> <span class="p">(</span><span class="mi">5</span><span class="p">,</span> <span class="mi">12</span><span class="p">),</span> <span class="p">(</span><span class="mi">6</span><span class="p">,</span> <span class="mi">12</span><span class="p">),</span> <span class="p">(</span><span class="mi">7</span><span class="p">,</span> <span class="mi">13</span><span class="p">),</span> <span class="p">(</span><span class="mi">8</span><span class="p">,</span> <span class="mi">13</span><span class="p">),</span> <span class="p">(</span><span class="mi">9</span><span class="p">,</span> <span class="mi">14</span><span class="p">),</span> <span class="p">(</span><span class="mi">10</span><span class="p">,</span> <span class="mi">13</span><span class="p">),</span> <span class="p">(</span><span class="mi">11</span><span class="p">,</span> <span class="mi">14</span><span class="p">),</span> <span class="p">(</span><span class="mi">12</span><span class="p">,</span> <span class="mi">13</span><span class="p">),</span> <span class="p">(</span><span class="mi">13</span><span class="p">,</span> <span class="mi">13</span><span class="p">),</span> <span class="p">(</span><span class="mi">14</span><span class="p">,</span> <span class="mi">13</span><span class="p">),</span> <span class="p">(</span><span class="mi">15</span><span class="p">,</span> <span class="mi">13</span><span class="p">),</span> <span class="p">(</span><span class="mi">16</span><span class="p">,</span> <span class="mi">13</span><span class="p">),</span> <span class="p">(</span><span class="mi">17</span><span class="p">,</span> <span class="mi">13</span><span class="p">),</span> <span class="p">(</span><span class="mi">18</span><span class="p">,</span> <span class="mi">13</span><span class="p">),</span> <span class="p">(</span><span class="mi">19</span><span class="p">,</span> <span class="mi">12</span><span class="p">),</span> <span class="p">(</span><span class="mi">20</span><span class="p">,</span> <span class="mi">12</span><span class="p">),</span> <span class="p">(</span><span class="mi">21</span><span class="p">,</span> <span class="mi">13</span><span class="p">),</span> <span class="p">(</span><span class="mi">22</span><span class="p">,</span> <span class="mi">12</span><span class="p">)],</span> <span class="s">&#39;incorrect avgDailyReqPerHostList&#39;</span><span class="p">)</span>
<span class="n">Test</span><span class="o">.</span><span class="n">assertTrue</span><span class="p">(</span><span class="n">avgDailyReqPerHost</span><span class="o">.</span><span class="n">is_cached</span><span class="p">,</span> <span class="s">&#39;incorrect avgDailyReqPerHost.is_cache&#39;</span><span class="p">)</span>
</pre></div>

</div>
</div>
</div>

</div>
<div class="cell border-box-sizing text_cell rendered">
<div class="prompt input_prompt">
</div>
<div class="inner_cell">
<div class="text_cell_render border-box-sizing rendered_html">
<h4 id="(3f)-Exercise:-Visualizing-the-Average-Daily-Requests-per-Unique-Host"><strong>(3f) Exercise: Visualizing the Average Daily Requests per Unique Host</strong><a class="anchor-link" href="#(3f)-Exercise:-Visualizing-the-Average-Daily-Requests-per-Unique-Host">&#182;</a></h4><h4 id="Using-the-result-avgDailyReqPerHost-from-the-previous-exercise,-use-matplotlib-to-plot-a-&quot;Line&quot;-graph-of-the-average-daily-requests-per-unique-host-by-day.">Using the result <code>avgDailyReqPerHost</code> from the previous exercise, use <code>matplotlib</code> to plot a "Line" graph of the average daily requests per unique host by day.<a class="anchor-link" href="#Using-the-result-avgDailyReqPerHost-from-the-previous-exercise,-use-matplotlib-to-plot-a-&quot;Line&quot;-graph-of-the-average-daily-requests-per-unique-host-by-day.">&#182;</a></h4><h4 id="daysWithAvg-should-be-a-list-of-days-and-avgs-should-be-a-list-of-average-daily-requests-per-unique-hosts-for-each-corresponding-day."><code>daysWithAvg</code> should be a list of days and <code>avgs</code> should be a list of average daily requests per unique hosts for each corresponding day.<a class="anchor-link" href="#daysWithAvg-should-be-a-list-of-days-and-avgs-should-be-a-list-of-average-daily-requests-per-unique-hosts-for-each-corresponding-day.">&#182;</a></h4>
</div>
</div>
</div>
<div class="cell border-box-sizing code_cell rendered">
<div class="input">
<div class="prompt input_prompt">In&nbsp;[&nbsp;]:</div>
<div class="inner_cell">
    <div class="input_area">
<div class=" highlight hl-ipython3"><pre><span class="c"># TODO: Replace &lt;FILL IN&gt; with appropriate code</span>

<span class="n">daysWithAvg</span> <span class="o">=</span> <span class="n">avgDailyReqPerHost</span><span class="o">.&lt;</span><span class="n">FILL</span> <span class="n">IN</span><span class="o">&gt;</span>
<span class="n">avgs</span> <span class="o">=</span> <span class="n">avgDailyReqPerHost</span><span class="o">.&lt;</span><span class="n">FILL</span> <span class="n">IN</span><span class="o">&gt;</span>
</pre></div>

</div>
</div>
</div>

</div>
<div class="cell border-box-sizing code_cell rendered">
<div class="input">
<div class="prompt input_prompt">In&nbsp;[&nbsp;]:</div>
<div class="inner_cell">
    <div class="input_area">
<div class=" highlight hl-ipython3"><pre><span class="c"># TEST Average Daily Requests per Unique Host (3f)</span>
<span class="n">Test</span><span class="o">.</span><span class="n">assertEquals</span><span class="p">(</span><span class="n">daysWithAvg</span><span class="p">,</span> <span class="p">[</span><span class="mi">1</span><span class="p">,</span> <span class="mi">3</span><span class="p">,</span> <span class="mi">4</span><span class="p">,</span> <span class="mi">5</span><span class="p">,</span> <span class="mi">6</span><span class="p">,</span> <span class="mi">7</span><span class="p">,</span> <span class="mi">8</span><span class="p">,</span> <span class="mi">9</span><span class="p">,</span> <span class="mi">10</span><span class="p">,</span> <span class="mi">11</span><span class="p">,</span> <span class="mi">12</span><span class="p">,</span> <span class="mi">13</span><span class="p">,</span> <span class="mi">14</span><span class="p">,</span> <span class="mi">15</span><span class="p">,</span> <span class="mi">16</span><span class="p">,</span> <span class="mi">17</span><span class="p">,</span> <span class="mi">18</span><span class="p">,</span> <span class="mi">19</span><span class="p">,</span> <span class="mi">20</span><span class="p">,</span> <span class="mi">21</span><span class="p">,</span> <span class="mi">22</span><span class="p">],</span> <span class="s">&#39;incorrect days&#39;</span><span class="p">)</span>
<span class="n">Test</span><span class="o">.</span><span class="n">assertEquals</span><span class="p">(</span><span class="n">avgs</span><span class="p">,</span> <span class="p">[</span><span class="mi">13</span><span class="p">,</span> <span class="mi">12</span><span class="p">,</span> <span class="mi">14</span><span class="p">,</span> <span class="mi">12</span><span class="p">,</span> <span class="mi">12</span><span class="p">,</span> <span class="mi">13</span><span class="p">,</span> <span class="mi">13</span><span class="p">,</span> <span class="mi">14</span><span class="p">,</span> <span class="mi">13</span><span class="p">,</span> <span class="mi">14</span><span class="p">,</span> <span class="mi">13</span><span class="p">,</span> <span class="mi">13</span><span class="p">,</span> <span class="mi">13</span><span class="p">,</span> <span class="mi">13</span><span class="p">,</span> <span class="mi">13</span><span class="p">,</span> <span class="mi">13</span><span class="p">,</span> <span class="mi">13</span><span class="p">,</span> <span class="mi">12</span><span class="p">,</span> <span class="mi">12</span><span class="p">,</span> <span class="mi">13</span><span class="p">,</span> <span class="mi">12</span><span class="p">],</span> <span class="s">&#39;incorrect avgs&#39;</span><span class="p">)</span>
</pre></div>

</div>
</div>
</div>

</div>
<div class="cell border-box-sizing code_cell rendered">
<div class="input">
<div class="prompt input_prompt">In&nbsp;[&nbsp;]:</div>
<div class="inner_cell">
    <div class="input_area">
<div class=" highlight hl-ipython3"><pre><span class="n">fig</span> <span class="o">=</span> <span class="n">plt</span><span class="o">.</span><span class="n">figure</span><span class="p">(</span><span class="n">figsize</span><span class="o">=</span><span class="p">(</span><span class="mi">8</span><span class="p">,</span><span class="mf">4.2</span><span class="p">),</span> <span class="n">facecolor</span><span class="o">=</span><span class="s">&#39;white&#39;</span><span class="p">,</span> <span class="n">edgecolor</span><span class="o">=</span><span class="s">&#39;white&#39;</span><span class="p">)</span>
<span class="n">plt</span><span class="o">.</span><span class="n">axis</span><span class="p">([</span><span class="mi">0</span><span class="p">,</span> <span class="nb">max</span><span class="p">(</span><span class="n">daysWithAvg</span><span class="p">),</span> <span class="mi">0</span><span class="p">,</span> <span class="nb">max</span><span class="p">(</span><span class="n">avgs</span><span class="p">)</span><span class="o">+</span><span class="mi">2</span><span class="p">])</span>
<span class="n">plt</span><span class="o">.</span><span class="n">grid</span><span class="p">(</span><span class="n">b</span><span class="o">=</span><span class="k">True</span><span class="p">,</span> <span class="n">which</span><span class="o">=</span><span class="s">&#39;major&#39;</span><span class="p">,</span> <span class="n">axis</span><span class="o">=</span><span class="s">&#39;y&#39;</span><span class="p">)</span>
<span class="n">plt</span><span class="o">.</span><span class="n">xlabel</span><span class="p">(</span><span class="s">&#39;Day&#39;</span><span class="p">)</span>
<span class="n">plt</span><span class="o">.</span><span class="n">ylabel</span><span class="p">(</span><span class="s">&#39;Average&#39;</span><span class="p">)</span>
<span class="n">plt</span><span class="o">.</span><span class="n">plot</span><span class="p">(</span><span class="n">daysWithAvg</span><span class="p">,</span> <span class="n">avgs</span><span class="p">)</span>
<span class="k">pass</span>
</pre></div>

</div>
</div>
</div>

</div>
<div class="cell border-box-sizing text_cell rendered">
<div class="prompt input_prompt">
</div>
<div class="inner_cell">
<div class="text_cell_render border-box-sizing rendered_html">
<h3 id="Part-4:-Exploring-404-Response-Codes"><strong>Part 4: Exploring 404 Response Codes</strong><a class="anchor-link" href="#Part-4:-Exploring-404-Response-Codes">&#182;</a></h3><h4 id="Let's-drill-down-and-explore-the-error-404-response-code-records.-404-errors-are-returned-when-an-endpoint-is-not-found-by-the-server-(i.e.,-a-missing-page-or-object).">Let's drill down and explore the error 404 response code records. 404 errors are returned when an endpoint is not found by the server (i.e., a missing page or object).<a class="anchor-link" href="#Let's-drill-down-and-explore-the-error-404-response-code-records.-404-errors-are-returned-when-an-endpoint-is-not-found-by-the-server-(i.e.,-a-missing-page-or-object).">&#182;</a></h4>
</div>
</div>
</div>
<div class="cell border-box-sizing text_cell rendered">
<div class="prompt input_prompt">
</div>
<div class="inner_cell">
<div class="text_cell_render border-box-sizing rendered_html">
<h4 id="(4a)-Exercise:-Counting-404-Response-Codes"><strong>(4a) Exercise: Counting 404 Response Codes</strong><a class="anchor-link" href="#(4a)-Exercise:-Counting-404-Response-Codes">&#182;</a></h4><h4 id="Create-a-RDD-containing-only-log-records-with-a-404-response-code.-Make-sure-you-cache()-the-RDD-badRecords-as-we-will-use-it-in-the-rest-of-this-exercise.">Create a RDD containing only log records with a 404 response code. Make sure you <code>cache()</code> the RDD <code>badRecords</code> as we will use it in the rest of this exercise.<a class="anchor-link" href="#Create-a-RDD-containing-only-log-records-with-a-404-response-code.-Make-sure-you-cache()-the-RDD-badRecords-as-we-will-use-it-in-the-rest-of-this-exercise.">&#182;</a></h4><h4 id="How-many-404-records-are-in-the-log?">How many 404 records are in the log?<a class="anchor-link" href="#How-many-404-records-are-in-the-log?">&#182;</a></h4>
</div>
</div>
</div>
<div class="cell border-box-sizing code_cell rendered">
<div class="input">
<div class="prompt input_prompt">In&nbsp;[&nbsp;]:</div>
<div class="inner_cell">
    <div class="input_area">
<div class=" highlight hl-ipython3"><pre><span class="c"># TODO: Replace &lt;FILL IN&gt; with appropriate code</span>

<span class="n">badRecords</span> <span class="o">=</span> <span class="p">(</span><span class="n">access_logs</span>
              <span class="o">&lt;</span><span class="n">FILL</span> <span class="n">IN</span><span class="o">&gt;</span><span class="p">)</span>
<span class="nb">print</span> <span class="s">&#39;Found %d 404 URLs&#39;</span> <span class="o">%</span> <span class="n">badRecords</span><span class="o">.</span><span class="n">count</span><span class="p">()</span>
</pre></div>

</div>
</div>
</div>

</div>
<div class="cell border-box-sizing code_cell rendered">
<div class="input">
<div class="prompt input_prompt">In&nbsp;[&nbsp;]:</div>
<div class="inner_cell">
    <div class="input_area">
<div class=" highlight hl-ipython3"><pre><span class="c"># TEST Counting 404 (4a)</span>
<span class="n">Test</span><span class="o">.</span><span class="n">assertEquals</span><span class="p">(</span><span class="n">badRecords</span><span class="o">.</span><span class="n">count</span><span class="p">(),</span> <span class="mi">6185</span><span class="p">,</span> <span class="s">&#39;incorrect badRecords.count()&#39;</span><span class="p">)</span>
<span class="n">Test</span><span class="o">.</span><span class="n">assertTrue</span><span class="p">(</span><span class="n">badRecords</span><span class="o">.</span><span class="n">is_cached</span><span class="p">,</span> <span class="s">&#39;incorrect badRecords.is_cached&#39;</span><span class="p">)</span>
</pre></div>

</div>
</div>
</div>

</div>
<div class="cell border-box-sizing text_cell rendered">
<div class="prompt input_prompt">
</div>
<div class="inner_cell">
<div class="text_cell_render border-box-sizing rendered_html">
<h4 id="(4b)-Exercise:-Listing-404-Response-Code-Records"><strong>(4b) Exercise: Listing 404 Response Code Records</strong><a class="anchor-link" href="#(4b)-Exercise:-Listing-404-Response-Code-Records">&#182;</a></h4><h4 id="Using-the-RDD-containing-only-log-records-with-a-404-response-code-that-you-cached-in-part-(4a),-print-out-a-list-up-to-40-distinct-endpoints-that-generate-404-errors----no-endpoint-should-appear-more-than-once-in-your-list.">Using the RDD containing only log records with a 404 response code that you cached in part (4a), print out a list up to 40 <strong>distinct</strong> endpoints that generate 404 errors -  <em>no endpoint should appear more than once in your list.</em><a class="anchor-link" href="#Using-the-RDD-containing-only-log-records-with-a-404-response-code-that-you-cached-in-part-(4a),-print-out-a-list-up-to-40-distinct-endpoints-that-generate-404-errors----no-endpoint-should-appear-more-than-once-in-your-list.">&#182;</a></h4>
</div>
</div>
</div>
<div class="cell border-box-sizing code_cell rendered">
<div class="input">
<div class="prompt input_prompt">In&nbsp;[&nbsp;]:</div>
<div class="inner_cell">
    <div class="input_area">
<div class=" highlight hl-ipython3"><pre><span class="c"># TODO: Replace &lt;FILL IN&gt; with appropriate code</span>

<span class="n">badEndpoints</span> <span class="o">=</span> <span class="n">badRecords</span><span class="o">.&lt;</span><span class="n">FILL</span> <span class="n">IN</span><span class="o">&gt;</span>

<span class="n">badUniqueEndpoints</span> <span class="o">=</span> <span class="n">badEndpoints</span><span class="o">.&lt;</span><span class="n">FILL</span> <span class="n">IN</span><span class="o">&gt;</span>

<span class="n">badUniqueEndpointsPick40</span> <span class="o">=</span> <span class="n">badUniqueEndpoints</span><span class="o">.</span><span class="n">take</span><span class="p">(</span><span class="mi">40</span><span class="p">)</span>
<span class="nb">print</span> <span class="s">&#39;404 URLS: %s&#39;</span> <span class="o">%</span> <span class="n">badUniqueEndpointsPick40</span>
</pre></div>

</div>
</div>
</div>

</div>
<div class="cell border-box-sizing code_cell rendered">
<div class="input">
<div class="prompt input_prompt">In&nbsp;[&nbsp;]:</div>
<div class="inner_cell">
    <div class="input_area">
<div class=" highlight hl-ipython3"><pre><span class="c"># TEST Listing 404 records (4b)</span>

<span class="n">badUniqueEndpointsSet40</span> <span class="o">=</span> <span class="nb">set</span><span class="p">(</span><span class="n">badUniqueEndpointsPick40</span><span class="p">)</span>
<span class="n">Test</span><span class="o">.</span><span class="n">assertEquals</span><span class="p">(</span><span class="nb">len</span><span class="p">(</span><span class="n">badUniqueEndpointsSet40</span><span class="p">),</span> <span class="mi">40</span><span class="p">,</span> <span class="s">&#39;badUniqueEndpointsPick40 not distinct&#39;</span><span class="p">)</span>
</pre></div>

</div>
</div>
</div>

</div>
<div class="cell border-box-sizing text_cell rendered">
<div class="prompt input_prompt">
</div>
<div class="inner_cell">
<div class="text_cell_render border-box-sizing rendered_html">
<h4 id="(4c)-Exercise:-Listing-the-Top-Twenty-404-Response-Code-Endpoints"><strong>(4c) Exercise: Listing the Top Twenty 404 Response Code Endpoints</strong><a class="anchor-link" href="#(4c)-Exercise:-Listing-the-Top-Twenty-404-Response-Code-Endpoints">&#182;</a></h4><h4 id="Using-the-RDD-containing-only-log-records-with-a-404-response-code-that-you-cached-in-part-(4a),-print-out-a-list-of-the-top-twenty-endpoints-that-generate-the-most-404-errors.">Using the RDD containing only log records with a 404 response code that you cached in part (4a), print out a list of the top twenty endpoints that generate the most 404 errors.<a class="anchor-link" href="#Using-the-RDD-containing-only-log-records-with-a-404-response-code-that-you-cached-in-part-(4a),-print-out-a-list-of-the-top-twenty-endpoints-that-generate-the-most-404-errors.">&#182;</a></h4><h4 id="Remember,-top-endpoints-should-be-in-sorted-order"><em>Remember, top endpoints should be in sorted order</em><a class="anchor-link" href="#Remember,-top-endpoints-should-be-in-sorted-order">&#182;</a></h4>
</div>
</div>
</div>
<div class="cell border-box-sizing code_cell rendered">
<div class="input">
<div class="prompt input_prompt">In&nbsp;[&nbsp;]:</div>
<div class="inner_cell">
    <div class="input_area">
<div class=" highlight hl-ipython3"><pre><span class="c"># TODO: Replace &lt;FILL IN&gt; with appropriate code</span>

<span class="n">badEndpointsCountPairTuple</span> <span class="o">=</span> <span class="n">badRecords</span><span class="o">.&lt;</span><span class="n">FILL</span> <span class="n">IN</span><span class="o">&gt;</span>

<span class="n">badEndpointsSum</span> <span class="o">=</span> <span class="n">badEndpointsCountPairTuple</span><span class="o">.&lt;</span><span class="n">FILL</span> <span class="n">IN</span><span class="o">&gt;</span>

<span class="n">badEndpointsTop20</span> <span class="o">=</span> <span class="n">badEndpointsSum</span><span class="o">.&lt;</span><span class="n">FILL</span> <span class="n">IN</span><span class="o">&gt;</span>
<span class="nb">print</span> <span class="s">&#39;Top Twenty 404 URLs: %s&#39;</span> <span class="o">%</span> <span class="n">badEndpointsTop20</span>
</pre></div>

</div>
</div>
</div>

</div>
<div class="cell border-box-sizing code_cell rendered">
<div class="input">
<div class="prompt input_prompt">In&nbsp;[&nbsp;]:</div>
<div class="inner_cell">
    <div class="input_area">
<div class=" highlight hl-ipython3"><pre><span class="c"># TEST Top twenty 404 URLs (4c)</span>
<span class="n">Test</span><span class="o">.</span><span class="n">assertEquals</span><span class="p">(</span><span class="n">badEndpointsTop20</span><span class="p">,</span> <span class="p">[(</span><span class="s">u&#39;/pub/winvn/readme.txt&#39;</span><span class="p">,</span> <span class="mi">633</span><span class="p">),</span> <span class="p">(</span><span class="s">u&#39;/pub/winvn/release.txt&#39;</span><span class="p">,</span> <span class="mi">494</span><span class="p">),</span> <span class="p">(</span><span class="s">u&#39;/shuttle/missions/STS-69/mission-STS-69.html&#39;</span><span class="p">,</span> <span class="mi">431</span><span class="p">),</span> <span class="p">(</span><span class="s">u&#39;/images/nasa-logo.gif&#39;</span><span class="p">,</span> <span class="mi">319</span><span class="p">),</span> <span class="p">(</span><span class="s">u&#39;/elv/DELTA/uncons.htm&#39;</span><span class="p">,</span> <span class="mi">178</span><span class="p">),</span> <span class="p">(</span><span class="s">u&#39;/shuttle/missions/sts-68/ksc-upclose.gif&#39;</span><span class="p">,</span> <span class="mi">156</span><span class="p">),</span> <span class="p">(</span><span class="s">u&#39;/history/apollo/sa-1/sa-1-patch-small.gif&#39;</span><span class="p">,</span> <span class="mi">146</span><span class="p">),</span> <span class="p">(</span><span class="s">u&#39;/images/crawlerway-logo.gif&#39;</span><span class="p">,</span> <span class="mi">120</span><span class="p">),</span> <span class="p">(</span><span class="s">u&#39;/://spacelink.msfc.nasa.gov&#39;</span><span class="p">,</span> <span class="mi">117</span><span class="p">),</span> <span class="p">(</span><span class="s">u&#39;/history/apollo/pad-abort-test-1/pad-abort-test-1-patch-small.gif&#39;</span><span class="p">,</span> <span class="mi">100</span><span class="p">),</span> <span class="p">(</span><span class="s">u&#39;/history/apollo/a-001/a-001-patch-small.gif&#39;</span><span class="p">,</span> <span class="mi">97</span><span class="p">),</span> <span class="p">(</span><span class="s">u&#39;/images/Nasa-logo.gif&#39;</span><span class="p">,</span> <span class="mi">85</span><span class="p">),</span> <span class="p">(</span><span class="s">u&#39;/shuttle/resources/orbiters/atlantis.gif&#39;</span><span class="p">,</span> <span class="mi">64</span><span class="p">),</span> <span class="p">(</span><span class="s">u&#39;/history/apollo/images/little-joe.jpg&#39;</span><span class="p">,</span> <span class="mi">62</span><span class="p">),</span> <span class="p">(</span><span class="s">u&#39;/images/lf-logo.gif&#39;</span><span class="p">,</span> <span class="mi">59</span><span class="p">),</span> <span class="p">(</span><span class="s">u&#39;/shuttle/resources/orbiters/discovery.gif&#39;</span><span class="p">,</span> <span class="mi">56</span><span class="p">),</span> <span class="p">(</span><span class="s">u&#39;/shuttle/resources/orbiters/challenger.gif&#39;</span><span class="p">,</span> <span class="mi">54</span><span class="p">),</span> <span class="p">(</span><span class="s">u&#39;/robots.txt&#39;</span><span class="p">,</span> <span class="mi">53</span><span class="p">),</span> <span class="p">(</span><span class="s">u&#39;/elv/new01.gif&gt;&#39;</span><span class="p">,</span> <span class="mi">43</span><span class="p">),</span> <span class="p">(</span><span class="s">u&#39;/history/apollo/pad-abort-test-2/pad-abort-test-2-patch-small.gif&#39;</span><span class="p">,</span> <span class="mi">38</span><span class="p">)],</span> <span class="s">&#39;incorrect badEndpointsTop20&#39;</span><span class="p">)</span>
</pre></div>

</div>
</div>
</div>

</div>
<div class="cell border-box-sizing text_cell rendered">
<div class="prompt input_prompt">
</div>
<div class="inner_cell">
<div class="text_cell_render border-box-sizing rendered_html">
<h4 id="(4d)-Exercise:-Listing-the-Top-Twenty-five-404-Response-Code-Hosts"><strong>(4d) Exercise: Listing the Top Twenty-five 404 Response Code Hosts</strong><a class="anchor-link" href="#(4d)-Exercise:-Listing-the-Top-Twenty-five-404-Response-Code-Hosts">&#182;</a></h4><h4 id="Instead-of-looking-at-the-endpoints-that-generated-404-errors,-let's-look-at-the-hosts-that-encountered-404-errors.-Using-the-RDD-containing-only-log-records-with-a-404-response-code-that-you-cached-in-part-(4a),-print-out-a-list-of-the-top-twenty-five-hosts-that-generate-the-most-404-errors.">Instead of looking at the endpoints that generated 404 errors, let's look at the hosts that encountered 404 errors. Using the RDD containing only log records with a 404 response code that you cached in part (4a), print out a list of the top twenty-five hosts that generate the most 404 errors.<a class="anchor-link" href="#Instead-of-looking-at-the-endpoints-that-generated-404-errors,-let's-look-at-the-hosts-that-encountered-404-errors.-Using-the-RDD-containing-only-log-records-with-a-404-response-code-that-you-cached-in-part-(4a),-print-out-a-list-of-the-top-twenty-five-hosts-that-generate-the-most-404-errors.">&#182;</a></h4>
</div>
</div>
</div>
<div class="cell border-box-sizing code_cell rendered">
<div class="input">
<div class="prompt input_prompt">In&nbsp;[&nbsp;]:</div>
<div class="inner_cell">
    <div class="input_area">
<div class=" highlight hl-ipython3"><pre><span class="c"># TODO: Replace &lt;FILL IN&gt; with appropriate code</span>

<span class="n">errHostsCountPairTuple</span> <span class="o">=</span> <span class="n">badRecords</span><span class="o">.&lt;</span><span class="n">FILL</span> <span class="n">IN</span><span class="o">&gt;</span>

<span class="n">errHostsSum</span> <span class="o">=</span> <span class="n">errHostsCountPairTuple</span><span class="o">.&lt;</span><span class="n">FILL</span> <span class="n">IN</span><span class="o">&gt;</span>

<span class="n">errHostsTop25</span> <span class="o">=</span> <span class="n">errHostsSum</span><span class="o">.&lt;</span><span class="n">FILL</span> <span class="n">IN</span><span class="o">&gt;</span>
<span class="nb">print</span> <span class="s">&#39;Top 25 hosts that generated errors: %s&#39;</span> <span class="o">%</span> <span class="n">errHostsTop25</span>
</pre></div>

</div>
</div>
</div>

</div>
<div class="cell border-box-sizing code_cell rendered">
<div class="input">
<div class="prompt input_prompt">In&nbsp;[&nbsp;]:</div>
<div class="inner_cell">
    <div class="input_area">
<div class=" highlight hl-ipython3"><pre><span class="c"># TEST Top twenty-five 404 response code hosts (4d)</span>

<span class="n">Test</span><span class="o">.</span><span class="n">assertEquals</span><span class="p">(</span><span class="nb">len</span><span class="p">(</span><span class="n">errHostsTop25</span><span class="p">),</span> <span class="mi">25</span><span class="p">,</span> <span class="s">&#39;length of errHostsTop25 is not 25&#39;</span><span class="p">)</span>
<span class="n">Test</span><span class="o">.</span><span class="n">assertEquals</span><span class="p">(</span><span class="nb">len</span><span class="p">(</span><span class="nb">set</span><span class="p">(</span><span class="n">errHostsTop25</span><span class="p">)</span> <span class="o">-</span> <span class="nb">set</span><span class="p">([(</span><span class="s">u&#39;maz3.maz.net&#39;</span><span class="p">,</span> <span class="mi">39</span><span class="p">),</span> <span class="p">(</span><span class="s">u&#39;piweba3y.prodigy.com&#39;</span><span class="p">,</span> <span class="mi">39</span><span class="p">),</span> <span class="p">(</span><span class="s">u&#39;gate.barr.com&#39;</span><span class="p">,</span> <span class="mi">38</span><span class="p">),</span> <span class="p">(</span><span class="s">u&#39;m38-370-9.mit.edu&#39;</span><span class="p">,</span> <span class="mi">37</span><span class="p">),</span> <span class="p">(</span><span class="s">u&#39;ts8-1.westwood.ts.ucla.edu&#39;</span><span class="p">,</span> <span class="mi">37</span><span class="p">),</span> <span class="p">(</span><span class="s">u&#39;nexus.mlckew.edu.au&#39;</span><span class="p">,</span> <span class="mi">37</span><span class="p">),</span> <span class="p">(</span><span class="s">u&#39;204.62.245.32&#39;</span><span class="p">,</span> <span class="mi">33</span><span class="p">),</span> <span class="p">(</span><span class="s">u&#39;163.206.104.34&#39;</span><span class="p">,</span> <span class="mi">27</span><span class="p">),</span> <span class="p">(</span><span class="s">u&#39;spica.sci.isas.ac.jp&#39;</span><span class="p">,</span> <span class="mi">27</span><span class="p">),</span> <span class="p">(</span><span class="s">u&#39;www-d4.proxy.aol.com&#39;</span><span class="p">,</span> <span class="mi">26</span><span class="p">),</span> <span class="p">(</span><span class="s">u&#39;www-c4.proxy.aol.com&#39;</span><span class="p">,</span> <span class="mi">25</span><span class="p">),</span> <span class="p">(</span><span class="s">u&#39;203.13.168.24&#39;</span><span class="p">,</span> <span class="mi">25</span><span class="p">),</span> <span class="p">(</span><span class="s">u&#39;203.13.168.17&#39;</span><span class="p">,</span> <span class="mi">25</span><span class="p">),</span> <span class="p">(</span><span class="s">u&#39;internet-gw.watson.ibm.com&#39;</span><span class="p">,</span> <span class="mi">24</span><span class="p">),</span> <span class="p">(</span><span class="s">u&#39;scooter.pa-x.dec.com&#39;</span><span class="p">,</span> <span class="mi">23</span><span class="p">),</span> <span class="p">(</span><span class="s">u&#39;crl5.crl.com&#39;</span><span class="p">,</span> <span class="mi">23</span><span class="p">),</span> <span class="p">(</span><span class="s">u&#39;piweba5y.prodigy.com&#39;</span><span class="p">,</span> <span class="mi">23</span><span class="p">),</span> <span class="p">(</span><span class="s">u&#39;onramp2-9.onr.com&#39;</span><span class="p">,</span> <span class="mi">22</span><span class="p">),</span> <span class="p">(</span><span class="s">u&#39;slip145-189.ut.nl.ibm.net&#39;</span><span class="p">,</span> <span class="mi">22</span><span class="p">),</span> <span class="p">(</span><span class="s">u&#39;198.40.25.102.sap2.artic.edu&#39;</span><span class="p">,</span> <span class="mi">21</span><span class="p">),</span> <span class="p">(</span><span class="s">u&#39;gn2.getnet.com&#39;</span><span class="p">,</span> <span class="mi">20</span><span class="p">),</span> <span class="p">(</span><span class="s">u&#39;msp1-16.nas.mr.net&#39;</span><span class="p">,</span> <span class="mi">20</span><span class="p">),</span> <span class="p">(</span><span class="s">u&#39;isou24.vilspa.esa.es&#39;</span><span class="p">,</span> <span class="mi">19</span><span class="p">),</span> <span class="p">(</span><span class="s">u&#39;dial055.mbnet.mb.ca&#39;</span><span class="p">,</span> <span class="mi">19</span><span class="p">),</span> <span class="p">(</span><span class="s">u&#39;tigger.nashscene.com&#39;</span><span class="p">,</span> <span class="mi">19</span><span class="p">)])),</span> <span class="mi">0</span><span class="p">,</span> <span class="s">&#39;incorrect errHostsTop25&#39;</span><span class="p">)</span>
</pre></div>

</div>
</div>
</div>

</div>
<div class="cell border-box-sizing text_cell rendered">
<div class="prompt input_prompt">
</div>
<div class="inner_cell">
<div class="text_cell_render border-box-sizing rendered_html">
<h4 id="(4e)-Exercise:-Listing-404-Response-Codes-per-Day"><strong>(4e) Exercise: Listing 404 Response Codes per Day</strong><a class="anchor-link" href="#(4e)-Exercise:-Listing-404-Response-Codes-per-Day">&#182;</a></h4><h4 id="Let's-explore-the-404-records-temporally.-Break-down-the-404-requests-by-day-(cache()-the-RDD-errDateSorted)-and-get-the-daily-counts-sorted-by-day-as-a-list.">Let's explore the 404 records temporally. Break down the 404 requests by day (<code>cache()</code> the RDD <code>errDateSorted</code>) and get the daily counts sorted by day as a list.<a class="anchor-link" href="#Let's-explore-the-404-records-temporally.-Break-down-the-404-requests-by-day-(cache()-the-RDD-errDateSorted)-and-get-the-daily-counts-sorted-by-day-as-a-list.">&#182;</a></h4><h4 id="Since-the-log-only-covers-a-single-month,-you-can-ignore-the-month-in-your-checks."><em>Since the log only covers a single month, you can ignore the month in your checks.</em><a class="anchor-link" href="#Since-the-log-only-covers-a-single-month,-you-can-ignore-the-month-in-your-checks.">&#182;</a></h4>
</div>
</div>
</div>
<div class="cell border-box-sizing code_cell rendered">
<div class="input">
<div class="prompt input_prompt">In&nbsp;[&nbsp;]:</div>
<div class="inner_cell">
    <div class="input_area">
<div class=" highlight hl-ipython3"><pre><span class="c"># TODO: Replace &lt;FILL IN&gt; with appropriate code</span>

<span class="n">errDateCountPairTuple</span> <span class="o">=</span> <span class="n">badRecords</span><span class="o">.&lt;</span><span class="n">FILL</span> <span class="n">IN</span><span class="o">&gt;</span>

<span class="n">errDateSum</span> <span class="o">=</span> <span class="n">errDateCountPairTuple</span><span class="o">.&lt;</span><span class="n">FILL</span> <span class="n">IN</span><span class="o">&gt;</span>

<span class="n">errDateSorted</span> <span class="o">=</span> <span class="p">(</span><span class="n">errDateSum</span>
                 <span class="o">&lt;</span><span class="n">FILL</span> <span class="n">IN</span><span class="o">&gt;</span><span class="p">)</span>

<span class="n">errByDate</span> <span class="o">=</span> <span class="n">errDateSorted</span><span class="o">.&lt;</span><span class="n">FILL</span> <span class="n">IN</span><span class="o">&gt;</span>
<span class="nb">print</span> <span class="s">&#39;404 Errors by day: %s&#39;</span> <span class="o">%</span> <span class="n">errByDate</span>
</pre></div>

</div>
</div>
</div>

</div>
<div class="cell border-box-sizing code_cell rendered">
<div class="input">
<div class="prompt input_prompt">In&nbsp;[&nbsp;]:</div>
<div class="inner_cell">
    <div class="input_area">
<div class=" highlight hl-ipython3"><pre><span class="c"># TEST 404 response codes per day (4e)</span>
<span class="n">Test</span><span class="o">.</span><span class="n">assertEquals</span><span class="p">(</span><span class="n">errByDate</span><span class="p">,</span> <span class="p">[(</span><span class="mi">1</span><span class="p">,</span> <span class="mi">243</span><span class="p">),</span> <span class="p">(</span><span class="mi">3</span><span class="p">,</span> <span class="mi">303</span><span class="p">),</span> <span class="p">(</span><span class="mi">4</span><span class="p">,</span> <span class="mi">346</span><span class="p">),</span> <span class="p">(</span><span class="mi">5</span><span class="p">,</span> <span class="mi">234</span><span class="p">),</span> <span class="p">(</span><span class="mi">6</span><span class="p">,</span> <span class="mi">372</span><span class="p">),</span> <span class="p">(</span><span class="mi">7</span><span class="p">,</span> <span class="mi">532</span><span class="p">),</span> <span class="p">(</span><span class="mi">8</span><span class="p">,</span> <span class="mi">381</span><span class="p">),</span> <span class="p">(</span><span class="mi">9</span><span class="p">,</span> <span class="mi">279</span><span class="p">),</span> <span class="p">(</span><span class="mi">10</span><span class="p">,</span> <span class="mi">314</span><span class="p">),</span> <span class="p">(</span><span class="mi">11</span><span class="p">,</span> <span class="mi">263</span><span class="p">),</span> <span class="p">(</span><span class="mi">12</span><span class="p">,</span> <span class="mi">195</span><span class="p">),</span> <span class="p">(</span><span class="mi">13</span><span class="p">,</span> <span class="mi">216</span><span class="p">),</span> <span class="p">(</span><span class="mi">14</span><span class="p">,</span> <span class="mi">287</span><span class="p">),</span> <span class="p">(</span><span class="mi">15</span><span class="p">,</span> <span class="mi">326</span><span class="p">),</span> <span class="p">(</span><span class="mi">16</span><span class="p">,</span> <span class="mi">258</span><span class="p">),</span> <span class="p">(</span><span class="mi">17</span><span class="p">,</span> <span class="mi">269</span><span class="p">),</span> <span class="p">(</span><span class="mi">18</span><span class="p">,</span> <span class="mi">255</span><span class="p">),</span> <span class="p">(</span><span class="mi">19</span><span class="p">,</span> <span class="mi">207</span><span class="p">),</span> <span class="p">(</span><span class="mi">20</span><span class="p">,</span> <span class="mi">312</span><span class="p">),</span> <span class="p">(</span><span class="mi">21</span><span class="p">,</span> <span class="mi">305</span><span class="p">),</span> <span class="p">(</span><span class="mi">22</span><span class="p">,</span> <span class="mi">288</span><span class="p">)],</span> <span class="s">&#39;incorrect errByDate&#39;</span><span class="p">)</span>
<span class="n">Test</span><span class="o">.</span><span class="n">assertTrue</span><span class="p">(</span><span class="n">errDateSorted</span><span class="o">.</span><span class="n">is_cached</span><span class="p">,</span> <span class="s">&#39;incorrect errDateSorted.is_cached&#39;</span><span class="p">)</span>
</pre></div>

</div>
</div>
</div>

</div>
<div class="cell border-box-sizing text_cell rendered">
<div class="prompt input_prompt">
</div>
<div class="inner_cell">
<div class="text_cell_render border-box-sizing rendered_html">
<h4 id="(4f)-Exercise:-Visualizing-the-404-Response-Codes-by-Day"><strong>(4f) Exercise: Visualizing the 404 Response Codes by Day</strong><a class="anchor-link" href="#(4f)-Exercise:-Visualizing-the-404-Response-Codes-by-Day">&#182;</a></h4><h4 id="Using-the-results-from-the-previous-exercise,-use-matplotlib-to-plot-a-&quot;Line&quot;-or-&quot;Bar&quot;-graph-of-the-404-response-codes-by-day.">Using the results from the previous exercise, use <code>matplotlib</code> to plot a "Line" or "Bar" graph of the 404 response codes by day.<a class="anchor-link" href="#Using-the-results-from-the-previous-exercise,-use-matplotlib-to-plot-a-&quot;Line&quot;-or-&quot;Bar&quot;-graph-of-the-404-response-codes-by-day.">&#182;</a></h4>
</div>
</div>
</div>
<div class="cell border-box-sizing code_cell rendered">
<div class="input">
<div class="prompt input_prompt">In&nbsp;[&nbsp;]:</div>
<div class="inner_cell">
    <div class="input_area">
<div class=" highlight hl-ipython3"><pre><span class="c"># TODO: Replace &lt;FILL IN&gt; with appropriate code</span>

<span class="n">daysWithErrors404</span> <span class="o">=</span> <span class="n">errDateSorted</span><span class="o">.&lt;</span><span class="n">FILL</span> <span class="n">IN</span><span class="o">&gt;</span>
<span class="n">errors404ByDay</span> <span class="o">=</span> <span class="n">errDateSorted</span><span class="o">.&lt;</span><span class="n">FILL</span> <span class="n">IN</span><span class="o">&gt;</span>
</pre></div>

</div>
</div>
</div>

</div>
<div class="cell border-box-sizing code_cell rendered">
<div class="input">
<div class="prompt input_prompt">In&nbsp;[&nbsp;]:</div>
<div class="inner_cell">
    <div class="input_area">
<div class=" highlight hl-ipython3"><pre><span class="c"># TEST Visualizing the 404 Response Codes by Day (4f)</span>
<span class="n">Test</span><span class="o">.</span><span class="n">assertEquals</span><span class="p">(</span><span class="n">daysWithErrors404</span><span class="p">,</span> <span class="p">[</span><span class="mi">1</span><span class="p">,</span> <span class="mi">3</span><span class="p">,</span> <span class="mi">4</span><span class="p">,</span> <span class="mi">5</span><span class="p">,</span> <span class="mi">6</span><span class="p">,</span> <span class="mi">7</span><span class="p">,</span> <span class="mi">8</span><span class="p">,</span> <span class="mi">9</span><span class="p">,</span> <span class="mi">10</span><span class="p">,</span> <span class="mi">11</span><span class="p">,</span> <span class="mi">12</span><span class="p">,</span> <span class="mi">13</span><span class="p">,</span> <span class="mi">14</span><span class="p">,</span> <span class="mi">15</span><span class="p">,</span> <span class="mi">16</span><span class="p">,</span> <span class="mi">17</span><span class="p">,</span> <span class="mi">18</span><span class="p">,</span> <span class="mi">19</span><span class="p">,</span> <span class="mi">20</span><span class="p">,</span> <span class="mi">21</span><span class="p">,</span> <span class="mi">22</span><span class="p">],</span> <span class="s">&#39;incorrect daysWithErrors404&#39;</span><span class="p">)</span>
<span class="n">Test</span><span class="o">.</span><span class="n">assertEquals</span><span class="p">(</span><span class="n">errors404ByDay</span><span class="p">,</span> <span class="p">[</span><span class="mi">243</span><span class="p">,</span> <span class="mi">303</span><span class="p">,</span> <span class="mi">346</span><span class="p">,</span> <span class="mi">234</span><span class="p">,</span> <span class="mi">372</span><span class="p">,</span> <span class="mi">532</span><span class="p">,</span> <span class="mi">381</span><span class="p">,</span> <span class="mi">279</span><span class="p">,</span> <span class="mi">314</span><span class="p">,</span> <span class="mi">263</span><span class="p">,</span> <span class="mi">195</span><span class="p">,</span> <span class="mi">216</span><span class="p">,</span> <span class="mi">287</span><span class="p">,</span> <span class="mi">326</span><span class="p">,</span> <span class="mi">258</span><span class="p">,</span> <span class="mi">269</span><span class="p">,</span> <span class="mi">255</span><span class="p">,</span> <span class="mi">207</span><span class="p">,</span> <span class="mi">312</span><span class="p">,</span> <span class="mi">305</span><span class="p">,</span> <span class="mi">288</span><span class="p">],</span> <span class="s">&#39;incorrect errors404ByDay&#39;</span><span class="p">)</span>
</pre></div>

</div>
</div>
</div>

</div>
<div class="cell border-box-sizing code_cell rendered">
<div class="input">
<div class="prompt input_prompt">In&nbsp;[&nbsp;]:</div>
<div class="inner_cell">
    <div class="input_area">
<div class=" highlight hl-ipython3"><pre><span class="n">fig</span> <span class="o">=</span> <span class="n">plt</span><span class="o">.</span><span class="n">figure</span><span class="p">(</span><span class="n">figsize</span><span class="o">=</span><span class="p">(</span><span class="mi">8</span><span class="p">,</span><span class="mf">4.2</span><span class="p">),</span> <span class="n">facecolor</span><span class="o">=</span><span class="s">&#39;white&#39;</span><span class="p">,</span> <span class="n">edgecolor</span><span class="o">=</span><span class="s">&#39;white&#39;</span><span class="p">)</span>
<span class="n">plt</span><span class="o">.</span><span class="n">axis</span><span class="p">([</span><span class="mi">0</span><span class="p">,</span> <span class="nb">max</span><span class="p">(</span><span class="n">daysWithErrors404</span><span class="p">),</span> <span class="mi">0</span><span class="p">,</span> <span class="nb">max</span><span class="p">(</span><span class="n">errors404ByDay</span><span class="p">)])</span>
<span class="n">plt</span><span class="o">.</span><span class="n">grid</span><span class="p">(</span><span class="n">b</span><span class="o">=</span><span class="k">True</span><span class="p">,</span> <span class="n">which</span><span class="o">=</span><span class="s">&#39;major&#39;</span><span class="p">,</span> <span class="n">axis</span><span class="o">=</span><span class="s">&#39;y&#39;</span><span class="p">)</span>
<span class="n">plt</span><span class="o">.</span><span class="n">xlabel</span><span class="p">(</span><span class="s">&#39;Day&#39;</span><span class="p">)</span>
<span class="n">plt</span><span class="o">.</span><span class="n">ylabel</span><span class="p">(</span><span class="s">&#39;404 Errors&#39;</span><span class="p">)</span>
<span class="n">plt</span><span class="o">.</span><span class="n">plot</span><span class="p">(</span><span class="n">daysWithErrors404</span><span class="p">,</span> <span class="n">errors404ByDay</span><span class="p">)</span>
<span class="k">pass</span>
</pre></div>

</div>
</div>
</div>

</div>
<div class="cell border-box-sizing text_cell rendered">
<div class="prompt input_prompt">
</div>
<div class="inner_cell">
<div class="text_cell_render border-box-sizing rendered_html">
<h4 id="(4g)-Exercise:-Top-Five-Days-for-404-Response-Codes-"><strong>(4g) Exercise: Top Five Days for 404 Response Codes </strong><a class="anchor-link" href="#(4g)-Exercise:-Top-Five-Days-for-404-Response-Codes-">&#182;</a></h4><h4 id="Using-the-RDD-errDateSorted-you-cached-in-the-part-(4e),-what-are-the-top-five-days-for-404-response-codes-and-the-corresponding-counts-of-404-response-codes?">Using the RDD <code>errDateSorted</code> you cached in the part (4e), what are the top five days for 404 response codes and the corresponding counts of 404 response codes?<a class="anchor-link" href="#Using-the-RDD-errDateSorted-you-cached-in-the-part-(4e),-what-are-the-top-five-days-for-404-response-codes-and-the-corresponding-counts-of-404-response-codes?">&#182;</a></h4>
</div>
</div>
</div>
<div class="cell border-box-sizing code_cell rendered">
<div class="input">
<div class="prompt input_prompt">In&nbsp;[&nbsp;]:</div>
<div class="inner_cell">
    <div class="input_area">
<div class=" highlight hl-ipython3"><pre><span class="c"># TODO: Replace &lt;FILL IN&gt; with appropriate code</span>

<span class="n">topErrDate</span> <span class="o">=</span> <span class="n">errDateSorted</span><span class="o">.&lt;</span><span class="n">FILL</span> <span class="n">IN</span><span class="o">&gt;</span>
<span class="nb">print</span> <span class="s">&#39;Top Five dates for 404 requests: %s&#39;</span> <span class="o">%</span> <span class="n">topErrDate</span>
</pre></div>

</div>
</div>
</div>

</div>
<div class="cell border-box-sizing code_cell rendered">
<div class="input">
<div class="prompt input_prompt">In&nbsp;[&nbsp;]:</div>
<div class="inner_cell">
    <div class="input_area">
<div class=" highlight hl-ipython3"><pre><span class="c"># TEST Five dates for 404 requests (4g)</span>
<span class="n">Test</span><span class="o">.</span><span class="n">assertEquals</span><span class="p">(</span><span class="n">topErrDate</span><span class="p">,</span> <span class="p">[(</span><span class="mi">7</span><span class="p">,</span> <span class="mi">532</span><span class="p">),</span> <span class="p">(</span><span class="mi">8</span><span class="p">,</span> <span class="mi">381</span><span class="p">),</span> <span class="p">(</span><span class="mi">6</span><span class="p">,</span> <span class="mi">372</span><span class="p">),</span> <span class="p">(</span><span class="mi">4</span><span class="p">,</span> <span class="mi">346</span><span class="p">),</span> <span class="p">(</span><span class="mi">15</span><span class="p">,</span> <span class="mi">326</span><span class="p">)],</span> <span class="s">&#39;incorrect topErrDate&#39;</span><span class="p">)</span>
</pre></div>

</div>
</div>
</div>

</div>
<div class="cell border-box-sizing text_cell rendered">
<div class="prompt input_prompt">
</div>
<div class="inner_cell">
<div class="text_cell_render border-box-sizing rendered_html">
<h4 id="(4h)-Exercise:-Hourly-404-Response-Codes"><strong>(4h) Exercise: Hourly 404 Response Codes</strong><a class="anchor-link" href="#(4h)-Exercise:-Hourly-404-Response-Codes">&#182;</a></h4><h4 id="Using-the-RDD-badRecords-you-cached-in-the-part-(4a)-and-by-hour-of-the-day-and-in-increasing-order,-create-an-RDD-containing-how-many-requests-had-a-404-return-code-for-each-hour-of-the-day-(midnight-starts-at-0).-Cache-the-resulting-RDD-hourRecordsSorted-and-print-that-as-a-list.">Using the RDD <code>badRecords</code> you cached in the part (4a) and by hour of the day and in increasing order, create an RDD containing how many requests had a 404 return code for each hour of the day (midnight starts at 0). Cache the resulting RDD hourRecordsSorted and print that as a list.<a class="anchor-link" href="#Using-the-RDD-badRecords-you-cached-in-the-part-(4a)-and-by-hour-of-the-day-and-in-increasing-order,-create-an-RDD-containing-how-many-requests-had-a-404-return-code-for-each-hour-of-the-day-(midnight-starts-at-0).-Cache-the-resulting-RDD-hourRecordsSorted-and-print-that-as-a-list.">&#182;</a></h4>
</div>
</div>
</div>
<div class="cell border-box-sizing code_cell rendered">
<div class="input">
<div class="prompt input_prompt">In&nbsp;[&nbsp;]:</div>
<div class="inner_cell">
    <div class="input_area">
<div class=" highlight hl-ipython3"><pre><span class="c"># TODO: Replace &lt;FILL IN&gt; with appropriate code</span>

<span class="n">hourCountPairTuple</span> <span class="o">=</span> <span class="n">badRecords</span><span class="o">.&lt;</span><span class="n">FILL</span> <span class="n">IN</span><span class="o">&gt;</span>

<span class="n">hourRecordsSum</span> <span class="o">=</span> <span class="n">hourCountPairTuple</span><span class="o">.&lt;</span><span class="n">FILL</span> <span class="n">IN</span><span class="o">&gt;</span>

<span class="n">hourRecordsSorted</span> <span class="o">=</span> <span class="p">(</span><span class="n">hourRecordsSum</span>
                     <span class="o">&lt;</span><span class="n">FILL</span> <span class="n">IN</span><span class="o">&gt;</span><span class="p">)</span>

<span class="n">errHourList</span> <span class="o">=</span> <span class="n">hourRecordsSorted</span><span class="o">.&lt;</span><span class="n">FILL</span> <span class="n">IN</span><span class="o">&gt;</span>
<span class="nb">print</span> <span class="s">&#39;Top hours for 404 requests: %s&#39;</span> <span class="o">%</span> <span class="n">errHourList</span>
</pre></div>

</div>
</div>
</div>

</div>
<div class="cell border-box-sizing code_cell rendered">
<div class="input">
<div class="prompt input_prompt">In&nbsp;[&nbsp;]:</div>
<div class="inner_cell">
    <div class="input_area">
<div class=" highlight hl-ipython3"><pre><span class="c"># TEST Hourly 404 response codes (4h)</span>
<span class="n">Test</span><span class="o">.</span><span class="n">assertEquals</span><span class="p">(</span><span class="n">errHourList</span><span class="p">,</span> <span class="p">[(</span><span class="mi">0</span><span class="p">,</span> <span class="mi">175</span><span class="p">),</span> <span class="p">(</span><span class="mi">1</span><span class="p">,</span> <span class="mi">171</span><span class="p">),</span> <span class="p">(</span><span class="mi">2</span><span class="p">,</span> <span class="mi">422</span><span class="p">),</span> <span class="p">(</span><span class="mi">3</span><span class="p">,</span> <span class="mi">272</span><span class="p">),</span> <span class="p">(</span><span class="mi">4</span><span class="p">,</span> <span class="mi">102</span><span class="p">),</span> <span class="p">(</span><span class="mi">5</span><span class="p">,</span> <span class="mi">95</span><span class="p">),</span> <span class="p">(</span><span class="mi">6</span><span class="p">,</span> <span class="mi">93</span><span class="p">),</span> <span class="p">(</span><span class="mi">7</span><span class="p">,</span> <span class="mi">122</span><span class="p">),</span> <span class="p">(</span><span class="mi">8</span><span class="p">,</span> <span class="mi">199</span><span class="p">),</span> <span class="p">(</span><span class="mi">9</span><span class="p">,</span> <span class="mi">185</span><span class="p">),</span> <span class="p">(</span><span class="mi">10</span><span class="p">,</span> <span class="mi">329</span><span class="p">),</span> <span class="p">(</span><span class="mi">11</span><span class="p">,</span> <span class="mi">263</span><span class="p">),</span> <span class="p">(</span><span class="mi">12</span><span class="p">,</span> <span class="mi">438</span><span class="p">),</span> <span class="p">(</span><span class="mi">13</span><span class="p">,</span> <span class="mi">397</span><span class="p">),</span> <span class="p">(</span><span class="mi">14</span><span class="p">,</span> <span class="mi">318</span><span class="p">),</span> <span class="p">(</span><span class="mi">15</span><span class="p">,</span> <span class="mi">347</span><span class="p">),</span> <span class="p">(</span><span class="mi">16</span><span class="p">,</span> <span class="mi">373</span><span class="p">),</span> <span class="p">(</span><span class="mi">17</span><span class="p">,</span> <span class="mi">330</span><span class="p">),</span> <span class="p">(</span><span class="mi">18</span><span class="p">,</span> <span class="mi">268</span><span class="p">),</span> <span class="p">(</span><span class="mi">19</span><span class="p">,</span> <span class="mi">269</span><span class="p">),</span> <span class="p">(</span><span class="mi">20</span><span class="p">,</span> <span class="mi">270</span><span class="p">),</span> <span class="p">(</span><span class="mi">21</span><span class="p">,</span> <span class="mi">241</span><span class="p">),</span> <span class="p">(</span><span class="mi">22</span><span class="p">,</span> <span class="mi">234</span><span class="p">),</span> <span class="p">(</span><span class="mi">23</span><span class="p">,</span> <span class="mi">272</span><span class="p">)],</span> <span class="s">&#39;incorrect errHourList&#39;</span><span class="p">)</span>
<span class="n">Test</span><span class="o">.</span><span class="n">assertTrue</span><span class="p">(</span><span class="n">hourRecordsSorted</span><span class="o">.</span><span class="n">is_cached</span><span class="p">,</span> <span class="s">&#39;incorrect hourRecordsSorted.is_cached&#39;</span><span class="p">)</span>
</pre></div>

</div>
</div>
</div>

</div>
<div class="cell border-box-sizing text_cell rendered">
<div class="prompt input_prompt">
</div>
<div class="inner_cell">
<div class="text_cell_render border-box-sizing rendered_html">
<h4 id="(4i)-Exercise:-Visualizing-the-404-Response-Codes-by-Hour"><strong>(4i) Exercise: Visualizing the 404 Response Codes by Hour</strong><a class="anchor-link" href="#(4i)-Exercise:-Visualizing-the-404-Response-Codes-by-Hour">&#182;</a></h4><h4 id="Using-the-results-from-the-previous-exercise,-use-matplotlib-to-plot-a-&quot;Line&quot;-or-&quot;Bar&quot;-graph-of-the-404-response-codes-by-hour.">Using the results from the previous exercise, use <code>matplotlib</code> to plot a "Line" or "Bar" graph of the 404 response codes by hour.<a class="anchor-link" href="#Using-the-results-from-the-previous-exercise,-use-matplotlib-to-plot-a-&quot;Line&quot;-or-&quot;Bar&quot;-graph-of-the-404-response-codes-by-hour.">&#182;</a></h4>
</div>
</div>
</div>
<div class="cell border-box-sizing code_cell rendered">
<div class="input">
<div class="prompt input_prompt">In&nbsp;[&nbsp;]:</div>
<div class="inner_cell">
    <div class="input_area">
<div class=" highlight hl-ipython3"><pre><span class="c"># TODO: Replace &lt;FILL IN&gt; with appropriate code</span>

<span class="n">hoursWithErrors404</span> <span class="o">=</span> <span class="n">hourRecordsSorted</span><span class="o">.&lt;</span><span class="n">FILL</span> <span class="n">IN</span><span class="o">&gt;</span>
<span class="n">errors404ByHours</span> <span class="o">=</span> <span class="n">hourRecordsSorted</span><span class="o">.&lt;</span><span class="n">FILL</span> <span class="n">IN</span><span class="o">&gt;</span>
</pre></div>

</div>
</div>
</div>

</div>
<div class="cell border-box-sizing code_cell rendered">
<div class="input">
<div class="prompt input_prompt">In&nbsp;[&nbsp;]:</div>
<div class="inner_cell">
    <div class="input_area">
<div class=" highlight hl-ipython3"><pre><span class="c"># TEST Visualizing the 404 Response Codes by Hour (4i)</span>
<span class="n">Test</span><span class="o">.</span><span class="n">assertEquals</span><span class="p">(</span><span class="n">hoursWithErrors404</span><span class="p">,</span> <span class="p">[</span><span class="mi">0</span><span class="p">,</span> <span class="mi">1</span><span class="p">,</span> <span class="mi">2</span><span class="p">,</span> <span class="mi">3</span><span class="p">,</span> <span class="mi">4</span><span class="p">,</span> <span class="mi">5</span><span class="p">,</span> <span class="mi">6</span><span class="p">,</span> <span class="mi">7</span><span class="p">,</span> <span class="mi">8</span><span class="p">,</span> <span class="mi">9</span><span class="p">,</span> <span class="mi">10</span><span class="p">,</span> <span class="mi">11</span><span class="p">,</span> <span class="mi">12</span><span class="p">,</span> <span class="mi">13</span><span class="p">,</span> <span class="mi">14</span><span class="p">,</span> <span class="mi">15</span><span class="p">,</span> <span class="mi">16</span><span class="p">,</span> <span class="mi">17</span><span class="p">,</span> <span class="mi">18</span><span class="p">,</span> <span class="mi">19</span><span class="p">,</span> <span class="mi">20</span><span class="p">,</span> <span class="mi">21</span><span class="p">,</span> <span class="mi">22</span><span class="p">,</span> <span class="mi">23</span><span class="p">],</span> <span class="s">&#39;incorrect hoursWithErrors404&#39;</span><span class="p">)</span>
<span class="n">Test</span><span class="o">.</span><span class="n">assertEquals</span><span class="p">(</span><span class="n">errors404ByHours</span><span class="p">,</span> <span class="p">[</span><span class="mi">175</span><span class="p">,</span> <span class="mi">171</span><span class="p">,</span> <span class="mi">422</span><span class="p">,</span> <span class="mi">272</span><span class="p">,</span> <span class="mi">102</span><span class="p">,</span> <span class="mi">95</span><span class="p">,</span> <span class="mi">93</span><span class="p">,</span> <span class="mi">122</span><span class="p">,</span> <span class="mi">199</span><span class="p">,</span> <span class="mi">185</span><span class="p">,</span> <span class="mi">329</span><span class="p">,</span> <span class="mi">263</span><span class="p">,</span> <span class="mi">438</span><span class="p">,</span> <span class="mi">397</span><span class="p">,</span> <span class="mi">318</span><span class="p">,</span> <span class="mi">347</span><span class="p">,</span> <span class="mi">373</span><span class="p">,</span> <span class="mi">330</span><span class="p">,</span> <span class="mi">268</span><span class="p">,</span> <span class="mi">269</span><span class="p">,</span> <span class="mi">270</span><span class="p">,</span> <span class="mi">241</span><span class="p">,</span> <span class="mi">234</span><span class="p">,</span> <span class="mi">272</span><span class="p">],</span> <span class="s">&#39;incorrect errors404ByHours&#39;</span><span class="p">)</span>
</pre></div>

</div>
</div>
</div>

</div>
<div class="cell border-box-sizing code_cell rendered">
<div class="input">
<div class="prompt input_prompt">In&nbsp;[&nbsp;]:</div>
<div class="inner_cell">
    <div class="input_area">
<div class=" highlight hl-ipython3"><pre><span class="n">fig</span> <span class="o">=</span> <span class="n">plt</span><span class="o">.</span><span class="n">figure</span><span class="p">(</span><span class="n">figsize</span><span class="o">=</span><span class="p">(</span><span class="mi">8</span><span class="p">,</span><span class="mf">4.2</span><span class="p">),</span> <span class="n">facecolor</span><span class="o">=</span><span class="s">&#39;white&#39;</span><span class="p">,</span> <span class="n">edgecolor</span><span class="o">=</span><span class="s">&#39;white&#39;</span><span class="p">)</span>
<span class="n">plt</span><span class="o">.</span><span class="n">axis</span><span class="p">([</span><span class="mi">0</span><span class="p">,</span> <span class="nb">max</span><span class="p">(</span><span class="n">hoursWithErrors404</span><span class="p">),</span> <span class="mi">0</span><span class="p">,</span> <span class="nb">max</span><span class="p">(</span><span class="n">errors404ByHours</span><span class="p">)])</span>
<span class="n">plt</span><span class="o">.</span><span class="n">grid</span><span class="p">(</span><span class="n">b</span><span class="o">=</span><span class="k">True</span><span class="p">,</span> <span class="n">which</span><span class="o">=</span><span class="s">&#39;major&#39;</span><span class="p">,</span> <span class="n">axis</span><span class="o">=</span><span class="s">&#39;y&#39;</span><span class="p">)</span>
<span class="n">plt</span><span class="o">.</span><span class="n">xlabel</span><span class="p">(</span><span class="s">&#39;Hour&#39;</span><span class="p">)</span>
<span class="n">plt</span><span class="o">.</span><span class="n">ylabel</span><span class="p">(</span><span class="s">&#39;404 Errors&#39;</span><span class="p">)</span>
<span class="n">plt</span><span class="o">.</span><span class="n">plot</span><span class="p">(</span><span class="n">hoursWithErrors404</span><span class="p">,</span> <span class="n">errors404ByHours</span><span class="p">)</span>
<span class="k">pass</span>
</pre></div>

</div>
</div>
</div>

</div>
    </div>
  </div>


    <div class="back-to-top hidden-print text-center">
      <a href="#">Back to top</a>
    </div>

    
      <footer class="footer hidden-print col-md-12">
        <div class="col-md-4">
          <p>
            This web site does not host notebooks, it only renders notebooks
            available on other websites.
          </p>
        </div>

        <div class="col-md-4">
          <p>
            Delivered by <a href="http://www.fastly.com/">Fastly</a>, 
            Rendered by <a href="https://developer.rackspace.com/?nbviewer=awesome">Rackspace</a>
          </p>
          <p>
            nbviewer GitHub <a href="https://github.com/jupyter/nbviewer">repository</a>.
          </p>
        </div>

        <div class="col-md-4">
          
  
            
              <p>
                nbviewer version:
                <a href="https://github.com/jupyter/nbviewer/commit/637fd82e21256d9b2fcb5a75dabb8434d2078df0">
                  637fd82
                </a>
              </p>
            
          
  
  <p class="text-muted">
    IPython version: 3.2.0
    
  </p>
  

          
  
  
  <p class="text-muted">
    Rendered
    <span class='date' data-date='Sun, 12 Jul 2015 02:38:17 UTC' title='Sun, 12 Jul 2015 02:38:17 UTC'>(Sun, 12 Jul 2015 02:38:17 UTC)</span>
  </p>
  

        </div>
      </footer>
    

  </div>

  <script src="/static/components/bootstrap/js/bootstrap.min.js"></script>
  <script src="/static/components/headroom.js/dist/headroom.min.js"></script>
  <script src="/static/components/headroom.js/dist/jQuery.headroom.min.js"></script>

  
  
  <script>
    $(function(){ $("#menubar").headroom({
      tolerance: 5,
      offset: 205,
      classes: {
        initial: "animated",
        pinned: "slideInDown",
        unpinned: "slideOutUp"
      }
    })});
  </script>


  <script>
    (function(i,s,o,g,r,a,m){i['GoogleAnalyticsObject']=r;i[r]=i[r]||function(){
      (i[r].q=i[r].q||[]).push(arguments)},i[r].l=1*new Date();a=s.createElement(o),
      m=s.getElementsByTagName(o)[0];a.async=1;a.src=g;m.parentNode.insertBefore(a,m)
    })(window,document,'script','//www.google-analytics.com/analytics.js','ga');
    ga('create', 'UA-38683231-2', 'auto');
    ga('send', 'pageview');
  </script>
  <script>
      var update_date  = function(){
          var str = window.moment($('.date').data('date')).fromNow();
          $('.date').text(str);
      }
      setInterval(update_date , 61*1000);
      $(update_date);
  </script>
  <!--NEW RELIC Stop Perf Measurement-->
  
  <!--NEW RELIC End-->
</body>
</html>